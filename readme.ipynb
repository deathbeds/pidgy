{
 "cells": [
  {
   "cell_type": "markdown",
   "metadata": {},
   "source": [
    "`pidgin` is a collection of `IPython` utilities for creating computable essays.\n",
    "\n",
    "[![Binder](https://mybinder.org/badge.svg)](https://mybinder.org/v2/gh/deathbeds/pidgin/master?filepath=readme.ipynb)"
   ]
  },
  {
   "cell_type": "code",
   "execution_count": 3,
   "metadata": {},
   "outputs": [
    {
     "data": {
      "application/vdom.v1+json": {
       "attributes": {},
       "children": [
        {
         "attributes": {},
         "children": [
          "%reload_ext pidgin"
         ],
         "tagName": "p"
        }
       ],
       "tagName": "div"
      },
      "text/html": [
       "<div><p>%reload_ext pidgin</p></div>"
      ],
      "text/plain": [
       "'%reload_ext pidgin'"
      ]
     },
     "metadata": {},
     "output_type": "display_data"
    }
   ],
   "source": [
    "%reload_ext pidgin"
   ]
  },
  {
   "cell_type": "code",
   "execution_count": 5,
   "metadata": {},
   "outputs": [
    {
     "data": {
      "application/vdom.v1+json": {
       "attributes": {},
       "children": [
        {
         "attributes": {},
         "children": [
          {
           "attributes": {},
           "children": [
            "import pidgin\n"
           ],
           "tagName": "code"
          }
         ],
         "tagName": "pre"
        },
        {
         "attributes": {},
         "children": [
          {
           "attributes": {},
           "children": [
            "pidgin"
           ],
           "tagName": "code"
          },
          " contains IPython extensions for creating human readable inputs and outputs.  When ",
          {
           "attributes": {},
           "children": [
            "pidgin"
           ],
           "tagName": "code"
          },
          " is activated, all code cells accept Markdown as input.  The input code is converted to valid Python, non-code objects are included in the source as strings."
         ],
         "tagName": "p"
        },
        {
         "attributes": {},
         "children": [
          {
           "attributes": {},
           "children": [
            {
             "attributes": {},
             "children": [
              "pidgin"
             ],
             "tagName": "code"
            },
            " is designed to eventually be Jupyter kernel, just not yet."
           ],
           "tagName": "p"
          }
         ],
         "tagName": "blockquote"
        }
       ],
       "tagName": "div"
      },
      "text/html": [
       "<div><pre><code>import pidgin\n",
       "</code></pre><p><code>pidgin</code> contains IPython extensions for creating human readable inputs and outputs.  When <code>pidgin</code> is activated, all code cells accept Markdown as input.  The input code is converted to valid Python, non-code objects are included in the source as strings.</p><blockquote><p><code>pidgin</code> is designed to eventually be Jupyter kernel, just not yet.</p></blockquote></div>"
      ],
      "text/plain": [
       "'    import pidgin\\n    \\n`pidgin` contains IPython extensions for creating human readable inputs and outputs.  When `pidgin` is activated, all code cells accept Markdown as input.  The input code is converted to valid Python, non-code objects are included in the source as strings.\\n\\n> `pidgin` is designed to eventually be Jupyter kernel, just not yet.  '"
      ]
     },
     "metadata": {},
     "output_type": "display_data"
    }
   ],
   "source": [
    "    import pidgin\n",
    "    \n",
    "`pidgin` contains IPython extensions for creating human readable inputs and outputs.  When `pidgin` is activated, all code cells accept Markdown as input.  The input code is converted to valid Python, non-code objects are included in the source as strings.\n",
    "\n",
    "> `pidgin` is designed to eventually be Jupyter kernel, just not yet.  "
   ]
  },
  {
   "cell_type": "code",
   "execution_count": 7,
   "metadata": {},
   "outputs": [],
   "source": [
    "    import pandas\n",
    "    df = pandas.util.testing.makeDataFrame()"
   ]
  },
  {
   "cell_type": "code",
   "execution_count": 12,
   "metadata": {},
   "outputs": [
    {
     "data": {
      "application/vdom.v1+json": {
       "attributes": {},
       "children": [
        {
         "attributes": {},
         "children": [
          {
           "attributes": {},
           "children": [
            {
             "attributes": {},
             "children": [
              "Dataframes may be embedded into the text"
             ],
             "tagName": "p"
            }
           ],
           "tagName": "div"
          },
          {
           "attributes": {},
           "children": [
            {
             "attributes": {
              "scoped": null
             },
             "children": [
              "    .dataframe tbody tr th:only-of-type {        vertical-align: middle;    }    .dataframe tbody tr th {        vertical-align: top;    }    .dataframe thead th {        text-align: right;    }"
             ],
             "tagName": "style"
            },
            {
             "attributes": {
              "border": "1",
              "class": "dataframe"
             },
             "children": [
              "  ",
              {
               "attributes": {},
               "children": [
                "    ",
                {
                 "attributes": {
                  "style": {
                   "text-align": "right"
                  }
                 },
                 "children": [
                  "      ",
                  {
                   "attributes": {},
                   "children": [],
                   "tagName": "th"
                  },
                  "      ",
                  {
                   "attributes": {},
                   "children": [
                    "A"
                   ],
                   "tagName": "th"
                  },
                  "      ",
                  {
                   "attributes": {},
                   "children": [
                    "B"
                   ],
                   "tagName": "th"
                  },
                  "      ",
                  {
                   "attributes": {},
                   "children": [
                    "C"
                   ],
                   "tagName": "th"
                  },
                  "      ",
                  {
                   "attributes": {},
                   "children": [
                    "D"
                   ],
                   "tagName": "th"
                  },
                  "    "
                 ],
                 "tagName": "tr"
                },
                "  "
               ],
               "tagName": "thead"
              },
              "  ",
              {
               "attributes": {},
               "children": [
                "    ",
                {
                 "attributes": {},
                 "children": [
                  "      ",
                  {
                   "attributes": {},
                   "children": [
                    "KWma02k1Pq"
                   ],
                   "tagName": "th"
                  },
                  "      ",
                  {
                   "attributes": {},
                   "children": [
                    "-1.228171"
                   ],
                   "tagName": "td"
                  },
                  "      ",
                  {
                   "attributes": {},
                   "children": [
                    "-1.167867"
                   ],
                   "tagName": "td"
                  },
                  "      ",
                  {
                   "attributes": {},
                   "children": [
                    "0.276770"
                   ],
                   "tagName": "td"
                  },
                  "      ",
                  {
                   "attributes": {},
                   "children": [
                    "0.089399"
                   ],
                   "tagName": "td"
                  },
                  "    "
                 ],
                 "tagName": "tr"
                },
                "    ",
                {
                 "attributes": {},
                 "children": [
                  "      ",
                  {
                   "attributes": {},
                   "children": [
                    "iUx3DXuLrb"
                   ],
                   "tagName": "th"
                  },
                  "      ",
                  {
                   "attributes": {},
                   "children": [
                    "-0.162261"
                   ],
                   "tagName": "td"
                  },
                  "      ",
                  {
                   "attributes": {},
                   "children": [
                    "1.254633"
                   ],
                   "tagName": "td"
                  },
                  "      ",
                  {
                   "attributes": {},
                   "children": [
                    "0.736988"
                   ],
                   "tagName": "td"
                  },
                  "      ",
                  {
                   "attributes": {},
                   "children": [
                    "-0.576818"
                   ],
                   "tagName": "td"
                  },
                  "    "
                 ],
                 "tagName": "tr"
                },
                "  "
               ],
               "tagName": "tbody"
              }
             ],
             "tagName": "table"
            }
           ],
           "tagName": "div"
          },
          {
           "attributes": {},
           "children": [
            {
             "attributes": {},
             "children": [
              ", and a description of the ",
              {
               "attributes": {},
               "children": [
                "df"
               ],
               "tagName": "code"
              },
              " is"
             ],
             "tagName": "p"
            }
           ],
           "tagName": "div"
          },
          {
           "attributes": {},
           "children": [
            {
             "attributes": {
              "scoped": null
             },
             "children": [
              "    .dataframe tbody tr th:only-of-type {        vertical-align: middle;    }    .dataframe tbody tr th {        vertical-align: top;    }    .dataframe thead th {        text-align: right;    }"
             ],
             "tagName": "style"
            },
            {
             "attributes": {
              "border": "1",
              "class": "dataframe"
             },
             "children": [
              "  ",
              {
               "attributes": {},
               "children": [
                "    ",
                {
                 "attributes": {
                  "style": {
                   "text-align": "right"
                  }
                 },
                 "children": [
                  "      ",
                  {
                   "attributes": {},
                   "children": [],
                   "tagName": "th"
                  },
                  "      ",
                  {
                   "attributes": {},
                   "children": [
                    "A"
                   ],
                   "tagName": "th"
                  },
                  "      ",
                  {
                   "attributes": {},
                   "children": [
                    "B"
                   ],
                   "tagName": "th"
                  },
                  "      ",
                  {
                   "attributes": {},
                   "children": [
                    "C"
                   ],
                   "tagName": "th"
                  },
                  "      ",
                  {
                   "attributes": {},
                   "children": [
                    "D"
                   ],
                   "tagName": "th"
                  },
                  "    "
                 ],
                 "tagName": "tr"
                },
                "  "
               ],
               "tagName": "thead"
              },
              "  ",
              {
               "attributes": {},
               "children": [
                "    ",
                {
                 "attributes": {},
                 "children": [
                  "      ",
                  {
                   "attributes": {},
                   "children": [
                    "count"
                   ],
                   "tagName": "th"
                  },
                  "      ",
                  {
                   "attributes": {},
                   "children": [
                    "30.000000"
                   ],
                   "tagName": "td"
                  },
                  "      ",
                  {
                   "attributes": {},
                   "children": [
                    "30.000000"
                   ],
                   "tagName": "td"
                  },
                  "      ",
                  {
                   "attributes": {},
                   "children": [
                    "30.000000"
                   ],
                   "tagName": "td"
                  },
                  "      ",
                  {
                   "attributes": {},
                   "children": [
                    "30.000000"
                   ],
                   "tagName": "td"
                  },
                  "    "
                 ],
                 "tagName": "tr"
                },
                "    ",
                {
                 "attributes": {},
                 "children": [
                  "      ",
                  {
                   "attributes": {},
                   "children": [
                    "mean"
                   ],
                   "tagName": "th"
                  },
                  "      ",
                  {
                   "attributes": {},
                   "children": [
                    "0.227748"
                   ],
                   "tagName": "td"
                  },
                  "      ",
                  {
                   "attributes": {},
                   "children": [
                    "0.267789"
                   ],
                   "tagName": "td"
                  },
                  "      ",
                  {
                   "attributes": {},
                   "children": [
                    "0.052806"
                   ],
                   "tagName": "td"
                  },
                  "      ",
                  {
                   "attributes": {},
                   "children": [
                    "-0.004229"
                   ],
                   "tagName": "td"
                  },
                  "    "
                 ],
                 "tagName": "tr"
                },
                "    ",
                {
                 "attributes": {},
                 "children": [
                  "      ",
                  {
                   "attributes": {},
                   "children": [
                    "std"
                   ],
                   "tagName": "th"
                  },
                  "      ",
                  {
                   "attributes": {},
                   "children": [
                    "0.877708"
                   ],
                   "tagName": "td"
                  },
                  "      ",
                  {
                   "attributes": {},
                   "children": [
                    "1.127347"
                   ],
                   "tagName": "td"
                  },
                  "      ",
                  {
                   "attributes": {},
                   "children": [
                    "0.871513"
                   ],
                   "tagName": "td"
                  },
                  "      ",
                  {
                   "attributes": {},
                   "children": [
                    "0.949090"
                   ],
                   "tagName": "td"
                  },
                  "    "
                 ],
                 "tagName": "tr"
                },
                "    ",
                {
                 "attributes": {},
                 "children": [
                  "      ",
                  {
                   "attributes": {},
                   "children": [
                    "min"
                   ],
                   "tagName": "th"
                  },
                  "      ",
                  {
                   "attributes": {},
                   "children": [
                    "-1.533343"
                   ],
                   "tagName": "td"
                  },
                  "      ",
                  {
                   "attributes": {},
                   "children": [
                    "-2.498028"
                   ],
                   "tagName": "td"
                  },
                  "      ",
                  {
                   "attributes": {},
                   "children": [
                    "-1.625471"
                   ],
                   "tagName": "td"
                  },
                  "      ",
                  {
                   "attributes": {},
                   "children": [
                    "-1.792691"
                   ],
                   "tagName": "td"
                  },
                  "    "
                 ],
                 "tagName": "tr"
                },
                "    ",
                {
                 "attributes": {},
                 "children": [
                  "      ",
                  {
                   "attributes": {},
                   "children": [
                    "25%"
                   ],
                   "tagName": "th"
                  },
                  "      ",
                  {
                   "attributes": {},
                   "children": [
                    "-0.267731"
                   ],
                   "tagName": "td"
                  },
                  "      ",
                  {
                   "attributes": {},
                   "children": [
                    "-0.394045"
                   ],
                   "tagName": "td"
                  },
                  "      ",
                  {
                   "attributes": {},
                   "children": [
                    "-0.494854"
                   ],
                   "tagName": "td"
                  },
                  "      ",
                  {
                   "attributes": {},
                   "children": [
                    "-0.689579"
                   ],
                   "tagName": "td"
                  },
                  "    "
                 ],
                 "tagName": "tr"
                },
                "    ",
                {
                 "attributes": {},
                 "children": [
                  "      ",
                  {
                   "attributes": {},
                   "children": [
                    "50%"
                   ],
                   "tagName": "th"
                  },
                  "      ",
                  {
                   "attributes": {},
                   "children": [
                    "0.333298"
                   ],
                   "tagName": "td"
                  },
                  "      ",
                  {
                   "attributes": {},
                   "children": [
                    "0.160252"
                   ],
                   "tagName": "td"
                  },
                  "      ",
                  {
                   "attributes": {},
                   "children": [
                    "0.032056"
                   ],
                   "tagName": "td"
                  },
                  "      ",
                  {
                   "attributes": {},
                   "children": [
                    "-0.031082"
                   ],
                   "tagName": "td"
                  },
                  "    "
                 ],
                 "tagName": "tr"
                },
                "    ",
                {
                 "attributes": {},
                 "children": [
                  "      ",
                  {
                   "attributes": {},
                   "children": [
                    "75%"
                   ],
                   "tagName": "th"
                  },
                  "      ",
                  {
                   "attributes": {},
                   "children": [
                    "0.890949"
                   ],
                   "tagName": "td"
                  },
                  "      ",
                  {
                   "attributes": {},
                   "children": [
                    "1.147474"
                   ],
                   "tagName": "td"
                  },
                  "      ",
                  {
                   "attributes": {},
                   "children": [
                    "0.654980"
                   ],
                   "tagName": "td"
                  },
                  "      ",
                  {
                   "attributes": {},
                   "children": [
                    "0.325428"
                   ],
                   "tagName": "td"
                  },
                  "    "
                 ],
                 "tagName": "tr"
                },
                "    ",
                {
                 "attributes": {},
                 "children": [
                  "      ",
                  {
                   "attributes": {},
                   "children": [
                    "max"
                   ],
                   "tagName": "th"
                  },
                  "      ",
                  {
                   "attributes": {},
                   "children": [
                    "1.664228"
                   ],
                   "tagName": "td"
                  },
                  "      ",
                  {
                   "attributes": {},
                   "children": [
                    "2.719252"
                   ],
                   "tagName": "td"
                  },
                  "      ",
                  {
                   "attributes": {},
                   "children": [
                    "1.837745"
                   ],
                   "tagName": "td"
                  },
                  "      ",
                  {
                   "attributes": {},
                   "children": [
                    "2.170250"
                   ],
                   "tagName": "td"
                  },
                  "    "
                 ],
                 "tagName": "tr"
                },
                "  "
               ],
               "tagName": "tbody"
              }
             ],
             "tagName": "table"
            }
           ],
           "tagName": "div"
          },
          {
           "attributes": {},
           "children": [
            {
             "attributes": {},
             "children": [
              {
               "attributes": {},
               "children": [],
               "tagName": "li"
              }
             ],
             "tagName": "ul"
            }
           ],
           "tagName": "div"
          }
         ],
         "tagName": "div"
        }
       ],
       "tagName": "div"
      },
      "text/html": [
       "<div><div><div><p>Dataframes may be embedded into the text</p></div><div><style>    .dataframe tbody tr th:only-of-type {        vertical-align: middle;    }    .dataframe tbody tr th {        vertical-align: top;    }    .dataframe thead th {        text-align: right;    }</style><table border=\"1\" class=\"dataframe\">  <thead>    <tr style=\"text-align: right\">      <th></th>      <th>A</th>      <th>B</th>      <th>C</th>      <th>D</th>    </tr>  </thead>  <tbody>    <tr>      <th>KWma02k1Pq</th>      <td>-1.228171</td>      <td>-1.167867</td>      <td>0.276770</td>      <td>0.089399</td>    </tr>    <tr>      <th>iUx3DXuLrb</th>      <td>-0.162261</td>      <td>1.254633</td>      <td>0.736988</td>      <td>-0.576818</td>    </tr>  </tbody></table></div><div><p>, and a description of the <code>df</code> is</p></div><div><style>    .dataframe tbody tr th:only-of-type {        vertical-align: middle;    }    .dataframe tbody tr th {        vertical-align: top;    }    .dataframe thead th {        text-align: right;    }</style><table border=\"1\" class=\"dataframe\">  <thead>    <tr style=\"text-align: right\">      <th></th>      <th>A</th>      <th>B</th>      <th>C</th>      <th>D</th>    </tr>  </thead>  <tbody>    <tr>      <th>count</th>      <td>30.000000</td>      <td>30.000000</td>      <td>30.000000</td>      <td>30.000000</td>    </tr>    <tr>      <th>mean</th>      <td>0.227748</td>      <td>0.267789</td>      <td>0.052806</td>      <td>-0.004229</td>    </tr>    <tr>      <th>std</th>      <td>0.877708</td>      <td>1.127347</td>      <td>0.871513</td>      <td>0.949090</td>    </tr>    <tr>      <th>min</th>      <td>-1.533343</td>      <td>-2.498028</td>      <td>-1.625471</td>      <td>-1.792691</td>    </tr>    <tr>      <th>25%</th>      <td>-0.267731</td>      <td>-0.394045</td>      <td>-0.494854</td>      <td>-0.689579</td>    </tr>    <tr>      <th>50%</th>      <td>0.333298</td>      <td>0.160252</td>      <td>0.032056</td>      <td>-0.031082</td>    </tr>    <tr>      <th>75%</th>      <td>0.890949</td>      <td>1.147474</td>      <td>0.654980</td>      <td>0.325428</td>    </tr>    <tr>      <th>max</th>      <td>1.664228</td>      <td>2.719252</td>      <td>1.837745</td>      <td>2.170250</td>    </tr>  </tbody></table></div><div><ul><li></li></ul></div></div></div>"
      ],
      "text/plain": [
       "'Dataframes may be embedded into the text {{df.sample(2)}}, and a description of the `df` is {{df.describe()}}.'"
      ]
     },
     "metadata": {},
     "output_type": "display_data"
    }
   ],
   "source": [
    "Dataframes may be embedded into the text {{df.sample(2)}}, and a description of the `df` is {{df.describe()}}."
   ]
  },
  {
   "cell_type": "code",
   "execution_count": 14,
   "metadata": {},
   "outputs": [
    {
     "data": {
      "application/vdom.v1+json": {
       "attributes": {},
       "children": [
        {
         "attributes": {},
         "children": [
          {
           "attributes": {},
           "children": [
            {
             "attributes": {},
             "children": [
              "Its not to make systems graphs"
             ],
             "tagName": "p"
            }
           ],
           "tagName": "div"
          },
          {
           "attributes": {},
           "children": [
            {
             "attributes": {
              "height": "44pt",
              "viewbox": "0.00 0.00 152.00 44.00",
              "width": "152pt",
              "xmlns": "http://www.w3.org/2000/svg",
              "xmlns:xlink": "http://www.w3.org/1999/xlink"
             },
             "children": [
              {
               "attributes": {
                "class": "graph",
                "id": "graph0",
                "transform": "scale(1 1) rotate(0) translate(4 40)"
               },
               "children": [
                {
                 "attributes": {},
                 "children": [
                  "%3"
                 ],
                 "tagName": "title"
                },
                {
                 "attributes": {
                  "fill": "white",
                  "points": "-4,4 -4,-40 148,-40 148,4 -4,4",
                  "stroke": "none"
                 },
                 "children": [],
                 "tagName": "polygon"
                },
                {
                 "attributes": {
                  "class": "node",
                  "id": "node1"
                 },
                 "children": [
                  {
                   "attributes": {},
                   "children": [
                    "A"
                   ],
                   "tagName": "title"
                  },
                  {
                   "attributes": {
                    "cx": "27",
                    "cy": "-18",
                    "fill": "none",
                    "rx": "27",
                    "ry": "18",
                    "stroke": "black"
                   },
                   "children": [],
                   "tagName": "ellipse"
                  },
                  {
                   "attributes": {
                    "font-family": "Times New Roman,serif",
                    "font-size": "14.00",
                    "text-anchor": "middle",
                    "x": "27",
                    "y": "-14.3"
                   },
                   "children": [
                    "A"
                   ],
                   "tagName": "text"
                  }
                 ],
                 "tagName": "g"
                },
                {
                 "attributes": {
                  "class": "node",
                  "id": "node2"
                 },
                 "children": [
                  {
                   "attributes": {},
                   "children": [
                    "B"
                   ],
                   "tagName": "title"
                  },
                  {
                   "attributes": {
                    "cx": "117",
                    "cy": "-18",
                    "fill": "none",
                    "rx": "27",
                    "ry": "18",
                    "stroke": "black"
                   },
                   "children": [],
                   "tagName": "ellipse"
                  },
                  {
                   "attributes": {
                    "font-family": "Times New Roman,serif",
                    "font-size": "14.00",
                    "text-anchor": "middle",
                    "x": "117",
                    "y": "-14.3"
                   },
                   "children": [
                    "B"
                   ],
                   "tagName": "text"
                  }
                 ],
                 "tagName": "g"
                },
                {
                 "attributes": {
                  "class": "edge",
                  "id": "edge1"
                 },
                 "children": [
                  {
                   "attributes": {},
                   "children": [
                    "A--B"
                   ],
                   "tagName": "title"
                  },
                  {
                   "attributes": {
                    "d": "M54.4029,-18C65.6421,-18 78.7152,-18 89.919,-18",
                    "fill": "none",
                    "stroke": "black"
                   },
                   "children": [],
                   "tagName": "path"
                  }
                 ],
                 "tagName": "g"
                }
               ],
               "tagName": "g"
              }
             ],
             "tagName": "svg"
            }
           ],
           "tagName": "span"
          }
         ],
         "tagName": "div"
        }
       ],
       "tagName": "div"
      },
      "text/html": [
       "<div><div><div><p>Its not to make systems graphs</p></div><span><svg height=\"44pt\" viewbox=\"0.00 0.00 152.00 44.00\" width=\"152pt\" xmlns=\"http://www.w3.org/2000/svg\" xmlns:xlink=\"http://www.w3.org/1999/xlink\"><g class=\"graph\" id=\"graph0\" transform=\"scale(1 1) rotate(0) translate(4 40)\"><title>%3</title><polygon fill=\"white\" points=\"-4,4 -4,-40 148,-40 148,4 -4,4\" stroke=\"none\"></polygon><g class=\"node\" id=\"node1\"><title>A</title><ellipse cx=\"27\" cy=\"-18\" fill=\"none\" rx=\"27\" ry=\"18\" stroke=\"black\"></ellipse><text font-family=\"Times New Roman,serif\" font-size=\"14.00\" text-anchor=\"middle\" x=\"27\" y=\"-14.3\">A</text></g><g class=\"node\" id=\"node2\"><title>B</title><ellipse cx=\"117\" cy=\"-18\" fill=\"none\" rx=\"27\" ry=\"18\" stroke=\"black\"></ellipse><text font-family=\"Times New Roman,serif\" font-size=\"14.00\" text-anchor=\"middle\" x=\"117\" y=\"-14.3\">B</text></g><g class=\"edge\" id=\"edge1\"><title>A--B</title><path d=\"M54.4029,-18C65.6421,-18 78.7152,-18 89.919,-18\" fill=\"none\" stroke=\"black\"></path></g></g></svg></span></div></div>"
      ],
      "text/plain": [
       "'Its not to make systems graphs {{\"graph {rankdir=LR A--B}\"}}'"
      ]
     },
     "metadata": {},
     "output_type": "display_data"
    }
   ],
   "source": [
    "Its not to make systems graphs {{\"graph {rankdir=LR A--B}\"}}"
   ]
  },
  {
   "cell_type": "code",
   "execution_count": 21,
   "metadata": {},
   "outputs": [
    {
     "data": {
      "application/vdom.v1+json": {
       "attributes": {},
       "children": [
        {
         "attributes": {},
         "children": [
          {
           "attributes": {},
           "children": [
            "class Youth:\n"
           ],
           "tagName": "code"
          }
         ],
         "tagName": "pre"
        },
        {
         "attributes": {},
         "children": [
          "graph {A--B}"
         ],
         "tagName": "p"
        }
       ],
       "tagName": "div"
      },
      "text/html": [
       "<div><pre><code>class Youth:\n",
       "</code></pre><p>graph {A--B}</p></div>"
      ],
      "text/plain": [
       "'    class Youth:\\ngraph {A--B}'"
      ]
     },
     "metadata": {},
     "output_type": "display_data"
    }
   ],
   "source": [
    "    class Youth:\n",
    "graph {A--B}"
   ]
  },
  {
   "cell_type": "code",
   "execution_count": 22,
   "metadata": {},
   "outputs": [
    {
     "data": {
      "application/vdom.v1+json": {
       "attributes": {},
       "children": [
        "\r\n",
        "\r\n",
        "\r\n",
        "\r\n",
        {
         "attributes": {
          "height": "116pt",
          "viewbox": "0.00 0.00 62.00 116.00",
          "width": "62pt",
          "xmlns": "http://www.w3.org/2000/svg",
          "xmlns:xlink": "http://www.w3.org/1999/xlink"
         },
         "children": [
          "\r\n",
          {
           "attributes": {
            "class": "graph",
            "id": "graph0",
            "transform": "scale(1 1) rotate(0) translate(4 112)"
           },
           "children": [
            "\r\n",
            {
             "attributes": {},
             "children": [
              "%3"
             ],
             "tagName": "title"
            },
            "\r\n",
            {
             "attributes": {
              "fill": "white",
              "points": "-4,4 -4,-112 58,-112 58,4 -4,4",
              "stroke": "none"
             },
             "children": [],
             "tagName": "polygon"
            },
            "\r\n",
            "\r\n",
            {
             "attributes": {
              "class": "node",
              "id": "node1"
             },
             "children": [
              {
               "attributes": {},
               "children": [
                "A"
               ],
               "tagName": "title"
              },
              "\r\n",
              {
               "attributes": {
                "cx": "27",
                "cy": "-90",
                "fill": "none",
                "rx": "27",
                "ry": "18",
                "stroke": "black"
               },
               "children": [],
               "tagName": "ellipse"
              },
              "\r\n",
              {
               "attributes": {
                "font-family": "Times New Roman,serif",
                "font-size": "14.00",
                "text-anchor": "middle",
                "x": "27",
                "y": "-86.3"
               },
               "children": [
                "A"
               ],
               "tagName": "text"
              },
              "\r\n"
             ],
             "tagName": "g"
            },
            "\r\n",
            "\r\n",
            {
             "attributes": {
              "class": "node",
              "id": "node2"
             },
             "children": [
              {
               "attributes": {},
               "children": [
                "B"
               ],
               "tagName": "title"
              },
              "\r\n",
              {
               "attributes": {
                "cx": "27",
                "cy": "-18",
                "fill": "none",
                "rx": "27",
                "ry": "18",
                "stroke": "black"
               },
               "children": [],
               "tagName": "ellipse"
              },
              "\r\n",
              {
               "attributes": {
                "font-family": "Times New Roman,serif",
                "font-size": "14.00",
                "text-anchor": "middle",
                "x": "27",
                "y": "-14.3"
               },
               "children": [
                "B"
               ],
               "tagName": "text"
              },
              "\r\n"
             ],
             "tagName": "g"
            },
            "\r\n",
            "\r\n",
            {
             "attributes": {
              "class": "edge",
              "id": "edge1"
             },
             "children": [
              {
               "attributes": {},
               "children": [
                "A--B"
               ],
               "tagName": "title"
              },
              "\r\n",
              {
               "attributes": {
                "d": "M27,-71.6966C27,-60.8463 27,-46.9167 27,-36.1043",
                "fill": "none",
                "stroke": "black"
               },
               "children": [],
               "tagName": "path"
              },
              "\r\n"
             ],
             "tagName": "g"
            },
            "\r\n"
           ],
           "tagName": "g"
          },
          "\r\n"
         ],
         "tagName": "svg"
        },
        "\r\n"
       ],
       "tagName": "span"
      },
      "text/html": [
       "<span>\r\n",
       "\r\n",
       "\r\n",
       "\r\n",
       "<svg height=\"116pt\" viewbox=\"0.00 0.00 62.00 116.00\" width=\"62pt\" xmlns=\"http://www.w3.org/2000/svg\" xmlns:xlink=\"http://www.w3.org/1999/xlink\">\r\n",
       "<g class=\"graph\" id=\"graph0\" transform=\"scale(1 1) rotate(0) translate(4 112)\">\r\n",
       "<title>%3</title>\r\n",
       "<polygon fill=\"white\" points=\"-4,4 -4,-112 58,-112 58,4 -4,4\" stroke=\"none\"></polygon>\r\n",
       "\r\n",
       "<g class=\"node\" id=\"node1\"><title>A</title>\r\n",
       "<ellipse cx=\"27\" cy=\"-90\" fill=\"none\" rx=\"27\" ry=\"18\" stroke=\"black\"></ellipse>\r\n",
       "<text font-family=\"Times New Roman,serif\" font-size=\"14.00\" text-anchor=\"middle\" x=\"27\" y=\"-86.3\">A</text>\r\n",
       "</g>\r\n",
       "\r\n",
       "<g class=\"node\" id=\"node2\"><title>B</title>\r\n",
       "<ellipse cx=\"27\" cy=\"-18\" fill=\"none\" rx=\"27\" ry=\"18\" stroke=\"black\"></ellipse>\r\n",
       "<text font-family=\"Times New Roman,serif\" font-size=\"14.00\" text-anchor=\"middle\" x=\"27\" y=\"-14.3\">B</text>\r\n",
       "</g>\r\n",
       "\r\n",
       "<g class=\"edge\" id=\"edge1\"><title>A--B</title>\r\n",
       "<path d=\"M27,-71.6966C27,-60.8463 27,-46.9167 27,-36.1043\" fill=\"none\" stroke=\"black\"></path>\r\n",
       "</g>\r\n",
       "</g>\r\n",
       "</svg>\r\n",
       "</span>"
      ],
      "text/plain": [
       "'graph {A--B}'"
      ]
     },
     "execution_count": 22,
     "metadata": {},
     "output_type": "execute_result"
    }
   ],
   "source": [
    "    Youth.__doc__"
   ]
  },
  {
   "cell_type": "code",
   "execution_count": 3,
   "metadata": {},
   "outputs": [
    {
     "data": {
      "application/vdom.v1+json": {
       "attributes": {},
       "children": [
        {
         "attributes": {},
         "children": [
          "Executing cells."
         ],
         "tagName": "h2"
        },
        {
         "attributes": {
          "start": ""
         },
         "children": [
          {
           "attributes": {},
           "children": [
            {
             "attributes": {},
             "children": [
              "A minimally lossy transform from ",
              {
               "attributes": {},
               "children": [
                "Markdown"
               ],
               "tagName": "strong"
              },
              " to ",
              {
               "attributes": {},
               "children": [
                "Python"
               ],
               "tagName": "strong"
              },
              " creates valid source code; non-code objects are properly indented strings."
             ],
             "tagName": "p"
            }
           ],
           "tagName": "li"
          },
          {
           "attributes": {},
           "children": [
            {
             "attributes": {},
             "children": [
              "Any block code in the ",
              {
               "attributes": {},
               "children": [
                "Markdown"
               ],
               "tagName": "strong"
              },
              " is evaluated as normal.  Evaluatation ",
              {
               "attributes": {},
               "children": [
                "breaks"
               ],
               "tagName": "strong"
              },
              " if any ",
              {
               "attributes": {},
               "children": [
                "Exception"
               ],
               "tagName": "code"
              },
              "s are raised."
             ],
             "tagName": "p"
            },
            {
             "attributes": {},
             "children": [
              {
               "attributes": {},
               "children": [
                {
                 "attributes": {},
                 "children": [
                  {
                   "attributes": {},
                   "children": [
                    "Code Fences"
                   ],
                   "tagName": "strong"
                  },
                  " are not executed, but may include ",
                  {
                   "attributes": {},
                   "children": [
                    "doctest"
                   ],
                   "tagName": "code"
                  },
                  "s."
                 ],
                 "tagName": "p"
                }
               ],
               "tagName": "li"
              }
             ],
             "tagName": "ul"
            }
           ],
           "tagName": "li"
          },
          {
           "attributes": {},
           "children": [
            {
             "attributes": {},
             "children": [
              "Any ",
              {
               "attributes": {},
               "children": [
                "doctest.Example"
               ],
               "tagName": "code"
              },
              " is evaluated; upon failure the evaluation breaks."
             ],
             "tagName": "p"
            }
           ],
           "tagName": "li"
          },
          {
           "attributes": {},
           "children": [
            {
             "attributes": {},
             "children": [
              "Expressions in the the inline code cells are evaluated."
             ],
             "tagName": "p"
            },
            {
             "attributes": {},
             "children": [
              {
               "attributes": {},
               "children": [
                {
                 "attributes": {},
                 "children": [
                  {
                   "attributes": {},
                   "children": [
                    "IPython.core.interactiveshell.InteractiveShell.user_expressions"
                   ],
                   "tagName": "code"
                  },
                  " inspires this step.  ",
                  {
                   "attributes": {},
                   "children": [
                    "pidgin"
                   ],
                   "tagName": "code"
                  },
                  " only allows for expressions except for ",
                  {
                   "attributes": {},
                   "children": [
                    "assert"
                   ],
                   "tagName": "strong"
                  },
                  " statements; magic syntaxes may be used in inline expressions."
                 ],
                 "tagName": "p"
                }
               ],
               "tagName": "li"
              },
              {
               "attributes": {},
               "children": [
                {
                 "attributes": {},
                 "children": [
                  "All code in code cells should work."
                 ],
                 "tagName": "p"
                }
               ],
               "tagName": "li"
              }
             ],
             "tagName": "ul"
            }
           ],
           "tagName": "li"
          }
         ],
         "tagName": "ol"
        },
        {
         "attributes": {},
         "children": [
          "Note on execution"
         ],
         "tagName": "h3"
        },
        {
         "attributes": {},
         "children": [
          "Statements and expressions in (1. and 2.) must suceed before evaluating the ",
          {
           "attributes": {},
           "children": [
            "doctest"
           ],
           "tagName": "code"
          },
          "s and inline expressions."
         ],
         "tagName": "p"
        },
        {
         "attributes": {},
         "children": [
          {
           "attributes": {},
           "children": [
            "import doctest, IPython\n"
           ],
           "tagName": "code"
          }
         ],
         "tagName": "pre"
        }
       ],
       "tagName": "div"
      },
      "text/html": [
       "<div><h2>Executing cells.</h2><ol start=\"\"><li><p>A minimally lossy transform from <strong>Markdown</strong> to <strong>Python</strong> creates valid source code; non-code objects are properly indented strings.</p></li><li><p>Any block code in the <strong>Markdown</strong> is evaluated as normal.  Evaluatation <strong>breaks</strong> if any <code>Exception</code>s are raised.</p><ul><li><p><strong>Code Fences</strong> are not executed, but may include <code>doctest</code>s.</p></li></ul></li><li><p>Any <code>doctest.Example</code> is evaluated; upon failure the evaluation breaks.</p></li><li><p>Expressions in the the inline code cells are evaluated.</p><ul><li><p><code>IPython.core.interactiveshell.InteractiveShell.user_expressions</code> inspires this step.  <code>pidgin</code> only allows for expressions except for <strong>assert</strong> statements; magic syntaxes may be used in inline expressions.</p></li><li><p>All code in code cells should work.</p></li></ul></li></ol><h3>Note on execution</h3><p>Statements and expressions in (1. and 2.) must suceed before evaluating the <code>doctest</code>s and inline expressions.</p><pre><code>import doctest, IPython\n",
       "</code></pre></div>"
      ],
      "text/plain": [
       "'## Executing cells.\\n\\n1. A minimally lossy transform from __Markdown__ to __Python__ creates valid source code; non-code objects are properly indented strings.\\n2. Any block code in the __Markdown__ is evaluated as normal.  Evaluatation __breaks__ if any `Exception`s are raised.\\n    * __Code Fences__ are not executed, but may include `doctest`s.\\n3. Any `doctest.Example` is evaluated; upon failure the evaluation breaks.\\n4. Expressions in the the inline code cells are evaluated.\\n    * `IPython.core.interactiveshell.InteractiveShell.user_expressions` inspires this step.  `pidgin` only allows for expressions except for __assert__ statements; magic syntaxes may be used in inline expressions.\\n    * All code in code cells should work.\\n    \\n### Note on execution\\n\\nStatements and expressions in (1. and 2.) must suceed before evaluating the `doctest`s and inline expressions.\\n\\n    import doctest, IPython'"
      ]
     },
     "metadata": {},
     "output_type": "display_data"
    }
   ],
   "source": [
    "## Executing cells.\n",
    "\n",
    "1. A minimally lossy transform from __Markdown__ to __Python__ creates valid source code; non-code objects are properly indented strings.\n",
    "2. Any block code in the __Markdown__ is evaluated as normal.  Evaluatation __breaks__ if any `Exception`s are raised.\n",
    "    * __Code Fences__ are not executed, but may include `doctest`s.\n",
    "3. Any `doctest.Example` is evaluated; upon failure the evaluation breaks.\n",
    "4. Expressions in the the inline code cells are evaluated.\n",
    "    * `IPython.core.interactiveshell.InteractiveShell.user_expressions` inspires this step.  `pidgin` only allows for expressions except for __assert__ statements; magic syntaxes may be used in inline expressions.\n",
    "    * All code in code cells should work.\n",
    "    \n",
    "### Note on execution\n",
    "\n",
    "Statements and expressions in (1. and 2.) must suceed before evaluating the `doctest`s and inline expressions.\n",
    "\n",
    "    import doctest, IPython"
   ]
  },
  {
   "cell_type": "code",
   "execution_count": 4,
   "metadata": {},
   "outputs": [
    {
     "data": {
      "application/vdom.v1+json": {
       "attributes": {},
       "children": [
        {
         "attributes": {},
         "children": [
          "Templates"
         ],
         "tagName": "h2"
        },
        {
         "attributes": {},
         "children": [
          {
           "attributes": {},
           "children": [
            "pidgin"
           ],
           "tagName": "code"
          },
          " has some really cool templating features; it allows ",
          {
           "attributes": {},
           "children": [
            "IPython"
           ],
           "tagName": "code"
          },
          " users to template the output the display system.  ",
          {
           "attributes": {},
           "children": [
            "jinja2"
           ],
           "tagName": "code"
          },
          " is the current templating engine because it",
          "\n",
          "is a dependency of ",
          {
           "attributes": {},
           "children": [
            "nbconvert"
           ],
           "tagName": "code"
          }
         ],
         "tagName": "p"
        },
        {
         "attributes": {},
         "children": [
          {
           "attributes": {},
           "children": [
            "import jinja2, nbconvert\n"
           ],
           "tagName": "code"
          }
         ],
         "tagName": "pre"
        }
       ],
       "tagName": "div"
      },
      "text/html": [
       "<div><h2>Templates</h2><p><code>pidgin</code> has some really cool templating features; it allows <code>IPython</code> users to template the output the display system.  <code>jinja2</code> is the current templating engine because it\n",
       "is a dependency of <code>nbconvert</code></p><pre><code>import jinja2, nbconvert\n",
       "</code></pre></div>"
      ],
      "text/plain": [
       "'## Templates\\n\\n`pidgin` has some really cool templating features; it allows `IPython` users to template the output the display system.  `jinja2` is the current templating engine because it \\nis a dependency of `nbconvert`\\n\\n    import jinja2, nbconvert'"
      ]
     },
     "metadata": {},
     "output_type": "display_data"
    }
   ],
   "source": [
    "## Templates\n",
    "\n",
    "`pidgin` has some really cool templating features; it allows `IPython` users to template the output the display system.  `jinja2` is the current templating engine because it \n",
    "is a dependency of `nbconvert`\n",
    "\n",
    "    import jinja2, nbconvert"
   ]
  },
  {
   "cell_type": "code",
   "execution_count": 5,
   "metadata": {},
   "outputs": [
    {
     "data": {
      "application/vdom.v1+json": {
       "attributes": {},
       "children": [
        {
         "attributes": {},
         "children": [
          "Docstrings"
         ],
         "tagName": "h2"
        },
        {
         "attributes": {},
         "children": [
          "A latent feature of ",
          {
           "attributes": {},
           "children": [
            "pidgin"
           ],
           "tagName": "code"
          },
          " is the ability to compose docstrings as markdown."
         ],
         "tagName": "p"
        },
        {
         "attributes": {},
         "children": [
          {
           "attributes": {},
           "children": [
            "class MyClass:\n"
           ],
           "tagName": "code"
          }
         ],
         "tagName": "pre"
        },
        {
         "attributes": {},
         "children": [
          "This is the docstring for ",
          {
           "attributes": {},
           "children": [
            "MyClass"
           ],
           "tagName": "code"
          },
          ".  ",
          {
           "attributes": {},
           "children": [
            "pidgin"
           ],
           "tagName": "code"
          },
          " will automatically wrap this expression in quotes because it follows a class defintion."
         ],
         "tagName": "p"
        }
       ],
       "tagName": "div"
      },
      "text/html": [
       "<div><h2>Docstrings</h2><p>A latent feature of <code>pidgin</code> is the ability to compose docstrings as markdown.</p><pre><code>class MyClass:\n",
       "</code></pre><p>This is the docstring for <code>MyClass</code>.  <code>pidgin</code> will automatically wrap this expression in quotes because it follows a class defintion.</p></div>"
      ],
      "text/plain": [
       "'## Docstrings\\n\\nA latent feature of `pidgin` is the ability to compose docstrings as markdown.\\n\\n    class MyClass:\\nThis is the docstring for `MyClass`.  `pidgin` will automatically wrap this expression in quotes because it follows a class defintion.'"
      ]
     },
     "metadata": {},
     "output_type": "display_data"
    }
   ],
   "source": [
    "## Docstrings\n",
    "\n",
    "A latent feature of `pidgin` is the ability to compose docstrings as markdown.\n",
    "\n",
    "    class MyClass:\n",
    "This is the docstring for `MyClass`.  `pidgin` will automatically wrap this expression in quotes because it follows a class defintion."
   ]
  },
  {
   "cell_type": "code",
   "execution_count": 6,
   "metadata": {},
   "outputs": [
    {
     "data": {
      "application/vdom.v1+json": {
       "attributes": {},
       "children": [
        {
         "attributes": {},
         "children": [
          {
           "attributes": {},
           "children": [
            "def my_function(x):\n"
           ],
           "tagName": "code"
          }
         ],
         "tagName": "pre"
        },
        {
         "attributes": {},
         "children": [
          "Functions may have their docstring written in markdown. ",
          {
           "attributes": {},
           "children": [
            "pidgin"
           ],
           "tagName": "code"
          },
          " now transparently tests doctests in the docstring."
         ],
         "tagName": "p"
        },
        {
         "attributes": {},
         "children": [
          {
           "attributes": {},
           "children": [
            "my_function"
           ],
           "tagName": "code"
          },
          " tests"
         ],
         "tagName": "h2"
        },
        {
         "attributes": {},
         "children": [
          {
           "attributes": {},
           "children": [
            ">>> assert my_function(10) == 10\n\n"
           ],
           "tagName": "code"
          }
         ],
         "tagName": "pre"
        },
        {
         "attributes": {},
         "children": [
          {
           "attributes": {},
           "children": [
            "    return x\n"
           ],
           "tagName": "code"
          }
         ],
         "tagName": "pre"
        },
        {
         "attributes": {},
         "children": [
          "... and don't forget that all inline functions must evaluate."
         ],
         "tagName": "p"
        }
       ],
       "tagName": "div"
      },
      "text/html": [
       "<div><pre><code>def my_function(x):\n",
       "</code></pre><p>Functions may have their docstring written in markdown. <code>pidgin</code> now transparently tests doctests in the docstring.</p><h2><code>my_function</code> tests</h2><pre><code>&gt;&gt;&gt; assert my_function(10) == 10\n",
       "\n",
       "</code></pre><pre><code>    return x\n",
       "</code></pre><p>... and don&#x27;t forget that all inline functions must evaluate.</p></div>"
      ],
      "text/plain": [
       "\"    def my_function(x):\\nFunctions may have their docstring written in markdown. `pidgin` now transparently tests doctests in the docstring.\\n\\n## `my_function` tests\\n```\\n>>> assert my_function(10) == 10\\n\\n```\\n\\n        return x\\n\\n... and don't forget that all inline functions must evaluate.\""
      ]
     },
     "metadata": {},
     "output_type": "display_data"
    }
   ],
   "source": [
    "    def my_function(x):\n",
    "Functions may have their docstring written in markdown. `pidgin` now transparently tests doctests in the docstring.\n",
    "\n",
    "## `my_function` tests\n",
    "```\n",
    ">>> assert my_function(10) == 10\n",
    "\n",
    "```\n",
    "\n",
    "        return x\n",
    "\n",
    "... and don't forget that all inline functions must evaluate."
   ]
  },
  {
   "cell_type": "code",
   "execution_count": 7,
   "metadata": {},
   "outputs": [
    {
     "name": "stdout",
     "output_type": "stream",
     "text": [
      "C:\\Users\\deathbeds\\pidgin\\tests\n",
      "C:\\Users\\deathbeds\\pidgin\n",
      "popd -> ~\\pidgin\n"
     ]
    },
    {
     "data": {
      "application/vdom.v1+json": {
       "attributes": {},
       "children": [
        {
         "attributes": {},
         "children": [
          "Importing pidgin documents."
         ],
         "tagName": "h2"
        },
        {
         "attributes": {},
         "children": [
          {
           "attributes": {},
           "children": [
            "import jupyter\n"
           ],
           "tagName": "code"
          }
         ],
         "tagName": "pre"
        },
        {
         "attributes": {},
         "children": [
          {
           "attributes": {},
           "children": [
            {
             "attributes": {},
             "children": [
              "pidgin"
             ],
             "tagName": "code"
            },
            " uses ",
            {
             "attributes": {},
             "children": [
              "jupyter"
             ],
             "tagName": "code"
            },
            " notebooks as source files, at least for the earliest proof-of-concept there are few python source files."
           ],
           "tagName": "p"
          }
         ],
         "tagName": "blockquote"
        },
        {
         "attributes": {},
         "children": [
          {
           "attributes": {},
           "children": [
            "pidgin"
           ],
           "tagName": "code"
          },
          " defines that conventional that literate documents have a complex files extension ",
          {
           "attributes": {},
           "children": [
            ".md.ipynb"
           ],
           "tagName": "strong"
          },
          "; indicating that the code cells are support ",
          {
           "attributes": {},
           "children": [
            "markdown"
           ],
           "tagName": "strong"
          },
          ".  ",
          {
           "attributes": {},
           "children": [
            "pidgin"
           ],
           "tagName": "code"
          },
          "'s literate documents are importable."
         ],
         "tagName": "p"
        },
        {
         "attributes": {},
         "children": [
          {
           "attributes": {},
           "children": [
            "%pushd tests\nwith pidgin.PidginImporter(): import essay\n%popd\nassert essay.__file__.endswith('.md.ipynb'), \"Something failed on importing.\"\n"
           ],
           "tagName": "code"
          }
         ],
         "tagName": "pre"
        }
       ],
       "tagName": "div"
      },
      "text/html": [
       "<div><h2>Importing pidgin documents.</h2><pre><code>import jupyter\n",
       "</code></pre><blockquote><p><code>pidgin</code> uses <code>jupyter</code> notebooks as source files, at least for the earliest proof-of-concept there are few python source files.</p></blockquote><p><code>pidgin</code> defines that conventional that literate documents have a complex files extension <strong>.md.ipynb</strong>; indicating that the code cells are support <strong>markdown</strong>.  <code>pidgin</code>&#x27;s literate documents are importable.</p><pre><code>%pushd tests\n",
       "with pidgin.PidginImporter(): import essay\n",
       "%popd\n",
       "assert essay.__file__.endswith(&#x27;.md.ipynb&#x27;), &quot;Something failed on importing.&quot;\n",
       "</code></pre></div>"
      ],
      "text/plain": [
       "'## Importing pidgin documents.\\n\\n    import jupyter\\n> `pidgin` uses `jupyter` notebooks as source files, at least for the earliest proof-of-concept there are few python source files.\\n\\n`pidgin` defines that conventional that literate documents have a complex files extension __.md.ipynb__; indicating that the code cells are support __markdown__.  `pidgin`\\'s literate documents are importable.\\n\\n    %pushd tests\\n    with pidgin.PidginImporter(): import essay\\n    %popd\\n    assert essay.__file__.endswith(\\'.md.ipynb\\'), \"Something failed on importing.\"'"
      ]
     },
     "metadata": {},
     "output_type": "display_data"
    }
   ],
   "source": [
    "## Importing pidgin documents.\n",
    "\n",
    "    import jupyter\n",
    "> `pidgin` uses `jupyter` notebooks as source files, at least for the earliest proof-of-concept there are few python source files.\n",
    "\n",
    "`pidgin` defines that conventional that literate documents have a complex files extension __.md.ipynb__; indicating that the code cells are support __markdown__.  `pidgin`'s literate documents are importable.\n",
    "\n",
    "    %pushd tests\n",
    "    with pidgin.PidginImporter(): import essay\n",
    "    %popd\n",
    "    assert essay.__file__.endswith('.md.ipynb'), \"Something failed on importing.\""
   ]
  },
  {
   "cell_type": "code",
   "execution_count": 8,
   "metadata": {},
   "outputs": [
    {
     "data": {
      "text/html": [
       "<h4>Cell Magics</h4>\n",
       "\n",
       "<p>`pidgin` does not modify code containing cell magics.  Cell magics can only be used if the cell begins with the cell magic syntax.</p>\n"
      ],
      "text/plain": [
       "<IPython.core.display.HTML object>"
      ]
     },
     "metadata": {},
     "output_type": "display_data"
    }
   ],
   "source": [
    "    %%html\n",
    "<h4>Cell Magics</h4>\n",
    "\n",
    "<p>`pidgin` does not modify code containing cell magics.  Cell magics can only be used if the cell begins with the cell magic syntax.</p>"
   ]
  },
  {
   "cell_type": "code",
   "execution_count": 9,
   "metadata": {},
   "outputs": [
    {
     "data": {
      "application/vdom.v1+json": {
       "attributes": {},
       "children": [
        {
         "attributes": {},
         "children": [
          "Conventions for pidgin"
         ],
         "tagName": "h2"
        },
        {
         "attributes": {},
         "children": [
          {
           "attributes": {},
           "children": [
            {
             "attributes": {},
             "children": [
              "Documents should restart and run all."
             ],
             "tagName": "p"
            }
           ],
           "tagName": "li"
          },
          {
           "attributes": {},
           "children": [
            {
             "attributes": {},
             "children": [
              {
               "attributes": {},
               "children": [
                "inline"
               ],
               "tagName": "strong"
              },
              " and ",
              {
               "attributes": {},
               "children": [
                "block"
               ],
               "tagName": "strong"
              },
              " cells should evaluate."
             ],
             "tagName": "p"
            }
           ],
           "tagName": "li"
          },
          {
           "attributes": {},
           "children": [
            {
             "attributes": {},
             "children": [
              "All ",
              {
               "attributes": {},
               "children": [
                "block"
               ],
               "tagName": "strong"
              },
              " code is indented."
             ],
             "tagName": "p"
            }
           ],
           "tagName": "li"
          },
          {
           "attributes": {},
           "children": [
            {
             "attributes": {},
             "children": [
              {
               "attributes": {},
               "children": [
                "code"
               ],
               "tagName": "strong"
              },
              " & ",
              {
               "attributes": {},
               "children": [
                "markdown"
               ],
               "tagName": "strong"
              },
              " become ",
              {
               "attributes": {},
               "children": [
                "on"
               ],
               "tagName": "strong"
              },
              " and ",
              {
               "attributes": {},
               "children": [
                "off"
               ],
               "tagName": "strong"
              },
              " cells, respectively."
             ],
             "tagName": "p"
            }
           ],
           "tagName": "li"
          },
          {
           "attributes": {},
           "children": [
            {
             "attributes": {},
             "children": [
              "output is more important than input, ",
              {
               "attributes": {},
               "children": [
                "nbconvert"
               ],
               "tagName": "code"
              },
              " should be used with ",
              "",
              "",
              {
               "attributes": {},
               "children": [
                {
                 "attributes": {},
                 "children": [
                  "TemplateExporter.exclude_input=True"
                 ],
                 "tagName": "code"
                }
               ],
               "tagName": "span"
              }
             ],
             "tagName": "p"
            },
            {
             "attributes": {},
             "children": [
              {
               "attributes": {},
               "children": [
                "  import nbconvert\n"
               ],
               "tagName": "code"
              }
             ],
             "tagName": "pre"
            }
           ],
           "tagName": "li"
          }
         ],
         "tagName": "ul"
        }
       ],
       "tagName": "div"
      },
      "text/html": [
       "<div><h2>Conventions for pidgin</h2><ul><li><p>Documents should restart and run all.</p></li><li><p><strong>inline</strong> and <strong>block</strong> cells should evaluate.</p></li><li><p>All <strong>block</strong> code is indented.</p></li><li><p><strong>code</strong> &amp; <strong>markdown</strong> become <strong>on</strong> and <strong>off</strong> cells, respectively.</p></li><li><p>output is more important than input, <code>nbconvert</code> should be used with <span><code>TemplateExporter.exclude_input=True</code></span></p><pre><code>  import nbconvert\n",
       "</code></pre></li></ul></div>"
      ],
      "text/plain": [
       "'## Conventions for pidgin\\n* Documents should restart and run all.\\n* __inline__ and __block__ cells should evaluate.\\n* All __block__ code is indented.\\n* __code__ & __markdown__ become __on__ and __off__ cells, respectively.\\n* output is more important than input, `nbconvert` should be used with <code>TemplateExporter.exclude_input=True</code>\\n\\n        import nbconvert'"
      ]
     },
     "metadata": {},
     "output_type": "display_data"
    }
   ],
   "source": [
    "## Conventions for pidgin\n",
    "* Documents should restart and run all.\n",
    "* __inline__ and __block__ cells should evaluate.\n",
    "* All __block__ code is indented.\n",
    "* __code__ & __markdown__ become __on__ and __off__ cells, respectively.\n",
    "* output is more important than input, `nbconvert` should be used with <code>TemplateExporter.exclude_input=True</code>\n",
    "\n",
    "        import nbconvert"
   ]
  },
  {
   "cell_type": "code",
   "execution_count": null,
   "metadata": {},
   "outputs": [],
   "source": [
    "* [x] test"
   ]
  },
  {
   "cell_type": "code",
   "execution_count": 14,
   "metadata": {},
   "outputs": [
    {
     "data": {
      "application/vdom.v1+json": {
       "attributes": {},
       "children": [
        {
         "attributes": {},
         "children": [
          {
           "attributes": {},
           "children": [
            "pidgin"
           ],
           "tagName": "code"
          },
          " design choices"
         ],
         "tagName": "h2"
        },
        {
         "attributes": {},
         "children": [
          {
           "attributes": {},
           "children": [
            {
             "attributes": {},
             "children": [
              {
               "attributes": {},
               "children": [
                "vdom"
               ],
               "tagName": "code"
              },
              " is used to render ",
              {
               "attributes": {},
               "children": [
                "HTML"
               ],
               "tagName": "strong"
              },
              " and ",
              {
               "attributes": {},
               "children": [
                "Markdown"
               ],
               "tagName": "strong"
              },
              "  because it represents the display as data in the ",
              {
               "attributes": {},
               "children": [
                "nbformat"
               ],
               "tagName": "code"
              },
              "."
             ],
             "tagName": "p"
            }
           ],
           "tagName": "li"
          },
          {
           "attributes": {},
           "children": [
            {
             "attributes": {},
             "children": [
              {
               "attributes": {},
               "children": [
                "mistletoe"
               ],
               "tagName": "code"
              },
              " is used for parsing ",
              {
               "attributes": {},
               "children": [
                "Markdown"
               ],
               "tagName": "strong"
              },
              " to both the display and source."
             ],
             "tagName": "p"
            }
           ],
           "tagName": "li"
          },
          {
           "attributes": {},
           "children": [
            {
             "attributes": {},
             "children": [
              {
               "attributes": {},
               "children": [
                "jinja2"
               ],
               "tagName": "code"
              },
              " is used for templating because it is a dependency of ",
              {
               "attributes": {},
               "children": [
                "nbformat"
               ],
               "tagName": "code"
              },
              "."
             ],
             "tagName": "p"
            },
            {
             "attributes": {},
             "children": [
              {
               "attributes": {},
               "children": [
                {
                 "attributes": {},
                 "children": [
                  "After some testing, F-strings and ",
                  {
                   "attributes": {},
                   "children": [
                    "string.Template"
                   ],
                   "tagName": "code"
                  },
                  " did not provide a friendly user experience without comprimise."
                 ],
                 "tagName": "p"
                },
                {
                 "attributes": {},
                 "children": [
                  {
                   "attributes": {},
                   "children": [
                    "  import mistletoe, nbformat, string, vdom\n"
                   ],
                   "tagName": "code"
                  }
                 ],
                 "tagName": "pre"
                }
               ],
               "tagName": "li"
              }
             ],
             "tagName": "ul"
            }
           ],
           "tagName": "li"
          }
         ],
         "tagName": "ul"
        }
       ],
       "tagName": "div"
      },
      "text/html": [
       "<div><h2><code>pidgin</code> design choices</h2><ul><li><p><code>vdom</code> is used to render <strong>HTML</strong> and <strong>Markdown</strong>  because it represents the display as data in the <code>nbformat</code>.</p></li><li><p><code>mistletoe</code> is used for parsing <strong>Markdown</strong> to both the display and source.</p></li><li><p><code>jinja2</code> is used for templating because it is a dependency of <code>nbformat</code>.</p><ul><li><p>After some testing, F-strings and <code>string.Template</code> did not provide a friendly user experience without comprimise.</p><pre><code>  import mistletoe, nbformat, string, vdom\n",
       "</code></pre></li></ul></li></ul></div>"
      ],
      "text/plain": [
       "'## `pidgin` design choices\\n\\n* `vdom` is used to render __HTML__ and __Markdown__  because it represents the display as data in the `nbformat`.\\n* `mistletoe` is used for parsing __Markdown__ to both the display and source.\\n* `jinja2` is used for templating because it is a dependency of `nbformat`.  \\n    * After some testing, F-strings and `string.Template` did not provide a friendly user experience without comprimise.\\n\\n            import mistletoe, nbformat, string, vdom'"
      ]
     },
     "metadata": {},
     "output_type": "display_data"
    }
   ],
   "source": [
    "## `pidgin` design choices\n",
    "\n",
    "* `vdom` is used to render __HTML__ and __Markdown__  because it represents the display as data in the `nbformat`.\n",
    "* `mistletoe` is used for parsing __Markdown__ to both the display and source.\n",
    "* `jinja2` is used for templating because it is a dependency of `nbformat`.  \n",
    "    * After some testing, F-strings and `string.Template` did not provide a friendly user experience without comprimise.\n",
    "\n",
    "            import mistletoe, nbformat, string, vdom"
   ]
  },
  {
   "cell_type": "markdown",
   "metadata": {},
   "source": [
    "    !jupyter nbconvert --to markdown --TemplateExporter.exclude_input=True --execute readme.ipynb"
   ]
  }
 ],
 "metadata": {
  "kernelspec": {
   "display_name": "Python 3",
   "language": "python",
   "name": "python3"
  },
  "language_info": {
   "codemirror_mode": {
    "name": "ipython",
    "version": 3
   },
   "file_extension": ".py",
   "mimetype": "text/x-python",
   "name": "python",
   "nbconvert_exporter": "python",
   "pygments_lexer": "ipython3",
   "version": "3.6.6"
  }
 },
 "nbformat": 4,
 "nbformat_minor": 2
}
