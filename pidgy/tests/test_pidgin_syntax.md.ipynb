{
 "cells": [
  {
   "cell_type": "markdown",
   "metadata": {},
   "source": [
    "# A description of the `pidgy` metalanguage"
   ]
  },
  {
   "cell_type": "code",
   "execution_count": 25,
   "metadata": {},
   "outputs": [
    {
     "data": {
      "text/markdown": [
       "## Everything is markdown"
      ],
      "text/plain": [
       "<IPython.core.display.Markdown object>"
      ]
     },
     "metadata": {
      "text/markdown": {
       "cellId": "c5a648ca-d57e-43b0-976a-8aab51ff4472",
       "deletedCells": [],
       "end_at": "2020-02-23T02:20:25.085510",
       "modules": [],
       "names": [],
       "sessionId": "9a3bfb490e3f405d06b20761271ee1a565f94809eba98ce577ff800dafbe9c18",
       "start_at": "2020-02-23T02:20:25.069000+00:00"
      }
     },
     "output_type": "display_data"
    }
   ],
   "source": [
    "## Everything is markdown"
   ]
  },
  {
   "cell_type": "code",
   "execution_count": 39,
   "metadata": {},
   "outputs": [],
   "source": [
    "    \n",
    "    import pidgy, jinja2\n",
    "    Ø = __name__ == '__main__'  # Talk about this convention later in the document."
   ]
  },
  {
   "cell_type": "code",
   "execution_count": 27,
   "metadata": {},
   "outputs": [
    {
     "name": "stdout",
     "output_type": "stream",
     "text": [
      "You'll need to explicitly print strings to see them formatted as monospace type.\n"
     ]
    },
    {
     "data": {
      "text/markdown": [
       "An important thing to remember about `pidgy` is that all strings default to [Markdown].\n",
       "The Python input is translated from markdown input and `...`\n",
       "\n",
       "    \"Even Python strings default to Markdown representations\"\n",
       "    Ø and print(\"\"\"You'll need to explicitly print strings to see them formatted as monospace type.\"\"\")"
      ],
      "text/plain": [
       "<IPython.core.display.Markdown object>"
      ]
     },
     "metadata": {
      "text/markdown": {
       "cellId": "3b85c142-e074-484e-a72e-96f1743da197",
       "deletedCells": [],
       "end_at": "2020-02-23T02:20:26.882887",
       "modules": [],
       "names": [],
       "sessionId": "9a3bfb490e3f405d06b20761271ee1a565f94809eba98ce577ff800dafbe9c18",
       "start_at": "2020-02-23T02:20:26.856000+00:00"
      }
     },
     "output_type": "display_data"
    }
   ],
   "source": [
    "An important thing to remember about `pidgy` is that all strings default to [Markdown].\n",
    "The Python input is translated from markdown input and `...`\n",
    "\n",
    "    \"Even Python strings default to Markdown representations\"\n",
    "    Ø and print(\"\"\"You'll need to explicitly print strings to see them formatted as monospace type.\"\"\")"
   ]
  },
  {
   "cell_type": "markdown",
   "metadata": {},
   "source": [
    "### Executing code."
   ]
  },
  {
   "cell_type": "code",
   "execution_count": 32,
   "metadata": {},
   "outputs": [
    {
     "data": {
      "text/markdown": [
       "There are two ways to define executable `\"code\"` by either __indenting code__ or __code fences w/o a language__.\n",
       "\n",
       "    \"This is code\"\n",
       "\n",
       "\n",
       "```\n",
       "\"and so is this\"\n",
       "```\n",
       "\n",
       "```markdown\n",
       "but this is not code.\n",
       "```"
      ],
      "text/plain": [
       "<IPython.core.display.Markdown object>"
      ]
     },
     "metadata": {
      "text/markdown": {
       "cellId": "e3972374-0a62-4c36-bd35-7148c69323af",
       "deletedCells": [],
       "end_at": "2020-02-23T02:22:47.573285",
       "modules": [],
       "names": [],
       "sessionId": "9a3bfb490e3f405d06b20761271ee1a565f94809eba98ce577ff800dafbe9c18",
       "start_at": "2020-02-23T02:22:47.545000+00:00"
      }
     },
     "output_type": "display_data"
    }
   ],
   "source": [
    "There are two ways to define executable `\"code\"` by either __indenting code__ or __code fences w/o a language__.\n",
    "\n",
    "    \"This is code\"\n",
    "\n",
    "\n",
    "```\n",
    "\"and so is this\"\n",
    "```\n",
    "\n",
    "```markdown\n",
    "but this is not code.\n",
    "```"
   ]
  },
  {
   "cell_type": "code",
   "execution_count": 34,
   "metadata": {},
   "outputs": [
    {
     "data": {
      "text/markdown": [
       "### Suppressing output."
      ],
      "text/plain": [
       "<IPython.core.display.Markdown object>"
      ]
     },
     "metadata": {
      "text/markdown": {
       "cellId": "e069bb65-6a51-4dd9-b784-668d406bf85b",
       "deletedCells": [],
       "end_at": "2020-02-23T02:22:53.150173",
       "modules": [],
       "names": [],
       "sessionId": "9a3bfb490e3f405d06b20761271ee1a565f94809eba98ce577ff800dafbe9c18",
       "start_at": "2020-02-23T02:22:53.132000+00:00"
      }
     },
     "output_type": "display_data"
    }
   ],
   "source": [
    "### Suppressing output."
   ]
  },
  {
   "cell_type": "code",
   "execution_count": 35,
   "metadata": {},
   "outputs": [],
   "source": [
    "\n",
    "The output can be suppressed by including a leading a blank line the output."
   ]
  },
  {
   "cell_type": "code",
   "execution_count": 36,
   "metadata": {},
   "outputs": [],
   "source": [
    "    \n",
    "    import mistune as markdown, IPython as python, pidgy\n",
    "Cells starting with a blank line are not displayed."
   ]
  },
  {
   "cell_type": "code",
   "execution_count": 42,
   "metadata": {},
   "outputs": [
    {
     "data": {
      "text/markdown": [
       "## The `__name__ == '__main__'` pattern."
      ],
      "text/plain": [
       "<IPython.core.display.Markdown object>"
      ]
     },
     "metadata": {
      "text/markdown": {
       "cellId": "49140651-e9b5-4b35-9c07-25b8f78deeb8",
       "deletedCells": [
        "6bfe49c6-e723-412d-bfb2-1d56dbdaa661"
       ],
       "end_at": "2020-02-23T02:27:00.610474",
       "modules": [],
       "names": [],
       "sessionId": "9a3bfb490e3f405d06b20761271ee1a565f94809eba98ce577ff800dafbe9c18",
       "start_at": "2020-02-23T02:27:00.589000+00:00"
      }
     },
     "output_type": "display_data"
    }
   ],
   "source": [
    "## The `__name__ == '__main__'` pattern."
   ]
  },
  {
   "cell_type": "code",
   "execution_count": 67,
   "metadata": {},
   "outputs": [
    {
     "data": {
      "text/markdown": [
       "## [Markdown] blocks as python objects\n",
       "\n",
       "    >>> a_markdown_block\n",
       "    'Lorem ipsum dolor sit amet, ...'\n",
       "    \n",
       "`pidgy` converts `not \"code\"` objects to block strings during the tangling \n",
       "step.  This allows us to define blocks of [Markdown] as [Python] objects.\n",
       "\n",
       "    a_markdown_block =\\\n",
       "Lorem ipsum dolor sit amet, consectetur adipiscing elit. Suspendisse tincidunt \n",
       "convallis nunc quis fringilla. Duis faucibus metus et tellus bibendum vestibulum \n",
       "bibendum sed massa. Donec ante augue, ullamcorper ac dictum id, eleifend ac turpis."
      ],
      "text/plain": [
       "<IPython.core.display.Markdown object>"
      ]
     },
     "metadata": {
      "text/markdown": {
       "cellId": "441672d5-95b5-4194-bc70-acfa84c967b3",
       "deletedCells": [],
       "end_at": "2020-02-23T02:36:12.572606",
       "modules": [],
       "names": [],
       "sessionId": "9a3bfb490e3f405d06b20761271ee1a565f94809eba98ce577ff800dafbe9c18",
       "start_at": "2020-02-23T02:36:12.564000+00:00"
      }
     },
     "output_type": "display_data"
    }
   ],
   "source": [
    "## [Markdown] blocks as python objects\n",
    "\n",
    "    >>> a_markdown_block\n",
    "    'Lorem ipsum dolor sit amet, ...'\n",
    "    \n",
    "`pidgy` converts `not \"code\"` objects to block strings during the tangling \n",
    "step.  This allows us to define blocks of [Markdown] as [Python] objects.\n",
    "\n",
    "    a_markdown_block =\\\n",
    "Lorem ipsum dolor sit amet, consectetur adipiscing elit. Suspendisse tincidunt \n",
    "convallis nunc quis fringilla. Duis faucibus metus et tellus bibendum vestibulum \n",
    "bibendum sed massa. Donec ante augue, ullamcorper ac dictum id, eleifend ac turpis."
   ]
  },
  {
   "cell_type": "code",
   "execution_count": 68,
   "metadata": {},
   "outputs": [
    {
     "data": {
      "text/markdown": [
       "## Interactive formal testing. \n",
       "\n",
       "`pidgy` recognizes a formal testing discovery on increments of code.  It is sandwiched\n",
       "in between the tangle and weave phases.\n",
       "\n",
       "    import doctest\n",
       "### `doctest`\n",
       "\n",
       "    >>> assert True\n",
       "    >>> print\n",
       "    <built-in function print>\n",
       "    >>> pidgy\n",
       "    <module...__init__.py'>"
      ],
      "text/plain": [
       "<IPython.core.display.Markdown object>"
      ]
     },
     "metadata": {
      "text/markdown": {
       "cellId": "a3718f70-54fc-48cc-b81d-d76f64898d56",
       "deletedCells": [],
       "end_at": "2020-02-23T02:36:45.095464",
       "modules": [],
       "names": [],
       "sessionId": "9a3bfb490e3f405d06b20761271ee1a565f94809eba98ce577ff800dafbe9c18",
       "start_at": "2020-02-23T02:36:45.084000+00:00"
      }
     },
     "output_type": "display_data"
    }
   ],
   "source": [
    "## Interactive formal testing. \n",
    "\n",
    "`pidgy` recognizes a formal testing discovery on increments of code.  It is sandwiched\n",
    "in between the tangle and weave phases.\n",
    "\n",
    "    import doctest\n",
    "### `doctest`\n",
    "\n",
    "    >>> assert True\n",
    "    >>> print\n",
    "    <built-in function print>\n",
    "    >>> pidgy\n",
    "    <module...__init__.py'>\n"
   ]
  },
  {
   "cell_type": "code",
   "execution_count": 72,
   "metadata": {},
   "outputs": [
    {
     "data": {
      "text/markdown": [
       "\n",
       "## Using `jinja2` templates to weave `pidgy` outputs.\n",
       "\n",
       "`jinja2` filters and templates can used within [Markdown] source to \n",
       "format the output with values from the program.\n",
       "\n",
       "{{\"jinja templates accept most python expression syntax\"}}\n",
       "\n",
       "`jinja2` adds features to the environment like blocks, templates, filters, and macros that\n",
       "can be reused in templates.\n",
       "\n",
       "It is not possible to template code to run.  That would be dangerous.\n"
      ],
      "text/plain": [
       "<IPython.core.display.Markdown object>"
      ]
     },
     "metadata": {
      "text/markdown": {
       "cellId": "fdb661b5-5bd5-40ad-9e42-39f0611662ed",
       "deletedCells": [],
       "end_at": "2020-02-23T02:39:09.540740",
       "modules": [],
       "names": [],
       "sessionId": "9a3bfb490e3f405d06b20761271ee1a565f94809eba98ce577ff800dafbe9c18",
       "start_at": "2020-02-23T02:39:09.529000+00:00"
      }
     },
     "output_type": "display_data"
    }
   ],
   "source": [
    "{% raw %}\n",
    "## Using `jinja2` templates to weave `pidgy` outputs.\n",
    "\n",
    "`jinja2` filters and templates can used within [Markdown] source to \n",
    "format the output with values from the program.\n",
    "\n",
    "{{\"jinja templates accept most python expression syntax\"}}\n",
    "\n",
    "`jinja2` adds features to the environment like blocks, templates, filters, and macros that\n",
    "can be reused in templates.\n",
    "\n",
    "It is not possible to template code to run.  That would be dangerous.\n",
    "{% endraw %}"
   ]
  }
 ],
 "metadata": {
  "kernelspec": {
   "display_name": "pidgy 3",
   "language": "python",
   "name": "pidgy"
  },
  "language_info": {
   "codemirror_mode": {
    "name": "ipython",
    "version": 3
   },
   "file_extension": ".py",
   "mimetype": "text/x-python",
   "name": "python",
   "nbconvert_exporter": "python",
   "pygments_lexer": "ipython3",
   "version": "3.7.3"
  }
 },
 "nbformat": 4,
 "nbformat_minor": 4
}
