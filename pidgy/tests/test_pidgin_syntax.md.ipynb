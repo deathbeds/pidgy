{
 "cells": [
  {
   "cell_type": "markdown",
   "metadata": {},
   "source": [
    "# A description of the `pidgy` metalanguage"
   ]
  },
  {
   "cell_type": "code",
   "execution_count": 3,
   "metadata": {},
   "outputs": [
    {
     "data": {
      "text/markdown": [
       "## Everything is markdown"
      ],
      "text/plain": [
       "<IPython.core.display.Markdown object>"
      ]
     },
     "metadata": {
      "text/markdown": {
       "cellId": "5ef39848-5575-446b-aca7-415566dcb251",
       "deletedCells": [
        "43eecee0-28a5-4846-ba82-af3ee1d63649"
       ],
       "end_at": "2020-02-23T15:40:41.345264",
       "modules": [],
       "names": [],
       "sessionId": "85bbb1584b98f997e42707a8c7b2564a6dc6b4335123f6b5b3ee32f446868d03",
       "start_at": "2020-02-23T15:40:41.340000+00:00"
      }
     },
     "output_type": "display_data"
    }
   ],
   "source": [
    "## Everything is markdown"
   ]
  },
  {
   "cell_type": "code",
   "execution_count": 4,
   "metadata": {},
   "outputs": [
    {
     "data": {
      "text/markdown": [
       "<!--\n",
       "    \n",
       "    import pidgy, jinja2\n",
       "    Ø = __name__ == '__main__'  # Talk about this convention later in the document.\n",
       "\n",
       "-->"
      ],
      "text/plain": [
       "\"<!--\\n    \\n    import pidgy, jinja2\\n    Ø = __name__ == '__main__'  # Talk about this convention later in the document.\\n\\n-->\""
      ]
     },
     "metadata": {},
     "output_type": "display_data"
    }
   ],
   "source": [
    "    \n",
    "    import pidgy, jinja2\n",
    "    Ø = __name__ == '__main__'  # Talk about this convention later in the document."
   ]
  },
  {
   "cell_type": "code",
   "execution_count": 5,
   "metadata": {},
   "outputs": [
    {
     "name": "stdout",
     "output_type": "stream",
     "text": [
      "You'll need to explicitly print strings to see them formatted as monospace type.\n"
     ]
    },
    {
     "data": {
      "text/markdown": [
       "An important thing to remember about `pidgy` is that all strings default to [Markdown].\n",
       "The Python input is translated from markdown input and `...`\n",
       "\n",
       "    \"Even Python strings default to Markdown representations\"\n",
       "    Ø and print(\"\"\"You'll need to explicitly print strings to see them formatted as monospace type.\"\"\")"
      ],
      "text/plain": [
       "<IPython.core.display.Markdown object>"
      ]
     },
     "metadata": {
      "text/markdown": {
       "cellId": "9cfc8b22-1287-40a9-8933-e4a9eebb1317",
       "deletedCells": [],
       "end_at": "2020-02-23T15:40:42.397690",
       "modules": [
        "readline"
       ],
       "names": [],
       "sessionId": "85bbb1584b98f997e42707a8c7b2564a6dc6b4335123f6b5b3ee32f446868d03",
       "start_at": "2020-02-23T15:40:42.388000+00:00"
      }
     },
     "output_type": "display_data"
    }
   ],
   "source": [
    "An important thing to remember about `pidgy` is that all strings default to [Markdown].\n",
    "The Python input is translated from markdown input and `...`\n",
    "\n",
    "    \"Even Python strings default to Markdown representations\"\n",
    "    Ø and print(\"\"\"You'll need to explicitly print strings to see them formatted as monospace type.\"\"\")"
   ]
  },
  {
   "cell_type": "markdown",
   "metadata": {},
   "source": [
    "### Executing code."
   ]
  },
  {
   "cell_type": "code",
   "execution_count": 6,
   "metadata": {},
   "outputs": [
    {
     "data": {
      "text/markdown": [
       "There are two ways to define executable `\"code\"` by either __indenting code__ or __code fences w/o a language__.\n",
       "\n",
       "    \"This is code\"\n",
       "\n",
       "\n",
       "```\n",
       "\"and so is this\"\n",
       "```\n",
       "\n",
       "```markdown\n",
       "but this is not code.\n",
       "```"
      ],
      "text/plain": [
       "<IPython.core.display.Markdown object>"
      ]
     },
     "metadata": {
      "text/markdown": {
       "cellId": "8fc06ffe-9672-41b1-abf2-702ba4761693",
       "deletedCells": [],
       "end_at": "2020-02-23T15:40:43.907079",
       "modules": [],
       "names": [],
       "sessionId": "85bbb1584b98f997e42707a8c7b2564a6dc6b4335123f6b5b3ee32f446868d03",
       "start_at": "2020-02-23T15:40:43.900000+00:00"
      }
     },
     "output_type": "display_data"
    }
   ],
   "source": [
    "There are two ways to define executable `\"code\"` by either __indenting code__ or __code fences w/o a language__.\n",
    "\n",
    "    \"This is code\"\n",
    "\n",
    "\n",
    "```\n",
    "\"and so is this\"\n",
    "```\n",
    "\n",
    "```markdown\n",
    "but this is not code.\n",
    "```"
   ]
  },
  {
   "cell_type": "code",
   "execution_count": 7,
   "metadata": {},
   "outputs": [
    {
     "data": {
      "text/markdown": [
       "### Suppressing output."
      ],
      "text/plain": [
       "<IPython.core.display.Markdown object>"
      ]
     },
     "metadata": {
      "text/markdown": {
       "cellId": "c0582de3-a5b8-4160-b5a9-e9dff641ae2b",
       "deletedCells": [],
       "end_at": "2020-02-23T15:40:44.263702",
       "modules": [],
       "names": [],
       "sessionId": "85bbb1584b98f997e42707a8c7b2564a6dc6b4335123f6b5b3ee32f446868d03",
       "start_at": "2020-02-23T15:40:44.259000+00:00"
      }
     },
     "output_type": "display_data"
    }
   ],
   "source": [
    "### Suppressing output."
   ]
  },
  {
   "cell_type": "code",
   "execution_count": 8,
   "metadata": {},
   "outputs": [
    {
     "data": {
      "text/markdown": [
       "<!--\n",
       "\n",
       "The output can be suppressed by including a leading a blank line the output.\n",
       "\n",
       "-->"
      ],
      "text/plain": [
       "'<!--\\n\\nThe output can be suppressed by including a leading a blank line the output.\\n\\n-->'"
      ]
     },
     "metadata": {},
     "output_type": "display_data"
    }
   ],
   "source": [
    "\n",
    "The output can be suppressed by including a leading a blank line the output."
   ]
  },
  {
   "cell_type": "code",
   "execution_count": 9,
   "metadata": {},
   "outputs": [
    {
     "data": {
      "text/markdown": [
       "<!--\n",
       "    \n",
       "    import mistune as markdown, IPython as python, pidgy\n",
       "Cells starting with a blank line are not displayed.\n",
       "\n",
       "-->"
      ],
      "text/plain": [
       "'<!--\\n    \\n    import mistune as markdown, IPython as python, pidgy\\nCells starting with a blank line are not displayed.\\n\\n-->'"
      ]
     },
     "metadata": {},
     "output_type": "display_data"
    }
   ],
   "source": [
    "    \n",
    "    import mistune as markdown, IPython as python, pidgy\n",
    "Cells starting with a blank line are not displayed."
   ]
  },
  {
   "cell_type": "code",
   "execution_count": 10,
   "metadata": {},
   "outputs": [
    {
     "data": {
      "text/markdown": [
       "## The `__name__ == '__main__'` pattern."
      ],
      "text/plain": [
       "<IPython.core.display.Markdown object>"
      ]
     },
     "metadata": {
      "text/markdown": {
       "cellId": "5db07b69-2442-44a4-b66a-391dfc1bedf7",
       "deletedCells": [],
       "end_at": "2020-02-23T15:40:45.274873",
       "modules": [],
       "names": [],
       "sessionId": "85bbb1584b98f997e42707a8c7b2564a6dc6b4335123f6b5b3ee32f446868d03",
       "start_at": "2020-02-23T15:40:45.268000+00:00"
      }
     },
     "output_type": "display_data"
    }
   ],
   "source": [
    "## The `__name__ == '__main__'` pattern."
   ]
  },
  {
   "cell_type": "code",
   "execution_count": 11,
   "metadata": {},
   "outputs": [
    {
     "data": {
      "text/markdown": [
       "## [Markdown] blocks as python objects\n",
       "\n",
       "    >>> a_markdown_block\n",
       "    'Lorem ipsum dolor sit amet, ...'\n",
       "    \n",
       "`pidgy` converts `not \"code\"` objects to block strings during the tangling \n",
       "step.  This allows us to define blocks of [Markdown] as [Python] objects.\n",
       "\n",
       "    a_markdown_block =\\\n",
       "Lorem ipsum dolor sit amet, consectetur adipiscing elit. Suspendisse tincidunt \n",
       "convallis nunc quis fringilla. Duis faucibus metus et tellus bibendum vestibulum \n",
       "bibendum sed massa. Donec ante augue, ullamcorper ac dictum id, eleifend ac turpis."
      ],
      "text/plain": [
       "<IPython.core.display.Markdown object>"
      ]
     },
     "metadata": {
      "text/markdown": {
       "cellId": "56805602-2d3c-4926-b618-28125d8bfaa9",
       "deletedCells": [],
       "end_at": "2020-02-23T15:40:45.468725",
       "modules": [],
       "names": [
        "a_markdown_block"
       ],
       "sessionId": "85bbb1584b98f997e42707a8c7b2564a6dc6b4335123f6b5b3ee32f446868d03",
       "start_at": "2020-02-23T15:40:45.460000+00:00"
      }
     },
     "output_type": "display_data"
    }
   ],
   "source": [
    "## [Markdown] blocks as python objects\n",
    "\n",
    "    >>> a_markdown_block\n",
    "    'Lorem ipsum dolor sit amet, ...'\n",
    "    \n",
    "`pidgy` converts `not \"code\"` objects to block strings during the tangling \n",
    "step.  This allows us to define blocks of [Markdown] as [Python] objects.\n",
    "\n",
    "    a_markdown_block =\\\n",
    "Lorem ipsum dolor sit amet, consectetur adipiscing elit. Suspendisse tincidunt \n",
    "convallis nunc quis fringilla. Duis faucibus metus et tellus bibendum vestibulum \n",
    "bibendum sed massa. Donec ante augue, ullamcorper ac dictum id, eleifend ac turpis."
   ]
  },
  {
   "cell_type": "code",
   "execution_count": 12,
   "metadata": {},
   "outputs": [
    {
     "data": {
      "text/markdown": [
       "## Interactive formal testing. \n",
       "\n",
       "`pidgy` recognizes a formal testing discovery on increments of code.  It is sandwiched\n",
       "in between the tangle and weave phases.\n",
       "\n",
       "    import doctest\n",
       "### `doctest`\n",
       "\n",
       "    >>> assert True\n",
       "    >>> print\n",
       "    <built-in function print>\n",
       "    >>> pidgy\n",
       "    <module...__init__.py'>"
      ],
      "text/plain": [
       "<IPython.core.display.Markdown object>"
      ]
     },
     "metadata": {
      "text/markdown": {
       "cellId": "ebf84a61-ba48-4905-a16b-3f661dc92e78",
       "deletedCells": [],
       "end_at": "2020-02-23T15:40:45.885429",
       "modules": [],
       "names": [
        "doctest"
       ],
       "sessionId": "85bbb1584b98f997e42707a8c7b2564a6dc6b4335123f6b5b3ee32f446868d03",
       "start_at": "2020-02-23T15:40:45.876000+00:00"
      }
     },
     "output_type": "display_data"
    }
   ],
   "source": [
    "## Interactive formal testing. \n",
    "\n",
    "`pidgy` recognizes a formal testing discovery on increments of code.  It is sandwiched\n",
    "in between the tangle and weave phases.\n",
    "\n",
    "    import doctest\n",
    "### `doctest`\n",
    "\n",
    "    >>> assert True\n",
    "    >>> print\n",
    "    <built-in function print>\n",
    "    >>> pidgy\n",
    "    <module...__init__.py'>\n"
   ]
  },
  {
   "cell_type": "code",
   "execution_count": 13,
   "metadata": {},
   "outputs": [
    {
     "data": {
      "text/markdown": [
       "\n",
       "## Using `jinja2` templates to weave `pidgy` outputs.\n",
       "\n",
       "`jinja2` filters and templates can used within [Markdown] source to \n",
       "format the output with values from the program.\n",
       "\n",
       "{{\"jinja templates accept most python expression syntax\"}}\n",
       "\n",
       "`jinja2` adds features to the environment like blocks, templates, filters, and macros that\n",
       "can be reused in templates.\n",
       "\n",
       "It is not possible to template code to run.  That would be dangerous.\n"
      ],
      "text/plain": [
       "<IPython.core.display.Markdown object>"
      ]
     },
     "metadata": {
      "text/markdown": {
       "cellId": "a49d4e6c-b8c9-43a6-924e-f707315192b6",
       "deletedCells": [],
       "end_at": "2020-02-23T15:40:46.268805",
       "modules": [],
       "names": [],
       "sessionId": "85bbb1584b98f997e42707a8c7b2564a6dc6b4335123f6b5b3ee32f446868d03",
       "start_at": "2020-02-23T15:40:46.260000+00:00"
      }
     },
     "output_type": "display_data"
    }
   ],
   "source": [
    "{% raw %}\n",
    "## Using `jinja2` templates to weave `pidgy` outputs.\n",
    "\n",
    "`jinja2` filters and templates can used within [Markdown] source to \n",
    "format the output with values from the program.\n",
    "\n",
    "{{\"jinja templates accept most python expression syntax\"}}\n",
    "\n",
    "`jinja2` adds features to the environment like blocks, templates, filters, and macros that\n",
    "can be reused in templates.\n",
    "\n",
    "It is not possible to template code to run.  That would be dangerous.\n",
    "{% endraw %}"
   ]
  }
 ],
 "metadata": {
  "kernelspec": {
   "display_name": "pidgy 3",
   "language": "python",
   "name": "pidgy"
  },
  "language_info": {
   "codemirror_mode": {
    "name": "ipython",
    "version": 3
   },
   "file_extension": ".py",
   "mimetype": "text/x-python",
   "name": "python",
   "nbconvert_exporter": "python",
   "pygments_lexer": "ipython3",
   "version": "3.7.3"
  }
 },
 "nbformat": 4,
 "nbformat_minor": 4
}
