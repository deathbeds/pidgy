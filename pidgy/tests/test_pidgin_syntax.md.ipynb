{
 "cells": [
  {
   "cell_type": "code",
   "execution_count": 1,
   "metadata": {},
   "outputs": [
    {
     "data": {
      "text/markdown": [
       "# A description of the pidgy metalanguage\n",
       "\n",
       "## Everything is markdown"
      ],
      "text/plain": [
       "<IPython.core.display.Markdown object>"
      ]
     },
     "metadata": {},
     "output_type": "display_data"
    }
   ],
   "source": [
    "# A description of the pidgy metalanguage\n",
    "\n",
    "When combined together, the `pidgy` extensions form the [Markdown]-forward [Literate Programming]\n",
    "environment.\n",
    "\n",
    "## Everything is markdown"
   ]
  },
  {
   "cell_type": "code",
   "execution_count": 2,
   "metadata": {},
   "outputs": [
    {
     "data": {
      "text/markdown": [
       "<!--\n",
       "    \n",
       "    import pidgy, jinja2\n",
       "    Ø = __name__ == '__main__'  # Talk about this convention later in the document.\n",
       "\n",
       "-->"
      ],
      "text/plain": [
       "<IPython.core.display.Markdown object>"
      ]
     },
     "metadata": {},
     "output_type": "display_data"
    }
   ],
   "source": [
    "    \n",
    "    import pidgy, jinja2\n",
    "    Ø = __name__ == '__main__'  # Talk about this convention later in the document."
   ]
  },
  {
   "cell_type": "code",
   "execution_count": 3,
   "metadata": {},
   "outputs": [
    {
     "name": "stdout",
     "output_type": "stream",
     "text": [
      "You'll need to explicitly print strings to see them formatted as monospace type.\n"
     ]
    },
    {
     "data": {
      "text/markdown": [
       "An important thing to remember about `pidgy` is that all strings default to [Markdown].\n",
       "The Python input is translated from markdown input and `...`\n",
       "\n",
       "    \"Even Python strings default to Markdown representations\"\n",
       "    Ø and print(\"\"\"You'll need to explicitly print strings to see them formatted as monospace type.\"\"\")"
      ],
      "text/plain": [
       "<IPython.core.display.Markdown object>"
      ]
     },
     "metadata": {},
     "output_type": "display_data"
    }
   ],
   "source": [
    "An important thing to remember about `pidgy` is that all strings default to [Markdown].\n",
    "The Python input is translated from markdown input and `...`\n",
    "\n",
    "    \"Even Python strings default to Markdown representations\"\n",
    "    Ø and print(\"\"\"You'll need to explicitly print strings to see them formatted as monospace type.\"\"\")"
   ]
  },
  {
   "cell_type": "code",
   "execution_count": 4,
   "metadata": {},
   "outputs": [
    {
     "data": {
      "text/markdown": [
       "### Executing code."
      ],
      "text/plain": [
       "<IPython.core.display.Markdown object>"
      ]
     },
     "metadata": {},
     "output_type": "display_data"
    }
   ],
   "source": [
    "### Executing code."
   ]
  },
  {
   "cell_type": "code",
   "execution_count": 5,
   "metadata": {},
   "outputs": [
    {
     "data": {
      "text/markdown": [
       "There are two ways to define executable `\"code\"` by either __indenting code__ or __code fences w/o a language__.\n",
       "\n",
       "    \"This is code\"\n",
       "\n",
       "\n",
       "```\n",
       "\"and so is this\"\n",
       "```\n",
       "\n",
       "```markdown\n",
       "but this is not code.\n",
       "```"
      ],
      "text/plain": [
       "<IPython.core.display.Markdown object>"
      ]
     },
     "metadata": {},
     "output_type": "display_data"
    }
   ],
   "source": [
    "There are two ways to define executable `\"code\"` by either __indenting code__ or __code fences w/o a language__.\n",
    "\n",
    "    \"This is code\"\n",
    "\n",
    "\n",
    "```\n",
    "\"and so is this\"\n",
    "```\n",
    "\n",
    "```markdown\n",
    "but this is not code.\n",
    "```"
   ]
  },
  {
   "cell_type": "code",
   "execution_count": 6,
   "metadata": {},
   "outputs": [
    {
     "data": {
      "text/markdown": [
       "### Suppressing output."
      ],
      "text/plain": [
       "<IPython.core.display.Markdown object>"
      ]
     },
     "metadata": {},
     "output_type": "display_data"
    }
   ],
   "source": [
    "### Suppressing output."
   ]
  },
  {
   "cell_type": "code",
   "execution_count": 7,
   "metadata": {},
   "outputs": [
    {
     "data": {
      "text/markdown": [
       "<!--\n",
       "\n",
       "The output can be suppressed by including a leading a blank line the output.\n",
       "\n",
       "-->"
      ],
      "text/plain": [
       "<IPython.core.display.Markdown object>"
      ]
     },
     "metadata": {},
     "output_type": "display_data"
    }
   ],
   "source": [
    "\n",
    "The output can be suppressed by including a leading a blank line the output."
   ]
  },
  {
   "cell_type": "code",
   "execution_count": 8,
   "metadata": {},
   "outputs": [
    {
     "data": {
      "text/markdown": [
       "<!--\n",
       "    \n",
       "    import mistune as markdown, IPython as python, pidgy\n",
       "Cells starting with a blank line are not displayed.\n",
       "\n",
       "-->"
      ],
      "text/plain": [
       "<IPython.core.display.Markdown object>"
      ]
     },
     "metadata": {},
     "output_type": "display_data"
    }
   ],
   "source": [
    "    \n",
    "    import mistune as markdown, IPython as python, pidgy\n",
    "Cells starting with a blank line are not displayed."
   ]
  },
  {
   "cell_type": "code",
   "execution_count": 9,
   "metadata": {},
   "outputs": [
    {
     "data": {
      "text/markdown": [
       "## The `__name__ == '__main__'` pattern."
      ],
      "text/plain": [
       "<IPython.core.display.Markdown object>"
      ]
     },
     "metadata": {},
     "output_type": "display_data"
    }
   ],
   "source": [
    "## The `__name__ == '__main__'` pattern."
   ]
  },
  {
   "cell_type": "code",
   "execution_count": 10,
   "metadata": {},
   "outputs": [
    {
     "data": {
      "text/markdown": [
       "## [Markdown] blocks as python objects\n",
       "\n",
       "    >>> a_markdown_block\n",
       "    'Lorem ipsum dolor sit amet, ...'\n",
       "    \n",
       "`pidgy` converts `not \"code\"` objects to block strings during the tangling \n",
       "step.  This allows us to define blocks of [Markdown] as [Python] objects.\n",
       "\n",
       "    a_markdown_block =\\\n",
       "Lorem ipsum dolor sit amet, consectetur adipiscing elit. Suspendisse tincidunt \n",
       "convallis nunc quis fringilla. Duis faucibus metus et tellus bibendum vestibulum \n",
       "bibendum sed massa. Donec ante augue, ullamcorper ac dictum id, eleifend ac turpis."
      ],
      "text/plain": [
       "<IPython.core.display.Markdown object>"
      ]
     },
     "metadata": {},
     "output_type": "display_data"
    }
   ],
   "source": [
    "## [Markdown] blocks as python objects\n",
    "\n",
    "    >>> a_markdown_block\n",
    "    'Lorem ipsum dolor sit amet, ...'\n",
    "    \n",
    "`pidgy` converts `not \"code\"` objects to block strings during the tangling \n",
    "step.  This allows us to define blocks of [Markdown] as [Python] objects.\n",
    "\n",
    "    a_markdown_block =\\\n",
    "Lorem ipsum dolor sit amet, consectetur adipiscing elit. Suspendisse tincidunt \n",
    "convallis nunc quis fringilla. Duis faucibus metus et tellus bibendum vestibulum \n",
    "bibendum sed massa. Donec ante augue, ullamcorper ac dictum id, eleifend ac turpis."
   ]
  },
  {
   "cell_type": "code",
   "execution_count": 11,
   "metadata": {},
   "outputs": [
    {
     "data": {
      "text/markdown": [
       "## Interactive formal testing. \n",
       "\n",
       "`pidgy` recognizes a formal testing discovery on increments of code.  It is sandwiched\n",
       "in between the tangle and weave phases.\n",
       "\n",
       "    import doctest\n",
       "### `doctest`\n",
       "\n",
       "    >>> assert True\n",
       "    >>> print\n",
       "    <built-in function print>\n",
       "    >>> pidgy\n",
       "    <module...__init__.py'>"
      ],
      "text/plain": [
       "<IPython.core.display.Markdown object>"
      ]
     },
     "metadata": {},
     "output_type": "display_data"
    }
   ],
   "source": [
    "## Interactive formal testing. \n",
    "\n",
    "`pidgy` recognizes a formal testing discovery on increments of code.  It is sandwiched\n",
    "in between the tangle and weave phases.\n",
    "\n",
    "    import doctest\n",
    "### `doctest`\n",
    "\n",
    "    >>> assert True\n",
    "    >>> print\n",
    "    <built-in function print>\n",
    "    >>> pidgy\n",
    "    <module...__init__.py'>\n"
   ]
  },
  {
   "cell_type": "code",
   "execution_count": 12,
   "metadata": {},
   "outputs": [
    {
     "data": {
      "text/markdown": [
       "\n",
       "## Using `jinja2` templates to weave `pidgy` outputs.\n",
       "\n",
       "`jinja2` filters and templates can used within [Markdown] source to \n",
       "format the output with values from the program.\n",
       "\n",
       "{{\"jinja templates accept most python expression syntax\"}}\n",
       "\n",
       "`jinja2` adds features to the environment like blocks, templates, filters, and macros that\n",
       "can be reused in templates.\n",
       "\n",
       "It is not possible to template code to run.  That would be dangerous.\n"
      ],
      "text/plain": [
       "<IPython.core.display.Markdown object>"
      ]
     },
     "metadata": {},
     "output_type": "display_data"
    }
   ],
   "source": [
    "{% raw %}\n",
    "## Using `jinja2` templates to weave `pidgy` outputs.\n",
    "\n",
    "`jinja2` filters and templates can used within [Markdown] source to \n",
    "format the output with values from the program.\n",
    "\n",
    "{{\"jinja templates accept most python expression syntax\"}}\n",
    "\n",
    "`jinja2` adds features to the environment like blocks, templates, filters, and macros that\n",
    "can be reused in templates.\n",
    "\n",
    "It is not possible to template code to run.  That would be dangerous.\n",
    "{% endraw %}"
   ]
  },
  {
   "cell_type": "code",
   "execution_count": 13,
   "metadata": {},
   "outputs": [
    {
     "name": "stderr",
     "output_type": "stream",
     "text": [
      "<unittest.result.TestResult run=3 errors=0 failures=1>\n",
      "Traceback (most recent call last):\n",
      "  File \"<ipython-input-13-e0025d0c5319>\", line 6, in test_functions_start_with_test\n",
      "    assert False, \"False is not True\"\n",
      "AssertionError: False is not True\n"
     ]
    },
    {
     "data": {
      "text/markdown": [
       "## Interactive Testing\n",
       "\n",
       "Failures are treated as natural outputs of the documents.  Tests may fail, but parts of the unit may be reusable.\n",
       "\n",
       "    def test_functions_start_with_test():\n",
       "        assert False, \"False is not True\"\n",
       "        assert False is not True"
      ],
      "text/plain": [
       "<IPython.core.display.Markdown object>"
      ]
     },
     "metadata": {},
     "output_type": "display_data"
    }
   ],
   "source": [
    "## Interactive Testing\n",
    "\n",
    "Failures are treated as natural outputs of the documents.  Tests may fail, but parts of the unit may be reusable.\n",
    "\n",
    "    def test_functions_start_with_test():\n",
    "        assert False, \"False is not True\"\n",
    "        assert False is not True"
   ]
  },
  {
   "cell_type": "code",
   "execution_count": 14,
   "metadata": {},
   "outputs": [
    {
     "name": "stderr",
     "output_type": "stream",
     "text": [
      "<unittest.result.TestResult run=2 errors=0 failures=1>\n",
      "Traceback (most recent call last):\n",
      "  File \"/Users/tonyfast/anaconda3/lib/python3.7/doctest.py\", line 2196, in runTest\n",
      "    raise self.failureException(self.format_failure(new.getvalue()))\n",
      "AssertionError: Failed doctest test for In[14]\n",
      "  File \"In[14]\", line 1, in In[14]\n",
      "\n",
      "----------------------------------------------------------------------\n",
      "File \"In[14]\", line 2, in In[14]\n",
      "Failed example:\n",
      "    10\n",
      "Expected:\n",
      "    1\n",
      "Got:\n",
      "    10\n",
      "\n"
     ]
    },
    {
     "data": {
      "text/markdown": [
       "    >>> 10\n",
       "    1"
      ],
      "text/plain": [
       "<IPython.core.display.Markdown object>"
      ]
     },
     "metadata": {},
     "output_type": "display_data"
    }
   ],
   "source": [
    "    >>> 10\n",
    "    1"
   ]
  }
 ],
 "metadata": {
  "kernelspec": {
   "display_name": "pidgy 3",
   "language": "python",
   "name": "pidgy"
  },
  "language_info": {
   "codemirror_mode": {
    "name": "ipython",
    "version": 3
   },
   "file_extension": ".py",
   "mimetype": "text/x-python",
   "name": "python",
   "nbconvert_exporter": "python",
   "pygments_lexer": "ipython3",
   "version": "3.7.3"
  }
 },
 "nbformat": 4,
 "nbformat_minor": 4
}
