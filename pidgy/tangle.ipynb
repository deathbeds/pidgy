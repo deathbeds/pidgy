{
 "cells": [
  {
   "cell_type": "markdown",
   "metadata": {},
   "source": [
    "# Tangling [Markdown] to [Python]\n",
    "\n",
    "The tangle process in literate programming converts the input document \n",
    "into the programming language."
   ]
  },
  {
   "cell_type": "code",
   "execution_count": 1,
   "metadata": {},
   "outputs": [
    {
     "data": {
      "text/markdown": [
       "<!--\n",
       "    \n",
       "    import IPython, typing as τ, mistune as markdown, IPython, importnb as _import_, textwrap, ast, doctest, typing, re\n",
       "\n",
       "-->"
      ],
      "text/plain": [
       "<IPython.core.display.Markdown object>"
      ]
     },
     "metadata": {},
     "output_type": "display_data"
    }
   ],
   "source": [
    "    \n",
    "    import IPython, typing as τ, mistune as markdown, IPython, importnb as _import_, textwrap, ast, doctest, typing, re"
   ]
  },
  {
   "cell_type": "markdown",
   "metadata": {},
   "source": [
    "The `pidgyTransformer` manages the high level API the `IPython.InteractiveShell` interacts with for `pidgy`."
   ]
  },
  {
   "cell_type": "code",
   "execution_count": 2,
   "metadata": {},
   "outputs": [
    {
     "data": {
      "text/markdown": [
       "    class pidgyTransformer(IPython.core.inputtransformer2.TransformerManager):\n",
       "        def pidgy_transform(self, cell: str) -> str: \n",
       "            return self.tokenizer.untokenize(self.tokenizer.parse(''.join(cell)))\n",
       "        \n",
       "        def transform_cell(self, cell):\n",
       "            return super().transform_cell(self.pidgy_transform(cell))\n",
       "        \n",
       "        def __init__(self, *args, **kwargs):\n",
       "            super().__init__(*args, **kwargs)\n",
       "            self.tokenizer = Tokenizer()\n",
       "\n",
       "        def pidgy_magic(self, *text): \n",
       "            return IPython.display.Code(self.pidgy_transform(''.join(text)), language='python')"
      ],
      "text/plain": [
       "<IPython.core.display.Markdown object>"
      ]
     },
     "metadata": {},
     "output_type": "display_data"
    }
   ],
   "source": [
    "    class pidgyTransformer(IPython.core.inputtransformer2.TransformerManager):\n",
    "        def pidgy_transform(self, cell: str) -> str: \n",
    "            return self.tokenizer.untokenize(self.tokenizer.parse(''.join(cell)))\n",
    "        \n",
    "        def transform_cell(self, cell):\n",
    "            return super().transform_cell(self.pidgy_transform(cell))\n",
    "        \n",
    "        def __init__(self, *args, **kwargs):\n",
    "            super().__init__(*args, **kwargs)\n",
    "            self.tokenizer = Tokenizer()\n",
    "\n",
    "        def pidgy_magic(self, *text): \n",
    "            return IPython.display.Code(self.pidgy_transform(''.join(text)), language='python')"
   ]
  },
  {
   "cell_type": "markdown",
   "metadata": {},
   "source": [
    "## Tokenizer logic"
   ]
  },
  {
   "cell_type": "markdown",
   "metadata": {},
   "source": [
    "The tokenizer controls the translation of markdown strings to python strings.  Our major constraint is that the Markdown input should retain line numbers."
   ]
  },
  {
   "cell_type": "code",
   "execution_count": 10,
   "metadata": {},
   "outputs": [
    {
     "data": {
      "text/markdown": [
       "    class Tokenizer(markdown.BlockLexer):\n",
       "        class grammar_class(markdown.BlockGrammar):\n",
       "            doctest = doctest.DocTestParser._EXAMPLE_RE\n",
       "            default_rules = \"newline hrule block_code fences heading nptable lheading block_quote list_block def_links def_footnotes table paragraph text\".split()\n",
       "\n",
       "        def parse(self, text: str, default_rules=None) -> typing.List[dict]:\n",
       "            if not self.depth: self.tokens = []\n",
       "            with self: tokens = super().parse(whiten(text), default_rules)\n",
       "            if not self.depth: tokens = self.normalize(text, tokens)\n",
       "            return tokens\n",
       "\n",
       "        def parse_doctest(self, m): self.tokens.append({'type': 'paragraph', 'text': m.group(0)})\n",
       "\n",
       "        def parse_fences(self, m):\n",
       "            if m.group(2): self.tokens.append({'type': 'paragraph', 'text': m.group(0)})\n",
       "            else: super().parse_fences(m)\n",
       "\n",
       "        def parse_hrule(self, m):\n",
       "            self.tokens.append({'type': 'hrule', 'text': m.group(0)})\n",
       "\n",
       "        def normalize(self, text, tokens):\n",
       "            \"\"\"Combine non-code tokens into contiguous blocks.\"\"\"\n",
       "            compacted = []\n",
       "            while tokens:\n",
       "                token = tokens.pop(0)\n",
       "                if 'text' not in token: continue\n",
       "                else: \n",
       "                    if not token['text'].strip(): continue\n",
       "                    block, body = token['text'].splitlines(), \"\"\n",
       "                while block:\n",
       "                    line = block.pop(0)\n",
       "                    if line:\n",
       "                        before, line, text = text.partition(line)\n",
       "                        body += before + line\n",
       "                if token['type']=='code':\n",
       "                    compacted.append({'type': 'code', 'lang': None, 'text': body})\n",
       "                else:\n",
       "                    if compacted and compacted[-1]['type'] == 'paragraph':\n",
       "                        compacted[-1]['text'] += body\n",
       "                    else: compacted.append({'type': 'paragraph', 'text': body})\n",
       "            if compacted and compacted[-1]['type'] == 'paragraph':\n",
       "                compacted[-1]['text'] += text\n",
       "            elif text.strip():\n",
       "                compacted.append({'type': 'paragraph', 'text': text})\n",
       "            # Deal with front matter\n",
       "            if compacted[0]['text'].startswith('---\\n') and '\\n---' in compacted[0]['text'][4:]:\n",
       "                token = compacted.pop(0)\n",
       "                front_matter, sep, paragraph = token['text'][4:].partition('---')\n",
       "                compacted = [{'type': 'front_matter', 'text': F\"\\n{front_matter}\"},\n",
       "                            {'type': 'paragraph', 'text': paragraph}] + compacted\n",
       "            return compacted\n",
       "\n",
       "        depth = 0\n",
       "        def __enter__(self): self.depth += 1\n",
       "        def __exit__(self, *e): self.depth -= 1\n",
       "\n",
       "        def untokenize(self, tokens: τ.List[dict], source: str = \"\"\"\"\"\", last: int =0) -> str:\n",
       "            INDENT = indent = base_indent(tokens) or 4\n",
       "            for i, token in enumerate(tokens):\n",
       "                object = token['text']\n",
       "                if token and token['type'] == 'code':\n",
       "                    if object.lstrip().startswith(FENCE):\n",
       "\n",
       "                        object = ''.join(''.join(object.partition(FENCE)[::2]).rpartition(FENCE)[::2])\n",
       "                        indent = INDENT + num_first_indent(object)\n",
       "                        object = textwrap.indent(object, INDENT*SPACE)\n",
       "\n",
       "                    if object.lstrip().startswith(MAGIC):  ...\n",
       "                    else: indent = num_last_indent(object)\n",
       "                elif token and token['type'] == 'front_matter': \n",
       "                    object = textwrap.indent(\n",
       "                        F\"locals().update(__import__('yaml').safe_load({quote(object)}))\\n\", indent*SPACE)\n",
       "\n",
       "                elif not object: ...\n",
       "                else:\n",
       "                    object = textwrap.indent(object, indent*SPACE)\n",
       "                    for next in tokens[i+1:]:\n",
       "                        if next['type'] == 'code':\n",
       "                            next = num_first_indent(next['text'])\n",
       "                            break\n",
       "                    else: next = indent       \n",
       "                    Δ = max(next-indent, 0)\n",
       "\n",
       "                    if not Δ and source.rstrip().rstrip(CONTINUATION).endswith(COLON): \n",
       "                        Δ += 4\n",
       "\n",
       "                    spaces = num_whitespace(object)\n",
       "                    \"what if the spaces are ling enough\"\n",
       "                    object = object[:spaces] + Δ*SPACE+ object[spaces:]\n",
       "                    if not source.rstrip().rstrip(CONTINUATION).endswith(QUOTES): \n",
       "                        object = quote(object)\n",
       "                source += object\n",
       "\n",
       "            for token in reversed(tokens):\n",
       "                if token['text'].strip():\n",
       "                    if token['type'] != 'code': \n",
       "                        source = source.rstrip() + SEMI\n",
       "                    break\n",
       "\n",
       "            return source\n",
       "            \n",
       "    for x in \"default_rules footnote_rules list_rules\".split():\n",
       "        setattr(Tokenizer, x, list(getattr(Tokenizer, x)))\n",
       "        getattr(Tokenizer, x).insert(getattr(Tokenizer, x).index('block_code'), 'doctest')\n",
       "        if 'block_html' in getattr(Tokenizer, x):\n",
       "            getattr(Tokenizer, x).pop(getattr(Tokenizer, x).index('block_html'))\n",
       "            \n",
       "    pidgy = pidgyTransformer()"
      ],
      "text/plain": [
       "<IPython.core.display.Markdown object>"
      ]
     },
     "metadata": {
      "text/markdown": {
       "cellId": "efe4f4bf-bac6-4474-9c00-61f608bcd102",
       "deletedCells": [],
       "end_at": "2020-02-23T15:39:46.036975",
       "modules": [],
       "names": [],
       "sessionId": "2f71e5acd2eae8da615c82fb3f97aa68787e49a0812f5973d2fc867e56267ffe",
       "start_at": "2020-02-23T15:39:45.982000+00:00"
      }
     },
     "output_type": "display_data"
    }
   ],
   "source": [
    "    class Tokenizer(markdown.BlockLexer):\n",
    "        class grammar_class(markdown.BlockGrammar):\n",
    "            doctest = doctest.DocTestParser._EXAMPLE_RE\n",
    "            default_rules = \"newline hrule block_code fences heading nptable lheading block_quote list_block def_links def_footnotes table paragraph text\".split()\n",
    "\n",
    "        def parse(self, text: str, default_rules=None) -> typing.List[dict]:\n",
    "            if not self.depth: self.tokens = []\n",
    "            with self: tokens = super().parse(whiten(text), default_rules)\n",
    "            if not self.depth: tokens = self.normalize(text, tokens)\n",
    "            return tokens\n",
    "\n",
    "        def parse_doctest(self, m): self.tokens.append({'type': 'paragraph', 'text': m.group(0)})\n",
    "\n",
    "        def parse_fences(self, m):\n",
    "            if m.group(2): self.tokens.append({'type': 'paragraph', 'text': m.group(0)})\n",
    "            else: super().parse_fences(m)\n",
    "\n",
    "        def parse_hrule(self, m):\n",
    "            self.tokens.append({'type': 'hrule', 'text': m.group(0)})\n",
    "\n",
    "        def normalize(self, text, tokens):\n",
    "            \"\"\"Combine non-code tokens into contiguous blocks.\"\"\"\n",
    "            compacted = []\n",
    "            while tokens:\n",
    "                token = tokens.pop(0)\n",
    "                if 'text' not in token: continue\n",
    "                else: \n",
    "                    if not token['text'].strip(): continue\n",
    "                    block, body = token['text'].splitlines(), \"\"\n",
    "                while block:\n",
    "                    line = block.pop(0)\n",
    "                    if line:\n",
    "                        before, line, text = text.partition(line)\n",
    "                        body += before + line\n",
    "                if token['type']=='code':\n",
    "                    compacted.append({'type': 'code', 'lang': None, 'text': body})\n",
    "                else:\n",
    "                    if compacted and compacted[-1]['type'] == 'paragraph':\n",
    "                        compacted[-1]['text'] += body\n",
    "                    else: compacted.append({'type': 'paragraph', 'text': body})\n",
    "            if compacted and compacted[-1]['type'] == 'paragraph':\n",
    "                compacted[-1]['text'] += text\n",
    "            elif text.strip():\n",
    "                compacted.append({'type': 'paragraph', 'text': text})\n",
    "            # Deal with front matter\n",
    "            if compacted[0]['text'].startswith('---\\n') and '\\n---' in compacted[0]['text'][4:]:\n",
    "                token = compacted.pop(0)\n",
    "                front_matter, sep, paragraph = token['text'][4:].partition('---')\n",
    "                compacted = [{'type': 'front_matter', 'text': F\"\\n{front_matter}\"},\n",
    "                            {'type': 'paragraph', 'text': paragraph}] + compacted\n",
    "            return compacted\n",
    "\n",
    "        depth = 0\n",
    "        def __enter__(self): self.depth += 1\n",
    "        def __exit__(self, *e): self.depth -= 1\n",
    "\n",
    "        def untokenize(self, tokens: τ.List[dict], source: str = \"\"\"\"\"\", last: int =0) -> str:\n",
    "            INDENT = indent = base_indent(tokens) or 4\n",
    "            for i, token in enumerate(tokens):\n",
    "                object = token['text']\n",
    "                if token and token['type'] == 'code':\n",
    "                    if object.lstrip().startswith(FENCE):\n",
    "\n",
    "                        object = ''.join(''.join(object.partition(FENCE)[::2]).rpartition(FENCE)[::2])\n",
    "                        indent = INDENT + num_first_indent(object)\n",
    "                        object = textwrap.indent(object, INDENT*SPACE)\n",
    "\n",
    "                    if object.lstrip().startswith(MAGIC):  ...\n",
    "                    else: indent = num_last_indent(object)\n",
    "                elif token and token['type'] == 'front_matter': \n",
    "                    object = textwrap.indent(\n",
    "                        F\"locals().update(__import__('yaml').safe_load({quote(object)}))\\n\", indent*SPACE)\n",
    "\n",
    "                elif not object: ...\n",
    "                else:\n",
    "                    object = textwrap.indent(object, indent*SPACE)\n",
    "                    for next in tokens[i+1:]:\n",
    "                        if next['type'] == 'code':\n",
    "                            next = num_first_indent(next['text'])\n",
    "                            break\n",
    "                    else: next = indent       \n",
    "                    Δ = max(next-indent, 0)\n",
    "\n",
    "                    if not Δ and source.rstrip().rstrip(CONTINUATION).endswith(COLON): \n",
    "                        Δ += 4\n",
    "\n",
    "                    spaces = num_whitespace(object)\n",
    "                    \"what if the spaces are ling enough\"\n",
    "                    object = object[:spaces] + Δ*SPACE+ object[spaces:]\n",
    "                    if not source.rstrip().rstrip(CONTINUATION).endswith(QUOTES): \n",
    "                        object = quote(object)\n",
    "                source += object\n",
    "\n",
    "            for token in reversed(tokens):\n",
    "                if token['text'].strip():\n",
    "                    if token['type'] != 'code': \n",
    "                        source = source.rstrip() + SEMI\n",
    "                    break\n",
    "\n",
    "            return source\n",
    "            \n",
    "    for x in \"default_rules footnote_rules list_rules\".split():\n",
    "        setattr(Tokenizer, x, list(getattr(Tokenizer, x)))\n",
    "        getattr(Tokenizer, x).insert(getattr(Tokenizer, x).index('block_code'), 'doctest')\n",
    "        if 'block_html' in getattr(Tokenizer, x):\n",
    "            getattr(Tokenizer, x).pop(getattr(Tokenizer, x).index('block_html'))\n",
    "            \n",
    "    pidgy = pidgyTransformer()"
   ]
  },
  {
   "cell_type": "code",
   "execution_count": 11,
   "metadata": {},
   "outputs": [
    {
     "data": {
      "text/markdown": [
       "<!--\n",
       "    \n",
       "    # This has to be in a separate cell because the tests go crazy.\n",
       "    \n",
       "    (FENCE, CONTINUATION, SEMI, COLON, MAGIC, DOCTEST), QUOTES, SPACE ='``` \\\\ ; : %% >>>'.split(), ('\"\"\"', \"'''\"), ' '\n",
       "    \n",
       "\n",
       "-->"
      ],
      "text/plain": [
       "'<!--\\n    \\n    # This has to be in a separate cell because the tests go crazy.\\n    \\n    (FENCE, CONTINUATION, SEMI, COLON, MAGIC, DOCTEST), QUOTES, SPACE =\\'``` \\\\\\\\ ; : %% >>>\\'.split(), (\\'\"\"\"\\', \"\\'\\'\\'\"), \\' \\'\\n    \\n\\n-->'"
      ]
     },
     "metadata": {},
     "output_type": "display_data"
    }
   ],
   "source": [
    "    \n",
    "    # This has to be in a separate cell because the tests go crazy.\n",
    "    \n",
    "    (FENCE, CONTINUATION, SEMI, COLON, MAGIC, DOCTEST), QUOTES, SPACE ='``` \\\\ ; : %% >>>'.split(), ('\"\"\"', \"'''\"), ' '\n",
    "    "
   ]
  },
  {
   "cell_type": "code",
   "execution_count": 12,
   "metadata": {},
   "outputs": [
    {
     "data": {
      "text/markdown": [
       "<!--\n",
       "    \n",
       "    WHITESPACE = re.compile('^\\s*', re.MULTILINE)\n",
       "\n",
       "    def num_first_indent(text):\n",
       "        for str in text.splitlines():\n",
       "            if str.strip(): return len(str) - len(str.lstrip())\n",
       "        return 0\n",
       "    \n",
       "    def num_last_indent(text):\n",
       "        for str in reversed(text.splitlines()):\n",
       "            if str.strip(): return len(str) - len(str.lstrip())\n",
       "        return 0\n",
       "\n",
       "    def base_indent(tokens):\n",
       "        \"Look ahead for the base indent.\"\n",
       "        for i, token in enumerate(tokens):\n",
       "            if token['type'] == 'code':\n",
       "                code = token['text']\n",
       "                if code.lstrip().startswith(FENCE): continue\n",
       "                indent = num_first_indent(code)\n",
       "                break\n",
       "        else: indent = 4\n",
       "        return indent\n",
       "\n",
       "    def quote(text):\n",
       "        \"\"\"wrap text in `QUOTES`\"\"\"\n",
       "        if text.strip():\n",
       "            left, right = len(text)-len(text.lstrip()), len(text.rstrip())\n",
       "            quote = QUOTES[(text[right-1] in QUOTES[0]) or (QUOTES[0] in text)]\n",
       "            return text[:left] + quote + text[left:right] + quote + text[right:]\n",
       "        return text    \n",
       "\n",
       "    def num_whitespace(text): return len(text) - len(text.lstrip())\n",
       "    \n",
       "    def whiten(text: str) -> str:\n",
       "        \"\"\"`whiten` strips empty lines because the `markdown.BlockLexer` doesn't like that.\"\"\"\n",
       "        return '\\n'.join(x.rstrip() for x in text.splitlines())\n",
       "\n",
       "-->"
      ],
      "text/plain": [
       "'<!--\\n    \\n    WHITESPACE = re.compile(\\'^\\\\s*\\', re.MULTILINE)\\n\\n    def num_first_indent(text):\\n        for str in text.splitlines():\\n            if str.strip(): return len(str) - len(str.lstrip())\\n        return 0\\n    \\n    def num_last_indent(text):\\n        for str in reversed(text.splitlines()):\\n            if str.strip(): return len(str) - len(str.lstrip())\\n        return 0\\n\\n    def base_indent(tokens):\\n        \"Look ahead for the base indent.\"\\n        for i, token in enumerate(tokens):\\n            if token[\\'type\\'] == \\'code\\':\\n                code = token[\\'text\\']\\n                if code.lstrip().startswith(FENCE): continue\\n                indent = num_first_indent(code)\\n                break\\n        else: indent = 4\\n        return indent\\n\\n    def quote(text):\\n        \"\"\"wrap text in `QUOTES`\"\"\"\\n        if text.strip():\\n            left, right = len(text)-len(text.lstrip()), len(text.rstrip())\\n            quote = QUOTES[(text[right-1] in QUOTES[0]) or (QUOTES[0] in text)]\\n            return text[:left] + quote + text[left:right] + quote + text[right:]\\n        return text    \\n\\n    def num_whitespace(text): return len(text) - len(text.lstrip())\\n    \\n    def whiten(text: str) -> str:\\n        \"\"\"`whiten` strips empty lines because the `markdown.BlockLexer` doesn\\'t like that.\"\"\"\\n        return \\'\\\\n\\'.join(x.rstrip() for x in text.splitlines())\\n\\n-->'"
      ]
     },
     "metadata": {},
     "output_type": "display_data"
    }
   ],
   "source": [
    "    \n",
    "    WHITESPACE = re.compile('^\\s*', re.MULTILINE)\n",
    "\n",
    "    def num_first_indent(text):\n",
    "        for str in text.splitlines():\n",
    "            if str.strip(): return len(str) - len(str.lstrip())\n",
    "        return 0\n",
    "    \n",
    "    def num_last_indent(text):\n",
    "        for str in reversed(text.splitlines()):\n",
    "            if str.strip(): return len(str) - len(str.lstrip())\n",
    "        return 0\n",
    "\n",
    "    def base_indent(tokens):\n",
    "        \"Look ahead for the base indent.\"\n",
    "        for i, token in enumerate(tokens):\n",
    "            if token['type'] == 'code':\n",
    "                code = token['text']\n",
    "                if code.lstrip().startswith(FENCE): continue\n",
    "                indent = num_first_indent(code)\n",
    "                break\n",
    "        else: indent = 4\n",
    "        return indent\n",
    "\n",
    "    def quote(text):\n",
    "        \"\"\"wrap text in `QUOTES`\"\"\"\n",
    "        if text.strip():\n",
    "            left, right = len(text)-len(text.lstrip()), len(text.rstrip())\n",
    "            quote = QUOTES[(text[right-1] in QUOTES[0]) or (QUOTES[0] in text)]\n",
    "            return text[:left] + quote + text[left:right] + quote + text[right:]\n",
    "        return text    \n",
    "\n",
    "    def num_whitespace(text): return len(text) - len(text.lstrip())\n",
    "    \n",
    "    def whiten(text: str) -> str:\n",
    "        \"\"\"`whiten` strips empty lines because the `markdown.BlockLexer` doesn't like that.\"\"\"\n",
    "        return '\\n'.join(x.rstrip() for x in text.splitlines())"
   ]
  },
  {
   "cell_type": "code",
   "execution_count": 13,
   "metadata": {},
   "outputs": [
    {
     "data": {
      "text/markdown": [
       "<!--\n",
       "    \n",
       "    def load_ipython_extension(shell):\n",
       "        shell.tangle = pidgy_transformer = pidgyTransformer()        \n",
       "        shell.input_transformer_manager = pidgy_transformer\n",
       "        if not any(x for x in shell.ast_transformers if isinstance(x, ReturnYield)):\n",
       "            shell.ast_transformers.append(ReturnYield())\n",
       "    \n",
       "    def unload_ipython_extension(shell):\n",
       "        shell.input_transformer_manager = __import__('IPython').core.inputtransformer2.TransformerManager()\n",
       "        shell.ast_transformers = [x for x in shell.ast_transformers if not isinstance(x, ReturnYield)]\n",
       "\n",
       "-->"
      ],
      "text/plain": [
       "\"<!--\\n    \\n    def load_ipython_extension(shell):\\n        shell.tangle = pidgy_transformer = pidgyTransformer()        \\n        shell.input_transformer_manager = pidgy_transformer\\n        if not any(x for x in shell.ast_transformers if isinstance(x, ReturnYield)):\\n            shell.ast_transformers.append(ReturnYield())\\n    \\n    def unload_ipython_extension(shell):\\n        shell.input_transformer_manager = __import__('IPython').core.inputtransformer2.TransformerManager()\\n        shell.ast_transformers = [x for x in shell.ast_transformers if not isinstance(x, ReturnYield)]\\n\\n-->\""
      ]
     },
     "metadata": {},
     "output_type": "display_data"
    }
   ],
   "source": [
    "    \n",
    "    def load_ipython_extension(shell):\n",
    "        shell.input_transformer_manager = shell.tangle = pidgyTransformer()        \n",
    "    \n",
    "    def unload_ipython_extension(shell):\n",
    "        shell.input_transformer_manager = __import__('IPython').core.inputtransformer2.TransformerManager()"
   ]
  }
 ],
 "metadata": {
  "kernelspec": {
   "display_name": "pidgy 3",
   "language": "python",
   "name": "pidgy"
  },
  "language_info": {
   "codemirror_mode": {
    "name": "ipython",
    "version": 3
   },
   "file_extension": ".py",
   "mimetype": "text/x-python",
   "name": "python",
   "nbconvert_exporter": "python",
   "pygments_lexer": "ipython3",
   "version": "3.7.3"
  }
 },
 "nbformat": 4,
 "nbformat_minor": 4
}
