{
 "cells": [
  {
   "cell_type": "markdown",
   "metadata": {},
   "source": [
    "<!--"
   ]
  },
  {
   "cell_type": "code",
   "execution_count": 5,
   "metadata": {},
   "outputs": [],
   "source": [
    "    \n",
    "    __all__ = 'pidgyLoader',\n",
    "    import pidgy, sys, IPython, mistune as markdown, importnb, IPython as python\n",
    "    if __name__ == '__main__':\n",
    "        shell = get_ipython()"
   ]
  },
  {
   "cell_type": "markdown",
   "metadata": {},
   "source": [
    "-->"
   ]
  },
  {
   "cell_type": "markdown",
   "metadata": {},
   "source": [
    "# Reusable computable literature\n",
    "\n",
    "A primary requirement is that `pidgy` documents can be included\n",
    "in other `pidgy` documents, and, consequently, other `python` tools.\n",
    "To acheive this, `pidgy` modifies\n",
    "how `python` finds `__import__`s, this is acheived with an\n",
    "existing tool called `importnb` that includes\n",
    "`notebook` documents in `sys.path_hooks` used to discover modules.      \n"
   ]
  },
  {
   "cell_type": "code",
   "execution_count": 2,
   "metadata": {},
   "outputs": [
    {
     "data": {
      "text/markdown": [
       "    def load_ipython_extension(shell):\n",
       "        pidgyLoader(position=-1, lazy=True).__enter__()"
      ],
      "text/plain": [
       "<IPython.core.display.Markdown object>"
      ]
     },
     "metadata": {
      "text/markdown": {
       "cellId": "d1e46449-8a29-45ca-89da-157ac9bc5e96",
       "deletedCells": [],
       "end_at": "2020-02-20T17:29:43.021691",
       "modules": [],
       "names": [
        "load_ipython_extension"
       ],
       "sessionId": "445af511ead9897d642ebc8f89bf23ee4ee73d04eae2ded59527c0d17b69b585",
       "start_at": "2020-02-20T17:29:43.016000+00:00"
      }
     },
     "output_type": "display_data"
    }
   ],
   "source": [
    "    def load_ipython_extension(shell):\n",
    "        pidgyLoader(position=-1, lazy=True).__enter__()"
   ]
  },
  {
   "cell_type": "markdown",
   "metadata": {},
   "source": [
    "A successful implementation will make it possible to include\n",
    "markdown and notebooks as having the same equity as python \n",
    "source code in a literate programming project.\n",
    "The notebook allows extra information to be stored.\n",
    "To identify `pidgy` `notebook`s against other notebooks we \n",
    "introduce the hybrid extension `\".md.ipynb\"`."
   ]
  },
  {
   "cell_type": "code",
   "execution_count": 4,
   "metadata": {},
   "outputs": [
    {
     "data": {
      "text/markdown": [
       "    class pidgyLoader(importnb.Notebook): \n",
       "        extensions = \".md .md.ipynb\".split()\n",
       "        \n",
       "\n",
       "        def code(self, str): \n",
       "            \"\"\"\n",
       "The `\"code\"` method of the `__import__` loader\n",
       "performs string transforms to code cells.\n",
       "`pidgy` uses the same method \n",
       "that the `shell.input_transformer_manager`.\n",
       "\n",
       "\n",
       "            \"\"\"\n",
       "            with importnb.Notebook(lazy=True):\n",
       "                try: from . import translate\n",
       "                except: import translate\n",
       "            return ''.join(translate.pidgy.transform_cell(str))\n",
       "        \n",
       "        def visit(self, node):\n",
       "            \"\"\"\n",
       "The `\"visit\"` method provides modifications to the\n",
       "abstract syntax tree.\n",
       "            \n",
       "            \"\"\"\n",
       "            with importnb.Notebook():\n",
       "                try: from . import translate\n",
       "                except: import translate\n",
       "            return translate.ReturnYield().visit(node)\n",
       "        \n",
       "        def get_data(self, path):\n",
       "            if self.path.endswith('.md'):\n",
       "                return self.code(self.decode())\n",
       "            return super().get_data(path)\n",
       "\n",
       "        get_source = get_data"
      ],
      "text/plain": [
       "<IPython.core.display.Markdown object>"
      ]
     },
     "metadata": {
      "text/markdown": {
       "cellId": "d3d6fb27-a3a5-44f0-bd2b-81ef10b0c4e5",
       "deletedCells": [],
       "end_at": "2020-02-20T17:29:58.614824",
       "modules": [],
       "names": [
        "pidgyLoader"
       ],
       "sessionId": "445af511ead9897d642ebc8f89bf23ee4ee73d04eae2ded59527c0d17b69b585",
       "start_at": "2020-02-20T17:29:58.603000+00:00"
      }
     },
     "output_type": "display_data"
    }
   ],
   "source": [
    "    class pidgyLoader(importnb.Notebook): \n",
    "        extensions = \".md .md.ipynb\".split()\n",
    "        \n",
    "\n",
    "        def code(self, str): \n",
    "            \"\"\"\n",
    "The `\"code\"` method of the `__import__` loader\n",
    "performs string transforms to code cells.\n",
    "`pidgy` uses the same method \n",
    "that the `shell.input_transformer_manager`.\n",
    "\n",
    "\n",
    "            \"\"\"\n",
    "            with importnb.Notebook(lazy=True):\n",
    "                try: from . import translate\n",
    "                except: import translate\n",
    "            return ''.join(translate.pidgy.transform_cell(str))\n",
    "        \n",
    "        def visit(self, node):\n",
    "            \"\"\"\n",
    "The `\"visit\"` method provides modifications to the\n",
    "abstract syntax tree.\n",
    "            \n",
    "            \"\"\"\n",
    "            with importnb.Notebook():\n",
    "                try: from . import translate\n",
    "                except: import translate\n",
    "            return translate.ReturnYield().visit(node)\n",
    "        \n",
    "        def get_data(self, path):\n",
    "            if self.path.endswith('.md'):\n",
    "                return self.code(self.decode())\n",
    "            return super().get_data(path)\n",
    "\n",
    "        get_source = get_data\n"
   ]
  },
  {
   "cell_type": "code",
   "execution_count": 5,
   "metadata": {},
   "outputs": [],
   "source": [
    "    \n",
    "    def unload_ipython_extension(shell): ..."
   ]
  }
 ],
 "metadata": {
  "kernelspec": {
   "display_name": "pidgy 3",
   "language": "python",
   "name": "pidgy"
  },
  "language_info": {
   "codemirror_mode": {
    "name": "ipython",
    "version": 3
   },
   "file_extension": ".py",
   "mimetype": "text/x-python",
   "name": "python",
   "nbconvert_exporter": "python",
   "pygments_lexer": "ipython3",
   "version": "3.7.3"
  }
 },
 "nbformat": 4,
 "nbformat_minor": 4
}
