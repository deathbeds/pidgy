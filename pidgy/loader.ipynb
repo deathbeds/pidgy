{
 "cells": [
  {
   "cell_type": "markdown",
   "metadata": {},
   "source": [
    "# Importing and reusing `pidgy` literature\n",
    "\n",
    "A constraint consistent across most programming languages is that\n",
    "programs are executed line-by-line without any\n",
    "statements or expressions. raising exceptions \n",
    "If literate programs have the computational quality that they __restart\n",
    "and run all__ the they should \n",
    "When `pidgy` programs have this quality they can <code>import</code> in [Python], they become importable essays or reports."
   ]
  },
  {
   "cell_type": "code",
   "execution_count": 11,
   "metadata": {},
   "outputs": [
    {
     "data": {
      "text/markdown": [
       "    __all__ = 'pidgyLoader',; import pidgy, IPython, importnb"
      ],
      "text/plain": [
       "<IPython.core.display.Markdown object>"
      ]
     },
     "metadata": {},
     "output_type": "display_data"
    }
   ],
   "source": [
    "    __all__ = 'pidgyLoader',; import pidgy, IPython, importnb"
   ]
  },
  {
   "cell_type": "markdown",
   "metadata": {},
   "source": [
    "The `pidgyLoader` customizes [Python]'s ability to discover \n",
    "[Markdown] and `pidgy` [Notebook]s have the composite `\".md.ipynb\"` extension.\n",
    "`importnb` provides a high level API for modifying how content\n",
    "[Python] imports different file types.\n",
    "\n",
    "`sys.meta_path and sys.path_hooks`"
   ]
  },
  {
   "cell_type": "code",
   "execution_count": 2,
   "metadata": {},
   "outputs": [
    {
     "data": {
      "text/markdown": [
       "    class pidgyLoader(importnb.Notebook): \n",
       "        extensions = \".py.md .md .md.ipynb\".split()"
      ],
      "text/plain": [
       "<IPython.core.display.Markdown object>"
      ]
     },
     "metadata": {},
     "output_type": "display_data"
    }
   ],
   "source": [
    "    class pidgyLoader(importnb.Notebook): \n",
    "        extensions = \".py.md .md .md.ipynb\".split()"
   ]
  },
  {
   "cell_type": "markdown",
   "metadata": {},
   "source": [
    "`get_data` determines how a file is decoding from disk.  We use it to make an escape hatch for markdown files otherwise we are importing a notebook."
   ]
  },
  {
   "cell_type": "code",
   "execution_count": 3,
   "metadata": {},
   "outputs": [
    {
     "data": {
      "text/markdown": [
       "    def get_data(self, path):\n",
       "        if self.path.endswith('.md'): return self.code(self.decode())\n",
       "        return super(pidgyLoader, self).get_data(path)"
      ],
      "text/plain": [
       "<IPython.core.display.Markdown object>"
      ]
     },
     "metadata": {},
     "output_type": "display_data"
    }
   ],
   "source": [
    "    def get_data(self, path):\n",
    "        if self.path.endswith('.md'): return self.code(self.decode())\n",
    "        return super(pidgyLoader, self).get_data(path)"
   ]
  },
  {
   "cell_type": "markdown",
   "metadata": {},
   "source": [
    "The `code` method tangles the [Markdown] to [Python] before compiling to an [Abstract Syntax Tree]."
   ]
  },
  {
   "cell_type": "code",
   "execution_count": 4,
   "metadata": {},
   "outputs": [
    {
     "data": {
      "text/markdown": [
       "    def code(self, str): \n",
       "        with importnb.Notebook():\n",
       "            try: from . import tangle, extras\n",
       "            except: import tangle, extras\n",
       "        return ''.join(extras.demojize(''.join(tangle.pidgyTransformer().transform_cell(str))))"
      ],
      "text/plain": [
       "<IPython.core.display.Markdown object>"
      ]
     },
     "metadata": {},
     "output_type": "display_data"
    }
   ],
   "source": [
    "    def code(self, str): \n",
    "        with importnb.Notebook():\n",
    "            try: from . import tangle, extras\n",
    "            except: import tangle, extras\n",
    "        return ''.join(extras.demojize(''.join(tangle.pidgyTransformer().transform_cell(str))))"
   ]
  },
  {
   "cell_type": "markdown",
   "metadata": {},
   "source": [
    "The `visit` method allows custom [Abstract Syntax Tree] transformations to be applied."
   ]
  },
  {
   "cell_type": "code",
   "execution_count": 5,
   "metadata": {},
   "outputs": [
    {
     "data": {
      "text/markdown": [
       "    def visit(self, node):\n",
       "        with importnb.Notebook():\n",
       "            try: from . import extras\n",
       "            except: import extras\n",
       "        return extras.ExtraSyntax().visit(node)"
      ],
      "text/plain": [
       "<IPython.core.display.Markdown object>"
      ]
     },
     "metadata": {},
     "output_type": "display_data"
    }
   ],
   "source": [
    "    def visit(self, node):\n",
    "        with importnb.Notebook():\n",
    "            try: from . import extras\n",
    "            except: import extras\n",
    "        return extras.ExtraSyntax().visit(node)"
   ]
  },
  {
   "cell_type": "markdown",
   "metadata": {},
   "source": [
    "Attach these methods to the `pidgy` loader."
   ]
  },
  {
   "cell_type": "code",
   "execution_count": 9,
   "metadata": {},
   "outputs": [
    {
     "data": {
      "text/markdown": [
       "    pidgyLoader.code, pidgyLoader.visit = code, visit\n",
       "    pidgyLoader.get_source = pidgyLoader.get_data = get_data\n",
       "    \n",
       "Collect all of the functions defined into the `pidgyLoader`."
      ],
      "text/plain": [
       "<IPython.core.display.Markdown object>"
      ]
     },
     "metadata": {},
     "output_type": "display_data"
    }
   ],
   "source": [
    "    pidgyLoader.code, pidgyLoader.visit = code, visit\n",
    "    pidgyLoader.get_source = pidgyLoader.get_data = get_data"
   ]
  },
  {
   "cell_type": "markdown",
   "metadata": {},
   "source": [
    "The `pidgy` `loader` configures how [Python] discovers modules when they are\n",
    "imported.\n",
    "Usually the loader is used as a content manager and in this case we hold the enter \n",
    "the context, but do not leave it until `unload_ipython_extension` is executed."
   ]
  },
  {
   "cell_type": "markdown",
   "metadata": {},
   "source": [
    "-->"
   ]
  },
  {
   "cell_type": "code",
   "execution_count": 10,
   "metadata": {},
   "outputs": [
    {
     "data": {
      "text/markdown": [
       "    def load_ipython_extension(shell, loader=pidgyLoader):\n",
       "        setattr(shell, 'loaders', getattr(shell, 'loaders', {}))\n",
       "        shell.loaders[pidgyLoader] = loader(position=-1)\n",
       "        shell.loaders[pidgyLoader].__enter__()"
      ],
      "text/plain": [
       "<IPython.core.display.Markdown object>"
      ]
     },
     "metadata": {},
     "output_type": "display_data"
    }
   ],
   "source": [
    "    def load_ipython_extension(shell, loader=pidgyLoader):\n",
    "        setattr(shell, 'loaders', getattr(shell, 'loaders', {}))\n",
    "        shell.loaders[pidgyLoader] = loader(position=-1)\n",
    "        shell.loaders[pidgyLoader].__enter__()"
   ]
  },
  {
   "cell_type": "markdown",
   "metadata": {},
   "source": [
    "<!--"
   ]
  },
  {
   "cell_type": "code",
   "execution_count": 8,
   "metadata": {},
   "outputs": [
    {
     "data": {
      "text/markdown": [
       "<!--\n",
       "    \n",
       "    def unload_ipython_extension(shell, loader=pidgyLoader): \n",
       "        loader = shell.loaders.pop(pidgyLoader)\n",
       "        loader and loader.__exit__(None, None, None)\n",
       "\n",
       "-->"
      ],
      "text/plain": [
       "<IPython.core.display.Markdown object>"
      ]
     },
     "metadata": {},
     "output_type": "display_data"
    }
   ],
   "source": [
    "    \n",
    "    def unload_ipython_extension(shell, loader=pidgyLoader): \n",
    "        loader = shell.loaders.pop(pidgyLoader)\n",
    "        loader and loader.__exit__(None, None, None)"
   ]
  }
 ],
 "metadata": {
  "kernelspec": {
   "display_name": "pidgy 3",
   "language": "python",
   "name": "pidgy"
  },
  "language_info": {
   "codemirror_mode": {
    "name": "ipython",
    "version": 3
   },
   "file_extension": ".py",
   "mimetype": "text/x-python",
   "name": "python",
   "nbconvert_exporter": "python",
   "pygments_lexer": "ipython3",
   "version": "3.7.3"
  }
 },
 "nbformat": 4,
 "nbformat_minor": 4
}
