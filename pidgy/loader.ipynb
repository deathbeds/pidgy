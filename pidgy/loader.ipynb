{
 "cells": [
  {
   "cell_type": "markdown",
   "metadata": {},
   "source": [
    "# Importing and reusing `pidgy` literature\n",
    "\n",
    "A constraint consistent across most programming languages is that\n",
    "programs are executed line-by-line without any\n",
    "statements or expressions. raising exceptions \n",
    "If literate programs have the computational quality that they __restart\n",
    "and run all__ the they should \n",
    "When `pidgy` programs have this quality they can <code>import</code> in [Python], they become importable essays or reports."
   ]
  },
  {
   "cell_type": "markdown",
   "metadata": {},
   "source": [
    "<!--"
   ]
  },
  {
   "cell_type": "code",
   "execution_count": 1,
   "metadata": {},
   "outputs": [
    {
     "data": {
      "text/markdown": [
       "    __all__ = 'pidgyLoader',\n",
       "    import pidgy, sys, IPython, mistune as markdown, importnb, IPython as python\n",
       "    with importnb.Notebook(lazy=True):\n",
       "        try: from . import tangle, extras\n",
       "        except: import tangle, extras\n",
       "    if __name__ == '__main__':\n",
       "        shell = get_ipython()"
      ],
      "text/plain": [
       "<IPython.core.display.Markdown object>"
      ]
     },
     "metadata": {},
     "output_type": "display_data"
    }
   ],
   "source": [
    "    __all__ = 'pidgyLoader',\n",
    "    import pidgy, sys, IPython, mistune as markdown, importnb, IPython as python\n",
    "    with importnb.Notebook(lazy=True):\n",
    "        try: from . import tangle, extras\n",
    "        except: import tangle, extras\n",
    "    if __name__ == '__main__':\n",
    "        shell = get_ipython()"
   ]
  },
  {
   "cell_type": "markdown",
   "metadata": {},
   "source": [
    "-->"
   ]
  },
  {
   "cell_type": "markdown",
   "metadata": {},
   "source": [
    "The `pidgyLoader` customizes [Python]'s ability to discover \n",
    "[Markdown] and `pidgy` [Notebook]s have the composite `\".md.ipynb\"` extension.\n",
    "`importnb` provides a high level API for modifying how content\n",
    "[Python] imports different file types.\n",
    "\n",
    "`sys.meta_path and sys.path_hooks`"
   ]
  },
  {
   "cell_type": "code",
   "execution_count": 9,
   "metadata": {},
   "outputs": [
    {
     "data": {
      "text/markdown": [
       "    class pidgyLoader(importnb.Notebook): \n",
       "        extensions = \".md .md.ipynb\".split()"
      ],
      "text/plain": [
       "<IPython.core.display.Markdown object>"
      ]
     },
     "metadata": {
      "text/markdown": {
       "cellId": "92b483b0-153c-4788-81dc-edf210a7361a",
       "deletedCells": [
        "f3c7a5e7-75df-4016-895f-0b09437db463"
       ],
       "end_at": "2020-02-23T00:36:31.225583",
       "modules": [],
       "names": [],
       "sessionId": "bd74db2a146ae1deecb23286af2b7710b9a8eab45397b3de4e536e477be881ab",
       "start_at": "2020-02-23T00:36:31.220000+00:00"
      }
     },
     "output_type": "display_data"
    }
   ],
   "source": [
    "    class pidgyLoader(importnb.Notebook): \n",
    "        extensions = \".md .md.ipynb\".split()"
   ]
  },
  {
   "cell_type": "markdown",
   "metadata": {},
   "source": [
    "`get_data` determines how a file is decoding from disk.  We use it to make an escape hatch for markdown files otherwise we are importing a notebook."
   ]
  },
  {
   "cell_type": "code",
   "execution_count": 10,
   "metadata": {},
   "outputs": [
    {
     "data": {
      "text/markdown": [
       "    def get_data(self, path):\n",
       "        if self.path.endswith('.md'):\n",
       "            return self.code(self.decode())\n",
       "        return super(pidgyLoader, self).get_data(path)"
      ],
      "text/plain": [
       "<IPython.core.display.Markdown object>"
      ]
     },
     "metadata": {
      "text/markdown": {
       "cellId": "9cd73548-41f3-4c62-8749-f09ed493815d",
       "deletedCells": [],
       "end_at": "2020-02-23T00:36:31.442839",
       "modules": [],
       "names": [],
       "sessionId": "bd74db2a146ae1deecb23286af2b7710b9a8eab45397b3de4e536e477be881ab",
       "start_at": "2020-02-23T00:36:31.436000+00:00"
      }
     },
     "output_type": "display_data"
    }
   ],
   "source": [
    "    def get_data(self, path):\n",
    "        if self.path.endswith('.md'):\n",
    "            return self.code(self.decode())\n",
    "        return super(pidgyLoader, self).get_data(path)"
   ]
  },
  {
   "cell_type": "markdown",
   "metadata": {},
   "source": [
    "The `code` method tangles the [Markdown] to [Python] before compiling to an [Abstract Syntax Tree]."
   ]
  },
  {
   "cell_type": "code",
   "execution_count": 11,
   "metadata": {},
   "outputs": [
    {
     "data": {
      "text/markdown": [
       "    def code(self, str): \n",
       "        with importnb.Notebook(lazy=True):\n",
       "            try: from . import tangle\n",
       "            except: import tangle\n",
       "        return ''.join(tangle.pidgy.transform_cell(str))"
      ],
      "text/plain": [
       "<IPython.core.display.Markdown object>"
      ]
     },
     "metadata": {
      "text/markdown": {
       "cellId": "05cb93df-8b1b-4cbc-87e7-d4bd35546708",
       "deletedCells": [],
       "end_at": "2020-02-23T00:36:32.546901",
       "modules": [],
       "names": [],
       "sessionId": "bd74db2a146ae1deecb23286af2b7710b9a8eab45397b3de4e536e477be881ab",
       "start_at": "2020-02-23T00:36:32.540000+00:00"
      }
     },
     "output_type": "display_data"
    }
   ],
   "source": [
    "    def code(self, str): \n",
    "        return ''.join(extras.demojize(''.join(tangle.pidgy.transform_cell(str))))"
   ]
  },
  {
   "cell_type": "markdown",
   "metadata": {},
   "source": [
    "The `visit` method allows custom [Abstract Syntax Tree] transformations to be applied."
   ]
  },
  {
   "cell_type": "code",
   "execution_count": 5,
   "metadata": {},
   "outputs": [
    {
     "data": {
      "text/markdown": [
       "        def visit(self, node):\n",
       "            with importnb.Notebook():\n",
       "                try: from . import tangle\n",
       "                except: import tangle\n",
       "            return tangle.ReturnYield().visit(node)\n",
       "        "
      ],
      "text/plain": [
       "<IPython.core.display.Markdown object>"
      ]
     },
     "metadata": {
      "text/markdown": {
       "cellId": "7aca76a4-87c5-4d34-8eff-452e80359da3",
       "deletedCells": [],
       "end_at": "2020-02-23T00:21:11.534295",
       "modules": [],
       "names": [
        "visit"
       ],
       "sessionId": "bd74db2a146ae1deecb23286af2b7710b9a8eab45397b3de4e536e477be881ab",
       "start_at": "2020-02-23T00:21:11.527000+00:00"
      }
     },
     "output_type": "display_data"
    }
   ],
   "source": [
    "    def visit(self, node):\n",
    "        return extras.ExtraSyntax().visit(node)"
   ]
  },
  {
   "cell_type": "markdown",
   "metadata": {},
   "source": [
    "Attach these methods to the `pidgy` loader."
   ]
  },
  {
   "cell_type": "code",
   "execution_count": 6,
   "metadata": {},
   "outputs": [
    {
     "data": {
      "text/markdown": [
       "    pidgyLoader.code, pidgyLoader.visit = code, visit\n",
       "    pidgyLoader.get_source = pidgyLoader.get_data = get_data"
      ],
      "text/plain": [
       "<IPython.core.display.Markdown object>"
      ]
     },
     "metadata": {
      "text/markdown": {
       "cellId": "25766555-20d3-4d71-a654-7d126b51bf83",
       "deletedCells": [],
       "end_at": "2020-02-23T00:21:12.468735",
       "modules": [],
       "names": [],
       "sessionId": "bd74db2a146ae1deecb23286af2b7710b9a8eab45397b3de4e536e477be881ab",
       "start_at": "2020-02-23T00:21:12.463000+00:00"
      }
     },
     "output_type": "display_data"
    }
   ],
   "source": [
    "    pidgyLoader.code, pidgyLoader.visit = code, visit\n",
    "    pidgyLoader.get_source = pidgyLoader.get_data = get_data"
   ]
  },
  {
   "cell_type": "markdown",
   "metadata": {},
   "source": [
    "The `pidgy` `loader` configures how [Python] discovers modules when they are\n",
    "imported.\n",
    "Usually the loader is used as a content manager and in this case we hold the enter \n",
    "the context, but do not leave it until `unload_ipython_extension` is executed."
   ]
  },
  {
   "cell_type": "code",
   "execution_count": 7,
   "metadata": {},
   "outputs": [
    {
     "data": {
      "text/markdown": [
       "    def load_ipython_extension(shell):\n",
       "        setattr(shell, 'loaders', getattr(shell, 'loaders', {}))\n",
       "        shell.loaders[pidgyLoader] = pidgyLoader(position=-1, lazy=True)\n",
       "        shell.loaders[pidgyLoader].__enter__()"
      ],
      "text/plain": [
       "<IPython.core.display.Markdown object>"
      ]
     },
     "metadata": {
      "text/markdown": {
       "cellId": "3239a89e-6a31-4aaf-a23f-b1f1d2dfcd77",
       "deletedCells": [],
       "end_at": "2020-02-23T00:21:13.142229",
       "modules": [],
       "names": [
        "load_ipython_extension"
       ],
       "sessionId": "bd74db2a146ae1deecb23286af2b7710b9a8eab45397b3de4e536e477be881ab",
       "start_at": "2020-02-23T00:21:13.135000+00:00"
      }
     },
     "output_type": "display_data"
    }
   ],
   "source": [
    "    def load_ipython_extension(shell):\n",
    "        setattr(shell, 'loaders', getattr(shell, 'loaders', {}))\n",
    "        shell.loaders[pidgyLoader] = pidgyLoader(position=-1)\n",
    "        shell.loaders[pidgyLoader].__enter__()"
   ]
  },
  {
   "cell_type": "markdown",
   "metadata": {},
   "source": [
    "<!--"
   ]
  },
  {
   "cell_type": "code",
   "execution_count": 8,
   "metadata": {},
   "outputs": [],
   "source": [
    "    \n",
    "    def unload_ipython_extension(shell): \n",
    "        loader = shell.loaders.pop(pidgyLoader)\n",
    "        loader and loader.__exit__(None, None, None)"
   ]
  },
  {
   "cell_type": "markdown",
   "metadata": {},
   "source": [
    "-->"
   ]
  }
 ],
 "metadata": {
  "kernelspec": {
   "display_name": "pidgy 3",
   "language": "python",
   "name": "pidgy"
  },
  "language_info": {
   "codemirror_mode": {
    "name": "ipython",
    "version": 3
   },
   "file_extension": ".py",
   "mimetype": "text/x-python",
   "name": "python",
   "nbconvert_exporter": "python",
   "pygments_lexer": "ipython3",
   "version": "3.7.3"
  }
 },
 "nbformat": 4,
 "nbformat_minor": 4
}
