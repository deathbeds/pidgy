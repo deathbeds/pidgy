{
 "cells": [
  {
   "cell_type": "code",
   "execution_count": 1,
   "metadata": {},
   "outputs": [
    {
     "data": {
      "text/html": [
       "<pre class=\"ipython\"><code>%matplotlib agg\n",
       "with __import__(&#39;pidgin&#39;).load():None\n",
       "shell = __import__(&#39;IPython&#39;).get_ipython()</code></pre>\n"
      ],
      "text/plain": [
       "    %matplotlib agg\n",
       "    with __import__('pidgin').load():None\n",
       "    shell = __import__('IPython').get_ipython()"
      ]
     },
     "metadata": {},
     "output_type": "display_data"
    }
   ],
   "source": [
    "    %matplotlib agg\n",
    "    with __import__('pidgin').load():None\n",
    "    shell = __import__('IPython').get_ipython()"
   ]
  },
  {
   "cell_type": "code",
   "execution_count": 2,
   "metadata": {},
   "outputs": [
    {
     "data": {
      "text/html": [
       "<p>print</p>\n"
      ],
      "text/plain": [
       "print"
      ]
     },
     "metadata": {},
     "output_type": "display_data"
    }
   ],
   "source": [
    "print"
   ]
  },
  {
   "cell_type": "code",
   "execution_count": 3,
   "metadata": {},
   "outputs": [
    {
     "data": {
      "text/plain": [
       "<function print>"
      ]
     },
     "execution_count": 3,
     "metadata": {},
     "output_type": "execute_result"
    },
    {
     "data": {
      "text/html": [
       "<pre class=\"ipython\"><code>print</code></pre>\n"
      ],
      "text/plain": [
       "    print"
      ]
     },
     "metadata": {},
     "output_type": "display_data"
    }
   ],
   "source": [
    "    print"
   ]
  },
  {
   "cell_type": "code",
   "execution_count": 4,
   "metadata": {},
   "outputs": [
    {
     "data": {
      "text/plain": [
       "<function print>"
      ]
     },
     "execution_count": 4,
     "metadata": {},
     "output_type": "execute_result"
    }
   ],
   "source": [
    "    \n",
    "    print"
   ]
  },
  {
   "cell_type": "code",
   "execution_count": 5,
   "metadata": {},
   "outputs": [
    {
     "data": {
      "text/plain": [
       "<function print>"
      ]
     },
     "execution_count": 5,
     "metadata": {},
     "output_type": "execute_result"
    },
    {
     "data": {
      "text/html": [
       "<p>print</p>\n",
       "<pre class=\"ipython\"><code>    print</code></pre>\n"
      ],
      "text/plain": [
       "print\n",
       "\n",
       "        print"
      ]
     },
     "metadata": {},
     "output_type": "display_data"
    }
   ],
   "source": [
    "print\n",
    "\n",
    "        print"
   ]
  },
  {
   "cell_type": "code",
   "execution_count": 6,
   "metadata": {},
   "outputs": [
    {
     "name": "stdout",
     "output_type": "stream",
     "text": [
      "10\n"
     ]
    },
    {
     "data": {
      "text/html": [
       "<pre class=\"ipython\"><code>print(10)\n",
       "shell.pidgin.input = &#39;rst&#39;</code></pre>\n"
      ],
      "text/plain": [
       ".. code-block:: ipython\n",
       "\n",
       "        print(10)\n",
       "        shell.pidgin.input = 'rst'"
      ]
     },
     "metadata": {},
     "output_type": "display_data"
    }
   ],
   "source": [
    ".. code-block:: ipython\n",
    "\n",
    "        print(10)\n",
    "        shell.pidgin.input = 'rst'"
   ]
  },
  {
   "cell_type": "code",
   "execution_count": 7,
   "metadata": {},
   "outputs": [
    {
     "data": {
      "text/html": [
       "<blockquote>\n",
       "<p>shell.pidgin.tangle.input</p>\n",
       "</blockquote>\n"
      ],
      "text/plain": [
       "    shell.pidgin.tangle.input"
      ]
     },
     "metadata": {},
     "output_type": "display_data"
    }
   ],
   "source": [
    "    shell.pidgin.tangle.input"
   ]
  },
  {
   "cell_type": "code",
   "execution_count": 8,
   "metadata": {},
   "outputs": [
    {
     "data": {
      "text/html": [
       "\n"
      ],
      "text/plain": [
       "..\n",
       "    \n",
       "    do nothing"
      ]
     },
     "metadata": {},
     "output_type": "display_data"
    }
   ],
   "source": [
    "..\n",
    "    \n",
    "    do nothing"
   ]
  },
  {
   "cell_type": "code",
   "execution_count": 9,
   "metadata": {},
   "outputs": [
    {
     "data": {
      "text/html": [
       "\n"
      ],
      "text/plain": [
       ".. code\n",
       "    \n",
       "    'do something'"
      ]
     },
     "metadata": {},
     "output_type": "display_data"
    }
   ],
   "source": [
    ".. code\n",
    "    \n",
    "    'do something'"
   ]
  },
  {
   "cell_type": "code",
   "execution_count": 10,
   "metadata": {},
   "outputs": [
    {
     "data": {
      "text/plain": [
       "'do something'"
      ]
     },
     "execution_count": 10,
     "metadata": {},
     "output_type": "execute_result"
    },
    {
     "data": {
      "text/html": [
       "<pre class=\"\"><code>&#39;do something&#39;</code></pre>\n"
      ],
      "text/plain": [
       ".. code-block::\n",
       "    \n",
       "    'do something'"
      ]
     },
     "metadata": {},
     "output_type": "display_data"
    }
   ],
   "source": [
    ".. code-block::\n",
    "    \n",
    "    'do something'"
   ]
  },
  {
   "cell_type": "code",
   "execution_count": 11,
   "metadata": {},
   "outputs": [
    {
     "data": {
      "text/html": [
       "<div class=\"sourceCode\" id=\"cb1\"><pre class=\"sourceCode ruby\"><code class=\"sourceCode ruby\"><span id=\"cb1-1\"><a href=\"#cb1-1\"></a><span class=\"dt\">Some</span> <span class=\"dt\">Ruby</span> code.</span></code></pre></div>\n"
      ],
      "text/plain": [
       ".. code-block:: ruby\n",
       "\n",
       "   Some Ruby code.\n"
      ]
     },
     "metadata": {},
     "output_type": "display_data"
    }
   ],
   "source": [
    ".. code-block:: ruby\n",
    "\n",
    "   Some Ruby code.\n"
   ]
  },
  {
   "cell_type": "code",
   "execution_count": 12,
   "metadata": {},
   "outputs": [
    {
     "name": "stdout",
     "output_type": "stream",
     "text": [
      "11\n"
     ]
    },
    {
     "data": {
      "text/html": [
       "<pre class=\"ipython\"><code>print(11)\n",
       "shell.pidgin.input = &#39;rst&#39;</code></pre>\n"
      ],
      "text/plain": [
       ".. code:: ipython\n",
       "    \n",
       "    print(11)\n",
       "    shell.pidgin.input = 'rst'"
      ]
     },
     "metadata": {},
     "output_type": "display_data"
    }
   ],
   "source": [
    ".. code:: ipython\n",
    "    \n",
    "    print(11)\n",
    "    shell.pidgin.input = 'rst'"
   ]
  },
  {
   "cell_type": "code",
   "execution_count": 13,
   "metadata": {},
   "outputs": [
    {
     "data": {
      "text/html": [
       "<p>.. code:: ipython</p>\n",
       "<pre class=\"ipython\"><code>shell.pidgin.input = &#39;markdown&#39;</code></pre>\n"
      ],
      "text/plain": [
       ".. code:: ipython\n",
       "    \n",
       "    shell.pidgin.input = 'markdown'"
      ]
     },
     "metadata": {},
     "output_type": "display_data"
    }
   ],
   "source": [
    ".. code:: ipython\n",
    "    \n",
    "    shell.pidgin.input = 'markdown'"
   ]
  },
  {
   "cell_type": "code",
   "execution_count": 14,
   "metadata": {},
   "outputs": [
    {
     "data": {
      "text/plain": [
       "'markdown'"
      ]
     },
     "execution_count": 14,
     "metadata": {},
     "output_type": "execute_result"
    },
    {
     "data": {
      "text/html": [
       "<pre class=\"ipython\"><code>shell.pidgin.weave.input</code></pre>\n"
      ],
      "text/plain": [
       "    shell.pidgin.weave.input"
      ]
     },
     "metadata": {},
     "output_type": "display_data"
    }
   ],
   "source": [
    "    shell.pidgin.weave.input"
   ]
  },
  {
   "cell_type": "code",
   "execution_count": 15,
   "metadata": {},
   "outputs": [
    {
     "data": {
      "text/plain": [
       "'markdown'"
      ]
     },
     "execution_count": 15,
     "metadata": {},
     "output_type": "execute_result"
    },
    {
     "data": {
      "text/html": [
       "<pre class=\"ipython\"><code>    shell.pidgin.tangle.input</code></pre>\n"
      ],
      "text/plain": [
       "        shell.pidgin.tangle.input"
      ]
     },
     "metadata": {},
     "output_type": "display_data"
    }
   ],
   "source": [
    "        shell.pidgin.tangle.input"
   ]
  },
  {
   "cell_type": "code",
   "execution_count": 16,
   "metadata": {},
   "outputs": [
    {
     "name": "stdout",
     "output_type": "stream",
     "text": [
      "False\n"
     ]
    }
   ],
   "source": [
    "    shell.pidgin.weave.enabled = False\n",
    "    print(shell.pidgin.weave.enabled)"
   ]
  },
  {
   "cell_type": "code",
   "execution_count": 17,
   "metadata": {},
   "outputs": [
    {
     "name": "stdout",
     "output_type": "stream",
     "text": [
      "True\n"
     ]
    },
    {
     "data": {
      "text/html": [
       "<pre class=\"ipython\"><code>shell.pidgin.weave.enabled = True\n",
       "print(shell.pidgin.weave.enabled)</code></pre>\n"
      ],
      "text/plain": [
       "    shell.pidgin.weave.enabled = True\n",
       "    print(shell.pidgin.weave.enabled)"
      ]
     },
     "metadata": {},
     "output_type": "display_data"
    }
   ],
   "source": [
    "    shell.pidgin.weave.enabled = True\n",
    "    print(shell.pidgin.weave.enabled)"
   ]
  },
  {
   "cell_type": "code",
   "execution_count": 18,
   "metadata": {},
   "outputs": [
    {
     "name": "stdout",
     "output_type": "stream",
     "text": [
      "**********************************************************************\n",
      "Line 3, in __main__\n",
      "Failed example:\n",
      "    assert False\n",
      "Exception raised:\n",
      "    Traceback (most recent call last):\n",
      "      File \"/Users/tonyfast/anaconda/envs/p6/lib/python3.6/doctest.py\", line 1330, in __run\n",
      "        compileflags, 1), test.globs)\n",
      "      File \"<doctest __main__[0]>\", line 1, in <module>\n",
      "        assert False\n",
      "    AssertionError\n"
     ]
    },
    {
     "data": {
      "text/html": [
       "<pre class=\"ipython\"><code>shell.pidgin.doctest.enabled=True</code></pre>\n",
       "<pre><code>&gt;&gt;&gt; assert False\n",
       "&gt;&gt;&gt; assert True\n",
       "</code></pre>\n"
      ],
      "text/plain": [
       "    shell.pidgin.doctest.enabled=True\n",
       "```\n",
       ">>> assert False\n",
       ">>> assert True\n",
       "\n",
       "```"
      ]
     },
     "metadata": {},
     "output_type": "display_data"
    }
   ],
   "source": [
    "    shell.pidgin.doctest.enabled=True\n",
    "```\n",
    ">>> assert False\n",
    ">>> assert True\n",
    "\n",
    "```"
   ]
  },
  {
   "cell_type": "code",
   "execution_count": 19,
   "metadata": {},
   "outputs": [
    {
     "data": {
      "text/html": [
       "<pre class=\"ipython\"><code>shell.pidgin.doctest.enabled=False</code></pre>\n",
       "<pre><code>&gt;&gt;&gt; assert False\n",
       "</code></pre>\n"
      ],
      "text/plain": [
       "    shell.pidgin.doctest.enabled=False\n",
       "```\n",
       ">>> assert False\n",
       "\n",
       "```"
      ]
     },
     "metadata": {},
     "output_type": "display_data"
    }
   ],
   "source": [
    "    shell.pidgin.doctest.enabled=False\n",
    "```\n",
    ">>> assert False\n",
    "\n",
    "```"
   ]
  },
  {
   "cell_type": "code",
   "execution_count": 20,
   "metadata": {},
   "outputs": [
    {
     "name": "stdout",
     "output_type": "stream",
     "text": [
      "**********************************************************************\n",
      "Line 3, in __main__\n",
      "Failed example:\n",
      "    assert False\n",
      "Exception raised:\n",
      "    Traceback (most recent call last):\n",
      "      File \"/Users/tonyfast/anaconda/envs/p6/lib/python3.6/doctest.py\", line 1330, in __run\n",
      "        compileflags, 1), test.globs)\n",
      "      File \"<doctest __main__[0]>\", line 1, in <module>\n",
      "        assert False\n",
      "    AssertionError\n"
     ]
    },
    {
     "data": {
      "text/html": [
       "<pre class=\"ipython\"><code>shell.pidgin.doctest.enabled=True</code></pre>\n",
       "<pre><code>&gt;&gt;&gt; assert False\n",
       "&gt;&gt;&gt; assert True\n",
       "</code></pre>\n"
      ],
      "text/plain": [
       "    shell.pidgin.doctest.enabled=True\n",
       "```\n",
       ">>> assert False\n",
       ">>> assert True\n",
       "\n",
       "```"
      ]
     },
     "metadata": {},
     "output_type": "display_data"
    }
   ],
   "source": [
    "    shell.pidgin.doctest.enabled=True\n",
    "```\n",
    ">>> assert False\n",
    ">>> assert True\n",
    "\n",
    "```"
   ]
  },
  {
   "cell_type": "code",
   "execution_count": null,
   "metadata": {},
   "outputs": [],
   "source": []
  },
  {
   "cell_type": "code",
   "execution_count": 21,
   "metadata": {},
   "outputs": [
    {
     "name": "stdout",
     "output_type": "stream",
     "text": [
      "**********************************************************************\n",
      "Line 1, in __main__\n",
      "Failed example:\n",
      "    rang\n",
      "Exception raised:\n",
      "    Traceback (most recent call last):\n",
      "      File \"/Users/tonyfast/anaconda/envs/p6/lib/python3.6/doctest.py\", line 1330, in __run\n",
      "        compileflags, 1), test.globs)\n",
      "      File \"<doctest __main__[1]>\", line 1, in <module>\n",
      "        rang\n",
      "    NameError: name 'rang' is not defined\n"
     ]
    },
    {
     "data": {
      "text/html": [
       "<p>There is a <code>range</code> involved. It <code>rang</code>. <code>None</code></p>\n"
      ],
      "text/plain": [
       "There is a `range` involved.  It `rang`. `None`"
      ]
     },
     "metadata": {},
     "output_type": "display_data"
    }
   ],
   "source": [
    "There is a `range` involved.  It `rang`. `None`"
   ]
  },
  {
   "cell_type": "code",
   "execution_count": 22,
   "metadata": {},
   "outputs": [
    {
     "data": {
      "text/html": [
       "<pre class=\"ipython\"><code>&gt;&gt;&gt; shell.pidgin\n",
       "&lt;traitlets.traitlets.PidginShell object at ...&gt;\n",
       "&gt;&gt;&gt; shell.pidgin.tangle\n",
       "&lt;pidgin.Tangle object at ...&gt;\n",
       "&gt;&gt;&gt; shell.pidgin.weave\n",
       "&lt;pidgin.Weave object at ...&gt;\n",
       "&gt;&gt;&gt; shell.pidgin.doctest\n",
       "&lt;pidgin.Doctest object at ...&gt;</code></pre>\n"
      ],
      "text/plain": [
       "    >>> shell.pidgin\n",
       "    <traitlets.traitlets.PidginShell object at ...>\n",
       "    >>> shell.pidgin.tangle\n",
       "    <pidgin.Tangle object at ...>\n",
       "    >>> shell.pidgin.weave\n",
       "    <pidgin.Weave object at ...>\n",
       "    >>> shell.pidgin.doctest\n",
       "    <pidgin.Doctest object at ...>\n"
      ]
     },
     "metadata": {},
     "output_type": "display_data"
    }
   ],
   "source": [
    "    >>> shell.pidgin\n",
    "    <traitlets.traitlets.PidginShell object at ...>\n",
    "    >>> shell.pidgin.tangle\n",
    "    <pidgin.Tangle object at ...>\n",
    "    >>> shell.pidgin.weave\n",
    "    <pidgin.Weave object at ...>\n",
    "    >>> shell.pidgin.doctest\n",
    "    <pidgin.Doctest object at ...>\n"
   ]
  },
  {
   "cell_type": "code",
   "execution_count": 23,
   "metadata": {},
   "outputs": [
    {
     "data": {
      "text/html": [
       "<pre class=\"ipython\"><code>foo: &#39;xxx&#39;</code></pre>\n"
      ],
      "text/plain": [
       "    foo: 'xxx'"
      ]
     },
     "metadata": {},
     "output_type": "display_data"
    }
   ],
   "source": [
    "    foo: 'xxx'"
   ]
  },
  {
   "cell_type": "code",
   "execution_count": 24,
   "metadata": {},
   "outputs": [
    {
     "data": {
      "text/html": [
       "<pre class=\"ipython\"><code>&gt;&gt;&gt; __annotations__ \n",
       "{&#39;foo&#39;: &#39;xxx&#39;}\n",
       "&gt;&gt;&gt; assert &#39;foo&#39; not in globals()</code></pre>\n"
      ],
      "text/plain": [
       "    >>> __annotations__ \n",
       "    {'foo': 'xxx'}\n",
       "    >>> assert 'foo' not in globals()"
      ]
     },
     "metadata": {},
     "output_type": "display_data"
    }
   ],
   "source": [
    "    >>> __annotations__ \n",
    "    {'foo': 'xxx'}\n",
    "    >>> assert 'foo' not in globals()"
   ]
  },
  {
   "cell_type": "code",
   "execution_count": 25,
   "metadata": {},
   "outputs": [
    {
     "data": {
      "text/html": [
       "<pre class=\"ipython\"><code>bar: &#39;yyy&#39; = &#39;wxyz&#39;</code></pre>\n"
      ],
      "text/plain": [
       "    bar: 'yyy' = 'wxyz'"
      ]
     },
     "metadata": {},
     "output_type": "display_data"
    }
   ],
   "source": [
    "    bar: 'yyy' = 'wxyz'"
   ]
  },
  {
   "cell_type": "code",
   "execution_count": 26,
   "metadata": {},
   "outputs": [
    {
     "data": {
      "text/html": [
       "<pre class=\"ipython\"><code>&gt;&gt;&gt; bar\n",
       "&#39;wxyz&#39;\n",
       "&gt;&gt;&gt; __annotations__\n",
       "{&#39;foo&#39;: &#39;xxx&#39;, &#39;bar&#39;: &#39;yyy&#39;}</code></pre>\n"
      ],
      "text/plain": [
       "    >>> bar\n",
       "    'wxyz'\n",
       "    >>> __annotations__\n",
       "    {'foo': 'xxx', 'bar': 'yyy'}\n"
      ]
     },
     "metadata": {},
     "output_type": "display_data"
    }
   ],
   "source": [
    "    >>> bar\n",
    "    'wxyz'\n",
    "    >>> __annotations__\n",
    "    {'foo': 'xxx', 'bar': 'yyy'}\n"
   ]
  },
  {
   "cell_type": "code",
   "execution_count": 27,
   "metadata": {},
   "outputs": [
    {
     "data": {
      "text/html": [
       "<h1 id=\"xxx-wxyz\">xxx WXYZ</h1>\n"
      ],
      "text/plain": [
       "# {{foo|lower}} {{bar|upper}}"
      ]
     },
     "metadata": {},
     "output_type": "display_data"
    }
   ],
   "source": [
    "# {{foo|lower}} {{bar|upper}}"
   ]
  },
  {
   "cell_type": "code",
   "execution_count": 28,
   "metadata": {},
   "outputs": [],
   "source": [
    "\n",
    "# {{foo|lower}} {{bar|upper}}"
   ]
  },
  {
   "cell_type": "code",
   "execution_count": 29,
   "metadata": {},
   "outputs": [
    {
     "data": {
      "text/html": [
       "<pre class=\"ipython\"><code>graph = lambda object: __import__(&#39;graphviz&#39;).Source(&quot;graph { %s}&quot;%object)</code></pre>\n"
      ],
      "text/plain": [
       "    graph = lambda object: __import__('graphviz').Source(\"graph { %s}\"%object)"
      ]
     },
     "metadata": {},
     "output_type": "display_data"
    }
   ],
   "source": [
    "    graph = lambda object: __import__('graphviz').Source(\"graph { %s}\"%object)"
   ]
  },
  {
   "cell_type": "code",
   "execution_count": 30,
   "metadata": {},
   "outputs": [
    {
     "data": {
      "image/svg+xml": [
       "<?xml version=\"1.0\" encoding=\"UTF-8\" standalone=\"no\"?>\n",
       "<!DOCTYPE svg PUBLIC \"-//W3C//DTD SVG 1.1//EN\"\n",
       " \"http://www.w3.org/Graphics/SVG/1.1/DTD/svg11.dtd\">\n",
       "<!-- Generated by graphviz version 2.38.0 (20140413.2041)\n",
       " -->\n",
       "<!-- Title: %3 Pages: 1 -->\n",
       "<svg width=\"134pt\" height=\"44pt\"\n",
       " viewBox=\"0.00 0.00 134.00 44.00\" xmlns=\"http://www.w3.org/2000/svg\" xmlns:xlink=\"http://www.w3.org/1999/xlink\">\n",
       "<g id=\"graph0\" class=\"graph\" transform=\"scale(1 1) rotate(0) translate(4 40)\">\n",
       "<title>%3</title>\n",
       "<polygon fill=\"white\" stroke=\"none\" points=\"-4,4 -4,-40 130,-40 130,4 -4,4\"/>\n",
       "<!-- A -->\n",
       "<g id=\"node1\" class=\"node\"><title>A</title>\n",
       "<ellipse fill=\"none\" stroke=\"black\" cx=\"27\" cy=\"-18\" rx=\"27\" ry=\"18\"/>\n",
       "<text text-anchor=\"middle\" x=\"27\" y=\"-13.8\" font-family=\"Times,serif\" font-size=\"14.00\">A</text>\n",
       "</g>\n",
       "<!-- B -->\n",
       "<g id=\"node2\" class=\"node\"><title>B</title>\n",
       "<ellipse fill=\"none\" stroke=\"black\" cx=\"99\" cy=\"-18\" rx=\"27\" ry=\"18\"/>\n",
       "<text text-anchor=\"middle\" x=\"99\" y=\"-13.8\" font-family=\"Times,serif\" font-size=\"14.00\">B</text>\n",
       "</g>\n",
       "</g>\n",
       "</svg>\n"
      ],
      "text/plain": [
       "<graphviz.files.Source at 0x1089348d0>"
      ]
     },
     "execution_count": 30,
     "metadata": {},
     "output_type": "execute_result"
    },
    {
     "data": {
      "text/html": [
       "<?xml version=\"1.0\" encoding=\"UTF-8\" standalone=\"no\"?>\n",
       "&lt;!DOCTYPE svg PUBLIC “-//W3C//DTD SVG 1.1//EN” “http://www.w3.org/Graphics/SVG/1.1/DTD/svg11.dtd”&gt; <!-- Generated by graphviz version 2.38.0 (20140413.2041)\n",
       " --> <!-- Title: %3 Pages: 1 --> <svg width=\"134pt\" height=\"44pt\"\n",
       " viewBox=\"0.00 0.00 134.00 44.00\" xmlns=\"http://www.w3.org/2000/svg\" xmlns:xlink=\"http://www.w3.org/1999/xlink\"> <g id=\"graph0\" class=\"graph\" transform=\"scale(1 1) rotate(0) translate(4 40)\">\n",
       "<title>\n",
       "%3\n",
       "</title>\n",
       "<polygon fill=\"white\" stroke=\"none\" points=\"-4,4 -4,-40 130,-40 130,4 -4,4\"/> <!-- C --> <g id=\"node1\" class=\"node\">\n",
       "<title>\n",
       "C\n",
       "</title>\n",
       "<ellipse fill=\"none\" stroke=\"black\" cx=\"27\" cy=\"-18\" rx=\"27\" ry=\"18\"/> <text text-anchor=\"middle\" x=\"27\" y=\"-13.8\" font-family=\"Times,serif\" font-size=\"14.00\">C</text> </g> <!-- D --> <g id=\"node2\" class=\"node\">\n",
       "<title>\n",
       "D\n",
       "</title>\n",
       "<p><ellipse fill=\"none\" stroke=\"black\" cx=\"99\" cy=\"-18\" rx=\"27\" ry=\"18\"/> <text text-anchor=\"middle\" x=\"99\" y=\"-13.8\" font-family=\"Times,serif\" font-size=\"14.00\">D</text> </g> </g> </svg></p>\n",
       "<pre class=\"ipython\"><code>;graph {A B}</code></pre>\n"
      ],
      "text/plain": [
       "{{ \"{C D}\" | graph }}\n",
       "    \n",
       "    \n",
       "    ;graph {A B}"
      ]
     },
     "metadata": {},
     "output_type": "display_data"
    }
   ],
   "source": [
    "{{ \"{C D}\" | graph }}\n",
    "    \n",
    "    \n",
    "    ;graph {A B}"
   ]
  },
  {
   "cell_type": "code",
   "execution_count": 31,
   "metadata": {},
   "outputs": [
    {
     "data": {
      "text/html": [
       "<pre class=\"ipython\"><code>import sympy.abc\n",
       "sympy.init_printing()</code></pre>\n"
      ],
      "text/plain": [
       "    import sympy.abc\n",
       "    sympy.init_printing()"
      ]
     },
     "metadata": {},
     "output_type": "display_data"
    }
   ],
   "source": [
    "    import sympy.abc\n",
    "    sympy.init_printing()"
   ]
  },
  {
   "cell_type": "code",
   "execution_count": 32,
   "metadata": {},
   "outputs": [
    {
     "data": {
      "text/html": [
       "<pre class=\"ipython\"><code>&gt;&gt;&gt; shell.display_formatter.active_types\n",
       "[&#39;text/plain&#39;, &#39;text/html&#39;, &#39;text/markdown&#39;, &#39;image/svg+xml&#39;, &#39;image/png&#39;, &#39;application/pdf&#39;, &#39;image/jpeg&#39;, &#39;text/latex&#39;, &#39;application/json&#39;, &#39;application/javascript&#39;]</code></pre>\n"
      ],
      "text/plain": [
       "    >>> shell.display_formatter.active_types\n",
       "    ['text/plain', 'text/html', 'text/markdown', 'image/svg+xml', 'image/png', 'application/pdf', 'image/jpeg', 'text/latex', 'application/json', 'application/javascript']"
      ]
     },
     "metadata": {},
     "output_type": "display_data"
    }
   ],
   "source": [
    "    >>> shell.display_formatter.active_types\n",
    "    ['text/plain', 'text/html', 'text/markdown', 'image/svg+xml', 'image/png', 'application/pdf', 'image/jpeg', 'text/latex', 'application/json', 'application/javascript']"
   ]
  },
  {
   "cell_type": "code",
   "execution_count": 33,
   "metadata": {},
   "outputs": [
    {
     "data": {
      "image/png": "[encoded data removed]",
      "text/latex": [
       "$$\\int x\\, dx$$"
      ],
      "text/plain": [
       "⌠     \n",
       "⎮ x dx\n",
       "⌡     "
      ]
     },
     "execution_count": 33,
     "metadata": {},
     "output_type": "execute_result"
    },
    {
     "data": {
      "text/html": [
       "<p><span class=\"math inline\">∫<sub> − 10</sub><sup>10</sup><em>x</em><sup>2</sup> <em>d</em><em>x</em></span></p>\n",
       "<p><img src=\"data:image/png;base64,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\"/></p>\n",
       "<pre class=\"ipython\"><code>e=2\n",
       "sympy.Integral(sympy.abc.x)</code></pre>\n"
      ],
      "text/plain": [
       "{{sympy.Integral(sympy.abc.x**e, (sympy.abc.x, -10, 10))}}\n",
       "\n",
       "{{sympy.plot(sympy.abc.x**e, (sympy.abc.x, -10, 10))}}\n",
       "\n",
       "    e=2\n",
       "    sympy.Integral(sympy.abc.x)"
      ]
     },
     "metadata": {},
     "output_type": "display_data"
    }
   ],
   "source": [
    "{{sympy.Integral(sympy.abc.x**e, (sympy.abc.x, -10, 10))}}\n",
    "\n",
    "{{sympy.plot(sympy.abc.x**e, (sympy.abc.x, -10, 10))}}\n",
    "\n",
    "    e=2\n",
    "    sympy.Integral(sympy.abc.x)"
   ]
  },
  {
   "cell_type": "code",
   "execution_count": 34,
   "metadata": {},
   "outputs": [
    {
     "data": {
      "text/html": [
       "<p><span class=\"math inline\">4.5</span> and <span class=\"math inline\">3.0276503540974917</span></p>\n",
       "<div>\n",
       "<style scoped>\n",
       "    .dataframe tbody tr th:only-of-type {\n",
       "        vertical-align: middle;\n",
       "    }\n",
       "\n",
       "    .dataframe tbody tr th {\n",
       "        vertical-align: top;\n",
       "    }\n",
       "\n",
       "    .dataframe thead th {\n",
       "        text-align: right;\n",
       "    }\n",
       "</style>\n",
       "<table border=\"1\" class=\"dataframe\">\n",
       "<thead>\n",
       "<tr style=\"text-align: right;\">\n",
       "<th>\n",
       "</th>\n",
       "<th>\n",
       "0\n",
       "</th>\n",
       "<th>\n",
       "1\n",
       "</th>\n",
       "<th>\n",
       "2\n",
       "</th>\n",
       "<th>\n",
       "3\n",
       "</th>\n",
       "<th>\n",
       "4\n",
       "</th>\n",
       "<th>\n",
       "5\n",
       "</th>\n",
       "<th>\n",
       "6\n",
       "</th>\n",
       "<th>\n",
       "7\n",
       "</th>\n",
       "<th>\n",
       "8\n",
       "</th>\n",
       "<th>\n",
       "9\n",
       "</th>\n",
       "</tr>\n",
       "</thead>\n",
       "<tbody>\n",
       "<tr>\n",
       "<th>\n",
       "A\n",
       "</th>\n",
       "<td>\n",
       "0\n",
       "</td>\n",
       "<td>\n",
       "1\n",
       "</td>\n",
       "<td>\n",
       "2\n",
       "</td>\n",
       "<td>\n",
       "3\n",
       "</td>\n",
       "<td>\n",
       "4\n",
       "</td>\n",
       "<td>\n",
       "5\n",
       "</td>\n",
       "<td>\n",
       "6\n",
       "</td>\n",
       "<td>\n",
       "7\n",
       "</td>\n",
       "<td>\n",
       "8\n",
       "</td>\n",
       "<td>\n",
       "9\n",
       "</td>\n",
       "</tr>\n",
       "<tr>\n",
       "<th>\n",
       "B\n",
       "</th>\n",
       "<td>\n",
       "9\n",
       "</td>\n",
       "<td>\n",
       "8\n",
       "</td>\n",
       "<td>\n",
       "7\n",
       "</td>\n",
       "<td>\n",
       "6\n",
       "</td>\n",
       "<td>\n",
       "5\n",
       "</td>\n",
       "<td>\n",
       "4\n",
       "</td>\n",
       "<td>\n",
       "3\n",
       "</td>\n",
       "<td>\n",
       "2\n",
       "</td>\n",
       "<td>\n",
       "1\n",
       "</td>\n",
       "<td>\n",
       "0\n",
       "</td>\n",
       "</tr>\n",
       "</tbody>\n",
       "</table>\n",
       "</div>\n",
       "<div>\n",
       "<style scoped>\n",
       "    .dataframe tbody tr th:only-of-type {\n",
       "        vertical-align: middle;\n",
       "    }\n",
       "\n",
       "    .dataframe tbody tr th {\n",
       "        vertical-align: top;\n",
       "    }\n",
       "\n",
       "    .dataframe thead th {\n",
       "        text-align: right;\n",
       "    }\n",
       "</style>\n",
       "<table border=\"1\" class=\"dataframe\">\n",
       "<thead>\n",
       "<tr style=\"text-align: right;\">\n",
       "<th>\n",
       "</th>\n",
       "<th>\n",
       "count\n",
       "</th>\n",
       "<th>\n",
       "mean\n",
       "</th>\n",
       "<th>\n",
       "std\n",
       "</th>\n",
       "<th>\n",
       "min\n",
       "</th>\n",
       "<th>\n",
       "25%\n",
       "</th>\n",
       "<th>\n",
       "50%\n",
       "</th>\n",
       "<th>\n",
       "75%\n",
       "</th>\n",
       "<th>\n",
       "max\n",
       "</th>\n",
       "</tr>\n",
       "</thead>\n",
       "<tbody>\n",
       "<tr>\n",
       "<th>\n",
       "A\n",
       "</th>\n",
       "<td>\n",
       "10.0\n",
       "</td>\n",
       "<td>\n",
       "4.5\n",
       "</td>\n",
       "<td>\n",
       "3.02765\n",
       "</td>\n",
       "<td>\n",
       "0.0\n",
       "</td>\n",
       "<td>\n",
       "2.25\n",
       "</td>\n",
       "<td>\n",
       "4.5\n",
       "</td>\n",
       "<td>\n",
       "6.75\n",
       "</td>\n",
       "<td>\n",
       "9.0\n",
       "</td>\n",
       "</tr>\n",
       "<tr>\n",
       "<th>\n",
       "B\n",
       "</th>\n",
       "<td>\n",
       "10.0\n",
       "</td>\n",
       "<td>\n",
       "4.5\n",
       "</td>\n",
       "<td>\n",
       "3.02765\n",
       "</td>\n",
       "<td>\n",
       "0.0\n",
       "</td>\n",
       "<td>\n",
       "2.25\n",
       "</td>\n",
       "<td>\n",
       "4.5\n",
       "</td>\n",
       "<td>\n",
       "6.75\n",
       "</td>\n",
       "<td>\n",
       "9.0\n",
       "</td>\n",
       "</tr>\n",
       "</tbody>\n",
       "</table>\n",
       "</div>\n",
       "<p><img src=\"data:image/png;base64,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\"/></p>\n",
       "<pre class=\"ipython\"><code>import pandas\n",
       "df = pandas.DataFrame(list(zip(range(10), reversed(range(10)))), columns=list(&#39;AB&#39;))\n",
       "globals().update(df)</code></pre>\n"
      ],
      "text/plain": [
       "{{A.mean()}} and {{A.std()}}\n",
       "\n",
       "{{df.T}}\n",
       "\n",
       "{{df.describe().T}}\n",
       "\n",
       "{{df.plot(figsize=(3,1))}}\n",
       "    \n",
       "    import pandas\n",
       "    df = pandas.DataFrame(list(zip(range(10), reversed(range(10)))), columns=list('AB'))\n",
       "    globals().update(df)"
      ]
     },
     "metadata": {},
     "output_type": "display_data"
    }
   ],
   "source": [
    "{{A.mean()}} and {{A.std()}}\n",
    "\n",
    "{{df.T}}\n",
    "\n",
    "{{df.describe().T}}\n",
    "\n",
    "{{df.plot(figsize=(3,1))}}\n",
    "    \n",
    "    import pandas\n",
    "    df = pandas.DataFrame(list(zip(range(10), reversed(range(10)))), columns=list('AB'))\n",
    "    globals().update(df)"
   ]
  },
  {
   "cell_type": "code",
   "execution_count": 35,
   "metadata": {},
   "outputs": [
    {
     "data": {
      "text/html": [
       "<pre class=\"ipython\"><code>df = pandas.util.testing.makeDataFrame()</code></pre>\n"
      ],
      "text/plain": [
       "    df = pandas.util.testing.makeDataFrame()"
      ]
     },
     "metadata": {},
     "output_type": "display_data"
    }
   ],
   "source": [
    "    df = pandas.util.testing.makeDataFrame()"
   ]
  },
  {
   "cell_type": "code",
   "execution_count": 36,
   "metadata": {},
   "outputs": [],
   "source": [
    "\n",
    "{{A.mean()}} and {{A.std()}}\n",
    "\n",
    "{{df.T}}\n",
    "\n",
    "{{df.describe().T}}\n",
    "\n",
    "{{df.plot(figsize=(3,1))}}\n",
    "    \n",
    "    import pandas\n",
    "    df = pandas.DataFrame(list(zip(range(10), reversed(range(10)))), columns=list('AB'))\n",
    "    globals().update(df)"
   ]
  }
 ],
 "metadata": {
  "kernelspec": {
   "display_name": "p6",
   "language": "python",
   "name": "other-env"
  },
  "language_info": {
   "codemirror_mode": {
    "name": "ipython",
    "version": 3
   },
   "file_extension": ".py",
   "mimetype": "text/x-python",
   "name": "python",
   "nbconvert_exporter": "python",
   "pygments_lexer": "ipython3",
   "version": "3.6.8"
  }
 },
 "nbformat": 4,
 "nbformat_minor": 4
}
