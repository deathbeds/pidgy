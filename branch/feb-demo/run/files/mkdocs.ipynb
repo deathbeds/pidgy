{
 "cells": [
  {
   "cell_type": "markdown",
   "id": "10d4c856-3056-4323-a19b-81e226393cd2",
   "metadata": {
    "execution": {
     "iopub.execute_input": "2023-02-13T22:39:27.674165Z",
     "iopub.status.busy": "2023-02-13T22:39:27.673812Z",
     "iopub.status.idle": "2023-02-13T22:39:27.679176Z",
     "shell.execute_reply": "2023-02-13T22:39:27.678396Z",
     "shell.execute_reply.started": "2023-02-13T22:39:27.674067Z"
    }
   },
   "source": [
    "# `pidgy` mkdocs extension\n",
    "\n",
    "`pidgy` ships an extension for publishing notebooks with all `mkdocs` rich document features.[^1]\n",
    "\n",
    "\n",
    "[^1]: originally `pidgy` used the useful [`mkdocs-jupyter`][mkdocs-jupyter] for rendering notebooks. this project inspired `pidgy`s extension which moves the `nbconvert` process earlier in the `mkdocs` event cycle; it drops a lot of the form that [`mkdocs-jupyter`][mkdocs-jupyter]  maintains.s\n",
    "\n",
    "[mkdocs-jupyter]: https://github.com/danielfrg/mkdocs-jupyter"
   ]
  },
  {
   "cell_type": "code",
   "execution_count": 14,
   "id": "b57bc390-eed6-4bc3-b449-aee959b2ac1b",
   "metadata": {
    "execution": {
     "iopub.execute_input": "2023-02-13T23:03:02.999089Z",
     "iopub.status.busy": "2023-02-13T23:03:02.998877Z",
     "iopub.status.idle": "2023-02-13T23:03:03.006738Z",
     "shell.execute_reply": "2023-02-13T23:03:03.006285Z",
     "shell.execute_reply.started": "2023-02-13T23:03:02.999067Z"
    },
    "tags": []
   },
   "outputs": [
    {
     "data": {
      "text/markdown": [
       "<div hidden>\n",
       "\n",
       "    \n",
       "    %reload_ext pidgy\n",
       "\n",
       "</div>"
      ],
      "text/plain": [
       "<IPython.core.display.Markdown object>"
      ]
     },
     "metadata": {},
     "output_type": "display_data"
    }
   ],
   "source": [
    "    \n",
    "    %reload_ext pidgy"
   ]
  },
  {
   "cell_type": "markdown",
   "id": "3ca9ba10-6833-4d89-ae4f-32978083373d",
   "metadata": {},
   "source": [
    "the extension exists to get the best out of notebooks and `mkdocs`.\n",
    "it using standard `jupyter` machinery to converts to markdown documents that `mkdocs` can consume."
   ]
  },
  {
   "cell_type": "markdown",
   "id": "8e7cf0ae-22aa-4be3-8c72-05e2148ab69a",
   "metadata": {},
   "source": [
    "## notebook metadata\n",
    "\n",
    "currently, we do nothing with notebook metadata, but ideas are welcome. one idea would be to run execute notebooks."
   ]
  },
  {
   "cell_type": "code",
   "execution_count": 8,
   "id": "7fa28f9d-2cd4-4cf5-a94b-9dd16106dd06",
   "metadata": {
    "execution": {
     "iopub.execute_input": "2023-02-13T23:00:06.227170Z",
     "iopub.status.busy": "2023-02-13T23:00:06.226955Z",
     "iopub.status.idle": "2023-02-13T23:00:06.231656Z",
     "shell.execute_reply": "2023-02-13T23:00:06.231336Z",
     "shell.execute_reply.started": "2023-02-13T23:00:06.227150Z"
    },
    "tags": []
   },
   "outputs": [
    {
     "data": {
      "text/markdown": [
       "## jupyter displays\n",
       "\n",
       "`pidgy` wants you to have all the tools you need to write and build applications. when you the load the `pidgy` extension you have access to user interfaces in `IPython.display` and `ipywidgets` to get you started."
      ],
      "text/plain": [
       "<IPython.core.display.Markdown object>"
      ]
     },
     "metadata": {},
     "output_type": "display_data"
    }
   ],
   "source": [
    "## jupyter displays\n",
    "\n",
    "`pidgy` wants you to have all the tools you need to write and build applications. when you the load the `pidgy` extension you have access to user interfaces in `IPython.display` and `ipywidgets` to get you started."
   ]
  },
  {
   "cell_type": "code",
   "execution_count": 9,
   "id": "50a0ec82-da2c-4582-aaf5-0c920aa8c59d",
   "metadata": {
    "execution": {
     "iopub.execute_input": "2023-02-13T23:00:06.411916Z",
     "iopub.status.busy": "2023-02-13T23:00:06.411751Z",
     "iopub.status.idle": "2023-02-13T23:00:06.416003Z",
     "shell.execute_reply": "2023-02-13T23:00:06.415672Z",
     "shell.execute_reply.started": "2023-02-13T23:00:06.411899Z"
    },
    "tags": []
   },
   "outputs": [
    {
     "data": {
      "text/markdown": [
       "### jupyter widgets\n",
       "\n",
       "jupyter widgets are included in the display, but that are not interactive. they can be used interactively in jupyter lite."
      ],
      "text/plain": [
       "<IPython.core.display.Markdown object>"
      ]
     },
     "metadata": {},
     "output_type": "display_data"
    }
   ],
   "source": [
    "### jupyter widgets\n",
    "\n",
    "jupyter widgets are included in the display, but that are not interactive. they can be used interactively in jupyter lite."
   ]
  },
  {
   "cell_type": "code",
   "execution_count": 5,
   "id": "270e2619-5673-4a06-b8fe-2c8cb06100b8",
   "metadata": {
    "execution": {
     "iopub.execute_input": "2023-02-13T22:59:44.004022Z",
     "iopub.status.busy": "2023-02-13T22:59:44.003909Z",
     "iopub.status.idle": "2023-02-13T22:59:44.012744Z",
     "shell.execute_reply": "2023-02-13T22:59:44.012501Z",
     "shell.execute_reply.started": "2023-02-13T22:59:44.004009Z"
    },
    "tags": []
   },
   "outputs": [
    {
     "data": {
      "application/vnd.jupyter.widget-view+json": {
       "model_id": "91b340af95e745d2a11a6802ede86345",
       "version_major": 2,
       "version_minor": 0
      },
      "text/plain": [
       "IntSlider(value=10, description='an ipywidgets slider')"
      ]
     },
     "execution_count": 5,
     "metadata": {},
     "output_type": "execute_result"
    },
    {
     "data": {
      "text/markdown": [
       "    IntSlider(10, 0, 100, 1, description=\n",
       "              \n",
       "an ipywidgets slider \n",
       "              \n",
       "    )"
      ],
      "text/plain": [
       "<IPython.core.display.Markdown object>"
      ]
     },
     "metadata": {},
     "output_type": "display_data"
    }
   ],
   "source": [
    "    IntSlider(10, 0, 100, 1, description=\n",
    "              \n",
    "an ipywidgets slider \n",
    "              \n",
    "    )"
   ]
  },
  {
   "cell_type": "code",
   "execution_count": 13,
   "id": "d1b6afd0-4680-4506-91a0-1b215692fd35",
   "metadata": {
    "execution": {
     "iopub.execute_input": "2023-02-13T23:02:55.061444Z",
     "iopub.status.busy": "2023-02-13T23:02:55.061241Z",
     "iopub.status.idle": "2023-02-13T23:02:55.066960Z",
     "shell.execute_reply": "2023-02-13T23:02:55.066655Z",
     "shell.execute_reply.started": "2023-02-13T23:02:55.061423Z"
    }
   },
   "outputs": [
    {
     "data": {
      "text/markdown": [
       "## `pidgy` `mkdocs` mode\n",
       "\n",
       "\n",
       "when `%load_ext pidgy` or `%reload_ext pidgy` is found in a notebook cell, we render the documents in `pidgy` mode.\n",
       "the inputs are hidden and all that is published are the outputs of the document."
      ],
      "text/plain": [
       "<IPython.core.display.Markdown object>"
      ]
     },
     "metadata": {},
     "output_type": "display_data"
    }
   ],
   "source": [
    "## `pidgy` `mkdocs` mode\n",
    "\n",
    "\n",
    "when `%load_ext pidgy` or `%reload_ext pidgy` is found in a notebook cell, we render the documents in `pidgy` mode.\n",
    "the inputs are hidden and all that is published are the outputs of the document."
   ]
  }
 ],
 "metadata": {
  "kernelspec": {
   "display_name": "Python [conda env:root] *",
   "language": "python",
   "name": "conda-root-py"
  },
  "language_info": {
   "codemirror_mode": {
    "name": "ipython",
    "version": 3
   },
   "file_extension": ".py",
   "mimetype": "text/x-python",
   "name": "python",
   "nbconvert_exporter": "python",
   "pygments_lexer": "ipython3",
   "version": "3.9.13"
  },
  "widgets": {
   "application/vnd.jupyter.widget-state+json": {
    "state": {},
    "version_major": 2,
    "version_minor": 0
   }
  }
 },
 "nbformat": 4,
 "nbformat_minor": 5
}
