{
 "cells": [
  {
   "cell_type": "markdown",
   "id": "e1def1ea-809a-4e28-aac0-5480eebb070a",
   "metadata": {},
   "source": [
    "# `pidgy` `IPython` extensions\n",
    "\n",
    "`pidgy` is meant to support you while authoring code. we add some features to the conventional `IPython` shell to improve your experience getting your ideas onto the screen. below we discuss the following features:\n",
    "\n",
    "* `json` positive so you can copy and paste `json` data without a hiccup.\n",
    "* top-level return statement for easier access to displays\n",
    "* merge `sys.modules` with the user namespace\n",
    "\n",
    "by adding names to the user namespace we enrich the interactive completion in the authoring experience."
   ]
  },
  {
   "cell_type": "code",
   "execution_count": 1,
   "id": "357018a8-9b60-4b48-a136-4c3a487fac28",
   "metadata": {},
   "outputs": [],
   "source": [
    "    %reload_ext pidgy.extras"
   ]
  },
  {
   "cell_type": "markdown",
   "id": "4bd776f8-fcad-47fd-af44-087f9d78eedd",
   "metadata": {},
   "source": [
    "## `json` positive\n",
    "\n",
    "by adding `true, false, null` to the built-ins python can accept `json`."
   ]
  },
  {
   "cell_type": "code",
   "execution_count": 2,
   "id": "ece533c3-54da-480e-b38b-90bfca0e965c",
   "metadata": {},
   "outputs": [
    {
     "data": {
      "text/plain": [
       "(True, False, None)"
      ]
     },
     "execution_count": 2,
     "metadata": {},
     "output_type": "execute_result"
    }
   ],
   "source": [
    "    true, false, null"
   ]
  },
  {
   "cell_type": "markdown",
   "id": "577abd70-bdd7-4134-ba01-55b4df3f719f",
   "metadata": {},
   "source": [
    "## top level return\n",
    "\n",
    "top level return statements act as a `print/display` statement"
   ]
  },
  {
   "cell_type": "code",
   "execution_count": 3,
   "id": "f2799e0e-7fef-4c3a-bbcd-20cd0a6b9ebe",
   "metadata": {},
   "outputs": [
    {
     "data": {
      "text/plain": [
       "222"
      ]
     },
     "metadata": {},
     "output_type": "display_data"
    },
    {
     "data": {
      "text/markdown": [
       "__beep__, _beep_"
      ],
      "text/plain": [
       "<IPython.core.display.Markdown object>"
      ]
     },
     "metadata": {},
     "output_type": "display_data"
    }
   ],
   "source": [
    "    return 222, Markdown(\"__beep__, _beep_\")"
   ]
  },
  {
   "cell_type": "markdown",
   "id": "b46253b6-a9f2-48eb-b44f-620da252ed98",
   "metadata": {},
   "source": [
    "## `IPython` displays\n",
    "\n",
    "by default, `pidgy` includes all of `IPython`s default display classes so it is easier to add multimedia to your stories. "
   ]
  },
  {
   "cell_type": "code",
   "execution_count": 4,
   "id": "82cc87f1-faca-423c-9d3d-93cc5d65e853",
   "metadata": {},
   "outputs": [
    {
     "data": {
      "text/plain": [
       "IPython.core.display.HTML"
      ]
     },
     "metadata": {},
     "output_type": "display_data"
    },
    {
     "data": {
      "text/plain": [
       "IPython.core.display.Markdown"
      ]
     },
     "metadata": {},
     "output_type": "display_data"
    },
    {
     "data": {
      "text/plain": [
       "IPython.core.display.Math"
      ]
     },
     "metadata": {},
     "output_type": "display_data"
    },
    {
     "data": {
      "text/plain": [
       "IPython.lib.display.YouTubeVideo"
      ]
     },
     "metadata": {},
     "output_type": "display_data"
    }
   ],
   "source": [
    "    return HTML, Markdown, Math, YouTubeVideo"
   ]
  },
  {
   "cell_type": "markdown",
   "id": "c11de1b2-da92-41f9-b15b-bd84cf24aa12",
   "metadata": {},
   "source": [
    "## Access to `sys.modules`\n",
    "\n",
    "naming is hard they say, but if we have more names, we don't have to think as hard. when working in `IPython` there are quite a few modules imported that would be useful during development. to help you write we've included the `sys.modules` for quick access to tools without the burden of writing imports. we encourage you to add explicit imports later, but let's not get in the way of your flow."
   ]
  },
  {
   "cell_type": "code",
   "execution_count": 5,
   "id": "efa1f704-e01a-440f-97ee-52b3f0e2e0d7",
   "metadata": {},
   "outputs": [
    {
     "data": {
      "text/plain": [
       "<module 'textwrap' from '/home/tbone/mambaforge/lib/python3.9/textwrap.py'>"
      ]
     },
     "metadata": {},
     "output_type": "display_data"
    },
    {
     "data": {
      "text/plain": [
       "<module 'argparse' from '/home/tbone/mambaforge/lib/python3.9/argparse.py'>"
      ]
     },
     "metadata": {},
     "output_type": "display_data"
    },
    {
     "data": {
      "text/plain": [
       "<module 'operator' from '/home/tbone/mambaforge/lib/python3.9/operator.py'>"
      ]
     },
     "metadata": {},
     "output_type": "display_data"
    },
    {
     "data": {
      "text/plain": [
       "<module 'IPython' from '/home/tbone/mambaforge/lib/python3.9/site-packages/IPython/__init__.py'>"
      ]
     },
     "metadata": {},
     "output_type": "display_data"
    },
    {
     "data": {
      "text/plain": [
       "<module 'inspect' from '/home/tbone/mambaforge/lib/python3.9/inspect.py'>"
      ]
     },
     "metadata": {},
     "output_type": "display_data"
    }
   ],
   "source": [
    "    return textwrap, argparse, operator, IPython, inspect # are just some of the things you might find useful."
   ]
  },
  {
   "cell_type": "markdown",
   "id": "4617b684-09d5-4222-86b4-4ee5524e4b1a",
   "metadata": {},
   "source": [
    "## Shebangs\n",
    "\n",
    "we add the ability to execute cells with shebang statements. this feature is included to introduce folks to the\n",
    "concept of shebangs in a modern interface. when they encountered this feature in practice it can be more familiar."
   ]
  },
  {
   "cell_type": "code",
   "execution_count": 6,
   "id": "c5f016a4-95f0-400b-ade8-b7e68f11e0f0",
   "metadata": {},
   "outputs": [
    {
     "name": "stdout",
     "output_type": "stream",
     "text": [
      "I'm a print statement a script with the name: __main__ from ipython-6jy979yyk.py\n"
     ]
    }
   ],
   "source": [
    "    #!/usr/bin/env python\n",
    "    from pathlib import Path\n",
    "    print(F\"I'm a print statement a script with the name: {__name__} from {Path(__file__).name}\")"
   ]
  }
 ],
 "metadata": {
  "kernelspec": {
   "display_name": "Python 3 (ipykernel)",
   "language": "python",
   "name": "python3"
  },
  "language_info": {
   "codemirror_mode": {
    "name": "ipython",
    "version": 3
   },
   "file_extension": ".py",
   "mimetype": "text/x-python",
   "name": "python",
   "nbconvert_exporter": "python",
   "pygments_lexer": "ipython3",
   "version": "3.9.10"
  },
  "vscode": {
   "interpreter": {
    "hash": "fe3da9b82b3647283ed4a64afb514c08b1aa39774194ba3fa7469a9333d7260c"
   }
  }
 },
 "nbformat": 4,
 "nbformat_minor": 5
}
