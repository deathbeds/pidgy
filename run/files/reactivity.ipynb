{
 "cells": [
  {
   "cell_type": "markdown",
   "id": "e1547956-92c7-4a84-b5be-bcdb38962c9d",
   "metadata": {
    "execution": {
     "iopub.execute_input": "2023-02-13T23:36:25.078748Z",
     "iopub.status.busy": "2023-02-13T23:36:25.078570Z",
     "iopub.status.idle": "2023-02-13T23:36:25.081067Z",
     "shell.execute_reply": "2023-02-13T23:36:25.080770Z",
     "shell.execute_reply.started": "2023-02-13T23:36:25.078707Z"
    }
   },
   "source": [
    "# reactivity in pidgy\n",
    "\n",
    "`pidgy` allows authors to include python objects in their markdown using `jinja` templates."
   ]
  },
  {
   "cell_type": "code",
   "execution_count": 1,
   "id": "b44e229e-d368-42ac-a6e8-76aff9869f55",
   "metadata": {
    "execution": {
     "iopub.execute_input": "2023-02-21T20:27:32.657096Z",
     "iopub.status.busy": "2023-02-21T20:27:32.656945Z",
     "iopub.status.idle": "2023-02-21T20:27:33.093836Z",
     "shell.execute_reply": "2023-02-21T20:27:33.093213Z",
     "shell.execute_reply.started": "2023-02-21T20:27:32.657041Z"
    },
    "tags": []
   },
   "outputs": [
    {
     "data": {
      "text/markdown": [
       "<div hidden>\n",
       "\n",
       "    \n",
       "    %reload_ext pidgy\n",
       "\n",
       "</div>"
      ],
      "text/plain": [
       "<IPython.core.display.Markdown object>"
      ]
     },
     "metadata": {},
     "output_type": "display_data"
    }
   ],
   "source": [
    "    \n",
    "    %reload_ext pidgy"
   ]
  },
  {
   "cell_type": "code",
   "execution_count": 2,
   "id": "7a3d8bd9-cf80-47d6-9e2d-614c72d791b7",
   "metadata": {
    "execution": {
     "iopub.execute_input": "2023-02-21T20:27:33.095058Z",
     "iopub.status.busy": "2023-02-21T20:27:33.094894Z",
     "iopub.status.idle": "2023-02-21T20:27:33.137800Z",
     "shell.execute_reply": "2023-02-21T20:27:33.137082Z",
     "shell.execute_reply.started": "2023-02-21T20:27:33.095039Z"
    },
    "tags": []
   },
   "outputs": [
    {
     "data": {
      "text/markdown": [
       "## reactive templates\n",
       "\n",
       "`jinja2` is `pidgy`s preferred template language that allows python objects to be displayed in markdown displays. when templates are used, `pidgy` watches for changes to template variables and will update displays when the values change."
      ],
      "text/plain": [
       "<IPython.core.display.Markdown object>"
      ]
     },
     "metadata": {},
     "output_type": "display_data"
    }
   ],
   "source": [
    "## reactive templates\n",
    "\n",
    "`jinja2` is `pidgy`s preferred template language that allows python objects to be displayed in markdown displays. when templates are used, `pidgy` watches for changes to template variables and will update displays when the values change."
   ]
  },
  {
   "cell_type": "code",
   "execution_count": 3,
   "id": "ab4ee9b2-74f0-4473-9465-500b2b9574c0",
   "metadata": {
    "execution": {
     "iopub.execute_input": "2023-02-21T20:27:33.139281Z",
     "iopub.status.busy": "2023-02-21T20:27:33.138956Z",
     "iopub.status.idle": "2023-02-21T20:27:33.146068Z",
     "shell.execute_reply": "2023-02-21T20:27:33.145628Z",
     "shell.execute_reply.started": "2023-02-21T20:27:33.139255Z"
    },
    "tags": []
   },
   "outputs": [
    {
     "data": {
      "text/markdown": [
       "### modified `IPython` templates\n",
       "\n",
       "`pidgy` features modified `jinja2` templates that can access all the variables in the interactive shell. templates are rendered by the `IPython` display system and converted to their web representation."
      ],
      "text/plain": [
       "<IPython.core.display.Markdown object>"
      ]
     },
     "metadata": {},
     "output_type": "display_data"
    }
   ],
   "source": [
    "### modified `IPython` templates\n",
    "\n",
    "`pidgy` features modified `jinja2` templates that can access all the variables in the interactive shell. templates are rendered by the `IPython` display system and converted to their web representation."
   ]
  },
  {
   "cell_type": "markdown",
   "id": "b8bdddec-2fa5-437b-a2e6-a8f663d48c6d",
   "metadata": {},
   "source": [
    "## working with interactive widgets"
   ]
  },
  {
   "cell_type": "code",
   "execution_count": 5,
   "id": "a9d3712d-7e0c-4dec-b91e-85e45f0bce7b",
   "metadata": {
    "execution": {
     "iopub.execute_input": "2023-02-21T20:27:33.171431Z",
     "iopub.status.busy": "2023-02-21T20:27:33.171254Z",
     "iopub.status.idle": "2023-02-21T20:27:33.182785Z",
     "shell.execute_reply": "2023-02-21T20:27:33.182357Z",
     "shell.execute_reply.started": "2023-02-21T20:27:33.171406Z"
    },
    "tags": []
   },
   "outputs": [
    {
     "data": {
      "text/markdown": [
       "### ipywidgets interop"
      ],
      "text/plain": [
       "<IPython.core.display.Markdown object>"
      ]
     },
     "metadata": {},
     "output_type": "display_data"
    }
   ],
   "source": [
    "### ipywidgets interop"
   ]
  },
  {
   "cell_type": "code",
   "execution_count": 6,
   "id": "9ebe2f5e-3b20-4ea2-baec-d05da1efed3d",
   "metadata": {
    "execution": {
     "iopub.execute_input": "2023-02-21T20:27:33.183686Z",
     "iopub.status.busy": "2023-02-21T20:27:33.183471Z",
     "iopub.status.idle": "2023-02-21T20:27:33.200391Z",
     "shell.execute_reply": "2023-02-21T20:27:33.200030Z",
     "shell.execute_reply.started": "2023-02-21T20:27:33.183657Z"
    },
    "tags": []
   },
   "outputs": [
    {
     "data": {
      "application/vnd.jupyter.widget-view+json": {
       "model_id": "b0c3f274c31a4dbb98d25a0f35fb22af",
       "version_major": 2,
       "version_minor": 0
      },
      "text/plain": [
       "IntSlider(value=3, description='🍪')"
      ]
     },
     "execution_count": 6,
     "metadata": {},
     "output_type": "execute_result"
    },
    {
     "data": {
      "text/markdown": [
       "if you eat 3 then you consume 150 calories.\n",
       "\n",
       "    (cookies := IntSlider(3, description=\"🍪\"))"
      ],
      "text/plain": [
       "<IPython.core.display.Markdown object>"
      ]
     },
     "metadata": {},
     "output_type": "display_data"
    }
   ],
   "source": [
    "if you eat {{cookies.value}} then you consume {{cookies.value * 50}} calories.\n",
    "\n",
    "    (cookies := IntSlider(3, description=\"🍪\"))"
   ]
  },
  {
   "cell_type": "code",
   "execution_count": 7,
   "id": "887160c6-b63a-4f4e-b688-86ccc5900aac",
   "metadata": {
    "execution": {
     "iopub.execute_input": "2023-02-21T20:27:33.225940Z",
     "iopub.status.busy": "2023-02-21T20:27:33.225470Z",
     "iopub.status.idle": "2023-02-21T20:27:33.244163Z",
     "shell.execute_reply": "2023-02-21T20:27:33.243428Z",
     "shell.execute_reply.started": "2023-02-21T20:27:33.225905Z"
    },
    "tags": []
   },
   "outputs": [
    {
     "data": {
      "text/markdown": [
       "#### deploy applications with voila"
      ],
      "text/plain": [
       "<IPython.core.display.Markdown object>"
      ]
     },
     "metadata": {},
     "output_type": "display_data"
    }
   ],
   "source": [
    "#### deploy applications with voila"
   ]
  },
  {
   "cell_type": "code",
   "execution_count": 8,
   "id": "acabcd9a-24b0-4705-93ff-4cb0329ea750",
   "metadata": {
    "execution": {
     "iopub.execute_input": "2023-02-21T20:27:33.245253Z",
     "iopub.status.busy": "2023-02-21T20:27:33.245098Z",
     "iopub.status.idle": "2023-02-21T20:27:33.255376Z",
     "shell.execute_reply": "2023-02-21T20:27:33.254926Z",
     "shell.execute_reply.started": "2023-02-21T20:27:33.245234Z"
    },
    "tags": []
   },
   "outputs": [
    {
     "data": {
      "text/markdown": [
       "### todo panel interop "
      ],
      "text/plain": [
       "<IPython.core.display.Markdown object>"
      ]
     },
     "metadata": {},
     "output_type": "display_data"
    }
   ],
   "source": [
    "### todo panel interop "
   ]
  },
  {
   "cell_type": "code",
   "execution_count": 9,
   "id": "01d563ed-6817-407c-94c8-c1bfba72a4a7",
   "metadata": {
    "execution": {
     "iopub.execute_input": "2023-02-21T20:27:33.256300Z",
     "iopub.status.busy": "2023-02-21T20:27:33.256120Z",
     "iopub.status.idle": "2023-02-21T20:27:33.265290Z",
     "shell.execute_reply": "2023-02-21T20:27:33.264926Z",
     "shell.execute_reply.started": "2023-02-21T20:27:33.256276Z"
    },
    "tags": []
   },
   "outputs": [
    {
     "data": {
      "text/markdown": [
       "## forcing display updates\n",
       "\n",
       "sometimes you may want to execute a loop that forces updates to the ui. the `shell.weave` holds these abilities.\n",
       "\n",
       "    shell.weave.update()"
      ],
      "text/plain": [
       "<IPython.core.display.Markdown object>"
      ]
     },
     "metadata": {},
     "output_type": "display_data"
    }
   ],
   "source": [
    "## forcing display updates\n",
    "\n",
    "sometimes you may want to execute a loop that forces updates to the ui. the `shell.weave` holds these abilities.\n",
    "\n",
    "    shell.weave.update()"
   ]
  },
  {
   "cell_type": "code",
   "execution_count": 10,
   "id": "e9b577df-1e94-4e62-be66-7e24c9acfb06",
   "metadata": {
    "execution": {
     "iopub.execute_input": "2023-02-21T20:27:33.266621Z",
     "iopub.status.busy": "2023-02-21T20:27:33.266293Z",
     "iopub.status.idle": "2023-02-21T20:27:33.292000Z",
     "shell.execute_reply": "2023-02-21T20:27:33.291453Z",
     "shell.execute_reply.started": "2023-02-21T20:27:33.266601Z"
    },
    "tags": []
   },
   "outputs": [
    {
     "data": {
      "text/markdown": [
       "## turn of reactivity\n",
       "\n",
       "reactivity is a feature of the wo ven display and we can turn that feature off.\n",
       "\n",
       "    shell.weave.reactive = False"
      ],
      "text/plain": [
       "<IPython.core.display.Markdown object>"
      ]
     },
     "metadata": {},
     "output_type": "display_data"
    }
   ],
   "source": [
    "## turn of reactivity\n",
    "\n",
    "reactivity is a feature of the wo ven display and we can turn that feature off.\n",
    "\n",
    "    shell.weave.reactive = False"
   ]
  }
 ],
 "metadata": {
  "kernelspec": {
   "display_name": "Python [conda env:root] *",
   "language": "python",
   "name": "conda-root-py"
  },
  "language_info": {
   "codemirror_mode": {
    "name": "ipython",
    "version": 3
   },
   "file_extension": ".py",
   "mimetype": "text/x-python",
   "name": "python",
   "nbconvert_exporter": "python",
   "pygments_lexer": "ipython3",
   "version": "3.9.13"
  },
  "widgets": {
   "application/vnd.jupyter.widget-state+json": {
    "state": {
     "360fb39806e84ec0a2fdd8cf3634497e": {
      "model_module": "@jupyter-widgets/base",
      "model_module_version": "2.0.0",
      "model_name": "LayoutModel",
      "state": {}
     },
     "b0c3f274c31a4dbb98d25a0f35fb22af": {
      "model_module": "@jupyter-widgets/controls",
      "model_module_version": "2.0.0",
      "model_name": "IntSliderModel",
      "state": {
       "behavior": "drag-tap",
       "description": "🍪",
       "layout": "IPY_MODEL_360fb39806e84ec0a2fdd8cf3634497e",
       "style": "IPY_MODEL_fa05ac88f1e346029ecdae5c8312a206",
       "value": 3
      }
     },
     "fa05ac88f1e346029ecdae5c8312a206": {
      "model_module": "@jupyter-widgets/controls",
      "model_module_version": "2.0.0",
      "model_name": "SliderStyleModel",
      "state": {
       "description_width": ""
      }
     }
    },
    "version_major": 2,
    "version_minor": 0
   }
  }
 },
 "nbformat": 4,
 "nbformat_minor": 5
}
