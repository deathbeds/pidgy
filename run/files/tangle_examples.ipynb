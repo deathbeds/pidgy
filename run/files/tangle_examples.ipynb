{
 "cells": [
  {
   "cell_type": "markdown",
   "id": "0e36a4be-dd76-4dca-9bba-210b13499b75",
   "metadata": {},
   "source": [
    "# examples of tangled `pidgy` input\n",
    "\n",
    "this document is used to demonstrate how `pidgy` tangles code (ie translates markdown to python). each cell contains markdown\n",
    "input and the corresponding python code is revealed below.\n",
    "\n",
    "## indented code vs fenced code\n",
    "\n",
    "the commonmark spec has two conventions before code, indented code and fenced code. literate programming languages generally choose on or the other. literate coffeescript prefers indented code while rmarkdown, myst, org-mode rely on code fences.\n",
    "\n",
    "code fences always add markdown semantics at the interface of code and narrative. indented code on the other hand can seamlessly flow between narrative. `pidgy` uses the indented code opinion and creates new affordances for both markdown and python as a single metalanguage."
   ]
  },
  {
   "cell_type": "code",
   "execution_count": 1,
   "id": "effe0a2d-451e-44f9-9c89-8b574a8e1300",
   "metadata": {},
   "outputs": [],
   "source": [
    "try:\n",
    "    import piplite\n",
    "    await piplite.install(\"pidgy\")    \n",
    "except ImportError:\n",
    "    pass"
   ]
  },
  {
   "cell_type": "code",
   "execution_count": 2,
   "id": "fdf4a9da-383c-4d47-961d-4ad6d9d4f9dc",
   "metadata": {},
   "outputs": [],
   "source": [
    "%load_ext pidgy.tangle\n",
    "%unload_ext pidgy.tangle    "
   ]
  },
  {
   "cell_type": "markdown",
   "id": "e0598802-452b-4019-8eb9-c0f23444965e",
   "metadata": {},
   "source": [
    "## markdown as block strings"
   ]
  },
  {
   "cell_type": "markdown",
   "id": "3c3bb839-764c-45cf-a1c3-559c68a28178",
   "metadata": {},
   "source": [
    "a single line of markdown is wrapped in block quotes."
   ]
  },
  {
   "cell_type": "code",
   "execution_count": 3,
   "id": "d19cca77-e2a3-4b8b-a0b4-cdefdfe895f3",
   "metadata": {},
   "outputs": [
    {
     "name": "stdout",
     "output_type": "stream",
     "text": [
      "\"\"\"markdown is just a string; the semi-colon is appended to suppress output.\"\"\";\n",
      "\n"
     ]
    }
   ],
   "source": [
    "%%tangle\n",
    "markdown is just a string; the semi-colon is appended to suppress output."
   ]
  },
  {
   "cell_type": "markdown",
   "id": "9cb8116e-3b61-47b1-858a-716d88722756",
   "metadata": {},
   "source": [
    "markdown blocks, not containing indented code, are block strings."
   ]
  },
  {
   "cell_type": "code",
   "execution_count": 4,
   "id": "ead9dbf0-90f8-431b-aad4-804b8942f7c6",
   "metadata": {},
   "outputs": [
    {
     "name": "stdout",
     "output_type": "stream",
     "text": [
      "\"\"\"`pidgy`s tangle scheme only requires block level parsing of markdown,\n",
      "and all non-indented markdown blocks are represented as strings.\n",
      "this approach breaks convention relative to other markdown-forward literate programming\n",
      "implementations that rely on code fences to indicate executable code.\n",
      "\n",
      "```python\n",
      "print(\\\"in `pidgy`, code fences are ignored.\\\")\n",
      "```\n",
      "\n",
      "what follows is a large python block string\"\"\";\n",
      "\n"
     ]
    }
   ],
   "source": [
    "%%tangle\n",
    "`pidgy`s tangle scheme only requires block level parsing of markdown,\n",
    "and all non-indented markdown blocks are represented as strings.\n",
    "this approach breaks convention relative to other markdown-forward literate programming\n",
    "implementations that rely on code fences to indicate executable code.\n",
    "\n",
    "```python\n",
    "print(\"in `pidgy`, code fences are ignored.\")\n",
    "```\n",
    "\n",
    "what follows is a large python block string"
   ]
  },
  {
   "cell_type": "code",
   "execution_count": 5,
   "id": "03e4b9f5-2372-4293-80df-b6a7e66cae88",
   "metadata": {},
   "outputs": [
    {
     "name": "stdout",
     "output_type": "stream",
     "text": [
      "\"\"\"quotations are \\'\\'escaped\\' for safety\\'\"\"\";\n",
      "\n"
     ]
    }
   ],
   "source": [
    "%%tangle\n",
    "quotations are ''escaped' for safety'"
   ]
  },
  {
   "cell_type": "markdown",
   "id": "d7dd75a0-9aa6-4b52-91d6-fa4357d138ba",
   "metadata": {},
   "source": [
    "## adding `IPython` code"
   ]
  },
  {
   "cell_type": "code",
   "execution_count": 6,
   "id": "df01b22a-ac7e-4e51-ad20-b146686ef44e",
   "metadata": {},
   "outputs": [
    {
     "name": "stdout",
     "output_type": "stream",
     "text": [
      "\"\"\"code is acknowledged the first moment that an indented code block is found like the print expression below.\"\"\"\n",
      "\n",
      "print(\"this is the first line of real code\")    \n",
      "\"\"\"the result is valid python code with the markdown chunks represented as block strings\"\"\";\n",
      "\n"
     ]
    }
   ],
   "source": [
    "%%tangle\n",
    "code is acknowledged the first moment that an indented code block is found like the print expression below.\n",
    "\n",
    "        print(\"this is the first line of real code\")    \n",
    "the result is valid python code with the markdown chunks represented as block strings"
   ]
  },
  {
   "cell_type": "code",
   "execution_count": 7,
   "id": "64460ec5-a632-4b1e-a654-ccaaf65d1b5d",
   "metadata": {},
   "outputs": [
    {
     "name": "stdout",
     "output_type": "stream",
     "text": [
      "\"\"\"line continuations can be used to connection python expressions to the markdown blocks.\"\"\" \n",
      "\n",
      "a_block_of_markdown=\\\n",
      "\\\n",
      "\"\"\"we can explicitly use line continuations to connection indented python to markdown.\n",
      "this block of code will define `a_block_or_markdown`\"\"\";\n",
      "\n"
     ]
    }
   ],
   "source": [
    "%%tangle\n",
    "line continuations can be used to connection python expressions to the markdown blocks. \n",
    "\n",
    "        a_block_of_markdown=\\\n",
    "        \\\n",
    "we can explicitly use line continuations to connection indented python to markdown.\n",
    "this block of code will define `a_block_or_markdown`"
   ]
  },
  {
   "cell_type": "markdown",
   "id": "f28aaabd-9162-4801-95dd-8054b9496b18",
   "metadata": {},
   "source": [
    "another tactic capturing blocks of markdown using parenthesis. in this form, methods\n",
    "can be applied to contents of the parenthesis. parenthesis are needed to combine multiple non-code markdown blocks."
   ]
  },
  {
   "cell_type": "code",
   "execution_count": 8,
   "id": "8f1290d3-002f-421f-9059-e8de247c1ea5",
   "metadata": {},
   "outputs": [
    {
     "name": "stdout",
     "output_type": "stream",
     "text": [
      "parenthesized_markdown_block = (\n",
      "\"\"\"one line\"\"\"\n",
      "\n",
      "    +\n",
      "    \"\"\"another line\"\"\"\n",
      "\n",
      ").upper()\n",
      "\n"
     ]
    }
   ],
   "source": [
    "%%tangle\n",
    "        parenthesized_markdown_block = (\n",
    "one line\n",
    "        \n",
    "            +\n",
    "another line\n",
    "        \n",
    "        ).upper()"
   ]
  },
  {
   "cell_type": "code",
   "execution_count": 9,
   "id": "2dd2d3bf-e6e3-47fb-ae28-bfa13ddaf16e",
   "metadata": {},
   "outputs": [
    {
     "name": "stdout",
     "output_type": "stream",
     "text": [
      "\"\"\"explicit strings, even explicit regular formatted strings, are invoked when the preceding code block ends with triple quotes.\"\"\"\n",
      "\n",
      "explicit_string = rf\"\"\"\n",
      "this markdown string is formatted and stripped.        \n",
      "\n",
      "\"\"\".strip()\n",
      "\n"
     ]
    }
   ],
   "source": [
    "%%tangle\n",
    "explicit strings, even explicit regular formatted strings, are invoked when the preceding code block ends with triple quotes.\n",
    "\n",
    "    explicit_string = rf\"\"\"\n",
    "this markdown string is formatted and stripped.        \n",
    "        \n",
    "    \"\"\".strip()"
   ]
  },
  {
   "cell_type": "markdown",
   "id": "c99585ab-c2b1-4ab6-af0e-7641ac7a3278",
   "metadata": {},
   "source": [
    "## docstrings\n",
    "\n",
    "on of the most convenient affordances of pidgy is the ability to naturally write docstrings in markdown."
   ]
  },
  {
   "cell_type": "code",
   "execution_count": 10,
   "id": "d556aaf6-e54e-4174-a58c-caff7c493b91",
   "metadata": {},
   "outputs": [
    {
     "name": "stdout",
     "output_type": "stream",
     "text": [
      "def my_function():\n",
      "                    \"\"\"`my_function` doesn\\'t do anything!\"\"\"\n",
      "\n",
      "                    return # the position of the first line of code controls the aligned of the quotations\n",
      "\n"
     ]
    }
   ],
   "source": [
    "%%tangle\n",
    "    def my_function():\n",
    "`my_function` doesn't do anything!\n",
    "        \n",
    "                        return # the position of the first line of code controls the aligned of the quotations"
   ]
  },
  {
   "cell_type": "markdown",
   "id": "10fbbed1-75e6-4e98-8bad-47a1014c11a5",
   "metadata": {},
   "source": [
    "classes can be composed with docstrings for the `type` and methods."
   ]
  },
  {
   "cell_type": "code",
   "execution_count": 11,
   "id": "6f7367bd-fb24-4cba-8522-b3eaeb2b6846",
   "metadata": {},
   "outputs": [
    {
     "name": "stdout",
     "output_type": "stream",
     "text": [
      "class MyClass:\n",
      "        \"\"\"this is `MyClass`, i\\'m object oriented!\"\"\"\n",
      "\n",
      "        def my_method(self):\n",
      "                    \"\"\"`MyClass.my_method` has knowledge of self\"\"\"\n",
      "\n",
      "                    pass\n",
      "\n"
     ]
    }
   ],
   "source": [
    "%%tangle\n",
    "    class MyClass:\n",
    "this is `MyClass`, i'm object oriented!\n",
    "\n",
    "            def my_method(self):\n",
    "`MyClass.my_method` has knowledge of self\n",
    "\n",
    "                        pass"
   ]
  },
  {
   "cell_type": "markdown",
   "id": "2970e8ba",
   "metadata": {},
   "source": [
    "\n",
    "## conflicting opinions\n",
    "\n",
    "* magic functions - specific to ipython not python\n",
    "* truncating markdown blocks with null operators `...`, `pass`, `\"\"`, `# comment`\n",
    "* hiding output during the weave step\n",
    "* line continuations\n"
   ]
  }
 ],
 "metadata": {
  "kernelspec": {
   "display_name": "Python 3.9.10 ('base')",
   "language": "python",
   "name": "python3"
  },
  "language_info": {
   "codemirror_mode": {
    "name": "ipython",
    "version": 3
   },
   "file_extension": ".py",
   "mimetype": "text/x-python",
   "name": "python",
   "nbconvert_exporter": "python",
   "pygments_lexer": "ipython3",
   "version": "3.9.10"
  },
  "vscode": {
   "interpreter": {
    "hash": "fe3da9b82b3647283ed4a64afb514c08b1aa39774194ba3fa7469a9333d7260c"
   }
  }
 },
 "nbformat": 4,
 "nbformat_minor": 5
}
