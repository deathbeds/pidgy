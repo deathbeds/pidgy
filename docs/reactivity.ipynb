{
 "cells": [
  {
   "cell_type": "markdown",
   "id": "e1547956-92c7-4a84-b5be-bcdb38962c9d",
   "metadata": {
    "execution": {
     "iopub.execute_input": "2023-02-13T23:36:25.078748Z",
     "iopub.status.busy": "2023-02-13T23:36:25.078570Z",
     "iopub.status.idle": "2023-02-13T23:36:25.081067Z",
     "shell.execute_reply": "2023-02-13T23:36:25.080770Z",
     "shell.execute_reply.started": "2023-02-13T23:36:25.078707Z"
    }
   },
   "source": [
    "# reactivity in pidgy\n",
    "\n",
    "`pidgy` allows authors to include python objects in their markdown using `jinja` templates."
   ]
  },
  {
   "cell_type": "code",
   "execution_count": 1,
   "id": "b44e229e-d368-42ac-a6e8-76aff9869f55",
   "metadata": {
    "execution": {
     "iopub.execute_input": "2023-02-24T02:16:22.745194Z",
     "iopub.status.busy": "2023-02-24T02:16:22.744649Z",
     "iopub.status.idle": "2023-02-24T02:16:22.823519Z",
     "shell.execute_reply": "2023-02-24T02:16:22.823184Z",
     "shell.execute_reply.started": "2023-02-24T02:16:22.745126Z"
    },
    "tags": []
   },
   "outputs": [
    {
     "data": {
      "text/markdown": [
       "<div hidden>\n",
       "\n",
       "    \n",
       "    %reload_ext pidgy\n",
       "\n",
       "</div>"
      ],
      "text/plain": [
       "<IPython.core.display.Markdown object>"
      ]
     },
     "metadata": {},
     "output_type": "display_data"
    }
   ],
   "source": [
    "    \n",
    "    %reload_ext pidgy"
   ]
  },
  {
   "cell_type": "code",
   "execution_count": 2,
   "id": "7a3d8bd9-cf80-47d6-9e2d-614c72d791b7",
   "metadata": {
    "execution": {
     "iopub.execute_input": "2023-02-24T02:16:22.824092Z",
     "iopub.status.busy": "2023-02-24T02:16:22.823957Z",
     "iopub.status.idle": "2023-02-24T02:16:22.835359Z",
     "shell.execute_reply": "2023-02-24T02:16:22.835035Z",
     "shell.execute_reply.started": "2023-02-24T02:16:22.824082Z"
    },
    "tags": []
   },
   "outputs": [
    {
     "data": {
      "text/markdown": [
       "## reactive templates\n",
       "\n",
       "`jinja2` is `pidgy`s preferred template language that allows python objects to be displayed in markdown displays. when templates are used, `pidgy` watches for changes to template variables and will update displays when the values change."
      ],
      "text/plain": [
       "<IPython.core.display.Markdown object>"
      ]
     },
     "metadata": {},
     "output_type": "display_data"
    }
   ],
   "source": [
    "## reactive templates\n",
    "\n",
    "`jinja2` is `pidgy`s preferred template language that allows python objects to be displayed in markdown displays. when templates are used, `pidgy` watches for changes to template variables and will update displays when the values change."
   ]
  },
  {
   "cell_type": "code",
   "execution_count": 3,
   "id": "ab4ee9b2-74f0-4473-9465-500b2b9574c0",
   "metadata": {
    "execution": {
     "iopub.execute_input": "2023-02-24T02:16:22.835958Z",
     "iopub.status.busy": "2023-02-24T02:16:22.835768Z",
     "iopub.status.idle": "2023-02-24T02:16:22.839364Z",
     "shell.execute_reply": "2023-02-24T02:16:22.839053Z",
     "shell.execute_reply.started": "2023-02-24T02:16:22.835948Z"
    },
    "tags": []
   },
   "outputs": [
    {
     "data": {
      "text/markdown": [
       "### modified `IPython` templates\n",
       "\n",
       "`pidgy` features modified `jinja2` templates that can access all the variables in the interactive shell. templates are rendered by the `IPython` display system and converted to their web representation."
      ],
      "text/plain": [
       "<IPython.core.display.Markdown object>"
      ]
     },
     "metadata": {},
     "output_type": "display_data"
    }
   ],
   "source": [
    "### modified `IPython` templates\n",
    "\n",
    "`pidgy` features modified `jinja2` templates that can access all the variables in the interactive shell. templates are rendered by the `IPython` display system and converted to their web representation."
   ]
  },
  {
   "cell_type": "markdown",
   "id": "b8bdddec-2fa5-437b-a2e6-a8f663d48c6d",
   "metadata": {},
   "source": [
    "## working with interactive widgets"
   ]
  },
  {
   "cell_type": "code",
   "execution_count": 4,
   "id": "a9d3712d-7e0c-4dec-b91e-85e45f0bce7b",
   "metadata": {
    "execution": {
     "iopub.execute_input": "2023-02-24T02:16:22.841917Z",
     "iopub.status.busy": "2023-02-24T02:16:22.841717Z",
     "iopub.status.idle": "2023-02-24T02:16:22.845077Z",
     "shell.execute_reply": "2023-02-24T02:16:22.844699Z",
     "shell.execute_reply.started": "2023-02-24T02:16:22.841906Z"
    },
    "tags": []
   },
   "outputs": [
    {
     "data": {
      "text/markdown": [
       "### ipywidgets interop"
      ],
      "text/plain": [
       "<IPython.core.display.Markdown object>"
      ]
     },
     "metadata": {},
     "output_type": "display_data"
    }
   ],
   "source": [
    "### ipywidgets interop"
   ]
  },
  {
   "cell_type": "code",
   "execution_count": 5,
   "id": "9ebe2f5e-3b20-4ea2-baec-d05da1efed3d",
   "metadata": {
    "execution": {
     "iopub.execute_input": "2023-02-24T02:16:22.845628Z",
     "iopub.status.busy": "2023-02-24T02:16:22.845485Z",
     "iopub.status.idle": "2023-02-24T02:16:22.851573Z",
     "shell.execute_reply": "2023-02-24T02:16:22.851239Z",
     "shell.execute_reply.started": "2023-02-24T02:16:22.845617Z"
    },
    "tags": []
   },
   "outputs": [
    {
     "data": {
      "application/vnd.jupyter.widget-view+json": {
       "model_id": "d6761ebb60fa467aae32df9402a132df",
       "version_major": 2,
       "version_minor": 0
      },
      "text/plain": [
       "IntSlider(value=3, description='🍪')"
      ]
     },
     "metadata": {},
     "output_type": "display_data"
    },
    {
     "data": {
      "text/markdown": [
       "if you eat 3 then you consume 150 calories.\n",
       "\n",
       "    (cookies := IntSlider(3, description=\"🍪\"))"
      ],
      "text/plain": [
       "<IPython.core.display.Markdown object>"
      ]
     },
     "metadata": {},
     "output_type": "display_data"
    }
   ],
   "source": [
    "if you eat {{cookies.value}} then you consume {{cookies.value * 50}} calories.\n",
    "\n",
    "    (cookies := IntSlider(3, description=\"🍪\"))"
   ]
  },
  {
   "cell_type": "code",
   "execution_count": 6,
   "id": "887160c6-b63a-4f4e-b688-86ccc5900aac",
   "metadata": {
    "execution": {
     "iopub.execute_input": "2023-02-24T02:16:22.852111Z",
     "iopub.status.busy": "2023-02-24T02:16:22.851991Z",
     "iopub.status.idle": "2023-02-24T02:16:22.855864Z",
     "shell.execute_reply": "2023-02-24T02:16:22.855450Z",
     "shell.execute_reply.started": "2023-02-24T02:16:22.852100Z"
    },
    "tags": []
   },
   "outputs": [
    {
     "data": {
      "text/markdown": [
       "#### deploy applications with voila"
      ],
      "text/plain": [
       "<IPython.core.display.Markdown object>"
      ]
     },
     "metadata": {},
     "output_type": "display_data"
    }
   ],
   "source": [
    "#### deploy applications with voila"
   ]
  },
  {
   "cell_type": "code",
   "execution_count": 7,
   "id": "acabcd9a-24b0-4705-93ff-4cb0329ea750",
   "metadata": {
    "execution": {
     "iopub.execute_input": "2023-02-24T02:16:22.856554Z",
     "iopub.status.busy": "2023-02-24T02:16:22.856309Z",
     "iopub.status.idle": "2023-02-24T02:16:22.860325Z",
     "shell.execute_reply": "2023-02-24T02:16:22.859821Z",
     "shell.execute_reply.started": "2023-02-24T02:16:22.856542Z"
    },
    "tags": []
   },
   "outputs": [
    {
     "data": {
      "text/markdown": [
       "### todo panel interop "
      ],
      "text/plain": [
       "<IPython.core.display.Markdown object>"
      ]
     },
     "metadata": {},
     "output_type": "display_data"
    }
   ],
   "source": [
    "### todo panel interop "
   ]
  },
  {
   "cell_type": "code",
   "execution_count": 8,
   "id": "01d563ed-6817-407c-94c8-c1bfba72a4a7",
   "metadata": {
    "execution": {
     "iopub.execute_input": "2023-02-24T02:16:22.861732Z",
     "iopub.status.busy": "2023-02-24T02:16:22.861604Z",
     "iopub.status.idle": "2023-02-24T02:16:22.866906Z",
     "shell.execute_reply": "2023-02-24T02:16:22.866380Z",
     "shell.execute_reply.started": "2023-02-24T02:16:22.861720Z"
    },
    "tags": []
   },
   "outputs": [
    {
     "data": {
      "text/markdown": [
       "## forcing display updates\n",
       "\n",
       "sometimes you may want to execute a loop that forces updates to the ui. the `shell.weave` holds these abilities.\n",
       "\n",
       "    shell.weave.update()"
      ],
      "text/plain": [
       "<IPython.core.display.Markdown object>"
      ]
     },
     "metadata": {},
     "output_type": "display_data"
    }
   ],
   "source": [
    "## forcing display updates\n",
    "\n",
    "sometimes you may want to execute a loop that forces updates to the ui. the `shell.weave` holds these abilities.\n",
    "\n",
    "    shell.weave.update()"
   ]
  },
  {
   "cell_type": "code",
   "execution_count": 9,
   "id": "ce577fda-e711-4b0a-9135-f49732e52f64",
   "metadata": {
    "execution": {
     "iopub.execute_input": "2023-02-24T02:16:22.867606Z",
     "iopub.status.busy": "2023-02-24T02:16:22.867470Z",
     "iopub.status.idle": "2023-02-24T02:16:22.871832Z",
     "shell.execute_reply": "2023-02-24T02:16:22.871412Z",
     "shell.execute_reply.started": "2023-02-24T02:16:22.867595Z"
    },
    "tags": []
   },
   "outputs": [
    {
     "data": {
      "text/markdown": [
       "## turn of reactivity\n",
       "\n",
       "reactivity is a feature of the wo ven display and we can turn that feature off.\n",
       "\n",
       "```ipython3\n",
       "    shell.weave.reactive = False\n",
       "```"
      ],
      "text/plain": [
       "<IPython.core.display.Markdown object>"
      ]
     },
     "metadata": {},
     "output_type": "display_data"
    }
   ],
   "source": [
    "## turn of reactivity\n",
    "\n",
    "reactivity is a feature of the wo ven display and we can turn that feature off.\n",
    "\n",
    "```ipython3\n",
    "    shell.weave.reactive = False\n",
    "```"
   ]
  }
 ],
 "metadata": {
  "kernelspec": {
   "display_name": "Python [conda env:root] *",
   "language": "python",
   "name": "conda-root-py"
  },
  "language_info": {
   "codemirror_mode": {
    "name": "ipython",
    "version": 3
   },
   "file_extension": ".py",
   "mimetype": "text/x-python",
   "name": "python",
   "nbconvert_exporter": "python",
   "pygments_lexer": "ipython3",
   "version": "3.10.9"
  },
  "widgets": {
   "application/vnd.jupyter.widget-state+json": {
    "state": {
     "1b547c742dfa431186d2873eadba0939": {
      "model_module": "@jupyter-widgets/base",
      "model_module_version": "1.2.0",
      "model_name": "LayoutModel",
      "state": {}
     },
     "5ae8f92a727942e5a92801cf636d87e2": {
      "model_module": "@jupyter-widgets/controls",
      "model_module_version": "1.5.0",
      "model_name": "SliderStyleModel",
      "state": {
       "description_width": ""
      }
     },
     "d6761ebb60fa467aae32df9402a132df": {
      "model_module": "@jupyter-widgets/controls",
      "model_module_version": "1.5.0",
      "model_name": "IntSliderModel",
      "state": {
       "description": "🍪",
       "layout": "IPY_MODEL_1b547c742dfa431186d2873eadba0939",
       "style": "IPY_MODEL_5ae8f92a727942e5a92801cf636d87e2",
       "value": 3
      }
     }
    },
    "version_major": 2,
    "version_minor": 0
   }
  }
 },
 "nbformat": 4,
 "nbformat_minor": 5
}
