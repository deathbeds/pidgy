{
 "cells": [
  {
   "cell_type": "markdown",
   "id": "e1547956-92c7-4a84-b5be-bcdb38962c9d",
   "metadata": {
    "execution": {
     "iopub.execute_input": "2023-02-13T23:36:25.078748Z",
     "iopub.status.busy": "2023-02-13T23:36:25.078570Z",
     "iopub.status.idle": "2023-02-13T23:36:25.081067Z",
     "shell.execute_reply": "2023-02-13T23:36:25.080770Z",
     "shell.execute_reply.started": "2023-02-13T23:36:25.078707Z"
    }
   },
   "source": [
    "# reactivity in pidgy\n",
    "\n",
    "`pidgy` allows authors to include python objects in their markdown using `jinja` templates."
   ]
  },
  {
   "cell_type": "code",
   "execution_count": 1,
   "id": "b44e229e-d368-42ac-a6e8-76aff9869f55",
   "metadata": {
    "execution": {
     "iopub.execute_input": "2023-02-14T03:01:48.065136Z",
     "iopub.status.busy": "2023-02-14T03:01:48.064999Z",
     "iopub.status.idle": "2023-02-14T03:01:48.150604Z",
     "shell.execute_reply": "2023-02-14T03:01:48.150373Z",
     "shell.execute_reply.started": "2023-02-14T03:01:48.065088Z"
    },
    "tags": []
   },
   "outputs": [
    {
     "data": {
      "text/markdown": [
       "<div hidden>\n",
       "\n",
       "    \n",
       "    %reload_ext pidgy\n",
       "\n",
       "</div>"
      ],
      "text/plain": [
       "<IPython.core.display.Markdown object>"
      ]
     },
     "metadata": {},
     "output_type": "display_data"
    }
   ],
   "source": [
    "    \n",
    "    %reload_ext pidgy"
   ]
  },
  {
   "cell_type": "code",
   "execution_count": 2,
   "id": "7a3d8bd9-cf80-47d6-9e2d-614c72d791b7",
   "metadata": {
    "execution": {
     "iopub.execute_input": "2023-02-14T03:01:48.151344Z",
     "iopub.status.busy": "2023-02-14T03:01:48.151228Z",
     "iopub.status.idle": "2023-02-14T03:01:48.161312Z",
     "shell.execute_reply": "2023-02-14T03:01:48.161102Z",
     "shell.execute_reply.started": "2023-02-14T03:01:48.151333Z"
    },
    "tags": []
   },
   "outputs": [
    {
     "data": {
      "text/markdown": [
       "## reactive templates\n",
       "\n",
       "`jinja2` is `pidgy`s preferred template language that allows python objects to be displayed in markdown displays."
      ],
      "text/plain": [
       "<IPython.core.display.Markdown object>"
      ]
     },
     "metadata": {},
     "output_type": "display_data"
    }
   ],
   "source": [
    "## reactive templates\n",
    "\n",
    "`jinja2` is `pidgy`s preferred template language that allows python objects to be displayed in markdown displays."
   ]
  },
  {
   "cell_type": "code",
   "execution_count": 3,
   "id": "ab4ee9b2-74f0-4473-9465-500b2b9574c0",
   "metadata": {
    "execution": {
     "iopub.execute_input": "2023-02-14T03:01:48.161761Z",
     "iopub.status.busy": "2023-02-14T03:01:48.161686Z",
     "iopub.status.idle": "2023-02-14T03:01:48.165234Z",
     "shell.execute_reply": "2023-02-14T03:01:48.164909Z",
     "shell.execute_reply.started": "2023-02-14T03:01:48.161752Z"
    },
    "tags": []
   },
   "outputs": [
    {
     "data": {
      "text/markdown": [
       "### modified `IPython` templates\n",
       "\n",
       "`pidgy` features modified `jinja2` templates that can access all the variables in the interactive shell. templates are rendered by the `IPython` display system and converted to their web representation."
      ],
      "text/plain": [
       "<IPython.core.display.Markdown object>"
      ]
     },
     "metadata": {},
     "output_type": "display_data"
    }
   ],
   "source": [
    "### modified `IPython` templates\n",
    "\n",
    "`pidgy` features modified `jinja2` templates that can access all the variables in the interactive shell. templates are rendered by the `IPython` display system and converted to their web representation."
   ]
  },
  {
   "cell_type": "markdown",
   "id": "b8bdddec-2fa5-437b-a2e6-a8f663d48c6d",
   "metadata": {},
   "source": [
    "## working with interactive widgets"
   ]
  },
  {
   "cell_type": "code",
   "execution_count": 4,
   "id": "a9d3712d-7e0c-4dec-b91e-85e45f0bce7b",
   "metadata": {
    "execution": {
     "iopub.execute_input": "2023-02-14T03:01:48.165882Z",
     "iopub.status.busy": "2023-02-14T03:01:48.165766Z",
     "iopub.status.idle": "2023-02-14T03:01:48.169170Z",
     "shell.execute_reply": "2023-02-14T03:01:48.168881Z",
     "shell.execute_reply.started": "2023-02-14T03:01:48.165867Z"
    },
    "tags": []
   },
   "outputs": [
    {
     "data": {
      "text/markdown": [
       "### ipywidgets interop"
      ],
      "text/plain": [
       "<IPython.core.display.Markdown object>"
      ]
     },
     "metadata": {},
     "output_type": "display_data"
    }
   ],
   "source": [
    "### ipywidgets interop"
   ]
  },
  {
   "cell_type": "code",
   "execution_count": 5,
   "id": "9ebe2f5e-3b20-4ea2-baec-d05da1efed3d",
   "metadata": {
    "execution": {
     "iopub.execute_input": "2023-02-14T03:01:48.169859Z",
     "iopub.status.busy": "2023-02-14T03:01:48.169740Z",
     "iopub.status.idle": "2023-02-14T03:01:48.182732Z",
     "shell.execute_reply": "2023-02-14T03:01:48.182438Z",
     "shell.execute_reply.started": "2023-02-14T03:01:48.169844Z"
    },
    "tags": []
   },
   "outputs": [
    {
     "data": {
      "application/vnd.jupyter.widget-view+json": {
       "model_id": "4ae70d61be464472820f2f07bb3fe4c1",
       "version_major": 2,
       "version_minor": 0
      },
      "text/plain": [
       "IntSlider(value=3, description='🍪')"
      ]
     },
     "execution_count": 5,
     "metadata": {},
     "output_type": "execute_result"
    },
    {
     "data": {
      "text/markdown": [
       "if you eat 3 then you consume 150 calories.\n",
       "\n",
       "    (cookies := IntSlider(3, description=\"🍪\"))"
      ],
      "text/plain": [
       "<IPython.core.display.Markdown object>"
      ]
     },
     "metadata": {},
     "output_type": "display_data"
    }
   ],
   "source": [
    "if you eat {{cookies.value}} then you consume {{cookies.value * 50}} calories.\n",
    "\n",
    "    (cookies := IntSlider(3, description=\"🍪\"))"
   ]
  },
  {
   "cell_type": "code",
   "execution_count": 6,
   "id": "acabcd9a-24b0-4705-93ff-4cb0329ea750",
   "metadata": {
    "execution": {
     "iopub.execute_input": "2023-02-14T03:01:48.183241Z",
     "iopub.status.busy": "2023-02-14T03:01:48.183160Z",
     "iopub.status.idle": "2023-02-14T03:01:48.187374Z",
     "shell.execute_reply": "2023-02-14T03:01:48.187040Z",
     "shell.execute_reply.started": "2023-02-14T03:01:48.183231Z"
    },
    "tags": []
   },
   "outputs": [
    {
     "data": {
      "text/markdown": [
       "### todo panel interop "
      ],
      "text/plain": [
       "<IPython.core.display.Markdown object>"
      ]
     },
     "metadata": {},
     "output_type": "display_data"
    }
   ],
   "source": [
    "### todo panel interop "
   ]
  },
  {
   "cell_type": "code",
   "execution_count": 7,
   "id": "01d563ed-6817-407c-94c8-c1bfba72a4a7",
   "metadata": {
    "execution": {
     "iopub.execute_input": "2023-02-14T03:01:48.192265Z",
     "iopub.status.busy": "2023-02-14T03:01:48.192180Z",
     "iopub.status.idle": "2023-02-14T03:01:48.196220Z",
     "shell.execute_reply": "2023-02-14T03:01:48.195864Z",
     "shell.execute_reply.started": "2023-02-14T03:01:48.192254Z"
    },
    "tags": []
   },
   "outputs": [
    {
     "data": {
      "text/markdown": [
       "## forcing display updates\n",
       "\n",
       "sometimes you may want to execute a loop that forces updates to the ui. the `shell.weave` holds these abilities.\n",
       "\n",
       "    shell.weave.update()"
      ],
      "text/plain": [
       "<IPython.core.display.Markdown object>"
      ]
     },
     "metadata": {},
     "output_type": "display_data"
    }
   ],
   "source": [
    "## forcing display updates\n",
    "\n",
    "sometimes you may want to execute a loop that forces updates to the ui. the `shell.weave` holds these abilities.\n",
    "\n",
    "    shell.weave.update()"
   ]
  }
 ],
 "metadata": {
  "kernelspec": {
   "display_name": "Python [conda env:root] *",
   "language": "python",
   "name": "conda-root-py"
  },
  "language_info": {
   "codemirror_mode": {
    "name": "ipython",
    "version": 3
   },
   "file_extension": ".py",
   "mimetype": "text/x-python",
   "name": "python",
   "nbconvert_exporter": "python",
   "pygments_lexer": "ipython3",
   "version": "3.9.13"
  },
  "widgets": {
   "application/vnd.jupyter.widget-state+json": {
    "state": {
     "4791d9210382474786e1634c99af07c3": {
      "model_module": "@jupyter-widgets/base",
      "model_module_version": "2.0.0",
      "model_name": "LayoutModel",
      "state": {}
     },
     "4ae70d61be464472820f2f07bb3fe4c1": {
      "model_module": "@jupyter-widgets/controls",
      "model_module_version": "2.0.0",
      "model_name": "IntSliderModel",
      "state": {
       "behavior": "drag-tap",
       "description": "🍪",
       "layout": "IPY_MODEL_4791d9210382474786e1634c99af07c3",
       "style": "IPY_MODEL_9964c5ff41054dc8ab01bf6d18264351",
       "value": 3
      }
     },
     "9964c5ff41054dc8ab01bf6d18264351": {
      "model_module": "@jupyter-widgets/controls",
      "model_module_version": "2.0.0",
      "model_name": "SliderStyleModel",
      "state": {
       "description_width": ""
      }
     }
    },
    "version_major": 2,
    "version_minor": 0
   }
  }
 },
 "nbformat": 4,
 "nbformat_minor": 5
}
