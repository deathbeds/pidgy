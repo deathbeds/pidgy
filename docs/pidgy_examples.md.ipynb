{
 "cells": [
  {
   "cell_type": "markdown",
   "id": "23e87272-fda2-4a91-94e5-1e18acb9d21d",
   "metadata": {},
   "source": [
    "# `pidgy` examples\n",
    "\n",
    "this notebook demonstrates pidgy syntax. we begin by initializing the `pidgy` extension. \n",
    "_it is possible to use a `pidgy` kernel instead of the extension, but for testing purposes we use the extension._"
   ]
  },
  {
   "cell_type": "code",
   "execution_count": 1,
   "id": "060fb6a3",
   "metadata": {},
   "outputs": [],
   "source": [
    "    \n",
    "    \n",
    "    %reload_ext pidgy"
   ]
  },
  {
   "cell_type": "code",
   "execution_count": 2,
   "id": "e96c74d9-3e0d-440f-8530-9ab0cec4835a",
   "metadata": {},
   "outputs": [
    {
     "data": {
      "text/markdown": [
       "<details>\n",
       "    <summary>hidden settings for testing this notebook</summary>    \n",
       "    \n",
       "<p>out of the box, `pidgy` is asynchrous and reactive, but to use this document for testing we have to constrain the execution to synchronous and blocking. </p>\n",
       "\n",
       "    \n",
       "    %matplotlib agg\n",
       "    shell.displays_manager.reactive = False\n",
       "    shell.displays_manager.template_cls = pidgy.weave.IPythonMarkdown\n",
       "    from IPython import get_ipython\n",
       "\n",
       "</details>"
      ],
      "text/plain": [
       "<IPython.core.display.Markdown object>"
      ]
     },
     "metadata": {},
     "output_type": "display_data"
    }
   ],
   "source": [
    "<details>\n",
    "    <summary>hidden settings for testing this notebook</summary>    \n",
    "    \n",
    "<p>out of the box, `pidgy` is asynchrous and reactive, but to use this document for testing we have to constrain the execution to synchronous and blocking. </p>\n",
    "\n",
    "    \n",
    "    %matplotlib agg\n",
    "    shell.displays_manager.reactive = False\n",
    "    shell.displays_manager.template_cls = pidgy.weave.IPythonMarkdown\n",
    "    from IPython import get_ipython\n",
    "\n",
    "</details>"
   ]
  },
  {
   "cell_type": "markdown",
   "id": "97b010e1-c1be-457f-8741-478eab015b43",
   "metadata": {},
   "source": [
    "## an indent can make a big different\n",
    "\n",
    "under normal cirumstances, the following line of code is valid python, but in `pidgy` it is valid markdown and we observe this visually. "
   ]
  },
  {
   "cell_type": "code",
   "execution_count": 3,
   "id": "26b327be",
   "metadata": {},
   "outputs": [
    {
     "data": {
      "text/markdown": [
       "print(\"this is a markdown paragraph\")"
      ],
      "text/plain": [
       "<IPython.core.display.Markdown object>"
      ]
     },
     "metadata": {},
     "output_type": "display_data"
    }
   ],
   "source": [
    "print(\"this is a markdown paragraph\")"
   ]
  },
  {
   "cell_type": "markdown",
   "id": "902e53fb",
   "metadata": {},
   "source": [
    "compare the previous woven display with the following that indents the code. we notice the output in typeset as a monospace font rather than the prior rich typeface."
   ]
  },
  {
   "cell_type": "code",
   "execution_count": 4,
   "id": "26b327be",
   "metadata": {},
   "outputs": [
    {
     "name": "stdout",
     "output_type": "stream",
     "text": [
      "this is an indented code block\n"
     ]
    },
    {
     "data": {
      "text/markdown": [
       "    print(\"this is an indented code block\")"
      ],
      "text/plain": [
       "<IPython.core.display.Markdown object>"
      ]
     },
     "metadata": {},
     "output_type": "display_data"
    }
   ],
   "source": [
    "    print(\"this is an indented code block\")\n"
   ]
  },
  {
   "cell_type": "markdown",
   "id": "158f1e3f-9f5f-4da8-99f5-b5526d96ea7e",
   "metadata": {},
   "source": [
    "that is really all there is to `pidgy`. we must indent the code, as follows, to make sure execution is engaged. indent your code, and tell good stories.\n",
    "\n",
    " indenting code in notebooks is a useful practice, unindented code rendered as markdown appears as rich text and is not canonical. "
   ]
  },
  {
   "cell_type": "markdown",
   "id": "e734aa0a-bb87-4d4a-be47-d7c54cd72439",
   "metadata": {},
   "source": [
    "## suppressing the woven display"
   ]
  },
  {
   "cell_type": "markdown",
   "id": "ab43e6ab-a8fb-4294-9975-d3733526a9a8",
   "metadata": {},
   "source": [
    "begin a cell with a single empty line to suppress a display. the following code is execute but"
   ]
  },
  {
   "cell_type": "code",
   "execution_count": 5,
   "id": "288ae51e",
   "metadata": {},
   "outputs": [
    {
     "name": "stdout",
     "output_type": "stream",
     "text": [
      "the input source is not shown because the code block begins with a blank line\n"
     ]
    }
   ],
   "source": [
    "    \n",
    "    print(\"the input source is not shown because the code block begins with a blank line\")"
   ]
  },
  {
   "cell_type": "code",
   "execution_count": 6,
   "id": "79655b80-bfc0-4857-b62a-4910adb2a177",
   "metadata": {},
   "outputs": [
    {
     "data": {
      "text/markdown": [
       "the `paragraph` has 38 words"
      ],
      "text/plain": [
       "<IPython.core.display.Markdown object>"
      ]
     },
     "execution_count": 6,
     "metadata": {},
     "output_type": "execute_result"
    },
    {
     "data": {
      "text/markdown": [
       "## all markdown is a string\n",
       "\n",
       "in `pidgy`, markdown and python can cooperate.\n",
       "the primary way this is acheived is by representing markdown blocks as block quotes rather than comments.\n",
       "as strings, markdown can join the party.\n",
       "\n",
       "\n",
       "we start slow by defining a markdown paragraph to a variable name `paragraph`\n",
       "\n",
       "\n",
       "    paragraph =\\\n",
       "imagine you wrote a really cool paragraph.\n",
       "it has words, sentences, and drama.\n",
       "you have a word limit and you need to count the words.\n",
       "\n",
       "\n",
       "with `paragraph` saved as a variable it becomes easy to count our words.\n",
       "\n",
       "    Markdown(F\"the `paragraph` has {len(paragraph.split())} words\") # pidgy exposes IPython display in the primary namespace"
      ],
      "text/plain": [
       "<IPython.core.display.Markdown object>"
      ]
     },
     "metadata": {},
     "output_type": "display_data"
    }
   ],
   "source": [
    "## all markdown is a string\n",
    "\n",
    "in `pidgy`, markdown and python can cooperate.\n",
    "the primary way this is acheived is by representing markdown blocks as block quotes rather than comments.\n",
    "as strings, markdown can join the party.\n",
    "\n",
    "\n",
    "we start slow by defining a markdown paragraph to a variable name `paragraph`\n",
    "\n",
    "\n",
    "    paragraph =\\\n",
    "imagine you wrote a really cool paragraph.\n",
    "it has words, sentences, and drama.\n",
    "you have a word limit and you need to count the words.\n",
    "\n",
    "\n",
    "with `paragraph` saved as a variable it becomes easy to count our words.\n",
    "\n",
    "    Markdown(F\"the `paragraph` has {len(paragraph.split())} words\") # pidgy exposes IPython display in the primary namespace"
   ]
  },
  {
   "cell_type": "markdown",
   "id": "fd6eb44c-3cee-485c-b266-09033a7a218d",
   "metadata": {},
   "source": [
    "## connecting markdown and indented python code"
   ]
  },
  {
   "cell_type": "code",
   "execution_count": 7,
   "id": "95c2bc25-e25c-4099-b735-459a24aaf78b",
   "metadata": {},
   "outputs": [
    {
     "data": {
      "text/markdown": [
       "### docstrings"
      ],
      "text/plain": [
       "<IPython.core.display.Markdown object>"
      ]
     },
     "metadata": {},
     "output_type": "display_data"
    }
   ],
   "source": [
    "### docstrings"
   ]
  },
  {
   "cell_type": "markdown",
   "id": "ce7e6fe2-4939-4884-bb8b-d8895cb4f239",
   "metadata": {},
   "source": [
    "### line continuations"
   ]
  },
  {
   "cell_type": "markdown",
   "id": "71d81814-d35d-478c-88e6-9a0bd2bd2ed8",
   "metadata": {},
   "source": [
    "### parenthesis"
   ]
  },
  {
   "cell_type": "markdown",
   "id": "d69621a5-6eb8-4653-b013-ed6bf45e50ec",
   "metadata": {},
   "source": [
    "## templating markdown\n",
    "\n",
    "so far we have discussed two cooperative syntaxes: markdown and python. \n",
    "the last major piece to `pidgy` are `jinja2` templates that allow python variables to be\n",
    "woven into rich, interactive displays.\n",
    "\n",
    "\n",
    "`pidgy` extends markdown by being aware of `jinja2` templates that can include live data into woven displays"
   ]
  },
  {
   "cell_type": "code",
   "execution_count": 8,
   "id": "b119b6ff-4f24-471e-817b-9bc710f99aa0",
   "metadata": {},
   "outputs": [
    {
     "data": {
      "text/markdown": [
       "<div><style scoped>\n",
       "    .dataframe tbody tr th:only-of-type {\n",
       "        vertical-align: middle;\n",
       "    }\n",
       "\n",
       "    .dataframe tbody tr th {\n",
       "        vertical-align: top;\n",
       "    }\n",
       "\n",
       "    .dataframe thead th {\n",
       "        text-align: right;\n",
       "    }\n",
       "</style><table border=1 class=dataframe><thead><tr style=\"text-align: right;\"><th></th><th>count</th><th>mean</th><th>std</th><th>min</th><th>25%</th><th>50%</th><th>75%</th><th>max</th></tr></thead><tbody><tr><th>0</th><td>10.0</td><td>4.5</td><td>3.02765</td><td>0.0</td><td>2.25</td><td>4.5</td><td>6.75</td><td>9.0</td></tr><tr><th>1</th><td>10.0</td><td>0.0</td><td>0.00000</td><td>0.0</td><td>0.00</td><td>0.0</td><td>0.00</td><td>0.0</td></tr><tr><th>2</th><td>10.0</td><td>0.0</td><td>0.00000</td><td>0.0</td><td>0.00</td><td>0.0</td><td>0.00</td><td>0.0</td></tr></tbody></table></div>\n",
       "\n",
       "    import pandas\n",
       "\n",
       "    df = pandas.DataFrame([x, 0, 0 ] for x in range(10))"
      ],
      "text/plain": [
       "<IPython.core.display.Markdown object>"
      ]
     },
     "metadata": {},
     "output_type": "display_data"
    }
   ],
   "source": [
    "{{df.describe().T}}\n",
    "\n",
    "    import pandas\n",
    "\n",
    "    df = pandas.DataFrame([x, 0, 0 ] for x in range(10))"
   ]
  },
  {
   "cell_type": "markdown",
   "id": "e0973815-7983-41c9-b021-a3a4340e053f",
   "metadata": {},
   "source": [
    "## iframes and images"
   ]
  },
  {
   "cell_type": "markdown",
   "id": "7ffb8a4b-83f8-417a-ba8f-efe44cd4390d",
   "metadata": {},
   "source": [
    "https://nbviewer.org/github/deathbeds/pidgy/blob/master/docs/tangle_examples.ipynb"
   ]
  }
 ],
 "metadata": {
  "kernelspec": {
   "display_name": "Python 3.9.10 ('base')",
   "language": "python",
   "name": "python3"
  },
  "language_info": {
   "codemirror_mode": {
    "name": "ipython",
    "version": 3
   },
   "file_extension": ".py",
   "mimetype": "text/x-python",
   "name": "python",
   "nbconvert_exporter": "python",
   "pygments_lexer": "ipython3",
   "version": "3.9.10"
  },
  "vscode": {
   "interpreter": {
    "hash": "fe3da9b82b3647283ed4a64afb514c08b1aa39774194ba3fa7469a9333d7260c"
   }
  }
 },
 "nbformat": 4,
 "nbformat_minor": 5
}
