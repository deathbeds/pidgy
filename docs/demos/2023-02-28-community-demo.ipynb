{
 "cells": [
  {
   "cell_type": "markdown",
   "id": "e935656c-0e2b-482a-9b8a-5e3b580059cd",
   "metadata": {
    "slideshow": {
     "slide_type": "slide"
    },
    "tags": []
   },
   "source": [
    "# `pidgy` literate computing\n",
    "\n",
    "you've heard of interactive computing, we'll call `pidgy` hyperactive computing. \n",
    "\n",
    "<!--\n",
    "```mermaid\n",
    "flowchart LR\n",
    "    subgraph document language\n",
    "        markdown\n",
    "    end\n",
    "    subgraph programming language\n",
    "        IPython\n",
    "    end\n",
    "    subgraph templating language\n",
    "        jinja2\n",
    "    end\n",
    "\n",
    "```\n",
    "-->\n",
    "\n",
    "<form id=\"controls\">    \n",
    "    <label for=\"run\">🏃</label><button id=\"run\" data-commandlinker-command=\"notebook:run-all-cells\">run all</button>\n",
    "    <label for=\"doc\">🖹</label><button id=\"doc\" data-commandlinker-command=\"application:toggle-mode\">document mode</button>\n",
    "    <label for=\"prez\">📽</label><button id=\"prez\" data-commandlinker-command=\"application:toggle-presentation-mode\">presentation mode</button>\n",
    "    <label for=\"collapse\">⊟</label><button id=\"collapse\" data-commandlinker-command=\"notebook:hide-all-cell-code\">collapse all the code</button>\n",
    "    <br/>\n",
    "    <label for=\"expand\">⊞</label><button id=\"expand\" data-commandlinker-command=\"notebook:show-all-cell-code\">expand all the code</button>\n",
    "    <button data-commandlinker-command=\"deck:toggle\"><code>jupyterlab-deck</code></button>\n",
    "    <button data-commandlinker-command=\"notebook:render-with-voila\"><code>voila</code></button>\n",
    "    <label for=\"inspectoropen\">🔍</label><button id=\"inspectoropen\" data-commandlinker-command=\"inspector:open\">inspector</button>\n",
    "    <label title=\"open side by side view\" for=\"right\">👯</label><button id=\"right\" data-commandlinker-command=\"notebook:toggle-render-side-by-side-current\">side-by-side</button>\n",
    "</form>\n",
    "\n",
    "> this presentation is written for the [february 2023 jupyter community call][community call].[^calls]\n",
    "\n",
    "<button id=\"rara\" data-commandlinker-command=\"runmenu:restart-and-run-all\">restart and run all</button><label for=\"rara\">or it didn't happen</label>\n",
    "\n",
    "\n",
    "[^md]: there is massive adoption of markdown as a tool for programmers. folks can use markdown and jekyll templating languages on github pages. github profiles are written in markdown. markdown is a gateway drug to html, javascript, and css.\n",
    "\n",
    "[community call]: https://hackmd.io/dcbps9AESEuP0N3j4mMOqw \"hackmd for the jupyter community call\"\n",
    "[^calls]: jupyter community calls are a monthly series of events to showcase what you are doing in and with jupyter. please consider submitting to or hosting a [future community call] sometime\n",
    "\n",
    "[future community call]: https://discourse.jupyter.org/t/jupyter-community-calls/668 \"updating discourse announcement for the jupyter community calls.\"\n",
    "\n",
    "https://monoskop.org/images/b/be/Nelson_Ted_Literary_Machines_c1987_chs_0-1.pdf\n",
    "https://pure.au.dk/ws/files/173226224/PPIG_2019_camera_ready.pdf"
   ]
  },
  {
   "cell_type": "code",
   "execution_count": 1,
   "id": "dad20d9d-7d1e-477b-91ba-0e8139ed7e70",
   "metadata": {
    "execution": {
     "iopub.execute_input": "2023-03-03T03:04:18.388033Z",
     "iopub.status.busy": "2023-03-03T03:04:18.387862Z",
     "iopub.status.idle": "2023-03-03T03:04:18.521450Z",
     "shell.execute_reply": "2023-03-03T03:04:18.521047Z",
     "shell.execute_reply.started": "2023-03-03T03:04:18.388015Z"
    },
    "slideshow": {
     "slide_type": "slide"
    },
    "tags": []
   },
   "outputs": [
    {
     "data": {
      "text/markdown": [
       "    # my pidgy practices always have me indenting cells.\n",
       "    # this habit means code will be rendered as code in markdown.\n",
       "    # https://nbviewer.org/github/deathbeds/deathbeds.github.io/blob/master/deathbeds/2018-08-03-A-case-for-indented-code.ipynb\n",
       "    \n",
       "    # this is a presentation about pidgy so we start by loading the extension.\n",
       "    # there is a pidgy kernel for the hardcore. \n",
       "    # in that case we recommend the hybrid `.md.ipynb` extension.\n",
       "    \n",
       "    if LITE := (__import__(\"sys\").platform == \"emscripten\"): # compatability for jupyterlite\n",
       "        %pip install pandas pidgy matplotlib ipywidgets toolz\n",
       "        \n",
       "    # activate pidgy\n",
       "    %reload_ext pidgy\n",
       "    from toolz.curried import *"
      ],
      "text/plain": [
       "<IPython.core.display.Markdown object>"
      ]
     },
     "metadata": {},
     "output_type": "display_data"
    }
   ],
   "source": [
    "    # my pidgy practices always have me indenting cells.\n",
    "    # this habit means code will be rendered as code in markdown.\n",
    "    # https://nbviewer.org/github/deathbeds/deathbeds.github.io/blob/master/deathbeds/2018-08-03-A-case-for-indented-code.ipynb\n",
    "    \n",
    "    # this is a presentation about pidgy so we start by loading the extension.\n",
    "    # there is a pidgy kernel for the hardcore. \n",
    "    # in that case we recommend the hybrid `.md.ipynb` extension.\n",
    "    \n",
    "    if LITE := (__import__(\"sys\").platform == \"emscripten\"): # compatability for jupyterlite\n",
    "        %pip install pandas pidgy matplotlib ipywidgets toolz\n",
    "        \n",
    "    # activate pidgy\n",
    "    %reload_ext pidgy\n",
    "    from toolz.curried import *"
   ]
  },
  {
   "cell_type": "markdown",
   "id": "03aeda78-07b2-4ed8-9e2c-943d2daf26dd",
   "metadata": {
    "execution": {
     "iopub.execute_input": "2023-02-24T23:17:21.043662Z",
     "iopub.status.busy": "2023-02-24T23:17:21.043545Z",
     "iopub.status.idle": "2023-02-24T23:17:21.049471Z",
     "shell.execute_reply": "2023-02-24T23:17:21.048765Z",
     "shell.execute_reply.started": "2023-02-24T23:17:21.043647Z"
    },
    "slideshow": {
     "slide_type": "subslide"
    },
    "tags": []
   },
   "source": [
    "## the `pidgy` polyglot metalanguage\n",
    "\n",
    "`pidgy` is a [pidgin] [metalanguage] of python programming and jinja templates embedded inside markdown.\n",
    "literate programming is that aim to craft documentation and code at the same time.\n",
    "literate computing is when we do this interactively, and weave live computing into the narrative.\n",
    "\n",
    "\n",
    "[pidgin]: https://en.wikipedia.org/wiki/Pidgin\n",
    "[metalanguage]: https://en.wikipedia.org/wiki/Metalanguage"
   ]
  },
  {
   "cell_type": "code",
   "execution_count": 2,
   "id": "9c822c6c-d04c-4a0a-91ea-eed3e62006a3",
   "metadata": {
    "execution": {
     "iopub.execute_input": "2023-03-03T03:04:18.524066Z",
     "iopub.status.busy": "2023-03-03T03:04:18.523849Z",
     "iopub.status.idle": "2023-03-03T03:04:18.553489Z",
     "shell.execute_reply": "2023-03-03T03:04:18.553106Z",
     "shell.execute_reply.started": "2023-03-03T03:04:18.524048Z"
    },
    "jupyter": {
     "source_hidden": true
    },
    "slideshow": {
     "slide_type": "fragment"
    },
    "tags": []
   },
   "outputs": [
    {
     "data": {
      "application/vnd.jupyter.widget-view+json": {
       "model_id": "a59df83a6d58485bb5d8618256e25abc",
       "version_major": 2,
       "version_minor": 0
      },
      "text/plain": [
       "IntSlider(value=6, description='show more languages', max=6, min=1)"
      ]
     },
     "metadata": {},
     "output_type": "display_data"
    },
    {
     "data": {
      "text/markdown": [
       "<figure>\n",
       "<figcaption>\n",
       "\n",
       "the REPL overlayed with a [literate computing] workflow of tangle and weave.\n",
       "\n",
       "</figcaption>\n",
       "\n",
       "\n",
       "```mermaid\n",
       "flowchart LR\n",
       "\n",
       "\n",
       "\n",
       "    input[markdown]--tangle\\nread-->IPython\n",
       "\n",
       "    IPython--eval/template-->jinja\n",
       "\n",
       "    jinja--weave\\nprint-->output[markdown]\n",
       "\n",
       "    output[markdown]-.loop-.->input\n",
       "\n",
       "    html ---> input; css ---> input; javascript ---> input\n",
       "\n",
       "    julia ---> magics; r---> magics; fortran ---> magics; magics ---> IPython\n",
       "\n",
       "```\n",
       "<figcaption>mermaid graph syntax uses extended markdown syntax provided by <code>jupyterlab-markup</code></figcaption>\n",
       "</figure>\n",
       "\n",
       "        display(extra := IntSlider(6, min=1, max=6, description=\"show more languages\")) # 6 lines in the graph\n",
       "\n",
       "`pidgy` is interested in exploring the interfaces of languages in computational essays. each language provides extra syntax for telling your story. with markdown we can include html, css, and javascript; code blocks can include more languages like mermaid. [IPython is our polyglot glue language][polyglot notebook]. \n",
       "\n",
       "[literate computing]: #\n",
       "[polyglot notebook]: https://gist.github.com/fperez/5b49246af4e340c37549265a90894ce6 \"fperez's polyglot juypyter demo\"\n",
       "\n",
       "[fperez lc]: https://web.archive.org/web/20220510083647/http://blog.fperez.org/2013/04/literate-computing-and-computational.html"
      ],
      "text/plain": [
       "<IPython.core.display.Markdown object>"
      ]
     },
     "metadata": {},
     "output_type": "display_data"
    }
   ],
   "source": [
    "<figure>\n",
    "<figcaption>\n",
    "\n",
    "the REPL overlayed with a [literate computing] workflow of tangle and weave.\n",
    "\n",
    "</figcaption>\n",
    "\n",
    "{% set repl %}\n",
    "    input[markdown]--tangle\\nread-->IPython\n",
    "    IPython--eval/template-->jinja\n",
    "    jinja--weave\\nprint-->output[markdown]\n",
    "    output[markdown]-.loop-.->input\n",
    "    html ---> input; css ---> input; javascript ---> input\n",
    "    julia ---> magics; r---> magics; fortran ---> magics; magics ---> IPython\n",
    "{% endset %}\n",
    "```mermaid\n",
    "flowchart LR\n",
    "{% for i, line in enumerate(repl.splitlines()) %}\n",
    "{% if i > extra.value %}%%{% endif %}{{line}}\n",
    "{% endfor %}\n",
    "```\n",
    "<figcaption>mermaid graph syntax uses extended markdown syntax provided by <code>jupyterlab-markup</code></figcaption>\n",
    "</figure>\n",
    "\n",
    "        display(extra := IntSlider(6, min=1, max=6, description=\"show more languages\")) # 6 lines in the graph\n",
    "\n",
    "`pidgy` is interested in exploring the interfaces of languages in computational essays. each language provides extra syntax for telling your story. with markdown we can include html, css, and javascript; code blocks can include more languages like mermaid. [IPython is our polyglot glue language][polyglot notebook]. \n",
    "\n",
    "[literate computing]: #\n",
    "[polyglot notebook]: https://gist.github.com/fperez/5b49246af4e340c37549265a90894ce6 \"fperez's polyglot juypyter demo\"\n",
    "\n",
    "[fperez lc]: https://web.archive.org/web/20220510083647/http://blog.fperez.org/2013/04/literate-computing-and-computational.html"
   ]
  },
  {
   "cell_type": "markdown",
   "id": "4c094384-d0d4-4bab-8404-1dd588e0e46f",
   "metadata": {
    "slideshow": {
     "slide_type": "slide"
    },
    "tags": []
   },
   "source": [
    "## inspecting and doing more with a keypress\n",
    "\n",
    "<label for=\"butt-inspector\"><kbd>Ctrl + I</kbd></label>\n",
    "<button id=\"butt-inspector\" data-commandlinker-command=\"inspector:open\">open inspector</button>\n",
    "<label for=\"deck\">⛔</label><button id=\"deck\" data-commandlinker-command=\"deck:toggle\"><code>jupyterlab-deck</code></button>\n",
    "\n",
    "### translating markdown to python\n",
    "\n",
    "the `%%tangle` magic tangles markdown to python code for previewing and debugging. this magic will help you learn `pidgy`s indenting [heuristics and language features provided by `midgy`][midgy basics].\n",
    "\n",
    "[midgy basics]: https://deathbeds.github.io/midgy/language/basics/"
   ]
  },
  {
   "cell_type": "code",
   "execution_count": 3,
   "id": "ab55d44b-2838-4742-a76b-761ac30fcfb0",
   "metadata": {
    "execution": {
     "iopub.execute_input": "2023-03-03T03:04:18.554094Z",
     "iopub.status.busy": "2023-03-03T03:04:18.553974Z",
     "iopub.status.idle": "2023-03-03T03:04:18.689810Z",
     "shell.execute_reply": "2023-03-03T03:04:18.689380Z",
     "shell.execute_reply.started": "2023-03-03T03:04:18.554083Z"
    },
    "jupyter": {
     "source_hidden": true
    },
    "slideshow": {
     "slide_type": "fragment"
    },
    "tags": []
   },
   "outputs": [
    {
     "data": {
      "text/html": [
       "<style>pre { line-height: 125%; }\n",
       "td.linenos .normal { color: inherit; background-color: transparent; padding-left: 5px; padding-right: 5px; }\n",
       "span.linenos { color: inherit; background-color: transparent; padding-left: 5px; padding-right: 5px; }\n",
       "td.linenos .special { color: #000000; background-color: #ffffc0; padding-left: 5px; padding-right: 5px; }\n",
       "span.linenos.special { color: #000000; background-color: #ffffc0; padding-left: 5px; padding-right: 5px; }\n",
       ".output_html .hll { background-color: #ffffcc }\n",
       ".output_html { background: #f8f8f8; }\n",
       ".output_html .c { color: #3D7B7B; font-style: italic } /* Comment */\n",
       ".output_html .err { border: 1px solid #FF0000 } /* Error */\n",
       ".output_html .k { color: #008000; font-weight: bold } /* Keyword */\n",
       ".output_html .o { color: #666666 } /* Operator */\n",
       ".output_html .ch { color: #3D7B7B; font-style: italic } /* Comment.Hashbang */\n",
       ".output_html .cm { color: #3D7B7B; font-style: italic } /* Comment.Multiline */\n",
       ".output_html .cp { color: #9C6500 } /* Comment.Preproc */\n",
       ".output_html .cpf { color: #3D7B7B; font-style: italic } /* Comment.PreprocFile */\n",
       ".output_html .c1 { color: #3D7B7B; font-style: italic } /* Comment.Single */\n",
       ".output_html .cs { color: #3D7B7B; font-style: italic } /* Comment.Special */\n",
       ".output_html .gd { color: #A00000 } /* Generic.Deleted */\n",
       ".output_html .ge { font-style: italic } /* Generic.Emph */\n",
       ".output_html .gr { color: #E40000 } /* Generic.Error */\n",
       ".output_html .gh { color: #000080; font-weight: bold } /* Generic.Heading */\n",
       ".output_html .gi { color: #008400 } /* Generic.Inserted */\n",
       ".output_html .go { color: #717171 } /* Generic.Output */\n",
       ".output_html .gp { color: #000080; font-weight: bold } /* Generic.Prompt */\n",
       ".output_html .gs { font-weight: bold } /* Generic.Strong */\n",
       ".output_html .gu { color: #800080; font-weight: bold } /* Generic.Subheading */\n",
       ".output_html .gt { color: #0044DD } /* Generic.Traceback */\n",
       ".output_html .kc { color: #008000; font-weight: bold } /* Keyword.Constant */\n",
       ".output_html .kd { color: #008000; font-weight: bold } /* Keyword.Declaration */\n",
       ".output_html .kn { color: #008000; font-weight: bold } /* Keyword.Namespace */\n",
       ".output_html .kp { color: #008000 } /* Keyword.Pseudo */\n",
       ".output_html .kr { color: #008000; font-weight: bold } /* Keyword.Reserved */\n",
       ".output_html .kt { color: #B00040 } /* Keyword.Type */\n",
       ".output_html .m { color: #666666 } /* Literal.Number */\n",
       ".output_html .s { color: #BA2121 } /* Literal.String */\n",
       ".output_html .na { color: #687822 } /* Name.Attribute */\n",
       ".output_html .nb { color: #008000 } /* Name.Builtin */\n",
       ".output_html .nc { color: #0000FF; font-weight: bold } /* Name.Class */\n",
       ".output_html .no { color: #880000 } /* Name.Constant */\n",
       ".output_html .nd { color: #AA22FF } /* Name.Decorator */\n",
       ".output_html .ni { color: #717171; font-weight: bold } /* Name.Entity */\n",
       ".output_html .ne { color: #CB3F38; font-weight: bold } /* Name.Exception */\n",
       ".output_html .nf { color: #0000FF } /* Name.Function */\n",
       ".output_html .nl { color: #767600 } /* Name.Label */\n",
       ".output_html .nn { color: #0000FF; font-weight: bold } /* Name.Namespace */\n",
       ".output_html .nt { color: #008000; font-weight: bold } /* Name.Tag */\n",
       ".output_html .nv { color: #19177C } /* Name.Variable */\n",
       ".output_html .ow { color: #AA22FF; font-weight: bold } /* Operator.Word */\n",
       ".output_html .w { color: #bbbbbb } /* Text.Whitespace */\n",
       ".output_html .mb { color: #666666 } /* Literal.Number.Bin */\n",
       ".output_html .mf { color: #666666 } /* Literal.Number.Float */\n",
       ".output_html .mh { color: #666666 } /* Literal.Number.Hex */\n",
       ".output_html .mi { color: #666666 } /* Literal.Number.Integer */\n",
       ".output_html .mo { color: #666666 } /* Literal.Number.Oct */\n",
       ".output_html .sa { color: #BA2121 } /* Literal.String.Affix */\n",
       ".output_html .sb { color: #BA2121 } /* Literal.String.Backtick */\n",
       ".output_html .sc { color: #BA2121 } /* Literal.String.Char */\n",
       ".output_html .dl { color: #BA2121 } /* Literal.String.Delimiter */\n",
       ".output_html .sd { color: #BA2121; font-style: italic } /* Literal.String.Doc */\n",
       ".output_html .s2 { color: #BA2121 } /* Literal.String.Double */\n",
       ".output_html .se { color: #AA5D1F; font-weight: bold } /* Literal.String.Escape */\n",
       ".output_html .sh { color: #BA2121 } /* Literal.String.Heredoc */\n",
       ".output_html .si { color: #A45A77; font-weight: bold } /* Literal.String.Interpol */\n",
       ".output_html .sx { color: #008000 } /* Literal.String.Other */\n",
       ".output_html .sr { color: #A45A77 } /* Literal.String.Regex */\n",
       ".output_html .s1 { color: #BA2121 } /* Literal.String.Single */\n",
       ".output_html .ss { color: #19177C } /* Literal.String.Symbol */\n",
       ".output_html .bp { color: #008000 } /* Name.Builtin.Pseudo */\n",
       ".output_html .fm { color: #0000FF } /* Name.Function.Magic */\n",
       ".output_html .vc { color: #19177C } /* Name.Variable.Class */\n",
       ".output_html .vg { color: #19177C } /* Name.Variable.Global */\n",
       ".output_html .vi { color: #19177C } /* Name.Variable.Instance */\n",
       ".output_html .vm { color: #19177C } /* Name.Variable.Magic */\n",
       ".output_html .il { color: #666666 } /* Literal.Number.Integer.Long */</style><div class=\"highlight\"><pre><span></span><span class=\"sd\">&quot;&quot;&quot;we use the `%%tangle` magic interactively translate the document into code.</span>\n",
       "\n",
       "<span class=\"sd\">some `pidgy` features are shown below like:</span>\n",
       "<span class=\"sd\">    </span>\n",
       "<span class=\"sd\">* markdown docstrings&quot;&quot;&quot;</span>\n",
       "\n",
       "<span class=\"k\">def</span> <span class=\"nf\">my_function</span><span class=\"p\">():</span>\n",
       "<span class=\"w\">    </span><span class=\"sd\">&quot;&quot;&quot;functions with markdown docstrings&quot;&quot;&quot;</span>\n",
       "        \n",
       "    <span class=\"o\">...</span>\n",
       "<span class=\"o\">...</span>\n",
       "<span class=\"w\">        </span>\n",
       "<span class=\"sd\">&quot;&quot;&quot;* defining blocks of markdown as variables&quot;&quot;&quot;</span>\n",
       "\n",
       "<span class=\"n\">my_url</span> <span class=\"o\">=</span>\\\n",
       "<span class=\"sd\">&quot;&quot;&quot;https://api.github.com&quot;&quot;&quot;</span><span class=\"p\">;</span>\n",
       "</pre></div>\n"
      ],
      "text/latex": [
       "\\begin{Verbatim}[commandchars=\\\\\\{\\}]\n",
       "\\PY{l+s+sd}{\\PYZdq{}\\PYZdq{}\\PYZdq{}we use the `\\PYZpc{}\\PYZpc{}tangle` magic interactively translate the document into code.}\n",
       "\n",
       "\\PY{l+s+sd}{some `pidgy` features are shown below like:}\n",
       "\\PY{l+s+sd}{    }\n",
       "\\PY{l+s+sd}{* markdown docstrings\\PYZdq{}\\PYZdq{}\\PYZdq{}}\n",
       "\n",
       "\\PY{k}{def} \\PY{n+nf}{my\\PYZus{}function}\\PY{p}{(}\\PY{p}{)}\\PY{p}{:}\n",
       "\\PY{+w}{    }\\PY{l+s+sd}{\\PYZdq{}\\PYZdq{}\\PYZdq{}functions with markdown docstrings\\PYZdq{}\\PYZdq{}\\PYZdq{}}\n",
       "        \n",
       "    \\PY{o}{.}\\PY{o}{.}\\PY{o}{.}\n",
       "\\PY{o}{.}\\PY{o}{.}\\PY{o}{.}\n",
       "\\PY{+w}{        }\n",
       "\\PY{l+s+sd}{\\PYZdq{}\\PYZdq{}\\PYZdq{}* defining blocks of markdown as variables\\PYZdq{}\\PYZdq{}\\PYZdq{}}\n",
       "\n",
       "\\PY{n}{my\\PYZus{}url} \\PY{o}{=}\\PYZbs{}\n",
       "\\PY{l+s+sd}{\\PYZdq{}\\PYZdq{}\\PYZdq{}https://api.github.com\\PYZdq{}\\PYZdq{}\\PYZdq{}}\\PY{p}{;}\n",
       "\\end{Verbatim}\n"
      ],
      "text/plain": [
       "\"\"\"we use the `%%tangle` magic interactively translate the document into code.\n",
       "\n",
       "some `pidgy` features are shown below like:\n",
       "    \n",
       "* markdown docstrings\"\"\"\n",
       "\n",
       "def my_function():\n",
       "    \"\"\"functions with markdown docstrings\"\"\"\n",
       "        \n",
       "    ...\n",
       "...\n",
       "        \n",
       "\"\"\"* defining blocks of markdown as variables\"\"\"\n",
       "\n",
       "my_url =\\\n",
       "\"\"\"https://api.github.com\"\"\";"
      ]
     },
     "execution_count": 3,
     "metadata": {},
     "output_type": "execute_result"
    }
   ],
   "source": [
    "%%tangle\n",
    "we use the `%%tangle` magic interactively translate the document into code.\n",
    "\n",
    "some `pidgy` features are shown below like:\n",
    "    \n",
    "* markdown docstrings\n",
    "\n",
    "        def my_function():\n",
    "functions with markdown docstrings\n",
    "        \n",
    "            ...\n",
    "        ...\n",
    "        \n",
    "* defining blocks of markdown as variables\n",
    "\n",
    "        my_url =\\\n",
    "https://api.github.com"
   ]
  },
  {
   "attachments": {
    "98963935-2688-4763-a73c-ffdf039fdb52.png": {
     "image/png": "[encoded data removed]"
    }
   },
   "cell_type": "markdown",
   "id": "d1d9f053-becc-494b-a831-86324f11eb6b",
   "metadata": {
    "slideshow": {
     "slide_type": "slide"
    },
    "tags": []
   },
   "source": [
    "### an homage knuth's literate programming language\n",
    "\n",
    "![image.png](attachment:98963935-2688-4763-a73c-ffdf039fdb52.png)"
   ]
  },
  {
   "cell_type": "code",
   "execution_count": 4,
   "id": "f4b42a15-1406-4c58-8552-5bd0761eb9d3",
   "metadata": {
    "execution": {
     "iopub.execute_input": "2023-03-03T03:04:18.690695Z",
     "iopub.status.busy": "2023-03-03T03:04:18.690504Z",
     "iopub.status.idle": "2023-03-03T03:04:18.698578Z",
     "shell.execute_reply": "2023-03-03T03:04:18.698159Z",
     "shell.execute_reply.started": "2023-03-03T03:04:18.690675Z"
    },
    "slideshow": {
     "slide_type": "subslide"
    },
    "tags": []
   },
   "outputs": [
    {
     "data": {
      "text/markdown": [
       "<figure>\n",
       "<figcaption>\n",
       "\n",
       "a mermaid homage to the dual usage of the WEB file format being translated to a document and programming language.\n",
       "\n",
       "</figcaption> \n",
       "    \n",
       "```mermaid\n",
       "flowchart LR\n",
       "    WEB--WEAVE-->TEX--TeX-->DVI\n",
       "    WEB--TANGLE-->PAS--PASCAL-->REL\n",
       "```\n",
       "</figure>\n",
       "\n",
       "<figure markdown>\n",
       "<figcaption>knuth's rational for choosing Pascal; the same motivation applies to python.</figcaption>\n",
       "\n",
       "> I chose PASCAL as the programming language because it has\n",
       "received such widespread support from educational  in-\n",
       "stitutions all over the world; it is not my favorite language for system programming, but it has become a\n",
       "\"second language\" for so many programmers that it\n",
       "provides an exceptionally effective medium of communication.\n",
       "</figure>"
      ],
      "text/plain": [
       "<IPython.core.display.Markdown object>"
      ]
     },
     "metadata": {},
     "output_type": "display_data"
    }
   ],
   "source": [
    "<figure>\n",
    "<figcaption>\n",
    "\n",
    "a mermaid homage to the dual usage of the WEB file format being translated to a document and programming language.\n",
    "\n",
    "</figcaption> \n",
    "    \n",
    "```mermaid\n",
    "flowchart LR\n",
    "    WEB--WEAVE-->TEX--TeX-->DVI\n",
    "    WEB--TANGLE-->PAS--PASCAL-->REL\n",
    "```\n",
    "</figure>\n",
    "\n",
    "<figure markdown>\n",
    "<figcaption>knuth's rational for choosing Pascal; the same motivation applies to python.</figcaption>\n",
    "\n",
    "> I chose PASCAL as the programming language because it has\n",
    "received such widespread support from educational  in-\n",
    "stitutions all over the world; it is not my favorite language for system programming, but it has become a\n",
    "\"second language\" for so many programmers that it\n",
    "provides an exceptionally effective medium of communication.\n",
    "</figure>\n"
   ]
  },
  {
   "cell_type": "code",
   "execution_count": 5,
   "id": "7d0248b0-d411-4dd3-b495-b8636cf9dc9b",
   "metadata": {
    "execution": {
     "iopub.execute_input": "2023-03-03T03:04:18.699568Z",
     "iopub.status.busy": "2023-03-03T03:04:18.699168Z",
     "iopub.status.idle": "2023-03-03T03:04:18.705237Z",
     "shell.execute_reply": "2023-03-03T03:04:18.704739Z",
     "shell.execute_reply.started": "2023-03-03T03:04:18.699552Z"
    },
    "jupyter": {
     "source_hidden": true
    },
    "slideshow": {
     "slide_type": "slide"
    },
    "tags": []
   },
   "outputs": [
    {
     "data": {
      "text/markdown": [
       "## reactive `jinja2` templates\n",
       "\n",
       "<label for=\"deck\">open</label>\n",
       "<button id=\"deck\" data-commandlinker-command=\"deck:toggle\"><code>jupyterlab-deck</code></button>\n",
       "\n",
       "`pidgy` relies on a `midgy` to tangle markdown to code, it does not doing any work on displaying the input markdown. including the templating language is the innovation of `pidgy` that inlines live computation.\n",
       "\n",
       "\n",
       "`pidgy` templates are asynchronous reactive display objects that place live computation directly into the narrative."
      ],
      "text/plain": [
       "<IPython.core.display.Markdown object>"
      ]
     },
     "metadata": {},
     "output_type": "display_data"
    }
   ],
   "source": [
    "## reactive `jinja2` templates\n",
    "\n",
    "<label for=\"deck\">open</label>\n",
    "<button id=\"deck\" data-commandlinker-command=\"deck:toggle\"><code>jupyterlab-deck</code></button>\n",
    "\n",
    "`pidgy` relies on a `midgy` to tangle markdown to code, it does not doing any work on displaying the input markdown. including the templating language is the innovation of `pidgy` that inlines live computation.\n",
    "\n",
    "\n",
    "`pidgy` templates are asynchronous reactive display objects that place live computation directly into the narrative."
   ]
  },
  {
   "cell_type": "code",
   "execution_count": 6,
   "id": "6d7e9b60-1ec3-4ffd-aad1-1913dcfe622b",
   "metadata": {
    "execution": {
     "iopub.execute_input": "2023-03-03T03:04:18.705924Z",
     "iopub.status.busy": "2023-03-03T03:04:18.705745Z",
     "iopub.status.idle": "2023-03-03T03:04:18.713849Z",
     "shell.execute_reply": "2023-03-03T03:04:18.713204Z",
     "shell.execute_reply.started": "2023-03-03T03:04:18.705909Z"
    },
    "jupyter": {
     "source_hidden": true
    },
    "slideshow": {
     "slide_type": "subslide"
    },
    "tags": []
   },
   "outputs": [
    {
     "data": {
      "text/markdown": [
       "### worrydream's cookies demo[^inventing]\n",
       "\n",
       "<!---![](https://media3.giphy.com/media/BsUORZkF3gBqg/giphy.gif \"cookie monster happy as fuck eating cookies\")--->\n",
       "\n",
       "<blockquote cite=\"https://worrydream.com/Tangle/\">\n",
       "\n",
       "[Tangle] is a JavaScript library for creating reactive documents. Your readers can interactively explore possibilities, play with parameters, and see the document update immediately. Tangle is super-simple and easy to learn.\n",
       "\n",
       "</blockquote>\n",
       "\n",
       "<figure>\n",
       "<figcaption>\n",
       "\n",
       "the source code for the first [TangleJs][tangle] demo\n",
       "\n",
       "</figcaption>\n",
       "\n",
       "```html\n",
       "When you eat <span data-var=\"cookies\" class=\"TKAdjustableNumber\"> cookies</span>,\n",
       "you consume <span data-var=\"calories\"> calories</span>. \n",
       "```\n",
       "\n",
       "```javascript\n",
       "var tangle = new Tangle(document, {\n",
       "    initialize: function () { this.cookies = 3; },\n",
       "    update:     function () { this.calories = this.cookies * 50; }\n",
       "});\n",
       "\n",
       "```\n",
       "</figure>\n",
       "\n",
       "[tangle]: http://worrydream.com/Tangle/\n",
       "[inventing on principle]: https://www.youtube.com/watch?v=PUv66718DII\n",
       "[^inventing]: many folks working on computational interfaces are inspired by Bret Victor's [inventing on principle]"
      ],
      "text/plain": [
       "<IPython.core.display.Markdown object>"
      ]
     },
     "metadata": {},
     "output_type": "display_data"
    }
   ],
   "source": [
    "### worrydream's cookies demo[^inventing]\n",
    "\n",
    "<!---![](https://media3.giphy.com/media/BsUORZkF3gBqg/giphy.gif \"cookie monster happy as fuck eating cookies\")--->\n",
    "\n",
    "<blockquote cite=\"https://worrydream.com/Tangle/\">\n",
    "\n",
    "[Tangle] is a JavaScript library for creating reactive documents. Your readers can interactively explore possibilities, play with parameters, and see the document update immediately. Tangle is super-simple and easy to learn.\n",
    "\n",
    "</blockquote>\n",
    "\n",
    "<figure>\n",
    "<figcaption>\n",
    "\n",
    "the source code for the first [TangleJs][tangle] demo\n",
    "\n",
    "</figcaption>\n",
    "\n",
    "```html\n",
    "When you eat <span data-var=\"cookies\" class=\"TKAdjustableNumber\"> cookies</span>,\n",
    "you consume <span data-var=\"calories\"> calories</span>. \n",
    "```\n",
    "\n",
    "```javascript\n",
    "var tangle = new Tangle(document, {\n",
    "    initialize: function () { this.cookies = 3; },\n",
    "    update:     function () { this.calories = this.cookies * 50; }\n",
    "});\n",
    "\n",
    "```\n",
    "</figure>\n",
    "\n",
    "[tangle]: http://worrydream.com/Tangle/\n",
    "[inventing on principle]: https://www.youtube.com/watch?v=PUv66718DII\n",
    "[^inventing]: many folks working on computational interfaces are inspired by Bret Victor's [inventing on principle]\n"
   ]
  },
  {
   "cell_type": "code",
   "execution_count": 7,
   "id": "4bbf7d1e-6c91-40f8-97d5-5b2bf295bb65",
   "metadata": {
    "execution": {
     "iopub.execute_input": "2023-03-03T03:04:18.721674Z",
     "iopub.status.busy": "2023-03-03T03:04:18.721470Z",
     "iopub.status.idle": "2023-03-03T03:04:18.735782Z",
     "shell.execute_reply": "2023-03-03T03:04:18.735086Z",
     "shell.execute_reply.started": "2023-03-03T03:04:18.721658Z"
    },
    "jupyter": {
     "source_hidden": true
    },
    "slideshow": {
     "slide_type": "subslide"
    },
    "tags": []
   },
   "outputs": [
    {
     "data": {
      "application/vnd.jupyter.widget-view+json": {
       "model_id": "f016f5bea3b4435ca354c50cabede4bd",
       "version_major": 2,
       "version_minor": 0
      },
      "text/plain": [
       "IntSlider(value=3, description='🍪')"
      ]
     },
     "metadata": {},
     "output_type": "display_data"
    },
    {
     "data": {
      "text/markdown": [
       "<!--- we can shield variables from the global scope -->\n",
       "When you eat 3 cookies,\n",
       "you consume 150 calories. \n",
       "\n",
       "<div hidden><!--indented code is python-->\n",
       "\n",
       "        display(cookies := IntSlider(3, description=\"🍪\"))\n",
       "</div>\n",
       "\n",
       "🍪🍪🍪\n",
       "\n",
       "\n",
       "<figure>\n",
       "<figcaption>\n",
       "\n",
       "`pidgy` source code using html, markdown, jinja, and ipywidgets to create interactions\n",
       "\n",
       "</figcaption>\n",
       "\n",
       "```markdown\n",
       "\n",
       "{% set calories = 50 %}\n",
       "When you eat {{cookies.value}} cookies,\n",
       "you consume {{cookies.value * calories}} calories. \n",
       "\n",
       "<div hidden><!--indented code is python-->\n",
       "\n",
       "        cookies = IntSlider(3, description=\"🍪\")\n",
       "</div>\n",
       "\n",
       "```\n",
       "\n",
       "</figure>"
      ],
      "text/plain": [
       "<IPython.core.display.Markdown object>"
      ]
     },
     "metadata": {},
     "output_type": "display_data"
    }
   ],
   "source": [
    "{% set calories = 50 %}<!--- we can shield variables from the global scope -->\n",
    "When you eat {{cookies.value}} cookies,\n",
    "you consume {{cookies.value * calories}} calories. \n",
    "\n",
    "<div hidden><!--indented code is python-->\n",
    "\n",
    "        display(cookies := IntSlider(3, description=\"🍪\"))\n",
    "</div>\n",
    "\n",
    "{{\"🍪\" * cookies.value}}\n",
    "\n",
    "\n",
    "<figure>\n",
    "<figcaption>\n",
    "\n",
    "`pidgy` source code using html, markdown, jinja, and ipywidgets to create interactions\n",
    "\n",
    "</figcaption>\n",
    "\n",
    "```markdown\n",
    "{% raw %}\n",
    "{% set calories = 50 %}\n",
    "When you eat {{cookies.value}} cookies,\n",
    "you consume {{cookies.value * calories}} calories. \n",
    "\n",
    "<div hidden><!--indented code is python-->\n",
    "\n",
    "        cookies = IntSlider(3, description=\"🍪\")\n",
    "</div>\n",
    "{% endraw %}\n",
    "```\n",
    "\n",
    "</figure>"
   ]
  },
  {
   "cell_type": "code",
   "execution_count": 8,
   "id": "e12848ff-3409-4bb4-bce9-670109434cad",
   "metadata": {
    "execution": {
     "iopub.execute_input": "2023-03-03T03:04:18.736570Z",
     "iopub.status.busy": "2023-03-03T03:04:18.736397Z",
     "iopub.status.idle": "2023-03-03T03:04:19.549969Z",
     "shell.execute_reply": "2023-03-03T03:04:19.549641Z",
     "shell.execute_reply.started": "2023-03-03T03:04:18.736552Z"
    },
    "jupyter": {
     "source_hidden": true
    },
    "slideshow": {
     "slide_type": "slide"
    },
    "tags": []
   },
   "outputs": [
    {
     "data": {
      "text/markdown": [
       "### live data in your document\n",
       "\n",
       "<details markdown>\n",
       "<summary>imports for the pandas matplotlib demo</summary>\n",
       "\n",
       "    import pandas\n",
       "    from pidgy import get_cell_id\n",
       "    %matplotlib agg\n",
       "    \n",
       "</details>\n",
       "\n",
       "<details markdown open>\n",
       "<summary>supporting methods for the interactive demo</summary>`\n",
       "\n",
       "    @functools.lru_cache\n",
       "    def get_gist(x, max=100):\n",
       "[gather gist from the github api][gist].\n",
       "        \n",
       "        return pandas.read_json(F\"https://api.github.com/users/{x}/gists?per_page={max}\")\n",
       "    \n",
       "[gist]: https://docs.github.com/en/rest/gists?apiVersion=2022-11-28\n",
       "\n",
       "    def tidy_gist(x):\n",
       "explode the gist repsonse into a dataframe of gist files\n",
       "        \n",
       "        gists = get_gist(x).set_index(\"id\")\n",
       "        return gists.files.apply(compose_left(dict.values, list)).explode().apply(pandas.Series).join(gists)\n",
       "    \n",
       "</details>"
      ],
      "text/plain": [
       "<IPython.core.display.Markdown object>"
      ]
     },
     "metadata": {},
     "output_type": "display_data"
    }
   ],
   "source": [
    "### live data in your document\n",
    "\n",
    "<details markdown>\n",
    "<summary>imports for the pandas matplotlib demo</summary>\n",
    "\n",
    "    import pandas\n",
    "    from pidgy import get_cell_id\n",
    "    %matplotlib agg\n",
    "    \n",
    "</details>\n",
    "\n",
    "<details markdown open>\n",
    "<summary>supporting methods for the interactive demo</summary>`\n",
    "\n",
    "    @functools.lru_cache\n",
    "    def get_gist(x, max=100):\n",
    "[gather gist from the github api][gist].\n",
    "        \n",
    "        return pandas.read_json(F\"https://api.github.com/users/{x}/gists?per_page={max}\")\n",
    "    \n",
    "[gist]: https://docs.github.com/en/rest/gists?apiVersion=2022-11-28\n",
    "\n",
    "    def tidy_gist(x):\n",
    "explode the gist repsonse into a dataframe of gist files\n",
    "        \n",
    "        gists = get_gist(x).set_index(\"id\")\n",
    "        return gists.files.apply(compose_left(dict.values, list)).explode().apply(pandas.Series).join(gists)\n",
    "    \n",
    "</details>"
   ]
  },
  {
   "cell_type": "code",
   "execution_count": 9,
   "id": "8262925d-a79e-4eaa-8acd-360da3e45f7d",
   "metadata": {
    "execution": {
     "iopub.execute_input": "2023-03-03T03:04:19.550599Z",
     "iopub.status.busy": "2023-03-03T03:04:19.550427Z",
     "iopub.status.idle": "2023-03-03T03:04:19.688367Z",
     "shell.execute_reply": "2023-03-03T03:04:19.687830Z",
     "shell.execute_reply.started": "2023-03-03T03:04:19.550587Z"
    },
    "jupyter": {
     "source_hidden": true
    },
    "slideshow": {
     "slide_type": "subslide"
    },
    "tags": []
   },
   "outputs": [
    {
     "data": {
      "application/vnd.jupyter.widget-view+json": {
       "model_id": "7d97888f8793458e9b5b1890ed2b0128",
       "version_major": 2,
       "version_minor": 0
      },
      "text/plain": [
       "Text(value='tonyfast')"
      ]
     },
     "metadata": {},
     "output_type": "display_data"
    },
    {
     "data": {
      "application/vnd.jupyter.widget-view+json": {
       "model_id": "f2f83d66fd4342359aae8d4f64e1cf69",
       "version_major": 2,
       "version_minor": 0
      },
      "text/plain": [
       "Button(description='submit', style=ButtonStyle())"
      ]
     },
     "metadata": {},
     "output_type": "display_data"
    },
    {
     "data": {
      "text/markdown": [
       "#### an application in a cell.\n",
       "\n",
       "\n",
       "\n",
       "\n",
       "we've found information on 100 github gists, and 121 files, for @tonyfast.\n",
       "in this collection, there are 6 different languages included. their most common language is Jupyter Notebook.\n",
       "\n",
       "<div>\n",
       "<style scoped>\n",
       "    .dataframe tbody tr th:only-of-type {\n",
       "        vertical-align: middle;\n",
       "    }\n",
       "\n",
       "    .dataframe tbody tr th {\n",
       "        vertical-align: top;\n",
       "    }\n",
       "\n",
       "    .dataframe thead th {\n",
       "        text-align: right;\n",
       "    }\n",
       "</style>\n",
       "<table border=\"1\" class=\"dataframe\">\n",
       "  <thead>\n",
       "    <tr style=\"text-align: right;\">\n",
       "      <th></th>\n",
       "      <th>filename</th>\n",
       "      <th>type</th>\n",
       "      <th>language</th>\n",
       "      <th>raw_url</th>\n",
       "      <th>size</th>\n",
       "      <th>url</th>\n",
       "      <th>forks_url</th>\n",
       "      <th>commits_url</th>\n",
       "      <th>node_id</th>\n",
       "      <th>git_pull_url</th>\n",
       "      <th>...</th>\n",
       "      <th>files</th>\n",
       "      <th>public</th>\n",
       "      <th>created_at</th>\n",
       "      <th>updated_at</th>\n",
       "      <th>description</th>\n",
       "      <th>comments</th>\n",
       "      <th>user</th>\n",
       "      <th>comments_url</th>\n",
       "      <th>owner</th>\n",
       "      <th>truncated</th>\n",
       "    </tr>\n",
       "    <tr>\n",
       "      <th>id</th>\n",
       "      <th></th>\n",
       "      <th></th>\n",
       "      <th></th>\n",
       "      <th></th>\n",
       "      <th></th>\n",
       "      <th></th>\n",
       "      <th></th>\n",
       "      <th></th>\n",
       "      <th></th>\n",
       "      <th></th>\n",
       "      <th></th>\n",
       "      <th></th>\n",
       "      <th></th>\n",
       "      <th></th>\n",
       "      <th></th>\n",
       "      <th></th>\n",
       "      <th></th>\n",
       "      <th></th>\n",
       "      <th></th>\n",
       "      <th></th>\n",
       "      <th></th>\n",
       "    </tr>\n",
       "  </thead>\n",
       "  <tbody>\n",
       "    <tr>\n",
       "      <th>89fd5090a964b565e2575e50fd51744f</th>\n",
       "      <td>nox-magic.ipynb</td>\n",
       "      <td>text/plain</td>\n",
       "      <td>Jupyter Notebook</td>\n",
       "      <td>https://gist.githubusercontent.com/tonyfast/89...</td>\n",
       "      <td>8072</td>\n",
       "      <td>https://api.github.com/gists/89fd5090a964b565e...</td>\n",
       "      <td>https://api.github.com/gists/89fd5090a964b565e...</td>\n",
       "      <td>https://api.github.com/gists/89fd5090a964b565e...</td>\n",
       "      <td>MDQ6R2lzdDg5ZmQ1MDkwYTk2NGI1NjVlMjU3NWU1MGZkNT...</td>\n",
       "      <td>https://gist.github.com/89fd5090a964b565e2575e...</td>\n",
       "      <td>...</td>\n",
       "      <td>{'nox-magic.ipynb': {'filename': 'nox-magic.ip...</td>\n",
       "      <td>True</td>\n",
       "      <td>2021-05-01 03:02:46+00:00</td>\n",
       "      <td>2021-05-01 03:02:46+00:00</td>\n",
       "      <td></td>\n",
       "      <td>0</td>\n",
       "      <td>NaN</td>\n",
       "      <td>https://api.github.com/gists/89fd5090a964b565e...</td>\n",
       "      <td>{'login': 'tonyfast', 'id': 4236275, 'node_id'...</td>\n",
       "      <td>False</td>\n",
       "    </tr>\n",
       "    <tr>\n",
       "      <th>3440a5b4c19a257d6164fff93fbef154</th>\n",
       "      <td>magics.ipynb</td>\n",
       "      <td>text/plain</td>\n",
       "      <td>Jupyter Notebook</td>\n",
       "      <td>https://gist.githubusercontent.com/tonyfast/34...</td>\n",
       "      <td>12759</td>\n",
       "      <td>https://api.github.com/gists/3440a5b4c19a257d6...</td>\n",
       "      <td>https://api.github.com/gists/3440a5b4c19a257d6...</td>\n",
       "      <td>https://api.github.com/gists/3440a5b4c19a257d6...</td>\n",
       "      <td>MDQ6R2lzdDM0NDBhNWI0YzE5YTI1N2Q2MTY0ZmZmOTNmYm...</td>\n",
       "      <td>https://gist.github.com/3440a5b4c19a257d6164ff...</td>\n",
       "      <td>...</td>\n",
       "      <td>{'magics.ipynb': {'filename': 'magics.ipynb', ...</td>\n",
       "      <td>True</td>\n",
       "      <td>2021-05-28 16:15:20+00:00</td>\n",
       "      <td>2021-05-28 20:48:01+00:00</td>\n",
       "      <td></td>\n",
       "      <td>0</td>\n",
       "      <td>NaN</td>\n",
       "      <td>https://api.github.com/gists/3440a5b4c19a257d6...</td>\n",
       "      <td>{'login': 'tonyfast', 'id': 4236275, 'node_id'...</td>\n",
       "      <td>False</td>\n",
       "    </tr>\n",
       "  </tbody>\n",
       "</table>\n",
       "<p>2 rows × 22 columns</p>\n",
       "</div>\n",
       "\n",
       "    display(\n",
       "        _github_user := Text(\"tonyfast\"), button := Button(description=\"submit\"))\n",
       "    button.on_click(lambda x, id=get_cell_id(): print(id) or shell.weave.displays[id].update())\n",
       "<div>\n",
       "<style scoped>\n",
       "    .dataframe tbody tr th:only-of-type {\n",
       "        vertical-align: middle;\n",
       "    }\n",
       "\n",
       "    .dataframe tbody tr th {\n",
       "        vertical-align: top;\n",
       "    }\n",
       "\n",
       "    .dataframe thead th {\n",
       "        text-align: right;\n",
       "    }\n",
       "</style>\n",
       "<table border=\"1\" class=\"dataframe\">\n",
       "  <thead>\n",
       "    <tr style=\"text-align: right;\">\n",
       "      <th></th>\n",
       "      <th>Jupyter Notebook</th>\n",
       "      <th>Python</th>\n",
       "      <th>Text</th>\n",
       "      <th>Markdown</th>\n",
       "      <th>HTML</th>\n",
       "      <th>JSON</th>\n",
       "    </tr>\n",
       "  </thead>\n",
       "  <tbody>\n",
       "    <tr>\n",
       "      <th>ct</th>\n",
       "      <td>84</td>\n",
       "      <td>15</td>\n",
       "      <td>9</td>\n",
       "      <td>8</td>\n",
       "      <td>2</td>\n",
       "      <td>1</td>\n",
       "    </tr>\n",
       "  </tbody>\n",
       "</table>\n",
       "</div>"
      ],
      "text/plain": [
       "<IPython.core.display.Markdown object>"
      ]
     },
     "metadata": {},
     "output_type": "display_data"
    }
   ],
   "source": [
    "#### an application in a cell.\n",
    "\n",
    "{% set gists = tidy_gist(_github_user.value) %}\n",
    "{% set lang = gists.language.dropna().value_counts() %}\n",
    "\n",
    "we've found information on {{gists.index.unique().shape[0]}} github gists, and {{len(gists)}} files, for @{{_github_user.value}}.\n",
    "in this collection, there are {{len(lang)}} different languages included. their most common language is {{lang.index[0]}}.\n",
    "\n",
    "{{gists.sample(2)}}\n",
    "\n",
    "    display(\n",
    "        _github_user := Text(\"tonyfast\"), button := Button(description=\"submit\"))\n",
    "    button.on_click(lambda x, id=get_cell_id(): print(id) or shell.weave.displays[id].update())\n",
    "{{lang.to_frame(\"ct\").T}}"
   ]
  },
  {
   "cell_type": "code",
   "execution_count": 10,
   "id": "18342220-1c06-4e36-8c48-f3d23f8552d2",
   "metadata": {
    "execution": {
     "iopub.execute_input": "2023-03-03T03:04:19.689422Z",
     "iopub.status.busy": "2023-03-03T03:04:19.689080Z",
     "iopub.status.idle": "2023-03-03T03:04:19.699497Z",
     "shell.execute_reply": "2023-03-03T03:04:19.698825Z",
     "shell.execute_reply.started": "2023-03-03T03:04:19.689398Z"
    },
    "jupyter": {
     "source_hidden": true
    },
    "slideshow": {
     "slide_type": "fragment"
    },
    "tags": []
   },
   "outputs": [
    {
     "data": {
      "text/markdown": [
       "### et `voila`\n",
       "\n",
       "\n",
       "\n",
       "<button data-commandlinker-command=\"notebook:render-with-voila\" >et <code>voila</code></button>"
      ],
      "text/plain": [
       "<IPython.core.display.Markdown object>"
      ]
     },
     "metadata": {},
     "output_type": "display_data"
    }
   ],
   "source": [
    "### et `voila`\n",
    "\n",
    "{% if LITE %}\n",
    "> 😞 unforntunately, this part of the demo is not available on jupyter lite.\n",
    "{% endif %}\n",
    "\n",
    "<button data-commandlinker-command=\"notebook:render-with-voila\" {% if  LITE %}disabled{% endif %}>et <code>voila</code></button>"
   ]
  },
  {
   "cell_type": "code",
   "execution_count": 11,
   "id": "d8409c09-f71d-4186-8e93-6921e2970d74",
   "metadata": {
    "execution": {
     "iopub.execute_input": "2023-03-03T03:04:19.700577Z",
     "iopub.status.busy": "2023-03-03T03:04:19.700380Z",
     "iopub.status.idle": "2023-03-03T03:04:19.715961Z",
     "shell.execute_reply": "2023-03-03T03:04:19.715268Z",
     "shell.execute_reply.started": "2023-03-03T03:04:19.700559Z"
    },
    "jupyter": {
     "source_hidden": true
    },
    "slideshow": {
     "slide_type": "slide"
    },
    "tags": []
   },
   "outputs": [
    {
     "data": {
      "text/markdown": [
       "## wrap up\n",
       "\n",
       "* this presentation had a number of incidental demos.\n",
       "    * jupyterlab-deck\n",
       "    * jupyterlab-markup\n",
       "    * voila\n",
       "    * mermaid\n",
       "    * midgy\n",
       "    \n",
       "\n",
       "* we have on and off cells now that all of the sources are markdown \n",
       "* the template syntax is a powerful way to include python variables inline. the traditional notebook format only allows for block level literate programs.\n",
       "* since literate programs are pidgin languages we can't expect them to be formalized. there are a lot of inconsistencies with the languages combined.\n",
       "jinja2 template implementations vary. markdown renderers implementation vary. python keeps adding language features. \n",
       "\n",
       "\n",
       "\n",
       "<form style=\"font-size: 3rem; line-height: 60%;\">\n",
       "<label for=\"rara\">🎗🎗🎗🎗🎗🎗🎗🎗</label><br/><button id=\"rara\" data-commandlinker-command=\"runmenu:restart-and-run-all\" style=\"font-size: 3rem; line-height: 60%;\">restart and run all</button><br/><label for=\"rara\">or it didn't happen</label>\n",
       "</form>"
      ],
      "text/plain": [
       "<IPython.core.display.Markdown object>"
      ]
     },
     "metadata": {},
     "output_type": "display_data"
    }
   ],
   "source": [
    "## wrap up\n",
    "\n",
    "* this presentation had a number of incidental demos.\n",
    "    * jupyterlab-deck\n",
    "    * jupyterlab-markup\n",
    "    * voila\n",
    "    * mermaid\n",
    "    * midgy\n",
    "    \n",
    "\n",
    "* we have on and off cells now that all of the sources are markdown \n",
    "* the template syntax is a powerful way to include python variables inline. the traditional notebook format only allows for block level literate programs.\n",
    "* since literate programs are pidgin languages we can't expect them to be formalized. there are a lot of inconsistencies with the languages combined.\n",
    "jinja2 template implementations vary. markdown renderers implementation vary. python keeps adding language features. \n",
    "\n",
    "{% set sz = 3 %}\n",
    "{% set h = 60 %}\n",
    "<form style=\"font-size: {{sz}}rem; line-height: {{h}}%;\">\n",
    "<label for=\"rara\">🎗🎗🎗🎗🎗🎗🎗🎗</label><br/><button id=\"rara\" data-commandlinker-command=\"runmenu:restart-and-run-all\" style=\"font-size: {{sz}}rem; line-height: {{h}}%;\">restart and run all</button><br/><label for=\"rara\">or it didn't happen</label>\n",
    "</form>"
   ]
  },
  {
   "cell_type": "code",
   "execution_count": null,
   "id": "4e6df5a5-5e2b-412f-a206-a356a1e6991a",
   "metadata": {
    "jupyter": {
     "source_hidden": true
    }
   },
   "outputs": [],
   "source": []
  },
  {
   "cell_type": "code",
   "execution_count": null,
   "id": "28254214-6352-4ba2-ad39-84dbd34e4b2f",
   "metadata": {
    "jupyter": {
     "source_hidden": true
    }
   },
   "outputs": [],
   "source": []
  }
 ],
 "metadata": {
  "kernelspec": {
   "display_name": "Python [conda env:root] *",
   "language": "python",
   "name": "conda-root-py"
  },
  "language_info": {
   "codemirror_mode": {
    "name": "ipython",
    "version": 3
   },
   "file_extension": ".py",
   "mimetype": "text/x-python",
   "name": "python",
   "nbconvert_exporter": "python",
   "pygments_lexer": "ipython3",
   "version": "3.10.9"
  },
  "widgets": {
   "application/vnd.jupyter.widget-state+json": {
    "state": {
     "049278abfa294c0db4a5587c1f0388cc": {
      "model_module": "@jupyter-widgets/controls",
      "model_module_version": "2.0.0",
      "model_name": "SliderStyleModel",
      "state": {
       "description_width": ""
      }
     },
     "19a390e5943c408bb0a2fd03d819ac60": {
      "model_module": "@jupyter-widgets/base",
      "model_module_version": "2.0.0",
      "model_name": "LayoutModel",
      "state": {}
     },
     "624f5c44a24a4fdb86ca8530e9766ec4": {
      "model_module": "@jupyter-widgets/base",
      "model_module_version": "2.0.0",
      "model_name": "LayoutModel",
      "state": {}
     },
     "7001f7f85ef8452882c868d634f91832": {
      "model_module": "@jupyter-widgets/base",
      "model_module_version": "2.0.0",
      "model_name": "LayoutModel",
      "state": {}
     },
     "7d97888f8793458e9b5b1890ed2b0128": {
      "model_module": "@jupyter-widgets/controls",
      "model_module_version": "2.0.0",
      "model_name": "TextModel",
      "state": {
       "layout": "IPY_MODEL_624f5c44a24a4fdb86ca8530e9766ec4",
       "style": "IPY_MODEL_fdbe474d5faf4f2c8e1a0a04125a932e",
       "value": "tonyfast"
      }
     },
     "8cd9ea1510f349b4b433f238581ae1bd": {
      "model_module": "@jupyter-widgets/controls",
      "model_module_version": "2.0.0",
      "model_name": "ButtonStyleModel",
      "state": {
       "font_family": null,
       "font_size": null,
       "font_style": null,
       "font_variant": null,
       "font_weight": null,
       "text_color": null,
       "text_decoration": null
      }
     },
     "a59df83a6d58485bb5d8618256e25abc": {
      "model_module": "@jupyter-widgets/controls",
      "model_module_version": "2.0.0",
      "model_name": "IntSliderModel",
      "state": {
       "behavior": "drag-tap",
       "description": "show more languages",
       "layout": "IPY_MODEL_19a390e5943c408bb0a2fd03d819ac60",
       "max": 6,
       "min": 1,
       "style": "IPY_MODEL_bceb7f3a84fc489ba4019921fcdc9df7",
       "value": 6
      }
     },
     "bceb7f3a84fc489ba4019921fcdc9df7": {
      "model_module": "@jupyter-widgets/controls",
      "model_module_version": "2.0.0",
      "model_name": "SliderStyleModel",
      "state": {
       "description_width": ""
      }
     },
     "e7ac690d2a12492ab162dc9503938061": {
      "model_module": "@jupyter-widgets/base",
      "model_module_version": "2.0.0",
      "model_name": "LayoutModel",
      "state": {}
     },
     "f016f5bea3b4435ca354c50cabede4bd": {
      "model_module": "@jupyter-widgets/controls",
      "model_module_version": "2.0.0",
      "model_name": "IntSliderModel",
      "state": {
       "behavior": "drag-tap",
       "description": "🍪",
       "layout": "IPY_MODEL_7001f7f85ef8452882c868d634f91832",
       "style": "IPY_MODEL_049278abfa294c0db4a5587c1f0388cc",
       "value": 3
      }
     },
     "f2f83d66fd4342359aae8d4f64e1cf69": {
      "model_module": "@jupyter-widgets/controls",
      "model_module_version": "2.0.0",
      "model_name": "ButtonModel",
      "state": {
       "description": "submit",
       "layout": "IPY_MODEL_e7ac690d2a12492ab162dc9503938061",
       "style": "IPY_MODEL_8cd9ea1510f349b4b433f238581ae1bd",
       "tooltip": null
      }
     },
     "fdbe474d5faf4f2c8e1a0a04125a932e": {
      "model_module": "@jupyter-widgets/controls",
      "model_module_version": "2.0.0",
      "model_name": "TextStyleModel",
      "state": {
       "description_width": "",
       "font_size": null,
       "text_color": null
      }
     }
    },
    "version_major": 2,
    "version_minor": 0
   }
  }
 },
 "nbformat": 4,
 "nbformat_minor": 5
}
