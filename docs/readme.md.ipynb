{
 "cells": [
  {
   "cell_type": "code",
   "execution_count": 1,
   "metadata": {},
   "outputs": [],
   "source": [
    "    from IPython import get_ipython\n",
    "    %reload_ext pidgin"
   ]
  },
  {
   "cell_type": "code",
   "execution_count": 2,
   "metadata": {},
   "outputs": [
    {
     "data": {
      "text/html": [
       "<style>\n",
       "/**Sure we can write inline css.**/\n",
       "p img, p svg {\n",
       "    vertical-align: middle;\n",
       "} \n",
       "/**vertical-align: baseline|length|sub|super|top|text-top|middle|bottom|text-bottom|initial|inherit;**/\n",
       "</style>"
      ],
      "text/markdown": [
       "<style>\n",
       "/**Sure we can write inline css.**/\n",
       "p img, p svg {\n",
       "    vertical-align: middle;\n",
       "} \n",
       "/**vertical-align: baseline|length|sub|super|top|text-top|middle|bottom|text-bottom|initial|inherit;**/\n",
       "</style>"
      ],
      "text/plain": [
       "'<style>\\n/**Sure we can write inline css.**/\\np img, p svg {\\n    vertical-align: middle;\\n} \\n/**vertical-align: baseline|length|sub|super|top|text-top|middle|bottom|text-bottom|initial|inherit;**/\\n</style>'"
      ]
     },
     "metadata": {},
     "output_type": "display_data"
    }
   ],
   "source": [
    "<style>\n",
    "/**Sure we can write inline css.**/\n",
    "p img, p svg {\n",
    "    vertical-align: middle;\n",
    "} \n",
    "/**vertical-align: baseline|length|sub|super|top|text-top|middle|bottom|text-bottom|initial|inherit;**/\n",
    "</style>"
   ]
  },
  {
   "cell_type": "code",
   "execution_count": 3,
   "metadata": {},
   "outputs": [
    {
     "data": {
      "text/html": [
       "<h1>What is <code>pidgin</code>?</h1>\n",
       "<p><code>pidgin</code> is a multi-lingual, <strong>Markdown</strong> forward, interactive \n",
       "programming interface.  It is an implementation of a more general idea where \n",
       "multiple programming grammars are tangled within a <strong>Markdown</strong> narrative.  This approach to programming\n",
       "applies to problems where neither the code nor the narrative is clear, but the concept\n",
       "may be described as a woven hybrid of the <strong>2</strong>.</p>\n",
       "<p><code>pidgin</code> is designed to interactively and incrementally create <a href=\"\">literate programs</a> proposed by <a href=\"\">Donald Knuth</a>.  <code>pidgin</code>\n",
       "is a specific implementation that hot rods running <code>IPython</code> kernels in <strong>Jupyter</strong> notebook and lab.</p>\n",
       "<pre><code>    import pidgin, jinja2, IPython; get_ipython = IPython.get_ipython\n",
       "</code></pre>\n",
       "<ol>\n",
       "<li><strong>Tangle</strong> <strong>Markdown</strong> code into valid <strong>Python</strong> code.</li>\n",
       "<li><strong>Weave</strong> <strong>Python</strong> <code>object</code>s and <code>jinja2</code> templates into the computational narrative.</li>\n",
       "</ol>\n",
       "<p>The resulting documents created by <code>pidgin</code> are <a href=\"https://blog.stephenwolfram.com/2017/11/what-is-a-computational-essay/\">computational essays</a> that connect \n",
       "<svg width=\"63pt\" height=\"44pt\"viewBox=\"0.00 0.00 62.60 44.00\" xmlns=\"http://www.w3.org/2000/svg\" ><g id=\"graph0\" class=\"graph\" transform=\"scale(1 1) rotate(0) translate(4 40)\"><title>%3</title><polygon fill=\"white\" stroke=\"none\" points=\"-4,4 -4,-40 58.5952,-40 58.5952,4 -4,4\"/><!-- Text --><g id=\"node1\" class=\"node\"><title>Text</title><ellipse fill=\"none\" stroke=\"black\" cx=\"27.2976\" cy=\"-18\" rx=\"27.0966\" ry=\"18\"/><text text-anchor=\"middle\" x=\"27.2976\" y=\"-14.3\" font-family=\"Times New Roman,serif\" font-size=\"14.00\">Text</text></g></g></svg> <svg width=\"68pt\" height=\"44pt\"viewBox=\"0.00 0.00 67.79 44.00\" xmlns=\"http://www.w3.org/2000/svg\" ><g id=\"graph0\" class=\"graph\" transform=\"scale(1 1) rotate(0) translate(4 40)\"><title>%3</title><polygon fill=\"white\" stroke=\"none\" points=\"-4,4 -4,-40 63.7947,-40 63.7947,4 -4,4\"/><!-- Input --><g id=\"node1\" class=\"node\"><title>Input</title><ellipse fill=\"none\" stroke=\"black\" cx=\"29.8973\" cy=\"-18\" rx=\"29.795\" ry=\"18\"/><text text-anchor=\"middle\" x=\"29.8973\" y=\"-14.3\" font-family=\"Times New Roman,serif\" font-size=\"14.00\">Input</text></g></g></svg> and <svg width=\"81pt\" height=\"44pt\"viewBox=\"0.00 0.00 80.79 44.00\" xmlns=\"http://www.w3.org/2000/svg\" ><g id=\"graph0\" class=\"graph\" transform=\"scale(1 1) rotate(0) translate(4 40)\"><title>%3</title><polygon fill=\"white\" stroke=\"none\" points=\"-4,4 -4,-40 76.7935,-40 76.7935,4 -4,4\"/><!-- Output --><g id=\"node1\" class=\"node\"><title>Output</title><ellipse fill=\"none\" stroke=\"black\" cx=\"36.3968\" cy=\"-18\" rx=\"36.2938\" ry=\"18\"/><text text-anchor=\"middle\" x=\"36.3968\" y=\"-14.3\" font-family=\"Times New Roman,serif\" font-size=\"14.00\">Output</text></g></g></svg> composed interactively in <code>IPython</code>.</p>\n",
       "<p><svg width=\"365pt\" height=\"150pt\"viewBox=\"0.00 0.00 365.39 150.00\" xmlns=\"http://www.w3.org/2000/svg\" ><g id=\"graph0\" class=\"graph\" transform=\"scale(1 1) rotate(0) translate(4 146)\"><title>%3</title><polygon fill=\"white\" stroke=\"none\" points=\"-4,4 -4,-146 361.389,-146 361.389,4 -4,4\"/><g id=\"clust1\" class=\"cluster\"><title>cluster</title><polygon fill=\"none\" stroke=\"black\" points=\"8,-8 8,-134 349.389,-134 349.389,-8 8,-8\"/><text text-anchor=\"middle\" x=\"178.694\" y=\"-118.8\" font-family=\"Times New Roman,serif\" font-size=\"14.00\">Computational Essays</text></g><!-- Text --><g id=\"node1\" class=\"node\"><title>Text</title><ellipse fill=\"none\" stroke=\"black\" cx=\"43.2976\" cy=\"-60\" rx=\"27.0966\" ry=\"18\"/><text text-anchor=\"middle\" x=\"43.2976\" y=\"-56.3\" font-family=\"Times New Roman,serif\" font-size=\"14.00\">Text</text></g><!-- Input --><g id=\"node2\" class=\"node\"><title>Input</title><ellipse fill=\"none\" stroke=\"black\" cx=\"169.595\" cy=\"-34\" rx=\"29.795\" ry=\"18\"/><text text-anchor=\"middle\" x=\"169.595\" y=\"-30.3\" font-family=\"Times New Roman,serif\" font-size=\"14.00\">Input</text></g><!-- Text&#45;&gt;Input --><g id=\"edge1\" class=\"edge\"><title>Text&#45;&gt;Input</title><path fill=\"none\" stroke=\"black\" d=\"M69.451,-54.7385C87.0902,-51.0488 110.981,-46.0516 130.89,-41.887\"/><polygon fill=\"black\" stroke=\"black\" points=\"131.813,-45.2699 140.884,-39.7965 130.379,-38.4181 131.813,-45.2699\"/></g><!-- Output --><g id=\"node3\" class=\"node\"><title>Output</title><ellipse fill=\"none\" stroke=\"black\" cx=\"304.992\" cy=\"-59\" rx=\"36.2938\" ry=\"18\"/><text text-anchor=\"middle\" x=\"304.992\" y=\"-55.3\" font-family=\"Times New Roman,serif\" font-size=\"14.00\">Output</text></g><!-- Input&#45;&gt;Output --><g id=\"edge2\" class=\"edge\"><title>Input&#45;&gt;Output</title><path fill=\"none\" stroke=\"black\" d=\"M198.235,-39.18C216.253,-42.5569 240.144,-47.0342 260.658,-50.8788\"/><polygon fill=\"black\" stroke=\"black\" points=\"260.249,-54.363 270.723,-52.765 261.539,-47.4828 260.249,-54.363\"/></g><!-- Output&#45;&gt;Text --><g id=\"edge3\" class=\"edge\"><title>Output&#45;&gt;Text</title><path fill=\"none\" stroke=\"black\" d=\"M268.646,-60.1719C256.863,-60.5104 243.665,-60.8333 231.595,-61 176.489,-61.761 162.705,-61.4353 107.595,-61 99.0005,-60.9321 89.75,-60.8124 81.0464,-60.6788\"/><polygon fill=\"black\" stroke=\"black\" points=\"80.8377,-57.1751 70.782,-60.5116 80.7236,-64.1741 80.8377,-57.1751\"/><text text-anchor=\"middle\" x=\"169.595\" y=\"-64.8\" font-family=\"Times New Roman,serif\" font-size=\"14.00\">Interactive Computing</text></g></g></svg></p>"
      ],
      "text/markdown": [
       "# What is `pidgin`?\n",
       "\n",
       "`pidgin` is a multi-lingual, __Markdown__ forward, interactive \n",
       "programming interface.  It is an implementation of a more general idea where \n",
       "multiple programming grammars are tangled within a __Markdown__ narrative.  This approach to programming\n",
       "applies to problems where neither the code nor the narrative is clear, but the concept\n",
       "may be described as a woven hybrid of the __2__. \n",
       "\n",
       "`pidgin` is designed to interactively and incrementally create [literate programs]() proposed by [Donald Knuth]().  `pidgin`\n",
       "is a specific implementation that hot rods running `IPython` kernels in __Jupyter__ notebook and lab.\n",
       "    \n",
       "        import pidgin, jinja2, IPython; get_ipython = IPython.get_ipython\n",
       "        \n",
       "1. __Tangle__ __Markdown__ code into valid __Python__ code.\n",
       "2. __Weave__ __Python__ `object`s and `jinja2` templates into the computational narrative.\n",
       "\n",
       "\n",
       "The resulting documents created by `pidgin` are [computational essays](https://blog.stephenwolfram.com/2017/11/what-is-a-computational-essay/) that connect \n",
       "{{\"graph {Text}\"}} {{\"graph {Input}\"}} and {{\"graph {Output}\"}} composed interactively in `IPython`.\n",
       "\n",
       "{{'digraph {rankdir=LR subgraph cluster{ label=\"Computational Essays\" Text->Input->Output Output->Text[label=\"Interactive Computing\"]}}'}}"
      ],
      "text/plain": [
       "'# What is `pidgin`?\\n\\n`pidgin` is a multi-lingual, __Markdown__ forward, interactive \\nprogramming interface.  It is an implementation of a more general idea where \\nmultiple programming grammars are tangled within a __Markdown__ narrative.  This approach to programming\\napplies to problems where neither the code nor the narrative is clear, but the concept\\nmay be described as a woven hybrid of the __2__. \\n\\n`pidgin` is designed to interactively and incrementally create [literate programs]() proposed by [Donald Knuth]().  `pidgin`\\nis a specific implementation that hot rods running `IPython` kernels in __Jupyter__ notebook and lab.\\n    \\n        import pidgin, jinja2, IPython; get_ipython = IPython.get_ipython\\n        \\n1. __Tangle__ __Markdown__ code into valid __Python__ code.\\n2. __Weave__ __Python__ `object`s and `jinja2` templates into the computational narrative.\\n\\n\\nThe resulting documents created by `pidgin` are [computational essays](https://blog.stephenwolfram.com/2017/11/what-is-a-computational-essay/) that connect \\n{{\"graph {Text}\"}} {{\"graph {Input}\"}} and {{\"graph {Output}\"}} composed interactively in `IPython`.\\n\\n{{\\'digraph {rankdir=LR subgraph cluster{ label=\"Computational Essays\" Text->Input->Output Output->Text[label=\"Interactive Computing\"]}}\\'}}'"
      ]
     },
     "metadata": {},
     "output_type": "display_data"
    }
   ],
   "source": [
    "# What is `pidgin`?\n",
    "\n",
    "`pidgin` is a multi-lingual, __Markdown__ forward, interactive \n",
    "programming interface.  It is an implementation of a more general idea where \n",
    "multiple programming grammars are tangled within a __Markdown__ narrative.  This approach to programming\n",
    "applies to problems where neither the code nor the narrative is clear, but the concept\n",
    "may be described as a woven hybrid of the __2__. \n",
    "\n",
    "`pidgin` is designed to interactively and incrementally create [literate programs]() proposed by [Donald Knuth]().  `pidgin`\n",
    "is a specific implementation that hot rods running `IPython` kernels in __Jupyter__ notebook and lab.\n",
    "    \n",
    "        import pidgin, jinja2, IPython; get_ipython = IPython.get_ipython\n",
    "        \n",
    "1. __Tangle__ __Markdown__ code into valid __Python__ code.\n",
    "2. __Weave__ __Python__ `object`s and `jinja2` templates into the computational narrative.\n",
    "\n",
    "\n",
    "The resulting documents created by `pidgin` are [computational essays](https://blog.stephenwolfram.com/2017/11/what-is-a-computational-essay/) that connect \n",
    "{{\"graph {Text}\"}} {{\"graph {Input}\"}} and {{\"graph {Output}\"}} composed interactively in `IPython`.\n",
    "\n",
    "{{'digraph {rankdir=LR subgraph cluster{ label=\"Computational Essays\" Text->Input->Output Output->Text[label=\"Interactive Computing\"]}}'}}"
   ]
  },
  {
   "cell_type": "code",
   "execution_count": 4,
   "metadata": {},
   "outputs": [
    {
     "data": {
      "text/html": [
       "<h2>Literate Programming</h2>\n",
       "<blockquote><p>By coining the phrase “literate programming,” I am imposing a moral commitment\n",
       "on everyone who hears the term; surely nobody wants to admit writing an illiterate program.</p>\n",
       "</blockquote>\n",
       "<p>There are quite a few tools for literate programming that model Knuth's original Pascal implementation of <a href=\"http://www.literateprogramming.com/knuthweb.pdf\"><strong>WEB</strong></a>.  <code>pidgin</code> does not try to be an exact copy of <strong>WEB</strong> because computing, \n",
       "and most specifically interactive computing, has changed significantly.  Other contemporaries of <code>pidgin</code> are <strong>RMarkdown</strong>\n",
       "and <strong>Mathematica</strong> computational essays.</p>\n",
       "<p><code>pidgin</code> focuses on the core value of <strong>literate programming</strong> that one should <em>never write an illiterate program</em>.</p>"
      ],
      "text/markdown": [
       "## Literate Programming\n",
       "\n",
       "> By coining the phrase “literate programming,” I am imposing a moral commitment\n",
       "on everyone who hears the term; surely nobody wants to admit writing an illiterate program.\n",
       "\n",
       "There are quite a few tools for literate programming that model Knuth's original Pascal implementation of [__WEB__](http://www.literateprogramming.com/knuthweb.pdf).  `pidgin` does not try to be an exact copy of __WEB__ because computing, \n",
       "and most specifically interactive computing, has changed significantly.  Other contemporaries of `pidgin` are __RMarkdown__\n",
       "and __Mathematica__ computational essays.\n",
       "\n",
       "`pidgin` focuses on the core value of __literate programming__ that one should _never write an illiterate program_."
      ],
      "text/plain": [
       "\"## Literate Programming\\n\\n> By coining the phrase “literate programming,” I am imposing a moral commitment\\non everyone who hears the term; surely nobody wants to admit writing an illiterate program.\\n\\nThere are quite a few tools for literate programming that model Knuth's original Pascal implementation of [__WEB__](http://www.literateprogramming.com/knuthweb.pdf).  `pidgin` does not try to be an exact copy of __WEB__ because computing, \\nand most specifically interactive computing, has changed significantly.  Other contemporaries of `pidgin` are __RMarkdown__\\nand __Mathematica__ computational essays.\\n\\n`pidgin` focuses on the core value of __literate programming__ that one should _never write an illiterate program_.\""
      ]
     },
     "metadata": {},
     "output_type": "display_data"
    }
   ],
   "source": [
    "## Literate Programming\n",
    "\n",
    "> By coining the phrase “literate programming,” I am imposing a moral commitment\n",
    "on everyone who hears the term; surely nobody wants to admit writing an illiterate program.\n",
    "\n",
    "There are quite a few tools for literate programming that model Knuth's original Pascal implementation of [__WEB__](http://www.literateprogramming.com/knuthweb.pdf).  `pidgin` does not try to be an exact copy of __WEB__ because computing, \n",
    "and most specifically interactive computing, has changed significantly.  Other contemporaries of `pidgin` are __RMarkdown__\n",
    "and __Mathematica__ computational essays.\n",
    "\n",
    "`pidgin` focuses on the core value of __literate programming__ that one should _never write an illiterate program_."
   ]
  },
  {
   "cell_type": "code",
   "execution_count": 5,
   "metadata": {},
   "outputs": [
    {
     "data": {
      "text/html": [
       "<h2>Language</h2>\n",
       "<blockquote><p>Let us change our traditional attitude to the construction of programs: Instead of imagining that our\n",
       "main task is to instruct a computer what to do, let us concentrate rather on explaining to human beings what\n",
       "we want a computer to do.</p>\n",
       "</blockquote>\n",
       "<p>Literate programs are readable documents composed in human logic; <a href=\"\">imperative</a>/<a href=\"\">declarative</a> \n",
       "programs are for the computer. Literate programs will use combinations of \n",
       "imperative and declarative tools to express human logic.  This approach to programming is ideal for domain experts that \n",
       "speak a hybrid languages of human and computer language.</p>\n",
       "<p>The distinct overlap between literate programming and science is they are multi-lingual.  Open\n",
       "source software and scientific computing are causing an evolution scientific communication.  Communities are \n",
       "organizing to understand increasingly complex systems.  The collision of scientific interests rise <code>pidgin</code> languages.\n",
       "The hope is that these languages will contribute to a scientific <strong>creole</strong>, rather than the increasing tribalism \n",
       "in scientific, technology, engineering, art and mathematics.</p>\n",
       "<h2><code>pidgin</code> is just an implementation.</h2>\n",
       "<p>To reiterate, like <strong>WEB</strong>, <code>pidgin</code> is just an implementation.  <code>pidgin</code> promotes an multi-objective and multi-lingual approach to \n",
       "programming.  <code>pidgin</code> assists authors during the act of literate computing by readability and reproducability.</p>\n",
       "<p><code>pidgin</code> uses <code>IPython</code> and <code>notebook</code>s as a substrate for modifying the interactive programming experience.</p>\n",
       "<pre><code>    import notebook\n",
       "</code></pre>"
      ],
      "text/markdown": [
       "## Language\n",
       "\n",
       "> Let us change our traditional attitude to the construction of programs: Instead of imagining that our\n",
       "main task is to instruct a computer what to do, let us concentrate rather on explaining to human beings what\n",
       "we want a computer to do.\n",
       "\n",
       "Literate programs are readable documents composed in human logic; [imperative]()/[declarative]() \n",
       "programs are for the computer. Literate programs will use combinations of \n",
       "imperative and declarative tools to express human logic.  This approach to programming is ideal for domain experts that \n",
       "speak a hybrid languages of human and computer language.  \n",
       "\n",
       "The distinct overlap between literate programming and science is they are multi-lingual.  Open\n",
       "source software and scientific computing are causing an evolution scientific communication.  Communities are \n",
       "organizing to understand increasingly complex systems.  The collision of scientific interests rise `pidgin` languages.\n",
       "The hope is that these languages will contribute to a scientific __creole__, rather than the increasing tribalism \n",
       "in scientific, technology, engineering, art and mathematics.\n",
       "\n",
       "## `pidgin` is just an implementation.\n",
       "\n",
       "To reiterate, like __WEB__, `pidgin` is just an implementation.  `pidgin` promotes an multi-objective and multi-lingual approach to \n",
       "programming.  `pidgin` assists authors during the act of literate computing by readability and reproducability.\n",
       "\n",
       "`pidgin` uses `IPython` and `notebook`s as a substrate for modifying the interactive programming experience.\n",
       "\n",
       "        import notebook"
      ],
      "text/plain": [
       "'## Language\\n\\n> Let us change our traditional attitude to the construction of programs: Instead of imagining that our\\nmain task is to instruct a computer what to do, let us concentrate rather on explaining to human beings what\\nwe want a computer to do.\\n\\nLiterate programs are readable documents composed in human logic; [imperative]()/[declarative]() \\nprograms are for the computer. Literate programs will use combinations of \\nimperative and declarative tools to express human logic.  This approach to programming is ideal for domain experts that \\nspeak a hybrid languages of human and computer language.  \\n\\nThe distinct overlap between literate programming and science is they are multi-lingual.  Open\\nsource software and scientific computing are causing an evolution scientific communication.  Communities are \\norganizing to understand increasingly complex systems.  The collision of scientific interests rise `pidgin` languages.\\nThe hope is that these languages will contribute to a scientific __creole__, rather than the increasing tribalism \\nin scientific, technology, engineering, art and mathematics.\\n\\n## `pidgin` is just an implementation.\\n\\nTo reiterate, like __WEB__, `pidgin` is just an implementation.  `pidgin` promotes an multi-objective and multi-lingual approach to \\nprogramming.  `pidgin` assists authors during the act of literate computing by readability and reproducability.\\n\\n`pidgin` uses `IPython` and `notebook`s as a substrate for modifying the interactive programming experience.\\n\\n        import notebook'"
      ]
     },
     "metadata": {},
     "output_type": "display_data"
    }
   ],
   "source": [
    "## Language\n",
    "\n",
    "> Let us change our traditional attitude to the construction of programs: Instead of imagining that our\n",
    "main task is to instruct a computer what to do, let us concentrate rather on explaining to human beings what\n",
    "we want a computer to do.\n",
    "\n",
    "Literate programs are readable documents composed in human logic; [imperative]()/[declarative]() \n",
    "programs are for the computer. Literate programs will use combinations of \n",
    "imperative and declarative tools to express human logic.  This approach to programming is ideal for domain experts that \n",
    "speak a hybrid languages of human and computer language.  \n",
    "\n",
    "The distinct overlap between literate programming and science is they are multi-lingual.  Open\n",
    "source software and scientific computing are causing an evolution scientific communication.  Communities are \n",
    "organizing to understand increasingly complex systems.  The collision of scientific interests rise `pidgin` languages.\n",
    "The hope is that these languages will contribute to a scientific __creole__, rather than the increasing tribalism \n",
    "in scientific, technology, engineering, art and mathematics.\n",
    "\n",
    "## `pidgin` is just an implementation.\n",
    "\n",
    "To reiterate, like __WEB__, `pidgin` is just an implementation.  `pidgin` promotes an multi-objective and multi-lingual approach to \n",
    "programming.  `pidgin` assists authors during the act of literate computing by readability and reproducability.\n",
    "\n",
    "`pidgin` uses `IPython` and `notebook`s as a substrate for modifying the interactive programming experience.\n",
    "\n",
    "        import notebook"
   ]
  },
  {
   "cell_type": "code",
   "execution_count": 6,
   "metadata": {},
   "outputs": [
    {
     "data": {
      "text/html": [
       "<h2>Literate Computing vs. Literate Programming</h2>\n",
       "<p>In <a href=\"http://blog.fperez.org/2013/04/literate-computing-and-computational.html\"><strong>\"Literate computing\" and computational reproducibility: IPython in the age of data-driven journalism</strong></a>, Fernando Perez comments on <strong>Literate Programming</strong>:</p>\n",
       "<blockquote><p>I don't take any issue with this approach per se, but I don't personally use it because it's not\n",
       "very well suited to the kinds of workflows that I need in practice. These require the frequent\n",
       "execution of small fragments of code, in an iterative cycle where code is run to obtain partial \n",
       "exploratory computing, which is the bread and butter of many practicing scientists.</p>\n",
       "</blockquote>\n",
       "<p><code>pidgin</code>'s goal is create bring <strong>Literate Programs</strong> and <strong>Literate Computing</strong> closer together. \n",
       "It is not sufficient for practicing scientist to focus on exploratory computing without creating\n",
       "publishable material.  <code>pidgin</code> modifies features to <code>IPython</code> that bring document, testing, and \n",
       "publication closer to a <code>IPython</code> author.</p>"
      ],
      "text/markdown": [
       "## Literate Computing vs. Literate Programming\n",
       "\n",
       "In [__\"Literate computing\" and computational reproducibility: IPython in the age of data-driven journalism__](http://blog.fperez.org/2013/04/literate-computing-and-computational.html), Fernando Perez comments on __Literate Programming__:\n",
       "\n",
       "> I don't take any issue with this approach per se, but I don't personally use it because it's not\n",
       "very well suited to the kinds of workflows that I need in practice. These require the frequent\n",
       "execution of small fragments of code, in an iterative cycle where code is run to obtain partial \n",
       "exploratory computing, which is the bread and butter of many practicing scientists.\n",
       "\n",
       "`pidgin`'s goal is create bring __Literate Programs__ and __Literate Computing__ closer together. \n",
       "It is not sufficient for practicing scientist to focus on exploratory computing without creating\n",
       "publishable material.  `pidgin` modifies features to `IPython` that bring document, testing, and \n",
       "publication closer to a `IPython` author. "
      ],
      "text/plain": [
       "'## Literate Computing vs. Literate Programming\\n\\nIn [__\"Literate computing\" and computational reproducibility: IPython in the age of data-driven journalism__](http://blog.fperez.org/2013/04/literate-computing-and-computational.html), Fernando Perez comments on __Literate Programming__:\\n\\n> I don\\'t take any issue with this approach per se, but I don\\'t personally use it because it\\'s not\\nvery well suited to the kinds of workflows that I need in practice. These require the frequent\\nexecution of small fragments of code, in an iterative cycle where code is run to obtain partial \\nexploratory computing, which is the bread and butter of many practicing scientists.\\n\\n`pidgin`\\'s goal is create bring __Literate Programs__ and __Literate Computing__ closer together. \\nIt is not sufficient for practicing scientist to focus on exploratory computing without creating\\npublishable material.  `pidgin` modifies features to `IPython` that bring document, testing, and \\npublication closer to a `IPython` author. '"
      ]
     },
     "metadata": {},
     "output_type": "display_data"
    }
   ],
   "source": [
    "## Literate Computing vs. Literate Programming\n",
    "\n",
    "In [__\"Literate computing\" and computational reproducibility: IPython in the age of data-driven journalism__](http://blog.fperez.org/2013/04/literate-computing-and-computational.html), Fernando Perez comments on __Literate Programming__:\n",
    "\n",
    "> I don't take any issue with this approach per se, but I don't personally use it because it's not\n",
    "very well suited to the kinds of workflows that I need in practice. These require the frequent\n",
    "execution of small fragments of code, in an iterative cycle where code is run to obtain partial \n",
    "exploratory computing, which is the bread and butter of many practicing scientists.\n",
    "\n",
    "`pidgin`'s goal is create bring __Literate Programs__ and __Literate Computing__ closer together. \n",
    "It is not sufficient for practicing scientist to focus on exploratory computing without creating\n",
    "publishable material.  `pidgin` modifies features to `IPython` that bring document, testing, and \n",
    "publication closer to a `IPython` author. "
   ]
  },
  {
   "cell_type": "code",
   "execution_count": null,
   "metadata": {},
   "outputs": [],
   "source": []
  },
  {
   "cell_type": "code",
   "execution_count": 7,
   "metadata": {},
   "outputs": [
    {
     "name": "stderr",
     "output_type": "stream",
     "text": [
      "[NbConvertApp] Converting notebook readme.md.ipynb to markdown\n",
      "[NbConvertApp] Executing notebook with kernel: python3\n"
     ]
    },
    {
     "data": {
      "text/html": [
       "<h3>Readability: publishing <code>pidgin</code> documents.</h3>\n",
       "<p>A <code>pidgin</code> author is composing their compute and portions (or <a href=\"http://nytlabs.com/blog/2015/10/20/particles/\">particles</a>) of the published document\n",
       "while interactively computing.  <code>import nbconvert</code> can be used against a <code>pidgin</code> <code>notebook</code>.</p>\n",
       "<pre><code>if __name__ == '__main__':\n",
       "    !jupyter nbconvert --to markdown --TemplateExporter.exclude_input=True --stdout readme.md.ipynb &gt; readme.md\n",
       "</code></pre>\n",
       "<p>The hybrid <strong>Markdown</strong>, templates, and <strong>Python</strong> in code cells encourage authors to encode \n",
       "the final layout in the output.  The input cells are excluded in the published document.</p>"
      ],
      "text/markdown": [
       "### Readability: publishing `pidgin` documents.\n",
       "\n",
       "A `pidgin` author is composing their compute and portions (or [particles](http://nytlabs.com/blog/2015/10/20/particles/)) of the published document\n",
       "while interactively computing.  `import nbconvert` can be used against a `pidgin` `notebook`.  \n",
       "\n",
       "    if __name__ == '__main__':\n",
       "        !jupyter nbconvert --to markdown --TemplateExporter.exclude_input=True --stdout readme.md.ipynb > readme.md\n",
       "    \n",
       "The hybrid __Markdown__, templates, and __Python__ in code cells encourage authors to encode \n",
       "the final layout in the output.  The input cells are excluded in the published document."
      ],
      "text/plain": [
       "\"### Readability: publishing `pidgin` documents.\\n\\nA `pidgin` author is composing their compute and portions (or [particles](http://nytlabs.com/blog/2015/10/20/particles/)) of the published document\\nwhile interactively computing.  `import nbconvert` can be used against a `pidgin` `notebook`.  \\n\\n    if __name__ == '__main__':\\n        !jupyter nbconvert --to markdown --TemplateExporter.exclude_input=True --stdout readme.md.ipynb > readme.md\\n    \\nThe hybrid __Markdown__, templates, and __Python__ in code cells encourage authors to encode \\nthe final layout in the output.  The input cells are excluded in the published document.\""
      ]
     },
     "metadata": {},
     "output_type": "display_data"
    }
   ],
   "source": [
    "### Readability: publishing `pidgin` documents.\n",
    "\n",
    "A `pidgin` author is composing their compute and portions (or [particles](http://nytlabs.com/blog/2015/10/20/particles/)) of the published document\n",
    "while interactively computing.  `import nbconvert` can be used against a `pidgin` `notebook`.  \n",
    "\n",
    "    if __name__ == '__main__':\n",
    "        !jupyter nbconvert --to markdown --TemplateExporter.exclude_input=True --stdout readme.md.ipynb > readme.md\n",
    "    \n",
    "The hybrid __Markdown__, templates, and __Python__ in code cells encourage authors to encode \n",
    "the final layout in the output.  The input cells are excluded in the published document."
   ]
  },
  {
   "cell_type": "code",
   "execution_count": 8,
   "metadata": {},
   "outputs": [
    {
     "data": {
      "text/html": [
       "<h3>reusability</h3>\n",
       "<p>Computational thinking evolves over different time scales.  An author of a computational\n",
       "essay should be the first consumer of their work.  <code>pidgin</code> extends <code>import importnb</code> to\n",
       "<strong>import</strong> them as modules.</p>\n",
       "<pre><code>with pidgin.PidginImporter(): from . import readme\n",
       "</code></pre>\n",
       "<p>Importing essays will allow authors to consume their work as software.  When authors\n",
       "reuse their own tools and code then will be motivated to make them more usable by\n",
       "adding documentation and testing.</p>"
      ],
      "text/markdown": [
       "### reusability\n",
       "\n",
       "Computational thinking evolves over different time scales.  An author of a computational\n",
       "essay should be the first consumer of their work.  `pidgin` extends `import importnb` to\n",
       "__import__ them as modules.\n",
       "    \n",
       "    with pidgin.PidginImporter(): from . import readme\n",
       "        \n",
       "Importing essays will allow authors to consume their work as software.  When authors\n",
       "reuse their own tools and code then will be motivated to make them more usable by\n",
       "adding documentation and testing."
      ],
      "text/plain": [
       "'### reusability\\n\\nComputational thinking evolves over different time scales.  An author of a computational\\nessay should be the first consumer of their work.  `pidgin` extends `import importnb` to\\n__import__ them as modules.\\n    \\n    with pidgin.PidginImporter(): from . import readme\\n        \\nImporting essays will allow authors to consume their work as software.  When authors\\nreuse their own tools and code then will be motivated to make them more usable by\\nadding documentation and testing.'"
      ]
     },
     "metadata": {},
     "output_type": "display_data"
    }
   ],
   "source": [
    "### reusability\n",
    "\n",
    "Computational thinking evolves over different time scales.  An author of a computational\n",
    "essay should be the first consumer of their work.  `pidgin` extends `import importnb` to\n",
    "__import__ them as modules.\n",
    "    \n",
    "    with pidgin.PidginImporter(): from . import readme\n",
    "        \n",
    "Importing essays will allow authors to consume their work as software.  When authors\n",
    "reuse their own tools and code then will be motivated to make them more usable by\n",
    "adding documentation and testing."
   ]
  },
  {
   "cell_type": "code",
   "execution_count": 9,
   "metadata": {},
   "outputs": [
    {
     "data": {
      "text/html": [
       "<h3>reproducibility</h3>\n",
       "<p><code>import importnb, \\</code> and <code>pidgin, \\</code> have <code>pytest, \\</code> extensions complement the <code>nbval</code> tool.  These extensions together\n",
       "encourage notebooks to be reused as tests; literate computing tests computational ideas thereby they ought\n",
       "to be used as tests.  They provide targets for the quality of a notebook.</p>\n",
       "<ul>\n",
       "<li><code>nbval</code> ensures that the display for an output is the same a the 🥇 standard.</li>\n",
       "<li><code>importnb</code> permits authors to write test functions in notebooks that are discoverable through the traditional <code>pytest</code> configurations.</li>\n",
       "<li><code>pidgin</code> tests <strong>Markdown</strong> files.  It is important for code in documentation to work. <code>pidgin</code>\n",
       "tests file as literate programs that should evaluated.</li>\n",
       "</ul>\n",
       "<h4><a href=\"https://github.com/noffle/art-of-readme\">The Art of the README</a></h4>\n",
       "<p>The <strong>README</strong> is a modern convention that is a literate program.  <strong>README</strong>'s generally require human intervention\n",
       "to create compute.  It is critical for user facing code to work.  <code>pidgin</code> considers \n",
       "the <strong>README</strong> to be a critical test for the success of a computational technology.</p>\n",
       "<blockquote><p><a href=\"https://github.com/noffle/art-of-readme\">The Art of the README</a> can be used as a useful style guide for writing readable computational essays.</p>\n",
       "<p><a href=\"http://liber118.com/pxn/\">Paco Nathan</a>'s <a href=\"http://nbviewer.jupyter.org/github/jupyterday-atlanta-2016/oriole_jupyterday_atl/blob/master/oriole_talk.ipynb\"><em>Oriole: a new learning medium based on Jupyter + Docker</em></a> \n",
       "given at <a href=\"https://jupyterday-atlanta-2016.github.io\">Jupyter Day Atlanta 2016</a>. In Paco's <em>unofficial</em> <a href=\"http://nbviewer.jupyter.org/github/jupyterday-atlanta-2016/oriole_jupyterday_atl/blob/master/oriole_talk.ipynb#What-we-learned-about-teaching-with-notebooks\">styleguide for authoring Jupyter notebooks</a> \n",
       "he reminds of a valuable principle for <code>notebook</code> authors:</p>\n",
       "<blockquote><h2>clear all output then \"Run All\" -- or it didn't happen</h2>\n",
       "</blockquote>\n",
       "</blockquote>"
      ],
      "text/markdown": [
       "### reproducibility\n",
       "\n",
       "`import importnb, \\` and `pidgin, \\` have `pytest, \\` extensions complement the `nbval` tool.  These extensions together\n",
       "encourage notebooks to be reused as tests; literate computing tests computational ideas thereby they ought\n",
       "to be used as tests.  They provide targets for the quality of a notebook.\n",
       "\n",
       "* `nbval` ensures that the display for an output is the same a the 🥇 standard.\n",
       "* `importnb` permits authors to write test functions in notebooks that are discoverable through the traditional `pytest` configurations.\n",
       "* `pidgin` tests __Markdown__ files.  It is important for code in documentation to work. `pidgin`\n",
       "tests file as literate programs that should evaluated.\n",
       "\n",
       "#### [The Art of the README](https://github.com/noffle/art-of-readme)\n",
       "\n",
       "The __README__ is a modern convention that is a literate program.  __README__'s generally require human intervention\n",
       "to create compute.  It is critical for user facing code to work.  `pidgin` considers \n",
       "the __README__ to be a critical test for the success of a computational technology.\n",
       "\n",
       "> [The Art of the README](https://github.com/noffle/art-of-readme) can be used as a useful style guide for writing readable computational essays.\n",
       "\n",
       "\n",
       "> [Paco Nathan](http://liber118.com/pxn/)'s [_Oriole: a new learning medium based on Jupyter + Docker_](http://nbviewer.jupyter.org/github/jupyterday-atlanta-2016/oriole_jupyterday_atl/blob/master/oriole_talk.ipynb) \n",
       "given at [Jupyter Day Atlanta 2016](https://jupyterday-atlanta-2016.github.io). In Paco's _unofficial_ [styleguide for authoring Jupyter notebooks](http://nbviewer.jupyter.org/github/jupyterday-atlanta-2016/oriole_jupyterday_atl/blob/master/oriole_talk.ipynb#What-we-learned-about-teaching-with-notebooks) \n",
       "he reminds of a valuable principle for `notebook` authors:\n",
       "\n",
       ">> ## clear all output then \"Run All\" -- or it didn't happen"
      ],
      "text/plain": [
       "'### reproducibility\\n\\n`import importnb, \\\\` and `pidgin, \\\\` have `pytest, \\\\` extensions complement the `nbval` tool.  These extensions together\\nencourage notebooks to be reused as tests; literate computing tests computational ideas thereby they ought\\nto be used as tests.  They provide targets for the quality of a notebook.\\n\\n* `nbval` ensures that the display for an output is the same a the 🥇 standard.\\n* `importnb` permits authors to write test functions in notebooks that are discoverable through the traditional `pytest` configurations.\\n* `pidgin` tests __Markdown__ files.  It is important for code in documentation to work. `pidgin`\\ntests file as literate programs that should evaluated.\\n\\n#### [The Art of the README](https://github.com/noffle/art-of-readme)\\n\\nThe __README__ is a modern convention that is a literate program.  __README__\\'s generally require human intervention\\nto create compute.  It is critical for user facing code to work.  `pidgin` considers \\nthe __README__ to be a critical test for the success of a computational technology.\\n\\n> [The Art of the README](https://github.com/noffle/art-of-readme) can be used as a useful style guide for writing readable computational essays.\\n\\n\\n> [Paco Nathan](http://liber118.com/pxn/)\\'s [_Oriole: a new learning medium based on Jupyter + Docker_](http://nbviewer.jupyter.org/github/jupyterday-atlanta-2016/oriole_jupyterday_atl/blob/master/oriole_talk.ipynb) \\ngiven at [Jupyter Day Atlanta 2016](https://jupyterday-atlanta-2016.github.io). In Paco\\'s _unofficial_ [styleguide for authoring Jupyter notebooks](http://nbviewer.jupyter.org/github/jupyterday-atlanta-2016/oriole_jupyterday_atl/blob/master/oriole_talk.ipynb#What-we-learned-about-teaching-with-notebooks) \\nhe reminds of a valuable principle for `notebook` authors:\\n\\n>> ## clear all output then \"Run All\" -- or it didn\\'t happen'"
      ]
     },
     "metadata": {},
     "output_type": "display_data"
    }
   ],
   "source": [
    "### reproducibility\n",
    "\n",
    "`import importnb, \\` and `pidgin, \\` have `pytest, \\` extensions complement the `nbval` tool.  These extensions together\n",
    "encourage notebooks to be reused as tests; literate computing tests computational ideas thereby they ought\n",
    "to be used as tests.  They provide targets for the quality of a notebook.\n",
    "\n",
    "* `nbval` ensures that the display for an output is the same a the 🥇 standard.\n",
    "* `importnb` permits authors to write test functions in notebooks that are discoverable through the traditional `pytest` configurations.\n",
    "* `pidgin` tests __Markdown__ files.  It is important for code in documentation to work. `pidgin`\n",
    "tests file as literate programs that should evaluated.\n",
    "\n",
    "#### [The Art of the README](https://github.com/noffle/art-of-readme)\n",
    "\n",
    "The __README__ is a modern convention that is a literate program.  __README__'s generally require human intervention\n",
    "to create compute.  It is critical for user facing code to work.  `pidgin` considers \n",
    "the __README__ to be a critical test for the success of a computational technology.\n",
    "\n",
    "> [The Art of the README](https://github.com/noffle/art-of-readme) can be used as a useful style guide for writing readable computational essays.\n",
    "\n",
    "\n",
    "> [Paco Nathan](http://liber118.com/pxn/)'s [_Oriole: a new learning medium based on Jupyter + Docker_](http://nbviewer.jupyter.org/github/jupyterday-atlanta-2016/oriole_jupyterday_atl/blob/master/oriole_talk.ipynb) \n",
    "given at [Jupyter Day Atlanta 2016](https://jupyterday-atlanta-2016.github.io). In Paco's _unofficial_ [styleguide for authoring Jupyter notebooks](http://nbviewer.jupyter.org/github/jupyterday-atlanta-2016/oriole_jupyterday_atl/blob/master/oriole_talk.ipynb#What-we-learned-about-teaching-with-notebooks) \n",
    "he reminds of a valuable principle for `notebook` authors:\n",
    "\n",
    ">> ## clear all output then \"Run All\" -- or it didn't happen"
   ]
  }
 ],
 "metadata": {
  "kernelspec": {
   "display_name": "Python 3",
   "language": "python",
   "name": "python3"
  },
  "language_info": {
   "codemirror_mode": {
    "name": "ipython",
    "version": 3
   },
   "file_extension": ".py",
   "mimetype": "text/x-python",
   "name": "python",
   "nbconvert_exporter": "python",
   "pygments_lexer": "ipython3",
   "version": "3.6.6"
  }
 },
 "nbformat": 4,
 "nbformat_minor": 2
}
