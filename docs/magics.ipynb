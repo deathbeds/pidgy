{
 "cells": [
  {
   "cell_type": "markdown",
   "id": "14b1e611-2ea0-4ab1-93d8-97eba4ef24a5",
   "metadata": {
    "execution": {
     "iopub.execute_input": "2023-02-21T18:43:43.156455Z",
     "iopub.status.busy": "2023-02-21T18:43:43.156317Z",
     "iopub.status.idle": "2023-02-21T18:43:43.159238Z",
     "shell.execute_reply": "2023-02-21T18:43:43.158953Z",
     "shell.execute_reply.started": "2023-02-21T18:43:43.156443Z"
    },
    "tags": []
   },
   "source": [
    "# `pidgy` magics\n",
    "\n",
    "`pidgy` provides magics to introspect parts of the literate computing process.\n",
    "\n",
    "1. \n",
    "  `%%parse`\n",
    "  : parse markdown in `markdown-it-py` tokens\n",
    "\n",
    "2. \n",
    "  `%%tangle`\n",
    "  : parse then translate markdown to python\n",
    "\n",
    "3. \n",
    "  `%%weave`\n",
    "  : display the markdown as an interactive, templating display\n",
    "    \n",
    "4. \n",
    "  `%%pidgy`\n",
    "  : executed the `%%tangle` python code and display the `%%weave` of the markdown "
   ]
  },
  {
   "cell_type": "markdown",
   "id": "51972617-89ba-40d5-acf9-3baff286a4b8",
   "metadata": {},
   "source": [
    "## activate the magic extension\n",
    "\n",
    "the magics are automatically activated in `pidgy` mode. the `pidgy.magics` extension can be used to partially opt-in to `pidgy`."
   ]
  },
  {
   "cell_type": "code",
   "execution_count": 1,
   "id": "d515621f-a410-4a9c-8651-c67cb4df38fa",
   "metadata": {
    "execution": {
     "iopub.execute_input": "2023-02-21T19:06:22.397277Z",
     "iopub.status.busy": "2023-02-21T19:06:22.397150Z",
     "iopub.status.idle": "2023-02-21T19:06:22.469315Z",
     "shell.execute_reply": "2023-02-21T19:06:22.469025Z",
     "shell.execute_reply.started": "2023-02-21T19:06:22.397229Z"
    },
    "tags": []
   },
   "outputs": [],
   "source": [
    "    %reload_ext pidgy.magics"
   ]
  },
  {
   "cell_type": "markdown",
   "id": "b44e8f9a-e49c-47d7-9ef0-28aee054e0eb",
   "metadata": {
    "execution": {
     "iopub.execute_input": "2023-02-21T18:32:21.475968Z",
     "iopub.status.busy": "2023-02-21T18:32:21.475610Z",
     "iopub.status.idle": "2023-02-21T18:32:21.482662Z",
     "shell.execute_reply": "2023-02-21T18:32:21.481711Z",
     "shell.execute_reply.started": "2023-02-21T18:32:21.475931Z"
    }
   },
   "source": [
    "[cell magics] are an `IPython` convention not generally available in python\n",
    "that help with interactive computing.\n",
    "\n",
    "[cell magics]: https://ipython.readthedocs.io/en/stable/interactive/magics.html#built-in-magic-commands \"official ipython documentation about cell magics\""
   ]
  },
  {
   "cell_type": "code",
   "execution_count": 2,
   "id": "636dc77e-d99d-47ed-9fcf-e04768f0f18a",
   "metadata": {
    "execution": {
     "iopub.execute_input": "2023-02-21T19:06:22.470371Z",
     "iopub.status.busy": "2023-02-21T19:06:22.470219Z",
     "iopub.status.idle": "2023-02-21T19:06:22.483120Z",
     "shell.execute_reply": "2023-02-21T19:06:22.482810Z",
     "shell.execute_reply.started": "2023-02-21T19:06:22.470357Z"
    },
    "tags": []
   },
   "outputs": [
    {
     "data": {
      "text/plain": [
       "[Token(type='paragraph_open', tag='p', nesting=1, attrs={}, map=[0, 1], level=0, children=None, content='', markup='', info='', meta={}, block=True, hidden=False),\n",
       " Token(type='inline', tag='', nesting=0, attrs={}, map=[0, 1], level=1, children=[Token(type='code_inline', tag='code', nesting=0, attrs={}, map=None, level=0, children=None, content='%%parse', markup='`', info='', meta={}, block=False, hidden=False), Token(type='text', tag='', nesting=0, attrs={}, map=None, level=0, children=None, content=' helps to peek at the tokens that make up the markdown.', markup='', info='', meta={}, block=False, hidden=False)], content='`%%parse` helps to peek at the tokens that make up the markdown.', markup='', info='', meta={}, block=True, hidden=False),\n",
       " Token(type='paragraph_close', tag='p', nesting=-1, attrs={}, map=None, level=0, children=None, content='', markup='', info='', meta={}, block=True, hidden=False)]"
      ]
     },
     "execution_count": 2,
     "metadata": {},
     "output_type": "execute_result"
    }
   ],
   "source": [
    "%%parse\n",
    "`%%parse` helps to peek at the tokens that make up the markdown. \n",
    "    "
   ]
  },
  {
   "cell_type": "markdown",
   "id": "ea94826c-23cc-4283-bd94-90a9d437c50e",
   "metadata": {},
   "source": [
    "### markdown as python"
   ]
  },
  {
   "cell_type": "code",
   "execution_count": 3,
   "id": "060dce24-d787-49f4-bf5d-36e56c40f631",
   "metadata": {
    "execution": {
     "iopub.execute_input": "2023-02-21T19:06:22.483745Z",
     "iopub.status.busy": "2023-02-21T19:06:22.483575Z",
     "iopub.status.idle": "2023-02-21T19:06:22.515424Z",
     "shell.execute_reply": "2023-02-21T19:06:22.515149Z",
     "shell.execute_reply.started": "2023-02-21T19:06:22.483734Z"
    },
    "tags": []
   },
   "outputs": [
    {
     "data": {
      "text/html": [
       "<style>pre { line-height: 125%; }\n",
       "td.linenos .normal { color: inherit; background-color: transparent; padding-left: 5px; padding-right: 5px; }\n",
       "span.linenos { color: inherit; background-color: transparent; padding-left: 5px; padding-right: 5px; }\n",
       "td.linenos .special { color: #000000; background-color: #ffffc0; padding-left: 5px; padding-right: 5px; }\n",
       "span.linenos.special { color: #000000; background-color: #ffffc0; padding-left: 5px; padding-right: 5px; }\n",
       ".output_html .hll { background-color: #ffffcc }\n",
       ".output_html { background: #f8f8f8; }\n",
       ".output_html .c { color: #3D7B7B; font-style: italic } /* Comment */\n",
       ".output_html .err { border: 1px solid #FF0000 } /* Error */\n",
       ".output_html .k { color: #008000; font-weight: bold } /* Keyword */\n",
       ".output_html .o { color: #666666 } /* Operator */\n",
       ".output_html .ch { color: #3D7B7B; font-style: italic } /* Comment.Hashbang */\n",
       ".output_html .cm { color: #3D7B7B; font-style: italic } /* Comment.Multiline */\n",
       ".output_html .cp { color: #9C6500 } /* Comment.Preproc */\n",
       ".output_html .cpf { color: #3D7B7B; font-style: italic } /* Comment.PreprocFile */\n",
       ".output_html .c1 { color: #3D7B7B; font-style: italic } /* Comment.Single */\n",
       ".output_html .cs { color: #3D7B7B; font-style: italic } /* Comment.Special */\n",
       ".output_html .gd { color: #A00000 } /* Generic.Deleted */\n",
       ".output_html .ge { font-style: italic } /* Generic.Emph */\n",
       ".output_html .gr { color: #E40000 } /* Generic.Error */\n",
       ".output_html .gh { color: #000080; font-weight: bold } /* Generic.Heading */\n",
       ".output_html .gi { color: #008400 } /* Generic.Inserted */\n",
       ".output_html .go { color: #717171 } /* Generic.Output */\n",
       ".output_html .gp { color: #000080; font-weight: bold } /* Generic.Prompt */\n",
       ".output_html .gs { font-weight: bold } /* Generic.Strong */\n",
       ".output_html .gu { color: #800080; font-weight: bold } /* Generic.Subheading */\n",
       ".output_html .gt { color: #0044DD } /* Generic.Traceback */\n",
       ".output_html .kc { color: #008000; font-weight: bold } /* Keyword.Constant */\n",
       ".output_html .kd { color: #008000; font-weight: bold } /* Keyword.Declaration */\n",
       ".output_html .kn { color: #008000; font-weight: bold } /* Keyword.Namespace */\n",
       ".output_html .kp { color: #008000 } /* Keyword.Pseudo */\n",
       ".output_html .kr { color: #008000; font-weight: bold } /* Keyword.Reserved */\n",
       ".output_html .kt { color: #B00040 } /* Keyword.Type */\n",
       ".output_html .m { color: #666666 } /* Literal.Number */\n",
       ".output_html .s { color: #BA2121 } /* Literal.String */\n",
       ".output_html .na { color: #687822 } /* Name.Attribute */\n",
       ".output_html .nb { color: #008000 } /* Name.Builtin */\n",
       ".output_html .nc { color: #0000FF; font-weight: bold } /* Name.Class */\n",
       ".output_html .no { color: #880000 } /* Name.Constant */\n",
       ".output_html .nd { color: #AA22FF } /* Name.Decorator */\n",
       ".output_html .ni { color: #717171; font-weight: bold } /* Name.Entity */\n",
       ".output_html .ne { color: #CB3F38; font-weight: bold } /* Name.Exception */\n",
       ".output_html .nf { color: #0000FF } /* Name.Function */\n",
       ".output_html .nl { color: #767600 } /* Name.Label */\n",
       ".output_html .nn { color: #0000FF; font-weight: bold } /* Name.Namespace */\n",
       ".output_html .nt { color: #008000; font-weight: bold } /* Name.Tag */\n",
       ".output_html .nv { color: #19177C } /* Name.Variable */\n",
       ".output_html .ow { color: #AA22FF; font-weight: bold } /* Operator.Word */\n",
       ".output_html .w { color: #bbbbbb } /* Text.Whitespace */\n",
       ".output_html .mb { color: #666666 } /* Literal.Number.Bin */\n",
       ".output_html .mf { color: #666666 } /* Literal.Number.Float */\n",
       ".output_html .mh { color: #666666 } /* Literal.Number.Hex */\n",
       ".output_html .mi { color: #666666 } /* Literal.Number.Integer */\n",
       ".output_html .mo { color: #666666 } /* Literal.Number.Oct */\n",
       ".output_html .sa { color: #BA2121 } /* Literal.String.Affix */\n",
       ".output_html .sb { color: #BA2121 } /* Literal.String.Backtick */\n",
       ".output_html .sc { color: #BA2121 } /* Literal.String.Char */\n",
       ".output_html .dl { color: #BA2121 } /* Literal.String.Delimiter */\n",
       ".output_html .sd { color: #BA2121; font-style: italic } /* Literal.String.Doc */\n",
       ".output_html .s2 { color: #BA2121 } /* Literal.String.Double */\n",
       ".output_html .se { color: #AA5D1F; font-weight: bold } /* Literal.String.Escape */\n",
       ".output_html .sh { color: #BA2121 } /* Literal.String.Heredoc */\n",
       ".output_html .si { color: #A45A77; font-weight: bold } /* Literal.String.Interpol */\n",
       ".output_html .sx { color: #008000 } /* Literal.String.Other */\n",
       ".output_html .sr { color: #A45A77 } /* Literal.String.Regex */\n",
       ".output_html .s1 { color: #BA2121 } /* Literal.String.Single */\n",
       ".output_html .ss { color: #19177C } /* Literal.String.Symbol */\n",
       ".output_html .bp { color: #008000 } /* Name.Builtin.Pseudo */\n",
       ".output_html .fm { color: #0000FF } /* Name.Function.Magic */\n",
       ".output_html .vc { color: #19177C } /* Name.Variable.Class */\n",
       ".output_html .vg { color: #19177C } /* Name.Variable.Global */\n",
       ".output_html .vi { color: #19177C } /* Name.Variable.Instance */\n",
       ".output_html .vm { color: #19177C } /* Name.Variable.Magic */\n",
       ".output_html .il { color: #666666 } /* Literal.Number.Integer.Long */</style><div class=\"highlight\"><pre><span></span><span class=\"k\">class</span> <span class=\"nc\">tangle</span><span class=\"p\">:</span>\n",
       "    <span class=\"sd\">&quot;&quot;&quot;the `%%tangle` magic exists to interrogate how markdown transforms to python using `pidgy`s heuristics.</span>\n",
       "\n",
       "<span class=\"sd\">when this magic is used, none of the code is executed.&quot;&quot;&quot;</span><span class=\"p\">;</span>\n",
       "</pre></div>\n"
      ],
      "text/latex": [
       "\\begin{Verbatim}[commandchars=\\\\\\{\\}]\n",
       "\\PY{k}{class} \\PY{n+nc}{tangle}\\PY{p}{:}\n",
       "    \\PY{l+s+sd}{\\PYZdq{}\\PYZdq{}\\PYZdq{}the `\\PYZpc{}\\PYZpc{}tangle` magic exists to interrogate how markdown transforms to python using `pidgy`s heuristics.}\n",
       "\n",
       "\\PY{l+s+sd}{when this magic is used, none of the code is executed.\\PYZdq{}\\PYZdq{}\\PYZdq{}}\\PY{p}{;}\n",
       "\\end{Verbatim}\n"
      ],
      "text/plain": [
       "class tangle:\n",
       "    \"\"\"the `%%tangle` magic exists to interrogate how markdown transforms to python using `pidgy`s heuristics.\n",
       "\n",
       "when this magic is used, none of the code is executed.\"\"\";"
      ]
     },
     "execution_count": 3,
     "metadata": {},
     "output_type": "execute_result"
    }
   ],
   "source": [
    "%%tangle\n",
    "    class tangle:\n",
    "the `%%tangle` magic exists to interrogate how markdown transforms to python using `pidgy`s heuristics.\n",
    "\n",
    "when this magic is used, none of the code is executed."
   ]
  },
  {
   "cell_type": "code",
   "execution_count": 4,
   "id": "9b481921-8972-4287-8046-f339f2bdb3e8",
   "metadata": {
    "execution": {
     "iopub.execute_input": "2023-02-21T19:06:22.515905Z",
     "iopub.status.busy": "2023-02-21T19:06:22.515816Z",
     "iopub.status.idle": "2023-02-21T19:06:22.517888Z",
     "shell.execute_reply": "2023-02-21T19:06:22.517632Z",
     "shell.execute_reply.started": "2023-02-21T19:06:22.515894Z"
    },
    "tags": []
   },
   "outputs": [],
   "source": [
    "    assert \"tangle\" not in locals(), F\"{tangle} is registered\""
   ]
  },
  {
   "cell_type": "markdown",
   "id": "2a1d28b0-5651-4e93-919f-e38b2508334b",
   "metadata": {},
   "source": [
    "## `weave` magics"
   ]
  },
  {
   "cell_type": "markdown",
   "id": "3ce62b9e-3e65-4ecd-9a95-ea3cc3963a03",
   "metadata": {},
   "source": [
    "it is possible to use `pidgy`s interactive display features without going full on."
   ]
  },
  {
   "cell_type": "markdown",
   "id": "30784156-2d1b-45b8-81b1-420f8bebe595",
   "metadata": {},
   "source": [
    "displays in `weave` are interactive `jinja2` templates."
   ]
  },
  {
   "cell_type": "markdown",
   "id": "d27836bf-f847-4cac-a29f-e009088710ce",
   "metadata": {},
   "source": [
    "### interactively displaying the markdown"
   ]
  },
  {
   "cell_type": "code",
   "execution_count": 5,
   "id": "8ebd9159-78a7-487b-b8c8-45aee03d036e",
   "metadata": {
    "execution": {
     "iopub.execute_input": "2023-02-21T19:06:22.518343Z",
     "iopub.status.busy": "2023-02-21T19:06:22.518265Z",
     "iopub.status.idle": "2023-02-21T19:06:22.522029Z",
     "shell.execute_reply": "2023-02-21T19:06:22.521810Z",
     "shell.execute_reply.started": "2023-02-21T19:06:22.518333Z"
    },
    "tags": []
   },
   "outputs": [
    {
     "data": {
      "text/markdown": [
       "<hr/>\n",
       "\n",
       "    def pidgy():\n",
       "`%%pidgy` is parts of `%%tangle` and `%%weave`.\n",
       "\n",
       "\n",
       "<hr/>"
      ],
      "text/plain": [
       "<IPython.core.display.Markdown object>"
      ]
     },
     "metadata": {},
     "output_type": "display_data"
    }
   ],
   "source": [
    "%%weave\n",
    "<hr/>\n",
    "\n",
    "    def pidgy():\n",
    "`%%pidgy` is parts of `%%tangle` and `%%weave`.\n",
    "\n",
    "\n",
    "<hr/>"
   ]
  },
  {
   "cell_type": "markdown",
   "id": "f4275ec9-d29b-4e76-8947-92b84ead54ad",
   "metadata": {},
   "source": [
    "### `pidgy` without the extension"
   ]
  },
  {
   "cell_type": "code",
   "execution_count": 6,
   "id": "3e0e0d92-9abc-46f9-bb93-597a7cb7fe7f",
   "metadata": {
    "execution": {
     "iopub.execute_input": "2023-02-21T19:06:22.522485Z",
     "iopub.status.busy": "2023-02-21T19:06:22.522389Z",
     "iopub.status.idle": "2023-02-21T19:06:22.526386Z",
     "shell.execute_reply": "2023-02-21T19:06:22.525808Z",
     "shell.execute_reply.started": "2023-02-21T19:06:22.522476Z"
    },
    "tags": []
   },
   "outputs": [
    {
     "data": {
      "text/markdown": [
       "<hr/>\n",
       "\n",
       "    def pidgy():\n",
       "`%%pidgy` is parts of `%%tangle` and `%%weave`.\n",
       "\n",
       "<hr/>"
      ],
      "text/plain": [
       "<IPython.core.display.Markdown object>"
      ]
     },
     "metadata": {},
     "output_type": "display_data"
    }
   ],
   "source": [
    "%%pidgy\n",
    "<hr/>\n",
    "\n",
    "    def pidgy():\n",
    "`%%pidgy` is parts of `%%tangle` and `%%weave`.\n",
    "\n",
    "<hr/>"
   ]
  }
 ],
 "metadata": {
  "kernelspec": {
   "display_name": "Python [conda env:root] *",
   "language": "python",
   "name": "conda-root-py"
  },
  "language_info": {
   "codemirror_mode": {
    "name": "ipython",
    "version": 3
   },
   "file_extension": ".py",
   "mimetype": "text/x-python",
   "name": "python",
   "nbconvert_exporter": "python",
   "pygments_lexer": "ipython3",
   "version": "3.9.13"
  },
  "widgets": {
   "application/vnd.jupyter.widget-state+json": {
    "state": {},
    "version_major": 2,
    "version_minor": 0
   }
  }
 },
 "nbformat": 4,
 "nbformat_minor": 5
}
