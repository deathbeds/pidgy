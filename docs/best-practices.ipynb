{
 "cells": [
  {
   "cell_type": "markdown",
   "metadata": {},
   "source": [
    "* Restart and run all or it didn't happen.\n",
    "* One heading per page.[*](# \"Use wcag guildines\")\n",
    "* No out of ordering headers, they are the outline.\n",
    "* All code should compute.\n",
    "* Code goes in markdown.\n",
    "* Code with output goes in notebooks.\n",
    "\n",
    "* The readme should be the build script because we can import main in the init.\n",
    "\n",
    "* When writing narrative include one unit of meaning per line,\n",
    "a sentence represents the maximum unit that can be broken up into \n",
    "smaller diffable units."
   ]
  }
 ],
 "metadata": {
  "kernelspec": {
   "display_name": "pidgy 3",
   "language": "python",
   "name": "pidgy"
  },
  "language_info": {
   "codemirror_mode": {
    "name": "ipython",
    "version": 3
   },
   "file_extension": ".py",
   "mimetype": "text/x-python",
   "name": "python",
   "nbconvert_exporter": "python",
   "pygments_lexer": "ipython3",
   "version": "3.7.3"
  }
 },
 "nbformat": 4,
 "nbformat_minor": 4
}
