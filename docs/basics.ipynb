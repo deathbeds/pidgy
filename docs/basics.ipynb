{
 "cells": [
  {
   "cell_type": "markdown",
   "id": "449b2234-4e6e-4598-9a24-1abbad58e848",
   "metadata": {
    "execution": {
     "iopub.execute_input": "2023-02-13T23:14:22.913786Z",
     "iopub.status.busy": "2023-02-13T23:14:22.913217Z",
     "iopub.status.idle": "2023-02-13T23:14:22.929240Z",
     "shell.execute_reply": "2023-02-13T23:14:22.928685Z",
     "shell.execute_reply.started": "2023-02-13T23:14:22.913625Z"
    }
   },
   "source": [
    "# `pidgy` basics\n",
    "\n",
    "`pidgy` uses markdown as programming and document language."
   ]
  },
  {
   "cell_type": "code",
   "execution_count": 7,
   "id": "862484b6-cc8e-4339-bf24-3617ed4f5bcf",
   "metadata": {
    "execution": {
     "iopub.execute_input": "2023-02-13T23:17:57.346361Z",
     "iopub.status.busy": "2023-02-13T23:17:57.346103Z",
     "iopub.status.idle": "2023-02-13T23:17:57.352896Z",
     "shell.execute_reply": "2023-02-13T23:17:57.352573Z",
     "shell.execute_reply.started": "2023-02-13T23:17:57.346341Z"
    },
    "tags": []
   },
   "outputs": [
    {
     "data": {
      "text/markdown": [
       "<div hidden>\n",
       "\n",
       "    \n",
       "    %reload_ext pidgy\n",
       "\n",
       "</div>"
      ],
      "text/plain": [
       "<IPython.core.display.Markdown object>"
      ]
     },
     "metadata": {},
     "output_type": "display_data"
    }
   ],
   "source": [
    "    \n",
    "    %reload_ext pidgy"
   ]
  },
  {
   "cell_type": "markdown",
   "id": "27f1cae8-9052-4a5c-9c3b-a88517b95480",
   "metadata": {
    "execution": {
     "iopub.execute_input": "2023-02-13T23:14:45.132777Z",
     "iopub.status.busy": "2023-02-13T23:14:45.132636Z",
     "iopub.status.idle": "2023-02-13T23:14:45.134986Z",
     "shell.execute_reply": "2023-02-13T23:14:45.134599Z",
     "shell.execute_reply.started": "2023-02-13T23:14:45.132764Z"
    },
    "tags": []
   },
   "source": [
    "### tangle markdown to python \n",
    "\n",
    "#### setting markdown to variables"
   ]
  },
  {
   "cell_type": "markdown",
   "id": "d1da2a35-7aca-437b-92f0-2f298fa64bc2",
   "metadata": {
    "execution": {
     "iopub.execute_input": "2023-02-13T23:15:27.788898Z",
     "iopub.status.busy": "2023-02-13T23:15:27.788759Z",
     "iopub.status.idle": "2023-02-13T23:15:27.790829Z",
     "shell.execute_reply": "2023-02-13T23:15:27.790495Z",
     "shell.execute_reply.started": "2023-02-13T23:15:27.788886Z"
    },
    "tags": []
   },
   "source": [
    "### weave markdown to a display\n",
    "\n",
    "#### including variables in the display\n",
    "\n",
    "#### suppressing the display\n",
    "\n",
    "```markdown\n",
    "\n",
    "when a markdown begins with a blank line, `pidgy` will tangle & execute any code, but will not generate a display.\n",
    "```\n"
   ]
  },
  {
   "cell_type": "code",
   "execution_count": 12,
   "id": "85c01c89-663c-45ee-88d6-6ea4f1d7ffae",
   "metadata": {
    "execution": {
     "iopub.execute_input": "2023-02-13T23:35:49.693503Z",
     "iopub.status.busy": "2023-02-13T23:35:49.693350Z",
     "iopub.status.idle": "2023-02-13T23:35:49.698159Z",
     "shell.execute_reply": "2023-02-13T23:35:49.697812Z",
     "shell.execute_reply.started": "2023-02-13T23:35:49.693489Z"
    },
    "tags": []
   },
   "outputs": [
    {
     "data": {
      "text/markdown": [
       "## reactivity\n",
       "\n",
       "`pidgy` is reactive out of the box; any [variables included in the display](#including-variables-in-the-display) are updated when values change during cell execution.\n",
       "\n",
       "[learn more about reactivity and working with widgets](reactivity.ipynb)"
      ],
      "text/plain": [
       "<IPython.core.display.Markdown object>"
      ]
     },
     "metadata": {},
     "output_type": "display_data"
    }
   ],
   "source": [
    "## reactivity\n",
    "\n",
    "`pidgy` is reactive out of the box; any [variables included in the display](#including-variables-in-the-display) are updated when values change during cell execution.\n",
    "\n",
    "[learn more about reactivity and working with widgets](reactivity.ipynb)"
   ]
  },
  {
   "cell_type": "code",
   "execution_count": 8,
   "id": "eea2dbe6-de4d-4054-9ab5-103000b80aeb",
   "metadata": {
    "execution": {
     "iopub.execute_input": "2023-02-13T23:18:15.475445Z",
     "iopub.status.busy": "2023-02-13T23:18:15.474661Z",
     "iopub.status.idle": "2023-02-13T23:18:15.494831Z",
     "shell.execute_reply": "2023-02-13T23:18:15.494441Z",
     "shell.execute_reply.started": "2023-02-13T23:18:15.475402Z"
    }
   },
   "outputs": [
    {
     "data": {
      "text/markdown": [
       "## learn more"
      ],
      "text/plain": [
       "<IPython.core.display.Markdown object>"
      ]
     },
     "metadata": {},
     "output_type": "display_data"
    }
   ],
   "source": [
    "## learn more"
   ]
  }
 ],
 "metadata": {
  "kernelspec": {
   "display_name": "Python [conda env:root] *",
   "language": "python",
   "name": "conda-root-py"
  },
  "language_info": {
   "codemirror_mode": {
    "name": "ipython",
    "version": 3
   },
   "file_extension": ".py",
   "mimetype": "text/x-python",
   "name": "python",
   "nbconvert_exporter": "python",
   "pygments_lexer": "ipython3",
   "version": "3.9.13"
  },
  "widgets": {
   "application/vnd.jupyter.widget-state+json": {
    "state": {},
    "version_major": 2,
    "version_minor": 0
   }
  }
 },
 "nbformat": 4,
 "nbformat_minor": 5
}
