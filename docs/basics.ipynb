{
 "cells": [
  {
   "cell_type": "markdown",
   "id": "449b2234-4e6e-4598-9a24-1abbad58e848",
   "metadata": {
    "execution": {
     "iopub.execute_input": "2023-02-13T23:14:22.913786Z",
     "iopub.status.busy": "2023-02-13T23:14:22.913217Z",
     "iopub.status.idle": "2023-02-13T23:14:22.929240Z",
     "shell.execute_reply": "2023-02-13T23:14:22.928685Z",
     "shell.execute_reply.started": "2023-02-13T23:14:22.913625Z"
    }
   },
   "source": [
    "# `pidgy` basics\n",
    "\n",
    "`pidgy` uses markdown as programming and document language.\n",
    "it is designed for writing intermingling narrative and code.\n",
    "be experimental. have fun."
   ]
  },
  {
   "cell_type": "code",
   "execution_count": 1,
   "id": "862484b6-cc8e-4339-bf24-3617ed4f5bcf",
   "metadata": {
    "execution": {
     "iopub.execute_input": "2023-02-23T19:49:25.527831Z",
     "iopub.status.busy": "2023-02-23T19:49:25.527726Z",
     "iopub.status.idle": "2023-02-23T19:49:25.598176Z",
     "shell.execute_reply": "2023-02-23T19:49:25.597850Z",
     "shell.execute_reply.started": "2023-02-23T19:49:25.527819Z"
    },
    "tags": []
   },
   "outputs": [
    {
     "data": {
      "text/markdown": [
       "<div hidden>\n",
       "\n",
       "    \n",
       "    # pidgy suppresses output when beginning with a blank line.\n",
       "    %reload_ext pidgy\n",
       "    shell.weave.reactive = False\n",
       "    shell.tangle.include_code_fences = ()\n",
       "\n",
       "</div>"
      ],
      "text/plain": [
       "<IPython.core.display.Markdown object>"
      ]
     },
     "metadata": {},
     "output_type": "display_data"
    }
   ],
   "source": [
    "    \n",
    "    # pidgy suppresses output when beginning with a blank line.\n",
    "    %reload_ext pidgy\n",
    "    shell.weave.reactive = False\n",
    "    shell.tangle.include_code_fences = ()"
   ]
  },
  {
   "cell_type": "markdown",
   "id": "96d5d1bb-4e11-447f-9894-a0c52c3a0afd",
   "metadata": {
    "execution": {
     "iopub.execute_input": "2023-02-13T23:14:45.132777Z",
     "iopub.status.busy": "2023-02-13T23:14:45.132636Z",
     "iopub.status.idle": "2023-02-13T23:14:45.134986Z",
     "shell.execute_reply": "2023-02-13T23:14:45.134599Z",
     "shell.execute_reply.started": "2023-02-13T23:14:45.132764Z"
    },
    "tags": []
   },
   "source": [
    "### tangle markdown to python \n",
    "\n",
    "a single <kbd>Tab</kbd> separates code and non-code in markdown.\n",
    "\n",
    "<figure markdown>\n",
    "<figcaption markdown>\n",
    "\n",
    "a block of markdown illustrating the subtle difference between code blocks and non-code blocks.\n",
    "</figcaption>\n",
    "\n",
    "```markdown\n",
    "    # indented code block\n",
    "# markdown heading\n",
    "```\n",
    "</figure>\n",
    "\n",
    "python and markdown have constrasting views of the `#`. in python, lines beginning with `#` are comments that are ignored. while in markdown, the `#` represent an `<h1>` which is a very meaningful element.[^one-h1]\n",
    "\n",
    "the nearness between narrative and code allows for fluid transitions between \n",
    "literary and computational thinking.\n",
    "typically, in notebooks, narrative and code are separated by distinct cell boundaries.\n",
    "\n",
    "[^one-h1]: web content accessibility guidelines recommend one and only one `<h1>` on your page, the same should go for your markdown"
   ]
  },
  {
   "cell_type": "code",
   "execution_count": 2,
   "id": "89a0f3aa-6511-400a-bd9e-55ec05828cb4",
   "metadata": {
    "execution": {
     "iopub.execute_input": "2023-02-23T19:49:25.599147Z",
     "iopub.status.busy": "2023-02-23T19:49:25.598923Z",
     "iopub.status.idle": "2023-02-23T19:49:25.686615Z",
     "shell.execute_reply": "2023-02-23T19:49:25.686266Z",
     "shell.execute_reply.started": "2023-02-23T19:49:25.599136Z"
    },
    "tags": []
   },
   "outputs": [
    {
     "data": {
      "text/markdown": [
       "#### setting markdown to variables\n",
       "   \n",
       "an early <abbr title=\"markdown and python pidgin syntax\">markdonic hybird syntax you may use is sets markdown blocks as strings. everything in between code blocks is a big old block string.\n",
       "\n",
       "<figure markdown>\n",
       "<figcaption markdown>\n",
       "a practical case  for settings markdown to variables is very useful for collecting variables or lists of variables.\n",
       "the outcome is demonstrated by `pidgy_links` below\n",
       "</figcaption>\n",
       "\n",
       "    pidgy_links=\\\n",
       "* https://deathbeds.github.io/pidgy/\n",
       "* https://github.com/pidgy/\n",
       "</figure>\n",
       "    \n",
       "\n",
       "\n",
       "<figure markdown>\n",
       "<figcaption markdown>\n",
       "markdown input defined <code>my_variable_name</code> to a markdown paragraph.\n",
       "during translation, line continuations are included to connect code blocks to markdown blocks.\n",
       "</figcaption>\n",
       "\n",
       "```markdown\n",
       "\n",
       "    my_variable_name = \\\n",
       "    \n",
       "a markdown paragraph\n",
       "\n",
       "```\n",
       "</figure>\n",
       "\n",
       "<figure>\n",
       "<figcaption>the python translation of the markdown</figcaption>\n",
       "\n",
       "```python\n",
       "\n",
       "my_variable_name = \\\n",
       "    \\\n",
       "\"\"\"a markdown paragraph\"\"\";\n",
       "\n",
       "```\n",
       "</figure>"
      ],
      "text/plain": [
       "<IPython.core.display.Markdown object>"
      ]
     },
     "metadata": {},
     "output_type": "display_data"
    }
   ],
   "source": [
    "#### setting markdown to variables\n",
    "   \n",
    "an early <abbr title=\"markdown and python pidgin syntax\">markdonic hybird syntax you may use is sets markdown blocks as strings. everything in between code blocks is a big old block string.\n",
    "\n",
    "<figure markdown>\n",
    "<figcaption markdown>\n",
    "a practical case  for settings markdown to variables is very useful for collecting variables or lists of variables.\n",
    "the outcome is demonstrated by `pidgy_links` below\n",
    "</figcaption>\n",
    "\n",
    "    pidgy_links=\\\n",
    "* https://deathbeds.github.io/pidgy/\n",
    "* https://github.com/pidgy/\n",
    "</figure>\n",
    "    \n",
    "{% set block %}\n",
    "    my_variable_name = \\\n",
    "    \n",
    "a markdown paragraph\n",
    "{% endset %}\n",
    "\n",
    "<figure markdown>\n",
    "<figcaption markdown>\n",
    "markdown input defined <code>my_variable_name</code> to a markdown paragraph.\n",
    "during translation, line continuations are included to connect code blocks to markdown blocks.\n",
    "</figcaption>\n",
    "\n",
    "```markdown\n",
    "{{block}}\n",
    "```\n",
    "</figure>\n",
    "\n",
    "<figure>\n",
    "<figcaption>the python translation of the markdown</figcaption>\n",
    "\n",
    "```python\n",
    "{{shell.tangle.render(block)}}\n",
    "```\n",
    "</figure>"
   ]
  },
  {
   "cell_type": "code",
   "execution_count": 3,
   "id": "28ff1a54-c8e3-4f1d-a26f-62c8b92f26da",
   "metadata": {
    "execution": {
     "iopub.execute_input": "2023-02-23T19:49:25.687320Z",
     "iopub.status.busy": "2023-02-23T19:49:25.687147Z",
     "iopub.status.idle": "2023-02-23T19:49:25.695103Z",
     "shell.execute_reply": "2023-02-23T19:49:25.694655Z",
     "shell.execute_reply.started": "2023-02-23T19:49:25.687304Z"
    },
    "tags": []
   },
   "outputs": [
    {
     "data": {
      "text/markdown": [
       "#### writing markdown docstrings\n",
       "\n",
       "pidgy has heuristics for dealing nested blocks in python make it easy to write docstrings in markdown.\n",
       "\n",
       "\n",
       "\n",
       "##### docstrings in markdown\n",
       "\n",
       "<figure>\n",
       "<figcaption>\n",
       "markdown input defined <code>my_variable_name</code> to a markdown paragraph.\n",
       "during translation, line continuations are included to connect code blocks to markdown blocks.\n",
       "</figcaption>\n",
       "\n",
       "```markdown\n",
       "\n",
       "    my_variable_name = \\\n",
       "    \n",
       "a markdown paragraph\n",
       "    \n",
       "    class MyClass:\n",
       "you bet this with classes.\n",
       "        \n",
       "        def sub_function(self):\n",
       "even inside of class methods!\n",
       "\n",
       "            return \"🔥\"\n",
       "\n",
       "```\n",
       "</figure>\n",
       "\n",
       "##### docstrings in python\n",
       "\n",
       "<figure>\n",
       "<figcaption>the python translation of the markdown</figcaption>\n",
       "\n",
       "```python\n",
       "\n",
       "my_variable_name = \\\n",
       "    \\\n",
       "\"\"\"a markdown paragraph\"\"\"\n",
       "    \n",
       "class MyClass:\n",
       "    \"\"\"you bet this with classes.\"\"\"\n",
       "        \n",
       "    def sub_function(self):\n",
       "        \"\"\"even inside of class methods!\"\"\"\n",
       "\n",
       "        return \"🔥\"\n",
       "\n",
       "```\n",
       "</figure>"
      ],
      "text/plain": [
       "<IPython.core.display.Markdown object>"
      ]
     },
     "metadata": {},
     "output_type": "display_data"
    }
   ],
   "source": [
    "#### writing markdown docstrings\n",
    "\n",
    "pidgy has heuristics for dealing nested blocks in python make it easy to write docstrings in markdown.\n",
    "\n",
    "{% set block %}\n",
    "    my_variable_name = \\\n",
    "    \n",
    "a markdown paragraph\n",
    "    \n",
    "    class MyClass:\n",
    "you bet this with classes.\n",
    "        \n",
    "        def sub_function(self):\n",
    "even inside of class methods!\n",
    "\n",
    "            return \"🔥\"\n",
    "{% endset %}\n",
    "\n",
    "##### docstrings in markdown\n",
    "\n",
    "<figure>\n",
    "<figcaption>\n",
    "markdown input defined <code>my_variable_name</code> to a markdown paragraph.\n",
    "during translation, line continuations are included to connect code blocks to markdown blocks.\n",
    "</figcaption>\n",
    "\n",
    "```markdown\n",
    "{{block}}\n",
    "```\n",
    "</figure>\n",
    "\n",
    "##### docstrings in python\n",
    "\n",
    "<figure>\n",
    "<figcaption>the python translation of the markdown</figcaption>\n",
    "\n",
    "```python\n",
    "{{shell.tangle.render(block)}}\n",
    "```\n",
    "</figure>"
   ]
  },
  {
   "cell_type": "markdown",
   "id": "425adda1-73bb-4e57-9e09-7ddbf4d2e6e3",
   "metadata": {
    "execution": {
     "iopub.execute_input": "2023-02-13T23:15:27.788898Z",
     "iopub.status.busy": "2023-02-13T23:15:27.788759Z",
     "iopub.status.idle": "2023-02-13T23:15:27.790829Z",
     "shell.execute_reply": "2023-02-13T23:15:27.790495Z",
     "shell.execute_reply.started": "2023-02-13T23:15:27.788886Z"
    },
    "tags": []
   },
   "source": [
    "### weave markdown to a display\n",
    "\n",
    "`jinja2` is a powerful templating engine in between markdown and python.\n",
    "it lets authors include variables from their current namespace directly into a rich display; `pidgy` also reacts to changes and updates the display."
   ]
  },
  {
   "cell_type": "markdown",
   "id": "9ebf829d-0114-40e4-a09a-cedbb7862869",
   "metadata": {
    "execution": {
     "iopub.execute_input": "2023-02-13T23:15:27.788898Z",
     "iopub.status.busy": "2023-02-13T23:15:27.788759Z",
     "iopub.status.idle": "2023-02-13T23:15:27.790829Z",
     "shell.execute_reply": "2023-02-13T23:15:27.790495Z",
     "shell.execute_reply.started": "2023-02-13T23:15:27.788886Z"
    },
    "tags": []
   },
   "source": [
    "#### suppressing the display\n",
    "\n",
    "start the cell with a blank line to suppress the woven display.\n",
    "this is a quick way to suppress supporting code or `import`s that don't add directly to the narrative.\n",
    "\n",
    "```markdown\n",
    "\n",
    "when a markdown begins with a blank line, `pidgy` will tangle & execute any code, but will not generate a display.\n",
    "```"
   ]
  },
  {
   "cell_type": "code",
   "execution_count": 4,
   "id": "85c01c89-663c-45ee-88d6-6ea4f1d7ffae",
   "metadata": {
    "execution": {
     "iopub.execute_input": "2023-02-23T19:49:25.695746Z",
     "iopub.status.busy": "2023-02-23T19:49:25.695594Z",
     "iopub.status.idle": "2023-02-23T19:49:25.700496Z",
     "shell.execute_reply": "2023-02-23T19:49:25.700047Z",
     "shell.execute_reply.started": "2023-02-23T19:49:25.695735Z"
    },
    "tags": []
   },
   "outputs": [
    {
     "data": {
      "text/markdown": [
       "#### reactivity\n",
       "\n",
       "`pidgy` is reactive out of the box; any [variables included in the display](#including-variables-in-the-display) are updated when values change during cell execution.\n",
       "\n",
       "[learn more about reactivity and working with widgets](reactivity.ipynb)"
      ],
      "text/plain": [
       "<IPython.core.display.Markdown object>"
      ]
     },
     "metadata": {},
     "output_type": "display_data"
    }
   ],
   "source": [
    "#### reactivity\n",
    "\n",
    "`pidgy` is reactive out of the box; any [variables included in the display](#including-variables-in-the-display) are updated when values change during cell execution.\n",
    "\n",
    "[learn more about reactivity and working with widgets](reactivity.ipynb)"
   ]
  },
  {
   "cell_type": "code",
   "execution_count": 5,
   "id": "eea2dbe6-de4d-4054-9ab5-103000b80aeb",
   "metadata": {
    "execution": {
     "iopub.execute_input": "2023-02-23T19:49:25.701129Z",
     "iopub.status.busy": "2023-02-23T19:49:25.700984Z",
     "iopub.status.idle": "2023-02-23T19:49:25.705492Z",
     "shell.execute_reply": "2023-02-23T19:49:25.705129Z",
     "shell.execute_reply.started": "2023-02-23T19:49:25.701117Z"
    },
    "tags": []
   },
   "outputs": [
    {
     "data": {
      "text/markdown": [
       "## learn more"
      ],
      "text/plain": [
       "<IPython.core.display.Markdown object>"
      ]
     },
     "metadata": {},
     "output_type": "display_data"
    }
   ],
   "source": [
    "## learn more"
   ]
  },
  {
   "cell_type": "code",
   "execution_count": null,
   "id": "7e166d2f-6e86-478a-8138-d2e16818bce1",
   "metadata": {},
   "outputs": [],
   "source": []
  }
 ],
 "metadata": {
  "kernelspec": {
   "display_name": "Python [conda env:root] *",
   "language": "python",
   "name": "conda-root-py"
  },
  "language_info": {
   "codemirror_mode": {
    "name": "ipython",
    "version": 3
   },
   "file_extension": ".py",
   "mimetype": "text/x-python",
   "name": "python",
   "nbconvert_exporter": "python",
   "pygments_lexer": "ipython3",
   "version": "3.10.9"
  },
  "toc-autonumbering": true,
  "toc-showcode": false,
  "toc-showmarkdowntxt": false,
  "widgets": {
   "application/vnd.jupyter.widget-state+json": {
    "state": {},
    "version_major": 2,
    "version_minor": 0
   }
  }
 },
 "nbformat": 4,
 "nbformat_minor": 5
}
