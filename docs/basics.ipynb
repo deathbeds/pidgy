{
 "cells": [
  {
   "cell_type": "markdown",
   "id": "449b2234-4e6e-4598-9a24-1abbad58e848",
   "metadata": {
    "execution": {
     "iopub.execute_input": "2023-02-13T23:14:22.913786Z",
     "iopub.status.busy": "2023-02-13T23:14:22.913217Z",
     "iopub.status.idle": "2023-02-13T23:14:22.929240Z",
     "shell.execute_reply": "2023-02-13T23:14:22.928685Z",
     "shell.execute_reply.started": "2023-02-13T23:14:22.913625Z"
    }
   },
   "source": [
    "# `pidgy` basics\n",
    "\n",
    "`pidgy` uses markdown as programming and document language."
   ]
  },
  {
   "cell_type": "code",
   "execution_count": 1,
   "id": "862484b6-cc8e-4339-bf24-3617ed4f5bcf",
   "metadata": {
    "execution": {
     "iopub.execute_input": "2023-02-14T05:00:20.661150Z",
     "iopub.status.busy": "2023-02-14T05:00:20.660659Z",
     "iopub.status.idle": "2023-02-14T05:00:20.750298Z",
     "shell.execute_reply": "2023-02-14T05:00:20.749941Z",
     "shell.execute_reply.started": "2023-02-14T05:00:20.661004Z"
    },
    "tags": []
   },
   "outputs": [
    {
     "data": {
      "text/markdown": [
       "<div hidden>\n",
       "\n",
       "    \n",
       "    %reload_ext pidgy\n",
       "    shell.tangle.include_code_fences = ()\n",
       "\n",
       "</div>"
      ],
      "text/plain": [
       "<IPython.core.display.Markdown object>"
      ]
     },
     "metadata": {},
     "output_type": "display_data"
    }
   ],
   "source": [
    "    \n",
    "    %reload_ext pidgy\n",
    "    shell.tangle.include_code_fences = ()"
   ]
  },
  {
   "cell_type": "markdown",
   "id": "96d5d1bb-4e11-447f-9894-a0c52c3a0afd",
   "metadata": {
    "execution": {
     "iopub.execute_input": "2023-02-13T23:14:45.132777Z",
     "iopub.status.busy": "2023-02-13T23:14:45.132636Z",
     "iopub.status.idle": "2023-02-13T23:14:45.134986Z",
     "shell.execute_reply": "2023-02-13T23:14:45.134599Z",
     "shell.execute_reply.started": "2023-02-13T23:14:45.132764Z"
    },
    "tags": []
   },
   "source": [
    "### tangle markdown to python \n",
    "\n",
    "a single <kbd>Tab</kbd> separates code and non-code in markdown.\n",
    "\n",
    "<figure markdown>\n",
    "<figcaption markdown>\n",
    "\n",
    "a block of markdown illustrating the subtle difference between code blocks and non-code blocks.\n",
    "</figcaption>\n",
    "\n",
    "```markdown\n",
    "    # indented code block\n",
    "# markdown heading\n",
    "```\n",
    "</figure>\n",
    "\n",
    "in python, lines beginning with `#` are comments that are ignored. while in markdown, the `#` represent an `<h1>` which is a very meaningful element.[^one-h1]\n",
    "\n",
    "[^one-h1]: web content accessibility guidelines recommend one and only one `<h1>` on your page, the same should go for your markdown"
   ]
  },
  {
   "cell_type": "code",
   "execution_count": null,
   "id": "e7b70dd4-ee7d-4dd5-acd5-330b3e7f8536",
   "metadata": {
    "execution": {
     "iopub.execute_input": "2023-02-14T05:01:46.958742Z",
     "iopub.status.busy": "2023-02-14T05:01:46.958577Z",
     "iopub.status.idle": "2023-02-14T05:01:46.963552Z",
     "shell.execute_reply": "2023-02-14T05:01:46.963272Z",
     "shell.execute_reply.started": "2023-02-14T05:01:46.958726Z"
    }
   },
   "outputs": [
    {
     "data": {
      "text/markdown": [
       "=== \"Unordered list\"\n",
       "\n",
       "* Sed sagittis eleifend rutrum\n",
       "* Donec vitae suscipit est\n",
       "* Nulla tempor lobortis orci\n",
       "\n",
       "=== \"Ordered list\"\n",
       "\n",
       "1. Sed sagittis eleifend rutrum\n",
       "2. Donec vitae suscipit est\n",
       "3. Nulla tempor lobortis orci|"
      ],
      "text/plain": [
       "<IPython.core.display.Markdown object>"
      ]
     },
     "metadata": {},
     "output_type": "display_data"
    }
   ],
   "source": [
    "    %%weave\n",
    "=== \"Unordered list\"\n",
    "\n",
    "    * Sed sagittis eleifend rutrum\n",
    "    * Donec vitae suscipit est\n",
    "    * Nulla tempor lobortis orci\n",
    "\n",
    "=== \"Ordered list\"\n",
    "\n",
    "    1. Sed sagittis eleifend rutrum\n",
    "    2. Donec vitae suscipit est\n",
    "    3. Nulla tempor lobortis orci|"
   ]
  },
  {
   "cell_type": "code",
   "execution_count": null,
   "id": "ad99f2ac-d9c3-4e8f-84e4-1bc05566ee78",
   "metadata": {
    "execution": {
     "iopub.execute_input": "2023-02-14T05:05:07.466677Z",
     "iopub.status.busy": "2023-02-14T05:05:07.466420Z",
     "iopub.status.idle": "2023-02-14T05:05:07.473637Z",
     "shell.execute_reply": "2023-02-14T05:05:07.473293Z",
     "shell.execute_reply.started": "2023-02-14T05:05:07.466650Z"
    }
   },
   "outputs": [
    {
     "data": {
      "text/markdown": [
       "=== \"C\"\n",
       "\n",
       "    ``` c\n",
       "    #include <stdio.h>\n",
       "\n",
       "    int main(void) {\n",
       "      printf(\"Hello world!\\n\");\n",
       "      return 0;\n",
       "    }\n",
       "    ```\n",
       "\n",
       "=== \"C++\"\n",
       "\n",
       "    ``` c++\n",
       "    #include <iostream>\n",
       "\n",
       "    int main(void) {\n",
       "      std::cout << \"Hello world!\" << std::endl;\n",
       "      return 0;\n",
       "    }\n",
       "    ```"
      ],
      "text/plain": [
       "<IPython.core.display.Markdown object>"
      ]
     },
     "metadata": {},
     "output_type": "display_data"
    }
   ],
   "source": [
    "%%weave\n",
    "=== \"C\"\n",
    "\n",
    "    ``` c\n",
    "    #include <stdio.h>\n",
    "\n",
    "    int main(void) {\n",
    "      printf(\"Hello world!\\n\");\n",
    "      return 0;\n",
    "    }\n",
    "    ```\n",
    "\n",
    "=== \"C++\"\n",
    "\n",
    "    ``` c++\n",
    "    #include <iostream>\n",
    "\n",
    "    int main(void) {\n",
    "      std::cout << \"Hello world!\" << std::endl;\n",
    "      return 0;\n",
    "    }\n",
    "    ```\n"
   ]
  },
  {
   "cell_type": "code",
   "execution_count": 13,
   "id": "a7af04fb-a394-4948-83f3-3cfffc310b57",
   "metadata": {
    "execution": {
     "iopub.execute_input": "2023-02-14T05:11:31.533706Z",
     "iopub.status.busy": "2023-02-14T05:11:31.533544Z",
     "iopub.status.idle": "2023-02-14T05:11:31.537789Z",
     "shell.execute_reply": "2023-02-14T05:11:31.537555Z",
     "shell.execute_reply.started": "2023-02-14T05:11:31.533692Z"
    },
    "tags": []
   },
   "outputs": [
    {
     "data": {
      "text/markdown": [
       "=== \"md\"\n",
       "\n",
       "    ``` markdown\n",
       "      print(\n",
       "    __hello world__\n",
       "\n",
       "      )\n",
       "    ```\n",
       "    \n",
       "=== \"py\"\n",
       "\n",
       "    ``` python\n",
       "      print(\n",
       "    \"\"\"__hello world__\"\"\"\n",
       "\n",
       "      )\n",
       "    ```\n",
       "\n",
       "=== \"mkdocs\"\n",
       "\n",
       "    ```\n",
       "    print(\n",
       "    ```\n",
       "    __hello world__\n",
       "\n",
       "    ```\n",
       "    )\n",
       "    ```"
      ],
      "text/plain": [
       "<IPython.core.display.Markdown object>"
      ]
     },
     "metadata": {},
     "output_type": "display_data"
    }
   ],
   "source": [
    "%%weave\n",
    "=== \"md\"\n",
    "\n",
    "    ``` markdown\n",
    "      print(\n",
    "    __hello world__\n",
    "\n",
    "      )\n",
    "    ```\n",
    "    \n",
    "=== \"py\"\n",
    "\n",
    "    ``` python\n",
    "      print(\n",
    "    \"\"\"__hello world__\"\"\"\n",
    "\n",
    "      )\n",
    "    ```\n",
    "\n",
    "=== \"mkdocs\"\n",
    "\n",
    "    ```\n",
    "    print(\n",
    "    ```\n",
    "    __hello world__\n",
    "\n",
    "    ```\n",
    "    )\n",
    "    ```"
   ]
  },
  {
   "cell_type": "markdown",
   "id": "0c92f60e-9296-458e-a507-c7f509c20e62",
   "metadata": {
    "execution": {
     "iopub.execute_input": "2023-02-13T23:14:45.132777Z",
     "iopub.status.busy": "2023-02-13T23:14:45.132636Z",
     "iopub.status.idle": "2023-02-13T23:14:45.134986Z",
     "shell.execute_reply": "2023-02-13T23:14:45.134599Z",
     "shell.execute_reply.started": "2023-02-13T23:14:45.132764Z"
    },
    "tags": []
   },
   "source": [
    "#### setting markdown to variables"
   ]
  },
  {
   "cell_type": "markdown",
   "id": "d1da2a35-7aca-437b-92f0-2f298fa64bc2",
   "metadata": {
    "execution": {
     "iopub.execute_input": "2023-02-13T23:15:27.788898Z",
     "iopub.status.busy": "2023-02-13T23:15:27.788759Z",
     "iopub.status.idle": "2023-02-13T23:15:27.790829Z",
     "shell.execute_reply": "2023-02-13T23:15:27.790495Z",
     "shell.execute_reply.started": "2023-02-13T23:15:27.788886Z"
    },
    "tags": []
   },
   "source": [
    "### weave markdown to a display\n",
    "\n",
    "#### including variables in the display\n",
    "\n",
    "#### suppressing the display\n",
    "\n",
    "```markdown\n",
    "\n",
    "when a markdown begins with a blank line, `pidgy` will tangle & execute any code, but will not generate a display.\n",
    "```\n"
   ]
  },
  {
   "cell_type": "code",
   "execution_count": 12,
   "id": "85c01c89-663c-45ee-88d6-6ea4f1d7ffae",
   "metadata": {
    "execution": {
     "iopub.execute_input": "2023-02-13T23:35:49.693503Z",
     "iopub.status.busy": "2023-02-13T23:35:49.693350Z",
     "iopub.status.idle": "2023-02-13T23:35:49.698159Z",
     "shell.execute_reply": "2023-02-13T23:35:49.697812Z",
     "shell.execute_reply.started": "2023-02-13T23:35:49.693489Z"
    },
    "tags": []
   },
   "outputs": [
    {
     "data": {
      "text/markdown": [
       "## reactivity\n",
       "\n",
       "`pidgy` is reactive out of the box; any [variables included in the display](#including-variables-in-the-display) are updated when values change during cell execution.\n",
       "\n",
       "[learn more about reactivity and working with widgets](reactivity.ipynb)"
      ],
      "text/plain": [
       "<IPython.core.display.Markdown object>"
      ]
     },
     "metadata": {},
     "output_type": "display_data"
    }
   ],
   "source": [
    "## reactivity\n",
    "\n",
    "`pidgy` is reactive out of the box; any [variables included in the display](#including-variables-in-the-display) are updated when values change during cell execution.\n",
    "\n",
    "[learn more about reactivity and working with widgets](reactivity.ipynb)"
   ]
  },
  {
   "cell_type": "code",
   "execution_count": 8,
   "id": "eea2dbe6-de4d-4054-9ab5-103000b80aeb",
   "metadata": {
    "execution": {
     "iopub.execute_input": "2023-02-13T23:18:15.475445Z",
     "iopub.status.busy": "2023-02-13T23:18:15.474661Z",
     "iopub.status.idle": "2023-02-13T23:18:15.494831Z",
     "shell.execute_reply": "2023-02-13T23:18:15.494441Z",
     "shell.execute_reply.started": "2023-02-13T23:18:15.475402Z"
    }
   },
   "outputs": [
    {
     "data": {
      "text/markdown": [
       "## learn more"
      ],
      "text/plain": [
       "<IPython.core.display.Markdown object>"
      ]
     },
     "metadata": {},
     "output_type": "display_data"
    }
   ],
   "source": [
    "## learn more"
   ]
  }
 ],
 "metadata": {
  "kernelspec": {
   "display_name": "Python [conda env:root] *",
   "language": "python",
   "name": "conda-root-py"
  },
  "language_info": {
   "codemirror_mode": {
    "name": "ipython",
    "version": 3
   },
   "file_extension": ".py",
   "mimetype": "text/x-python",
   "name": "python",
   "nbconvert_exporter": "python",
   "pygments_lexer": "ipython3",
   "version": "3.9.13"
  },
  "widgets": {
   "application/vnd.jupyter.widget-state+json": {
    "state": {},
    "version_major": 2,
    "version_minor": 0
   }
  }
 },
 "nbformat": 4,
 "nbformat_minor": 5
}
