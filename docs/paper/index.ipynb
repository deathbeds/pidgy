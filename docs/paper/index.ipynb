{
 "cells": [
  {
   "cell_type": "code",
   "execution_count": 13,
   "metadata": {},
   "outputs": [],
   "source": [
    "    \n",
    "    import pidgy, pathlib, __init__ as paper, nbconvert\n",
    "\n",
    "    load = lambda x, level=1: demote(pathlib.Path(x.__file__).read_text(), level)\n",
    "    demote = lambda x, i: ''.join(\n",
    "        '#'*i + x if x.startswith('#') else x for x in x.splitlines(True)\n",
    "    )\n",
    "\n",
    "    loadnb = lambda x, level=1: demote(nbconvert.get_exporter('markdown')(exclude_output=True).from_filename(x.__file__)[0], level)"
   ]
  },
  {
   "cell_type": "code",
   "execution_count": 22,
   "metadata": {},
   "outputs": [
    {
     "data": {
      "text/markdown": [
       "# `pidgy` programming\n",
       "\n",
       "    \n",
       "\n",
       "## Abstract\n",
       "\n",
       "`pidgy` is a literate program that specifies\n",
       "and implements a literate programming language \n",
       "using [Markdown] as the document formatting language\n",
       "and [Python] as the programming language.\n",
       "The implementation extends the interactive python \n",
       "shell that commonly powers `jupyter` notebooks.\n",
       "Through this program we will learn how `pidgy`\n",
       "tangles markdown to python code, incrementally\n",
       "runs formal tests on your input, and presents\n",
       "woven markdown output that allows for transclusion\n",
       "of variables.\n",
       "\n",
       "## Topics\n",
       "\n",
       "* Literate Programming\n",
       "* Computational Notebooks\n",
       "* Markdown\n",
       "* Python\n",
       "* Jupyter\n",
       "* IPython\n",
       "\n",
       "## Author\n",
       "\n",
       "[Tony Fast]\n",
       "\n",
       "<!--\n",
       "    \n",
       "    import __init__ as paper\n",
       "    import nbconvert, pathlib, click\n",
       "    file = pathlib.Path(locals().get('__file__', 'readme.md')).parent / 'index.ipynb'\n",
       "    \n",
       "    \n",
       "    @click.command()\n",
       "    def build():\n",
       "        file.with_suffix('.md').write_text(\n",
       "            nbconvert.get_exporter('markdown')(\n",
       "                exclude_input=True).from_filename(\n",
       "                    str(file))[0])\n",
       "        click.echo(F'Built {file.with_suffix(\".md\")}')\n",
       "                    \n",
       "    if __name__ == '__main__':\n",
       "         build() if '__file__' in locals() else build.callback()\n",
       "             \n",
       "\n",
       "-->\n",
       "\n",
       "[Tony Fast]: #\n",
       "[Markdown]: #\n",
       "[Python]: #\n",
       "[Jupyter]: #\n",
       "[IPython]: #"
      ],
      "text/plain": [
       "<IPython.core.display.Markdown object>"
      ]
     },
     "metadata": {
      "text/markdown": {
       "cellId": "24ebfee3-cfb2-4e33-a784-15655dd006b3",
       "deletedCells": [],
       "end_at": "2020-02-20T17:45:37.261636",
       "modules": [],
       "names": [],
       "sessionId": "9edd6732ece4488438fc7008425fda732470eee142a34f63b60bd075dcdb5d79",
       "start_at": "2020-02-20T17:45:37.257000+00:00"
      }
     },
     "output_type": "display_data"
    }
   ],
   "source": [
    "{{load(paper.readme, level=0)}}"
   ]
  },
  {
   "cell_type": "code",
   "execution_count": 15,
   "metadata": {},
   "outputs": [
    {
     "data": {
      "text/markdown": [
       "## Introduction\n",
       "\n",
       "\n",
       "What problems did literate programming solve:\n",
       "* Literacy and readability take precedence over coding excellence.\n",
       "* Non-programmers can contribute.\n",
       "\n",
       "\n",
       "> ” I am imposing a moral commitment\n",
       "on everyone who hears the term; surely nobody wants\n",
       "to admit writing an illiterate program.\n",
       "\n",
       "> I believe that the time is ripe\n",
       "for significantly better documentation of programs, and\n",
       "that we can best achieve this by considering programs\n",
       "to be works of literature.\n",
       "\n",
       ">  In fact, my enthusiasm is so great that I\n",
       "must warn the reader to discount much of what I shall\n",
       "say as the ravings of a fanatic who thinks he has just\n",
       "seen a great light.\n",
       "\n",
       "What problems am I solving.\n",
       "* A markdown python literate program hybrid.\n",
       "    python is an idiomatic programming language with the intent of being a computer programming (language) for everyone.\n",
       "* Interleaving markdown and code narrative.\n",
       "* A more diff friendly literate programming source code.\n",
       "* Add interactivity to the literate programming process.\n",
       "\n",
       "\n",
       "<!--The introduction should be written as a stand alone essay.-->\n",
       "\n",
       "\"[Literate programming]\" is a paper published by [Donald Knuth] in 1979. \n",
       "It describes a style of programming that promotes a literary approach\n",
       "to writing programs as documentation. \n",
       "Literate programs are measured along two dimensions:\n",
       "literary and computational quality.\n",
       "\n",
       "[Literate Programming] is alive in places like\n",
       "[Org mode for Emacs], [RMarkdown], [Jupyter Notebooks], [Doctest], or [Literate Coffeescript].  \n",
       "\n",
       "`pidgy` imagines an adoption of [Literate Programming] as documentation for data-driven computational narratives.  \n",
       "`pidgy` implements a literate computing interface\n",
       "for `jupyter` using open source \n",
       "scientific computing infrastructure.\n",
       "\n",
       "The outcome of writing `pidgy` programs are readable, reusable, and reproducible documents.  \n",
       "`pidgy` natively supports importing markdown and notebooks as source code.\n",
       "\n",
       "Modern computing has different pieces of software\n",
       "infrastructure than were available \n",
       "\n",
       "[Literate Programming]: #\n",
       "[Donald Knuth]: #\n",
       "[Literate Coffeescript]: #\n",
       "[Org mode for Emacs]: #\n",
       "[Jupyter Notebooks]: #\n",
       "[RMarkdown]: #\n",
       "[Doctest]: #"
      ],
      "text/plain": [
       "<IPython.core.display.Markdown object>"
      ]
     },
     "metadata": {
      "text/markdown": {
       "cellId": "f9ee8a9b-e901-4ba7-9c1a-53407618c64a",
       "deletedCells": [],
       "end_at": "2020-02-20T17:28:46.002755",
       "modules": [],
       "names": [],
       "sessionId": "9edd6732ece4488438fc7008425fda732470eee142a34f63b60bd075dcdb5d79",
       "start_at": "2020-02-20T17:28:45.998000+00:00"
      }
     },
     "output_type": "display_data"
    }
   ],
   "source": [
    "{{load(paper.intro)}}"
   ]
  },
  {
   "cell_type": "code",
   "execution_count": 16,
   "metadata": {},
   "outputs": [
    {
     "data": {
      "text/markdown": [
       "## The interactive `pidgy` interface\n",
       "\n",
       "`pidgy` documents are written in interactive programming\n",
       "environments that make it easy to run code and preview outputs.\n",
       "This specific implementation is bound to the `IPython` kernel\n",
       "to be used in `jupyter` `notebook` and `jupyterlab`.\n",
       "\n",
       "<!--\n",
       "\n",
       "    import jupyter, notebook, IPython, mistune as markdown, IPython as python, ast, jinja2 as template, importnb as _import_, doctest, pathlib\n",
       "    with _import_.Notebook(lazy=True):\n",
       "        try: from . import reuse, translate\n",
       "        except: import reuse, translate\n",
       "    with reuse.pidgyLoader(lazy=True):\n",
       "        try: from . import outputs, testing\n",
       "        except: import outputs, testing\n",
       "-->\n",
       "\n",
       "    def load_ipython_extension(shell: IPython.InteractiveShell) -> None:\n",
       "The `load_ipython_extension and unload_ipython_extension` are functions that \n",
       "can configure the `IPython.InteractiveShell`.  We'll introduce a few major \n",
       "features that are configured everytime `pidgy` is used interactively.\n",
       "\n",
       "1. Configure the ability to import other `pidgy` markdown files and notebooks\n",
       "as python modules.\n",
       "    \n",
       "        reuse.load_ipython_extension(shell)\n",
       "\n",
       "2. Perhaps the most labourious part of `pidgy` are the heuristics for a line-by-line translation\n",
       "of markdown source to python.  \n",
       "\n",
       "        translate.load_ipython_extension(shell)\n",
       "        \n",
       "3. `pidgy` documents will frequently sprinkle `\"code\"` throughout a document.  It uses this\n",
       "code as interactive test objects that are run as unit tests.\n",
       "\n",
       "        testing.load_ipython_extension(shell)\n",
       "        \n",
       "4. The `pidgy` `input` represents both code and design.  We trigger a few custom output events\n",
       "to capture reproducible information about the computing environment.\n",
       "        \n",
       "        outputs.load_ipython_extension(shell)\n",
       "\n",
       "<!--\n",
       "\n",
       "    def unload_ipython_extension(shell):\n",
       "        for x in (outputs, testing, translate):\n",
       "            x.unload_ipython_extension(shell)\n",
       "\n",
       "-->"
      ],
      "text/plain": [
       "<IPython.core.display.Markdown object>"
      ]
     },
     "metadata": {
      "text/markdown": {
       "cellId": "a0f61455-5ee7-408a-8d61-1cb21b4a155d",
       "deletedCells": [],
       "end_at": "2020-02-20T17:28:46.291205",
       "modules": [],
       "names": [],
       "sessionId": "9edd6732ece4488438fc7008425fda732470eee142a34f63b60bd075dcdb5d79",
       "start_at": "2020-02-20T17:28:46.286000+00:00"
      }
     },
     "output_type": "display_data"
    }
   ],
   "source": [
    "{{load(pidgy.extension)}}"
   ]
  },
  {
   "cell_type": "code",
   "execution_count": 20,
   "metadata": {},
   "outputs": [
    {
     "data": {
      "text/markdown": [
       "<!--\n",
       "\n",
       "\n",
       "```python\n",
       "    \n",
       "    __all__ = 'pidgyLoader',\n",
       "    import pidgy, sys, IPython, mistune as markdown, importnb, IPython as python\n",
       "    if __name__ == '__main__':\n",
       "        shell = get_ipython()\n",
       "```\n",
       "\n",
       "-->\n",
       "\n",
       "## Reusable computable literature\n",
       "\n",
       "A primary requirement is that `pidgy` documents can be included\n",
       "in other `pidgy` documents, and, consequently, other `python` tools.\n",
       "To acheive this, `pidgy` modifies\n",
       "how `python` finds `__import__`s, this is acheived with an\n",
       "existing tool called `importnb` that includes\n",
       "`notebook` documents in `sys.path_hooks` used to discover modules.      \n",
       "\n",
       "\n",
       "\n",
       "```python\n",
       "    def load_ipython_extension(shell):\n",
       "        pidgyLoader(position=-1, lazy=True).__enter__()\n",
       "```\n",
       "\n",
       "A successful implementation will make it possible to include\n",
       "markdown and notebooks as having the same equity as python \n",
       "source code in a literate programming project.\n",
       "The notebook allows extra information to be stored.\n",
       "To identify `pidgy` `notebook`s against other notebooks we \n",
       "introduce the hybrid extension `\".md.ipynb\"`.\n",
       "\n",
       "\n",
       "```python\n",
       "    class pidgyLoader(importnb.Notebook): \n",
       "        extensions = \".md .md.ipynb\".split()\n",
       "        \n",
       "\n",
       "        def code(self, str): \n",
       "            \"\"\"\n",
       "The `\"code\"` method of the `__import__` loader\n",
       "performs string transforms to code cells.\n",
       "`pidgy` uses the same method \n",
       "that the `shell.input_transformer_manager`.\n",
       "\n",
       "\n",
       "            \"\"\"\n",
       "            with importnb.Notebook(lazy=True):\n",
       "                try: from . import translate\n",
       "                except: import translate\n",
       "            return ''.join(translate.pidgy.transform_cell(str))\n",
       "        \n",
       "        def visit(self, node):\n",
       "            \"\"\"\n",
       "The `\"visit\"` method provides modifications to the\n",
       "abstract syntax tree.\n",
       "            \n",
       "            \"\"\"\n",
       "            with importnb.Notebook():\n",
       "                try: from . import translate\n",
       "                except: import translate\n",
       "            return translate.ReturnYield().visit(node)\n",
       "        \n",
       "        def get_data(self, path):\n",
       "            if self.path.endswith('.md'):\n",
       "                return self.code(self.decode())\n",
       "            return super().get_data(path)\n",
       "\n",
       "        get_source = get_data\n",
       "\n",
       "```\n",
       "\n",
       "\n",
       "```python\n",
       "    \n",
       "    def unload_ipython_extension(shell): ...\n",
       "```"
      ],
      "text/plain": [
       "<IPython.core.display.Markdown object>"
      ]
     },
     "metadata": {
      "text/markdown": {
       "cellId": "651bc227-b2f9-4f38-b6f5-dcd61a43b7ff",
       "deletedCells": [],
       "end_at": "2020-02-20T17:31:24.391027",
       "modules": [],
       "names": [],
       "sessionId": "9edd6732ece4488438fc7008425fda732470eee142a34f63b60bd075dcdb5d79",
       "start_at": "2020-02-20T17:31:24.386000+00:00"
      }
     },
     "output_type": "display_data"
    }
   ],
   "source": [
    "{{loadnb(pidgy.reuse)}}"
   ]
  },
  {
   "cell_type": "code",
   "execution_count": null,
   "metadata": {},
   "outputs": [],
   "source": []
  }
 ],
 "metadata": {
  "kernelspec": {
   "display_name": "pidgy 3",
   "language": "python",
   "name": "pidgy"
  },
  "language_info": {
   "codemirror_mode": {
    "name": "ipython",
    "version": 3
   },
   "file_extension": ".py",
   "mimetype": "text/x-python",
   "name": "python",
   "nbconvert_exporter": "python",
   "pygments_lexer": "ipython3",
   "version": "3.7.3"
  }
 },
 "nbformat": 4,
 "nbformat_minor": 4
}
