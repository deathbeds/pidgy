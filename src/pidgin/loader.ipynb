{
 "cells": [
  {
   "cell_type": "code",
   "execution_count": 1,
   "metadata": {},
   "outputs": [],
   "source": [
    "    import importnb, importlib\n",
    "    from importnb import Notebook, Parameterize\n",
    "    import IPython, textwrap\n",
    "    with __import__('importnb').Notebook():\n",
    "        try: from . import tangle\n",
    "        except: import tangle"
   ]
  },
  {
   "cell_type": "code",
   "execution_count": 2,
   "metadata": {},
   "outputs": [],
   "source": [
    "    class PidginMixin:\n",
    "        extensions = '.md.ipynb',\n",
    "        def code(self, str):\n",
    "            transform_cell = IPython.core.inputtransformer2.TransformerManager().transform_cell\n",
    "            statements = ''\n",
    "            for statement in (\n",
    "                transform_cell(object) .rstrip() for object in tangle.markdown_to_statements(str)\n",
    "            ):\n",
    "                statements += statement.rstrip('\\\\')\n",
    "                if not statement.endswith('\\\\'): statements += ';'\n",
    "                statements += ' '\n",
    "            \n",
    "            source = transform_cell(tangle.markdown_to_python(str))\n",
    "            end = len(source.rstrip().rstrip(';'))\n",
    "            \n",
    "            code = source[:end]\n",
    "            if code.strip(): code += '; '\n",
    "                \n",
    "            if statements.strip():  \n",
    "                code += statements\n",
    "            code +=  source[end:].lstrip(';')\n",
    "            return code"
   ]
  },
  {
   "cell_type": "code",
   "execution_count": 27,
   "metadata": {},
   "outputs": [],
   "source": [
    "    class PidginImporter(PidginMixin, Notebook): ..."
   ]
  },
  {
   "cell_type": "markdown",
   "metadata": {},
   "source": [
    "`MarkdownImporter` imports __Markdown__ files are source.  By default they recieve a Markdown repr."
   ]
  },
  {
   "cell_type": "code",
   "execution_count": 28,
   "metadata": {},
   "outputs": [],
   "source": [
    "    class MarkdownMixin:\n",
    "        extensions = '.md',\n",
    "        def get_data(self, path): return self.code(self.decode())\n",
    "        def exec_module(self, module):\n",
    "            super().exec_module(module)\n",
    "            module._ipython_display_ = lambda: IPython.display.display(\n",
    "                IPython.display.Markdown(filename=module.__file__))"
   ]
  },
  {
   "cell_type": "code",
   "execution_count": 29,
   "metadata": {},
   "outputs": [],
   "source": [
    "    class MarkdownImporter(MarkdownMixin, PidginMixin, Notebook):  ..."
   ]
  },
  {
   "cell_type": "code",
   "execution_count": 30,
   "metadata": {},
   "outputs": [],
   "source": [
    "    class MarkdownParameterize(MarkdownMixin, PidginMixin, Parameterize):  ..."
   ]
  },
  {
   "cell_type": "code",
   "execution_count": 31,
   "metadata": {},
   "outputs": [],
   "source": [
    "    class PidginParameterize(PidginMixin, Parameterize): ..."
   ]
  },
  {
   "cell_type": "code",
   "execution_count": 32,
   "metadata": {},
   "outputs": [],
   "source": [
    "    if importnb.ipython_extension.IPYTHON_MAIN():\n",
    "        Pidgin, Markdown = PidginParameterize, MarkdownParameterize\n",
    "    else:\n",
    "        Pidgin, Markdown = PidginImporter, MarkdownImporter"
   ]
  },
  {
   "cell_type": "code",
   "execution_count": 33,
   "metadata": {},
   "outputs": [],
   "source": [
    "    def load_ipython_extension(ip=None):         \n",
    "        Pidgin(position=-1).__enter__()\n",
    "        if Markdown: Markdown(position=-1).__enter__()\n",
    "\n",
    "    def unload_ipython_extension(ip): \n",
    "        Pidgin().__exit__()\n",
    "        if Markdown: Markdown().__exit__()"
   ]
  },
  {
   "cell_type": "markdown",
   "metadata": {},
   "source": [
    "### if __name__ == '__main__': \n",
    "        __import__('unittest').TextTestRunner().run(Test())"
   ]
  }
 ],
 "metadata": {
  "kernelspec": {
   "display_name": "Python 3",
   "language": "python",
   "name": "python3"
  },
  "language_info": {
   "codemirror_mode": {
    "name": "ipython",
    "version": 3
   },
   "file_extension": ".py",
   "mimetype": "text/x-python",
   "name": "python",
   "nbconvert_exporter": "python",
   "pygments_lexer": "ipython3",
   "version": "3.6.6"
  },
  "toc": {
   "colors": {
    "hover_highlight": "#DAA520",
    "running_highlight": "#FF0000",
    "selected_highlight": "#FFD700"
   },
   "moveMenuLeft": true,
   "nav_menu": {
    "height": "29px",
    "width": "252px"
   },
   "navigate_menu": true,
   "number_sections": true,
   "sideBar": true,
   "threshold": 4,
   "toc_cell": false,
   "toc_section_display": "block",
   "toc_window_display": false,
   "widenNotebook": false
  },
  "varInspector": {
   "cols": {
    "lenName": 16,
    "lenType": 16,
    "lenVar": 40
   },
   "kernels_config": {
    "python": {
     "delete_cmd_postfix": "",
     "delete_cmd_prefix": "del ",
     "library": "var_list.py",
     "varRefreshCmd": "print(var_dic_list())"
    },
    "r": {
     "delete_cmd_postfix": ") ",
     "delete_cmd_prefix": "rm(",
     "library": "var_list.r",
     "varRefreshCmd": "cat(var_dic_list()) "
    }
   },
   "types_to_exclude": [
    "module",
    "function",
    "builtin_function_or_method",
    "instance",
    "_Feature"
   ],
   "window_display": false
  }
 },
 "nbformat": 4,
 "nbformat_minor": 2
}
