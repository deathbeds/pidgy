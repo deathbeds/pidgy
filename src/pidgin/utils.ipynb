{
 "cells": [
  {
   "cell_type": "code",
   "execution_count": 1,
   "metadata": {},
   "outputs": [],
   "source": [
    "    import IPython, base64"
   ]
  },
  {
   "cell_type": "code",
   "execution_count": 2,
   "metadata": {},
   "outputs": [],
   "source": [
    "    mimes = 'text/html text/latex image/svg+xml image/bmp image/png image/jpeg image/gif text/markdown text/javascript application/javascript  text/plain'.split()"
   ]
  },
  {
   "cell_type": "code",
   "execution_count": 3,
   "metadata": {},
   "outputs": [],
   "source": [
    "  def finalize_ipython(object):\n",
    "        bundle, metadata = IPython.get_ipython().display_formatter.format(object)\n",
    "        for type in mimes:\n",
    "            if type == 'text/plain': return object\n",
    "            if type in bundle:  \n",
    "                object = bundle[type]\n",
    "                if type.startswith('image') and 'svg' not in type: \n",
    "                    object = format_images(type, bundle)._repr_html_()\n",
    "                if type == 'text/html':\n",
    "                    object = flatten(object)\n",
    "                break\n",
    "        return object"
   ]
  },
  {
   "cell_type": "code",
   "execution_count": 4,
   "metadata": {},
   "outputs": [],
   "source": [
    "    def flatten(str): return ''.join(str.splitlines())"
   ]
  },
  {
   "cell_type": "code",
   "execution_count": 5,
   "metadata": {},
   "outputs": [],
   "source": [
    "    import base64, IPython\n",
    "\n",
    "    def flatten(string):\n",
    "        return ''.join(map(str.strip, string.splitlines()))\n",
    "\n",
    "    def format_images(type, bundle):\n",
    "        str = bundle[type]\n",
    "        if isinstance(str, bytes):\n",
    "            str = base64.b64encode(str).decode('utf-8')\n",
    "            \n",
    "        if type in ('image/svg+xml', 'text/html'): \n",
    "            return IPython.display.HTML(flatten(str))\n",
    "            \n",
    "        if str.startswith('http'): \n",
    "            return F\"\"\"<img src=\"{str}\"/>\"\"\"\n",
    "\n",
    "        return F\"\"\"<img src=\"data:{type};base64,{str}\"/>\"\"\""
   ]
  }
 ],
 "metadata": {
  "kernelspec": {
   "display_name": "Python 3",
   "language": "python",
   "name": "python3"
  },
  "language_info": {
   "codemirror_mode": {
    "name": "ipython",
    "version": 3
   },
   "file_extension": ".py",
   "mimetype": "text/x-python",
   "name": "python",
   "nbconvert_exporter": "python",
   "pygments_lexer": "ipython3",
   "version": "3.6.6"
  }
 },
 "nbformat": 4,
 "nbformat_minor": 2
}
