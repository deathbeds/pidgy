{
 "cells": [
  {
   "cell_type": "code",
   "execution_count": 24,
   "metadata": {},
   "outputs": [],
   "source": [
    "    import doctest, IPython, textwrap"
   ]
  },
  {
   "cell_type": "code",
   "execution_count": 21,
   "metadata": {},
   "outputs": [],
   "source": [
    "    def run_docstring_examples(\n",
    "        f, ip, verbose=False, compileflags=None, optionflags=0):\n",
    "        finder = doctest.DocTestFinder(verbose=verbose, recurse=False)\n",
    "        runner = doctest.DocTestRunner(verbose=verbose, optionflags=optionflags)\n",
    "        for test in (doctest_to_ipython(ip, object) for object in finder.find(\n",
    "            f, ip.user_ns['__name__'], globs=ip.user_ns)):\n",
    "            runner.run(test, compileflags=compileflags)"
   ]
  },
  {
   "cell_type": "code",
   "execution_count": 25,
   "metadata": {},
   "outputs": [],
   "source": [
    "    def doctest_to_ipython(ip, test):\n",
    "        for example in test.examples:\n",
    "            example.source = ip.input_transformer_manager.transform_cell(\n",
    "                textwrap.indent(example.source, ' '*4)\n",
    "            )\n",
    "            if '```' in example.want:\n",
    "                example.want, ticks, rest = example.want.rpartition('```')\n",
    "        return test"
   ]
  },
  {
   "cell_type": "code",
   "execution_count": null,
   "metadata": {},
   "outputs": [],
   "source": []
  }
 ],
 "metadata": {
  "kernelspec": {
   "display_name": "Python 3",
   "language": "python",
   "name": "python3"
  },
  "language_info": {
   "codemirror_mode": {
    "name": "ipython",
    "version": 3
   },
   "file_extension": ".py",
   "mimetype": "text/x-python",
   "name": "python",
   "nbconvert_exporter": "python",
   "pygments_lexer": "ipython3",
   "version": "3.6.6"
  }
 },
 "nbformat": 4,
 "nbformat_minor": 2
}
