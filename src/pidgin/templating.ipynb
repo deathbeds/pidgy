{
 "cells": [
  {
   "cell_type": "markdown",
   "metadata": {},
   "source": [
    "`pidgin.rendering` controls the execution of `jinja2` and `mistune`."
   ]
  },
  {
   "cell_type": "code",
   "execution_count": 1,
   "metadata": {},
   "outputs": [],
   "source": [
    "    import re, dataclasses, re, toolz.curried as toolz, functools, IPython, jinja2, inspect, collections, pygments, mistune, inspect, importlib, types, base64, string, traitlets\n",
    "    from mimetypes import guess_type; guess = lambda x: guess_type(x)[0]\n",
    "    ip = IPython.get_ipython()"
   ]
  },
  {
   "cell_type": "code",
   "execution_count": 2,
   "metadata": {},
   "outputs": [],
   "source": [
    "    import IPython, base64"
   ]
  },
  {
   "cell_type": "code",
   "execution_count": 3,
   "metadata": {},
   "outputs": [],
   "source": [
    "    mimes = 'text/html image/svg+xml text/latex image/bmp image/png image/jpeg image/gif text/markdown text/javascript application/javascript  text/plain'.split()"
   ]
  },
  {
   "cell_type": "code",
   "execution_count": 4,
   "metadata": {},
   "outputs": [],
   "source": [
    "    def flatten(str): return '&#xA;'.join(str.splitlines())"
   ]
  },
  {
   "cell_type": "code",
   "execution_count": 5,
   "metadata": {},
   "outputs": [],
   "source": [
    "  def finalize_ipython(object):\n",
    "        bundle, metadata = IPython.get_ipython().display_formatter.format(object)\n",
    "        for type in mimes:\n",
    "            if type == 'text/plain': return object\n",
    "            if type in bundle: \n",
    "                object = bundle[type]\n",
    "                if type.startswith('image') and 'svg' not in type: \n",
    "                    object = format_images(type, bundle)._repr_html_()\n",
    "                if type ==  'text/html':\n",
    "                    object = flatten(object)\n",
    "                if type == 'image/svg+xml':\n",
    "                    object = flatten(re.sub('(xmlns(:?\\S*)?=\"\\S*?\")?', r'', object))\n",
    "                if type == 'text/latex':\n",
    "                    if object.startswith('$$') and object.endswith('$$'): object = object[1:-1]\n",
    "                break\n",
    "        return object"
   ]
  },
  {
   "cell_type": "code",
   "execution_count": 6,
   "metadata": {},
   "outputs": [],
   "source": [
    "    import nbconvert"
   ]
  },
  {
   "cell_type": "code",
   "execution_count": 7,
   "metadata": {},
   "outputs": [],
   "source": [
    "    class IPTemplate:\n",
    "        def render(self, *args, **kwargs):\n",
    "            \"\"\"Update the filters and namespace before rendering.\"\"\"\n",
    "            if not (args or kwargs):\n",
    "                kwargs.update(self.environment.ip.user_ns)\n",
    "            return super().render(*args, **kwargs)"
   ]
  },
  {
   "cell_type": "code",
   "execution_count": 8,
   "metadata": {},
   "outputs": [],
   "source": [
    "    def new_environment(ip):\n",
    "        environment = nbconvert.exporters.TemplateExporter().environment\n",
    "        environment.finalize = finalize_ipython\n",
    "        environment.undefined=jinja2.StrictUndefined\n",
    "        environment.ip = ip\n",
    "        environment.template_class = type('ipython_template_class', (IPTemplate, environment.template_class,), {})\n",
    "        environment.globals.update(vars(__import__('builtins')))\n",
    "        return environment"
   ]
  },
  {
   "cell_type": "code",
   "execution_count": 9,
   "metadata": {},
   "outputs": [],
   "source": [
    "    import base64, IPython\n",
    "\n",
    "    def format_images(type, bundle):\n",
    "        str = bundle[type]\n",
    "        if isinstance(str, bytes):\n",
    "            str = base64.b64encode(str).decode('utf-8')\n",
    "            \n",
    "        if type in ('image/svg+xml', 'text/html'): \n",
    "            return IPython.display.HTML(str)\n",
    "            \n",
    "        if str.startswith('http'): \n",
    "            return F\"\"\"<img src=\"{str}\"/>\"\"\"\n",
    "\n",
    "        return F\"\"\"<img src=\"data:{type};base64,{str}\"/>\"\"\""
   ]
  },
  {
   "cell_type": "code",
   "execution_count": 10,
   "metadata": {},
   "outputs": [],
   "source": [
    "    @dataclasses.dataclass\n",
    "    class PrePopulateFilters:\n",
    "        ip: None\n",
    "        def __call__(self):\n",
    "            self.ip.environment.filters.update({\n",
    "                k: v for k, v in self.ip.user_ns.items()\n",
    "                if (k not in self.ip.environment.filters) and callable(v)\n",
    "            })"
   ]
  },
  {
   "cell_type": "code",
   "execution_count": 11,
   "metadata": {},
   "outputs": [],
   "source": [
    "    def load_ipython_extension(ip):\n",
    "        ip.environment = new_environment(ip)\n",
    "        ip.events.register('pre_execute', PrePopulateFilters(ip))\n",
    "    if __name__ == '__main__': load_ipython_extension(get_ipython())"
   ]
  },
  {
   "cell_type": "code",
   "execution_count": 12,
   "metadata": {},
   "outputs": [],
   "source": [
    "    def unload_ipython_extension(ip):\n",
    "        try:\n",
    "            del ip.environment\n",
    "        except: ...\n",
    "        ip.events.unregister('pre_execute', PrePopulateFilters(ip))"
   ]
  }
 ],
 "metadata": {
  "kernelspec": {
   "display_name": "Python 3",
   "language": "python",
   "name": "python3"
  },
  "language_info": {
   "codemirror_mode": {
    "name": "ipython",
    "version": 3
   },
   "file_extension": ".py",
   "mimetype": "text/x-python",
   "name": "python",
   "nbconvert_exporter": "python",
   "pygments_lexer": "ipython3",
   "version": "3.6.6"
  },
  "nikola": {
   "date": "2018-12-06 12:00:00 UTC",
   "description": "`pidgin.display` is a collection of display rules for IPython objects.  \n\n`StringFormatter` is a class that adds reules for string `object`s.",
   "slug": "display.ipynb",
   "title": "display.ipynb",
   "type": "text"
  }
 },
 "nbformat": 4,
 "nbformat_minor": 2
}
