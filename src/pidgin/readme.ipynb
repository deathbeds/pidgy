{
 "cells": [
  {
   "cell_type": "markdown",
   "metadata": {},
   "source": [
    "`pidgin` presents the main API for the `pidgin` package."
   ]
  },
  {
   "cell_type": "code",
   "execution_count": 1,
   "metadata": {},
   "outputs": [],
   "source": [
    "import IPython\n",
    "with __import__('importnb').Notebook():\n",
    "    try:\n",
    "        from . import post_run_cell, tangle, display, templating\n",
    "        from .loader import PidginImporter\n",
    "    except: \n",
    "        import post_run_cell, tangle, display, templating\n",
    "        from loader import PidginImporter"
   ]
  },
  {
   "cell_type": "code",
   "execution_count": 2,
   "metadata": {},
   "outputs": [],
   "source": [
    "with PidginImporter(lazy=True):\n",
    "    try: from . import inspector\n",
    "    except: import inspector"
   ]
  },
  {
   "cell_type": "code",
   "execution_count": 3,
   "metadata": {},
   "outputs": [],
   "source": [
    "import IPython, inspect, argparse"
   ]
  },
  {
   "cell_type": "code",
   "execution_count": 4,
   "metadata": {},
   "outputs": [],
   "source": [
    "parser = argparse.ArgumentParser()\n",
    "\n",
    "\n",
    "\n",
    "for name, parameter in inspect.signature(IPython.core.interactiveshell.InteractiveShell.run_cell).parameters.items():\n",
    "    if parameter.default is not inspect._empty:\n",
    "        parser.add_argument(F\"--{name}\", action=\"store_\"+['false', 'true'][~parameter.default])"
   ]
  },
  {
   "cell_type": "code",
   "execution_count": 5,
   "metadata": {},
   "outputs": [],
   "source": [
    "def run_cell(line, cell):\n",
    "    return IPython.get_ipython().run_cell(cell, **vars(parser.parse_args(line.split())))\n"
   ]
  },
  {
   "cell_type": "code",
   "execution_count": 6,
   "metadata": {},
   "outputs": [],
   "source": [
    "def str_to_exec(object):\n",
    "    if isinstance(object, str):\n",
    "        return IPython.core.interactiveshell.ExecutionResult(\n",
    "            IPython.core.interactiveshell.ExecutionInfo(object, False, False, True))\n",
    "    return object"
   ]
  },
  {
   "cell_type": "code",
   "execution_count": 7,
   "metadata": {},
   "outputs": [],
   "source": [
    "def load_ipython_extension(ip=None):\n",
    "    ip = ip or IPython.get_ipython()\n",
    "    ip.register_magic_function(run_cell, 'cell')\n",
    "    if ip:\n",
    "        for module in (post_run_cell, inspector, display, tangle, templating): \n",
    "            module.load_ipython_extension(ip)\n",
    "load = load_ipython_extension\n",
    "\n",
    "def unload_ipython_extension(ip):\n",
    "    for module in (post_run_cell, inspector, display, tangle, templating):\n",
    "        module.unload_ipython_extension(ip)\n",
    "\n",
    "unload = unload_ipython_extension"
   ]
  }
 ],
 "metadata": {
  "kernelspec": {
   "display_name": "Python 3",
   "language": "python",
   "name": "python3"
  },
  "language_info": {
   "codemirror_mode": {
    "name": "ipython",
    "version": 3
   },
   "file_extension": ".py",
   "mimetype": "text/x-python",
   "name": "python",
   "nbconvert_exporter": "python",
   "pygments_lexer": "ipython3",
   "version": "3.6.6"
  },
  "nikola": {
   "author": "Tony Fast",
   "date": "2018-12-05 16:43:43 UTC",
   "description": "`pidgin` presents the main API for the `pidgin` package.",
   "slug": "readme.ipynb",
   "title": "readme.ipynb",
   "type": "text"
  }
 },
 "nbformat": 4,
 "nbformat_minor": 2
}
