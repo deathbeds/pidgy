{
 "cells": [
  {
   "cell_type": "markdown",
   "metadata": {},
   "source": [
    "`pidgin` presents the main API for the `pidgin` package."
   ]
  },
  {
   "cell_type": "code",
   "execution_count": 1,
   "metadata": {},
   "outputs": [],
   "source": [
    "with __import__('importnb').Notebook():\n",
    "    try:\n",
    "        from . import post_run_cell\n",
    "        from . import tangle\n",
    "        from . import display\n",
    "        from .loader import PidginImporter\n",
    "    except: \n",
    "        import post_run_cell, tangle, display\n",
    "        from loader import PidginImporter"
   ]
  },
  {
   "cell_type": "code",
   "execution_count": 2,
   "metadata": {},
   "outputs": [],
   "source": [
    "with PidginImporter(lazy=True):\n",
    "    try: from . import inspector\n",
    "    except: import inspector\n",
    "        \n"
   ]
  },
  {
   "cell_type": "code",
   "execution_count": 3,
   "metadata": {},
   "outputs": [],
   "source": [
    "import IPython"
   ]
  },
  {
   "cell_type": "code",
   "execution_count": 4,
   "metadata": {},
   "outputs": [],
   "source": [
    "ip = IPython.get_ipython()"
   ]
  },
  {
   "cell_type": "code",
   "execution_count": 5,
   "metadata": {},
   "outputs": [],
   "source": [
    "def reload_extensions(line, cell=None):\n",
    "    for str in line.split():\n",
    "        %reload_ext $str"
   ]
  },
  {
   "cell_type": "code",
   "execution_count": 6,
   "metadata": {},
   "outputs": [],
   "source": [
    "def load_extensions(line, cell=None):\n",
    "    for str in line.split():\n",
    "        %load_ext $str"
   ]
  },
  {
   "cell_type": "code",
   "execution_count": 7,
   "metadata": {},
   "outputs": [],
   "source": [
    "def unload_extensions(line, cell=None):\n",
    "    for str in line.split():\n",
    "        %unload_ext $str  "
   ]
  },
  {
   "cell_type": "code",
   "execution_count": 8,
   "metadata": {},
   "outputs": [],
   "source": [
    "import IPython, inspect, argparse"
   ]
  },
  {
   "cell_type": "code",
   "execution_count": 9,
   "metadata": {},
   "outputs": [],
   "source": [
    "parser = argparse.ArgumentParser()\n",
    "\n",
    "\n",
    "\n",
    "for name, parameter in inspect.signature(IPython.core.interactiveshell.InteractiveShell.run_cell).parameters.items():\n",
    "    if parameter.default is not inspect._empty:\n",
    "        parser.add_argument(F\"--{name}\", action=\"store_\"+['false', 'true'][~parameter.default])"
   ]
  },
  {
   "cell_type": "code",
   "execution_count": 10,
   "metadata": {},
   "outputs": [],
   "source": [
    "def run_cell(line, cell):\n",
    "    return IPython.get_ipython().run_cell(cell, **vars(parser.parse_args(line.split())))\n",
    "    \n",
    "ip and ip.register_magic_function(run_cell, 'cell')"
   ]
  },
  {
   "cell_type": "code",
   "execution_count": 11,
   "metadata": {},
   "outputs": [],
   "source": [
    "def str_to_exec(object):\n",
    "    if isinstance(object, str):\n",
    "        return IPython.core.interactiveshell.ExecutionResult(\n",
    "            IPython.core.interactiveshell.ExecutionInfo(object, False, False, True))\n",
    "    return object"
   ]
  },
  {
   "cell_type": "code",
   "execution_count": 12,
   "metadata": {},
   "outputs": [],
   "source": [
    "ip and [\n",
    "    ip.register_magic_function(object, 'line')\n",
    "    for object in (reload_extensions, unload_extensions, load_extensions)\n",
    "];"
   ]
  },
  {
   "cell_type": "code",
   "execution_count": 13,
   "metadata": {},
   "outputs": [],
   "source": [
    "def load_ipython_extension(ip=None):\n",
    "    ip = ip or IPython.get_ipython()\n",
    "    for module in (post_run_cell, inspector, display, tangle): module.load_ipython_extension(ip)\n",
    "\n",
    "load = load_ipython_extension\n",
    "\n",
    "def unload_ipython_extension(ip):\n",
    "    for module in (post_run_cell, inspector, display, tangle):\n",
    "        module.unload_ipython_extension(ip)\n",
    "\n",
    "unload = unload_ipython_extension"
   ]
  }
 ],
 "metadata": {
  "kernelspec": {
   "display_name": "Python 3",
   "language": "python",
   "name": "python3"
  },
  "language_info": {
   "codemirror_mode": {
    "name": "ipython",
    "version": 3
   },
   "file_extension": ".py",
   "mimetype": "text/x-python",
   "name": "python",
   "nbconvert_exporter": "python",
   "pygments_lexer": "ipython3",
   "version": "3.6.6"
  }
 },
 "nbformat": 4,
 "nbformat_minor": 2
}
