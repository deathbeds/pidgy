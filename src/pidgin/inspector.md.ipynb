{
 "cells": [
  {
   "cell_type": "markdown",
   "metadata": {},
   "source": [
    "_A way to innovate quicker is to increase the value of a keystroke._\n",
    "\n",
    "In this module we enhance the `ip.kernel.do_inspect` method.  The modifications to the inspector should accelerate discovery during comptational.\n",
    "An author of a `pidgin` document will use __Shift+Tab__ to invoke the inspector, or they will use __The Inspector__ in [__JupyterLab__](https://github.com/jupyterlab/jupyterlab/).\n",
    "\n",
    "    import pidgin, IPython; ip = IPython.get_ipython()"
   ]
  },
  {
   "cell_type": "code",
   "execution_count": 1,
   "metadata": {},
   "outputs": [
    {
     "data": {
      "text/html": [
       "<style>\n",
       ".input .input_area, .nbinput .input_area {\n",
       "    text-decoration: line-through wavy;    \n",
       "    font-weight: bold;\n",
       "\n",
       "}\n",
       ".input:hover .input_area, .nbinput:hover .input_area {\n",
       "    text-decoration: none;\n",
       "    font-weight: normal;\n",
       "}\n",
       "</style>"
      ],
      "text/plain": [
       "<IPython.core.display.HTML object>"
      ]
     },
     "metadata": {},
     "output_type": "display_data"
    }
   ],
   "source": [
    "    if __name__ == '__main__':\n",
    "        %reload_ext pidgin"
   ]
  },
  {
   "cell_type": "code",
   "execution_count": 2,
   "metadata": {},
   "outputs": [],
   "source": [
    "    import pidgin, IPython, types, io, tokenize, re, ast, operator, collections"
   ]
  },
  {
   "cell_type": "code",
   "execution_count": 3,
   "metadata": {},
   "outputs": [
    {
     "data": {
      "text/html": [
       "<p><strong>Note</strong>: The <code>pidgin.inspector</code> module written in <code>pidgin</code> <strong>Markdown</strong>.  Some modifications to the inspector are <code>pidgin</code> specfic such as the inspector providing a\n",
       "<strong>Markdown</strong> <a href=\"\">WYSIWYG</a>.</p>\n",
       "<pre><code class=\"lang-ipython\">&gt;&gt;&gt; assert pidgin.inspector.__file__.endswith(&#39;.md.ipynb&#39;)\n",
       "</code></pre>"
      ],
      "text/markdown": [
       "__Note__: The `pidgin.inspector` module written in `pidgin` __Markdown__.  Some modifications to the inspector are `pidgin` specfic such as the inspector providing a\n",
       "__Markdown__ [WYSIWYG]().\n",
       "            \n",
       "```ipython\n",
       ">>> assert pidgin.inspector.__file__.endswith('.md.ipynb')\n",
       "```"
      ],
      "text/plain": [
       "\"__Note__: The `pidgin.inspector` module written in `pidgin` __Markdown__.  Some modifications to the inspector are `pidgin` specfic such as the inspector providing a\\n__Markdown__ [WYSIWYG]().\\n            \\n```ipython\\n>>> assert pidgin.inspector.__file__.endswith('.md.ipynb')\\n```\""
      ]
     },
     "metadata": {},
     "output_type": "display_data"
    }
   ],
   "source": [
    "__Note__: The `pidgin.inspector` module written in `pidgin` __Markdown__.  Some modifications to the inspector are `pidgin` specfic such as the inspector providing a\n",
    "__Markdown__ [WYSIWYG]().\n",
    "            \n",
    "```ipython\n",
    ">>> assert pidgin.inspector.__file__.endswith('.md.ipynb')\n",
    "```"
   ]
  },
  {
   "cell_type": "code",
   "execution_count": 4,
   "metadata": {},
   "outputs": [
    {
     "data": {
      "text/html": [
       "<p><code>tick</code>s and <code>brace</code>s are special <code>object</code>s in <code>pidgin</code>.  In order to discuss them properly we must assign their escaped <strong>html</strong> values.</p>\n",
       "<pre><code>tick, *brace = \"&amp;#96; &amp;#123; &amp;#125;\".split()\n",
       "brace = list(map(lambda x: x*2, brace))\n",
       "</code></pre>\n",
       "<p><strong>Note</strong>: This will be a problem later if an author uses alternative <code>jinja2</code> template delimiters.</p>\n",
       "<pre><code>import jinja2\n",
       "</code></pre>"
      ],
      "text/markdown": [
       "`tick`s and `brace`s are special `object`s in `pidgin`.  In order to discuss them properly we must assign their escaped __html__ values.\n",
       "\n",
       "    tick, *brace = \"&#96; &#123; &#125;\".split()\n",
       "    brace = list(map(lambda x: x*2, brace))\n",
       "    \n",
       "__Note__: This will be a problem later if an author uses alternative `jinja2` template delimiters.\n",
       "    \n",
       "    import jinja2"
      ],
      "text/plain": [
       "'`tick`s and `brace`s are special `object`s in `pidgin`.  In order to discuss them properly we must assign their escaped __html__ values.\\n\\n    tick, *brace = \"&#96; &#123; &#125;\".split()\\n    brace = list(map(lambda x: x*2, brace))\\n    \\n__Note__: This will be a problem later if an author uses alternative `jinja2` template delimiters.\\n    \\n    import jinja2'"
      ]
     },
     "metadata": {},
     "output_type": "display_data"
    }
   ],
   "source": [
    "`tick`s and `brace`s are special `object`s in `pidgin`.  In order to discuss them properly we must assign their escaped __html__ values.\n",
    "\n",
    "    tick, *brace = \"&#96; &#123; &#125;\".split()\n",
    "    brace = list(map(lambda x: x*2, brace))\n",
    "    \n",
    "__Note__: This will be a problem later if an author uses alternative `jinja2` template delimiters.\n",
    "    \n",
    "    import jinja2"
   ]
  },
  {
   "cell_type": "code",
   "execution_count": 5,
   "metadata": {},
   "outputs": [
    {
     "data": {
      "text/html": [
       "<h2>Special <code>pidgin.inspector</code> indentifiers.</h2>\n",
       "<ul>\n",
       "<li><p><strong>object?</strong> or <strong>object??</strong> - one question mark returns basic info, two question marks returns the source with the <code>object</code> info.  Question marks supercede all other \n",
       "delimiters.</p>\n",
       "<pre><code>  question_marks = \"([\\S]+)\\?{1}|\\?{1}([\\S]+)\"\n",
       "</code></pre>\n",
       "</li>\n",
       "<li><p><strong>&#123;&#123;\"expression or statement\"&#125;&#125;</strong> - author's recieve a preview of the <code>jinja2</code> expression.</p>\n",
       "<pre><code>  braced = \"(\\{){2}([^(\\?}{2})]+)\\}{2}\"\n",
       "</code></pre>\n",
       "</li>\n",
       "<li><p><strong>&#96;\"expression or statement\"&#96;</strong> - executes the inline code and displays a preview.  <em>Statements and expressions in inline code\n",
       "are not rendered by <code>pidgin</code>, but intermediate representations assist in authoring <code>pidgin</code> documents.</em></p>\n",
       "<pre><code>  ticked = \"`([^\\?]+)`\"\n",
       "</code></pre>\n",
       "</li>\n",
       "</ul>\n",
       "<p>The conditions for a regular expression used to discover substrings.</p>\n",
       "<pre><code>    inline_code_objects = re.compile(F\"{'|'.join((braced, ticked, question_marks))}\")\n",
       "</code></pre>\n",
       "<p>When no <code>inline_code_objects</code> are found the <code>pidgin.inspector</code> defaults to a <strong>Markdown</strong> preview.</p>"
      ],
      "text/markdown": [
       "## Special `pidgin.inspector` indentifiers.\n",
       "\n",
       "- __object?__ or __object??__ - one question mark returns basic info, two question marks returns the source with the `object` info.  Question marks supercede all other \n",
       "delimiters.\n",
       "\n",
       "        question_marks = \"([\\S]+)\\?{1}|\\?{1}([\\S]+)\"\n",
       "- __{{brace[0]}}\"expression or statement\"{{brace[1]}}__ - author's recieve a preview of the `jinja2` expression.\n",
       "\n",
       "        braced = \"(\\{){2}([^(\\?}{2})]+)\\}{2}\"\n",
       "- __{{tick}}\"expression or statement\"{{tick}}__ - executes the inline code and displays a preview.  _Statements and expressions in inline code\n",
       "are not rendered by `pidgin`, but intermediate representations assist in authoring `pidgin` documents._\n",
       "\n",
       "        ticked = \"`([^\\?]+)`\"\n",
       "    \n",
       "The conditions for a regular expression used to discover substrings.\n",
       "\n",
       "        inline_code_objects = re.compile(F\"{'|'.join((braced, ticked, question_marks))}\")\n",
       "                                        \n",
       "When no `inline_code_objects` are found the `pidgin.inspector` defaults to a __Markdown__ preview."
      ],
      "text/plain": [
       "'## Special `pidgin.inspector` indentifiers.\\n\\n- __object?__ or __object??__ - one question mark returns basic info, two question marks returns the source with the `object` info.  Question marks supercede all other \\ndelimiters.\\n\\n        question_marks = \"([\\\\S]+)\\\\?{1}|\\\\?{1}([\\\\S]+)\"\\n- __{{brace[0]}}\"expression or statement\"{{brace[1]}}__ - author\\'s recieve a preview of the `jinja2` expression.\\n\\n        braced = \"(\\\\{){2}([^(\\\\?}{2})]+)\\\\}{2}\"\\n- __{{tick}}\"expression or statement\"{{tick}}__ - executes the inline code and displays a preview.  _Statements and expressions in inline code\\nare not rendered by `pidgin`, but intermediate representations assist in authoring `pidgin` documents._\\n\\n        ticked = \"`([^\\\\?]+)`\"\\n    \\nThe conditions for a regular expression used to discover substrings.\\n\\n        inline_code_objects = re.compile(F\"{\\'|\\'.join((braced, ticked, question_marks))}\")\\n                                        \\nWhen no `inline_code_objects` are found the `pidgin.inspector` defaults to a __Markdown__ preview.'"
      ]
     },
     "metadata": {},
     "output_type": "display_data"
    }
   ],
   "source": [
    "## Special `pidgin.inspector` indentifiers.\n",
    "\n",
    "- __object?__ or __object??__ - one question mark returns basic info, two question marks returns the source with the `object` info.  Question marks supercede all other \n",
    "delimiters.\n",
    "\n",
    "        question_marks = \"([\\S]+)\\?{1}|\\?{1}([\\S]+)\"\n",
    "- __{{brace[0]}}\"expression or statement\"{{brace[1]}}__ - author's recieve a preview of the `jinja2` expression.\n",
    "\n",
    "        braced = \"(\\{){2}([^(\\?}{2})]+)\\}{2}\"\n",
    "- __{{tick}}\"expression or statement\"{{tick}}__ - executes the inline code and displays a preview.  _Statements and expressions in inline code\n",
    "are not rendered by `pidgin`, but intermediate representations assist in authoring `pidgin` documents._\n",
    "\n",
    "        ticked = \"`([^\\?]+)`\"\n",
    "    \n",
    "The conditions for a regular expression used to discover substrings.\n",
    "\n",
    "        inline_code_objects = re.compile(F\"{'|'.join((braced, ticked, question_marks))}\")\n",
    "                                        \n",
    "When no `inline_code_objects` are found the `pidgin.inspector` defaults to a __Markdown__ preview."
   ]
  },
  {
   "cell_type": "code",
   "execution_count": 6,
   "metadata": {},
   "outputs": [
    {
     "data": {
      "text/html": [
       "<pre><code>def line_to_token(line, cursor, start=0):\n",
       "</code></pre>\n",
       "<p><code>line_to_token</code> finds a token at the <strong>cursor</strong> position using <code>inline_code_objects</code> regular expression.</p>\n",
       "<pre><code class=\"lang-ipython\">&gt;&gt;&gt; line_to_token(&quot;this thing??&quot;, 6)\n",
       "&#39;thing??&#39;\n",
       "&gt;&gt;&gt; line_to_token(&quot;questions inside ` code?? ` of stuff&quot;, 20)\n",
       "&#39;code??&#39;\n",
       "</code></pre>\n",
       "<pre><code>    token = line\n",
       "\n",
       "    for m in inline_code_objects.finditer(line):\n",
       "</code></pre>\n",
       "<p>Loop over the matches discovered by <code>inline_code_objects</code>.</p>\n",
       "<pre><code>        start_of_segment, end = m.start(), m.end()\n",
       "        if start_of_segment&lt;=cursor&lt;end:\n",
       "            token = m.group()\n",
       "            break                \n",
       "</code></pre>\n",
       "<p>Stop the loop if the segment is larger than the cursor.  Consequently, a non-computable object is returned.</p>\n",
       "<pre><code>        if cursor&lt;start_of_segment:\n",
       "            token = line[start:start_of_segment]\n",
       "            break\n",
       "        if m.group().strip(): start = end\n",
       "\n",
       "    token = token.rstrip()\n",
       "    if token.lstrip().startswith('?'): token = token.lstrip().lstrip('?')\n",
       "    return token\n",
       "</code></pre>"
      ],
      "text/markdown": [
       "    def line_to_token(line, cursor, start=0):\n",
       "`line_to_token` finds a token at the __cursor__ position using `inline_code_objects` regular expression.\n",
       "\n",
       "```ipython\n",
       ">>> line_to_token(\"this thing??\", 6)\n",
       "'thing??'\n",
       ">>> line_to_token(\"questions inside ` code?? ` of stuff\", 20)\n",
       "'code??'\n",
       "```\n",
       "\n",
       "        token = line\n",
       "    \n",
       "        for m in inline_code_objects.finditer(line):\n",
       "Loop over the matches discovered by `inline_code_objects`.\n",
       "\n",
       "            start_of_segment, end = m.start(), m.end()\n",
       "            if start_of_segment<=cursor<end:\n",
       "                token = m.group()\n",
       "                break                \n",
       "Stop the loop if the segment is larger than the cursor.  Consequently, a non-computable object is returned.\n",
       "            \n",
       "            if cursor<start_of_segment:\n",
       "                token = line[start:start_of_segment]\n",
       "                break\n",
       "            if m.group().strip(): start = end\n",
       "            \n",
       "        token = token.rstrip()\n",
       "        if token.lstrip().startswith('?'): token = token.lstrip().lstrip('?')\n",
       "        return token"
      ],
      "text/plain": [
       "'    def line_to_token(line, cursor, start=0):\\n`line_to_token` finds a token at the __cursor__ position using `inline_code_objects` regular expression.\\n\\n```ipython\\n>>> line_to_token(\"this thing??\", 6)\\n\\'thing??\\'\\n>>> line_to_token(\"questions inside ` code?? ` of stuff\", 20)\\n\\'code??\\'\\n```\\n\\n        token = line\\n    \\n        for m in inline_code_objects.finditer(line):\\nLoop over the matches discovered by `inline_code_objects`.\\n\\n            start_of_segment, end = m.start(), m.end()\\n            if start_of_segment<=cursor<end:\\n                token = m.group()\\n                break                \\nStop the loop if the segment is larger than the cursor.  Consequently, a non-computable object is returned.\\n            \\n            if cursor<start_of_segment:\\n                token = line[start:start_of_segment]\\n                break\\n            if m.group().strip(): start = end\\n            \\n        token = token.rstrip()\\n        if token.lstrip().startswith(\\'?\\'): token = token.lstrip().lstrip(\\'?\\')\\n        return token'"
      ]
     },
     "metadata": {},
     "output_type": "display_data"
    }
   ],
   "source": [
    "    def line_to_token(line, cursor, start=0):\n",
    "`line_to_token` finds a token at the __cursor__ position using `inline_code_objects` regular expression.\n",
    "\n",
    "```ipython\n",
    ">>> line_to_token(\"this thing??\", 6)\n",
    "'thing??'\n",
    ">>> line_to_token(\"questions inside ` code?? ` of stuff\", 20)\n",
    "'code??'\n",
    "```\n",
    "\n",
    "        token = line\n",
    "    \n",
    "        for m in inline_code_objects.finditer(line):\n",
    "Loop over the matches discovered by `inline_code_objects`.\n",
    "\n",
    "            start_of_segment, end = m.start(), m.end()\n",
    "            if start_of_segment<=cursor<end:\n",
    "                token = m.group()\n",
    "                break                \n",
    "Stop the loop if the segment is larger than the cursor.  Consequently, a non-computable object is returned.\n",
    "            \n",
    "            if cursor<start_of_segment:\n",
    "                token = line[start:start_of_segment]\n",
    "                break\n",
    "            if m.group().strip(): start = end\n",
    "            \n",
    "        token = token.rstrip()\n",
    "        if token.lstrip().startswith('?'): token = token.lstrip().lstrip('?')\n",
    "        return token"
   ]
  },
  {
   "cell_type": "code",
   "execution_count": 7,
   "metadata": {},
   "outputs": [
    {
     "data": {
      "text/html": [
       "<pre><code>def cursor_line_no(str, cursor_pos)-&gt;(\"line\", \"offset\", \"line_no\"):\n",
       "</code></pre>\n",
       "<p><code>cursor_line_no</code> takes a string and cursor position and returns the <strong>line</strong> its position is in plus the <strong>offset</strong> and <strong>line_no</strong>.  This function\n",
       "provides the same utility as <code>IPython.utils.tokenutil.line_at_cursor</code> and includes the line number.</p>\n",
       "<h4><code>cursor_line_no</code> tests</h4>\n",
       "<pre><code class=\"lang-ipython\">&gt;&gt;&gt; s = &quot;A line\\n\\nfoo\\nAnother&quot;\n",
       "&gt;&gt;&gt; cursor_line_no(s, 10)\n",
       "(&#39;foo&#39;, 8, 2)\n",
       "&gt;&gt;&gt; IPython.utils.tokenutil.line_at_cursor(s, 10)\n",
       "(&#39;foo\\n&#39;, 8)\n",
       "</code></pre>\n",
       "<hr>\n",
       "<pre><code>        start, end = str[:cursor_pos].splitlines(True) or [''], str[cursor_pos:].splitlines(True) or ['']\n",
       "        result = start.pop(-1)\n",
       "        cursor_pos = cursor_pos-len(result)\n",
       "        if not result.endswith('\\n'): result += end[0]\n",
       "        return result.rstrip(), cursor_pos, len(start)\n",
       "</code></pre>"
      ],
      "text/markdown": [
       "    def cursor_line_no(str, cursor_pos)->(\"line\", \"offset\", \"line_no\"):\n",
       "`cursor_line_no` takes a string and cursor position and returns the __line__ its position is in plus the __offset__ and __line_no__.  This function\n",
       "provides the same utility as `IPython.utils.tokenutil.line_at_cursor` and includes the line number.\n",
       "\n",
       "#### `cursor_line_no` tests\n",
       "\n",
       "```ipython\n",
       ">>> s = \"A line\\n\\nfoo\\nAnother\"\n",
       ">>> cursor_line_no(s, 10)\n",
       "('foo', 8, 2)\n",
       ">>> IPython.utils.tokenutil.line_at_cursor(s, 10)\n",
       "('foo\\n', 8)\n",
       "```\n",
       "---\n",
       "            \n",
       "            start, end = str[:cursor_pos].splitlines(True) or [''], str[cursor_pos:].splitlines(True) or ['']\n",
       "            result = start.pop(-1)\n",
       "            cursor_pos = cursor_pos-len(result)\n",
       "            if not result.endswith('\\n'): result += end[0]\n",
       "            return result.rstrip(), cursor_pos, len(start)"
      ],
      "text/plain": [
       "'    def cursor_line_no(str, cursor_pos)->(\"line\", \"offset\", \"line_no\"):\\n`cursor_line_no` takes a string and cursor position and returns the __line__ its position is in plus the __offset__ and __line_no__.  This function\\nprovides the same utility as `IPython.utils.tokenutil.line_at_cursor` and includes the line number.\\n\\n#### `cursor_line_no` tests\\n\\n```ipython\\n>>> s = \"A line\\\\n\\\\nfoo\\\\nAnother\"\\n>>> cursor_line_no(s, 10)\\n(\\'foo\\', 8, 2)\\n>>> IPython.utils.tokenutil.line_at_cursor(s, 10)\\n(\\'foo\\\\n\\', 8)\\n```\\n---\\n            \\n            start, end = str[:cursor_pos].splitlines(True) or [\\'\\'], str[cursor_pos:].splitlines(True) or [\\'\\']\\n            result = start.pop(-1)\\n            cursor_pos = cursor_pos-len(result)\\n            if not result.endswith(\\'\\\\n\\'): result += end[0]\\n            return result.rstrip(), cursor_pos, len(start)'"
      ]
     },
     "metadata": {},
     "output_type": "display_data"
    }
   ],
   "source": [
    "    def cursor_line_no(str, cursor_pos)->(\"line\", \"offset\", \"line_no\"):\n",
    "`cursor_line_no` takes a string and cursor position and returns the __line__ its position is in plus the __offset__ and __line_no__.  This function\n",
    "provides the same utility as `IPython.utils.tokenutil.line_at_cursor` and includes the line number.\n",
    "\n",
    "#### `cursor_line_no` tests\n",
    "\n",
    "```ipython\n",
    ">>> s = \"A line\\n\\nfoo\\nAnother\"\n",
    ">>> cursor_line_no(s, 10)\n",
    "('foo', 8, 2)\n",
    ">>> IPython.utils.tokenutil.line_at_cursor(s, 10)\n",
    "('foo\\n', 8)\n",
    "```\n",
    "---\n",
    "            \n",
    "            start, end = str[:cursor_pos].splitlines(True) or [''], str[cursor_pos:].splitlines(True) or ['']\n",
    "            result = start.pop(-1)\n",
    "            cursor_pos = cursor_pos-len(result)\n",
    "            if not result.endswith('\\n'): result += end[0]\n",
    "            return result.rstrip(), cursor_pos, len(start)"
   ]
  },
  {
   "cell_type": "code",
   "execution_count": 8,
   "metadata": {},
   "outputs": [
    {
     "data": {
      "text/html": [
       "<pre><code>def result_to_mime(ip, result):\n",
       "</code></pre>\n",
       "<p><code>result_to_mime</code> converts an <code>IPython.core.interactiveshell.ExecutionResult</code> to valid mime bundle that the inspector may accept.</p>\n",
       "<pre><code>    exc = result.error_before_exec or result.error_in_exec\n",
       "    if exc: return {'text/plain': str(exc),}\n",
       "    return ip.display_formatter.format(result.result)[0]\n",
       "</code></pre>"
      ],
      "text/markdown": [
       "    def result_to_mime(ip, result):\n",
       "`result_to_mime` converts an `IPython.core.interactiveshell.ExecutionResult` to valid mime bundle that the inspector may accept.\n",
       "\n",
       "        exc = result.error_before_exec or result.error_in_exec\n",
       "        if exc: return {'text/plain': str(exc),}\n",
       "        return ip.display_formatter.format(result.result)[0]"
      ],
      "text/plain": [
       "\"    def result_to_mime(ip, result):\\n`result_to_mime` converts an `IPython.core.interactiveshell.ExecutionResult` to valid mime bundle that the inspector may accept.\\n\\n        exc = result.error_before_exec or result.error_in_exec\\n        if exc: return {'text/plain': str(exc),}\\n        return ip.display_formatter.format(result.result)[0]\""
      ]
     },
     "metadata": {},
     "output_type": "display_data"
    }
   ],
   "source": [
    "    def result_to_mime(ip, result):\n",
    "`result_to_mime` converts an `IPython.core.interactiveshell.ExecutionResult` to valid mime bundle that the inspector may accept.\n",
    "\n",
    "        exc = result.error_before_exec or result.error_in_exec\n",
    "        if exc: return {'text/plain': str(exc),}\n",
    "        return ip.display_formatter.format(result.result)[0]"
   ]
  },
  {
   "cell_type": "code",
   "execution_count": 9,
   "metadata": {},
   "outputs": [
    {
     "data": {
      "text/html": [
       "<pre><code>def run_and_capture_output_data(ip, line) -&gt; \"mimebundle\":\n",
       "</code></pre>\n",
       "<p><code>run_and_capture_output_data</code> invokes the standard run cell method and returns a mime bundle.</p>\n",
       "<pre><code>    return result_to_mime(ip, ip.run_cell(line))\n",
       "</code></pre>"
      ],
      "text/markdown": [
       "    def run_and_capture_output_data(ip, line) -> \"mimebundle\":\n",
       "`run_and_capture_output_data` invokes the standard run cell method and returns a mime bundle.\n",
       "        \n",
       "        return result_to_mime(ip, ip.run_cell(line))"
      ],
      "text/plain": [
       "'    def run_and_capture_output_data(ip, line) -> \"mimebundle\":\\n`run_and_capture_output_data` invokes the standard run cell method and returns a mime bundle.\\n        \\n        return result_to_mime(ip, ip.run_cell(line))'"
      ]
     },
     "metadata": {},
     "output_type": "display_data"
    }
   ],
   "source": [
    "    def run_and_capture_output_data(ip, line) -> \"mimebundle\":\n",
    "`run_and_capture_output_data` invokes the standard run cell method and returns a mime bundle.\n",
    "        \n",
    "        return result_to_mime(ip, ip.run_cell(line))"
   ]
  },
  {
   "cell_type": "code",
   "execution_count": 10,
   "metadata": {},
   "outputs": [],
   "source": [
    "    def run_nodes(ip, node, source):\n",
    "        result = IPython.core.interactiveshell.ExecutionResult(\n",
    "            IPython.core.interactiveshell.ExecutionInfo(source, False, False, True))\n",
    "        with IPython.utils.capture.capture_output() as out:\n",
    "            try:\n",
    "                ip.run_ast_nodes(\n",
    "                    [node], 'inspect', \n",
    "                    interactivity='last_expr_or_assign', \n",
    "                    result=result\n",
    "                ).send(None)\n",
    "            except StopIteration: ...\n",
    "        ip.log.error(result)\n",
    "        return dict(collections.ChainMap(\n",
    "            *(object.data for object in reversed(out.outputs)),\n",
    "            {\n",
    "                'text/plain': repr(\n",
    "                    result.error_before_exec or result.error_in_exec or out.stderr or out.stdout\n",
    "                    or F\">>> {source}\"\n",
    "                )}))"
   ]
  },
  {
   "cell_type": "code",
   "execution_count": 11,
   "metadata": {},
   "outputs": [],
   "source": [
    "    def inspect_token(shell, token, **data):\n",
    "        try: \n",
    "            detail_level='??' in token\n",
    "            token = IPython.utils.tokenutil.token_at_cursor(token, len(token))\n",
    "            data.update(shell.object_inspect_mime(token, detail_level=detail_level))\n",
    "        except KeyError: ...\n",
    "        return data"
   ]
  },
  {
   "cell_type": "code",
   "execution_count": 12,
   "metadata": {},
   "outputs": [
    {
     "data": {
      "text/html": [
       "<h2>Using the inspector for welcome and help messaging.</h2>\n",
       "<p>A blank cell is the perfect time to present users with instructions.  <code>pidgin</code> uses the <code>welcome</code> message describe it's features.</p>\n",
       "<pre><code>welcome =\\\n",
       "</code></pre>\n",
       "<h1>Welcome to the <code>pidgin</code> inspector</h1>\n",
       "<p>The <code>pidgin</code> inspector makes it easier execute inline code and explore python <code>object</code>s.</p>\n",
       "<ul>\n",
       "<li><strong>?</strong> take priority & inspect the current <code>object</code></li>\n",
       "<li>The default representation is the cell as <strong>Markdown</strong> source.</li>\n",
       "</ul>\n",
       "<hr>\n",
       "<pre><code>welcome = IPython.display.Markdown(welcome)\n",
       "</code></pre>\n",
       "<p><strong><em>WIP</em></strong></p>"
      ],
      "text/markdown": [
       "## Using the inspector for welcome and help messaging.\n",
       "\n",
       "A blank cell is the perfect time to present users with instructions.  `pidgin` uses the `welcome` message describe it's features.\n",
       "    \n",
       "    welcome =\\\n",
       "# Welcome to the `pidgin` inspector\n",
       "\n",
       "The `pidgin` inspector makes it easier execute inline code and explore python `object`s.\n",
       "\n",
       "* __?__ take priority & inspect the current `object`\n",
       "* The default representation is the cell as __Markdown__ source.\n",
       "\n",
       "---\n",
       "\n",
       "    welcome = IPython.display.Markdown(welcome)\n",
       "    \n",
       "__*WIP*__"
      ],
      "text/plain": [
       "\"## Using the inspector for welcome and help messaging.\\n\\nA blank cell is the perfect time to present users with instructions.  `pidgin` uses the `welcome` message describe it's features.\\n    \\n    welcome =\\\\\\n# Welcome to the `pidgin` inspector\\n\\nThe `pidgin` inspector makes it easier execute inline code and explore python `object`s.\\n\\n* __?__ take priority & inspect the current `object`\\n* The default representation is the cell as __Markdown__ source.\\n\\n---\\n\\n    welcome = IPython.display.Markdown(welcome)\\n    \\n__*WIP*__\""
      ]
     },
     "metadata": {},
     "output_type": "display_data"
    }
   ],
   "source": [
    "## Using the inspector for welcome and help messaging.\n",
    "\n",
    "A blank cell is the perfect time to present users with instructions.  `pidgin` uses the `welcome` message describe it's features.\n",
    "    \n",
    "    welcome =\\\n",
    "# Welcome to the `pidgin` inspector\n",
    "\n",
    "The `pidgin` inspector makes it easier execute inline code and explore python `object`s.\n",
    "\n",
    "* __?__ take priority & inspect the current `object`\n",
    "* The default representation is the cell as __Markdown__ source.\n",
    "\n",
    "---\n",
    "\n",
    "    welcome = IPython.display.Markdown(welcome)\n",
    "    \n",
    "__*WIP*__"
   ]
  },
  {
   "cell_type": "code",
   "execution_count": 13,
   "metadata": {},
   "outputs": [],
   "source": [
    "    _valid_brace = '{'"
   ]
  },
  {
   "cell_type": "code",
   "execution_count": 14,
   "metadata": {},
   "outputs": [
    {
     "data": {
      "text/html": [
       "<pre><code>def do_inspect(kernel, code, cursor_pos, detail_level=0):\n",
       "</code></pre>\n",
       "<p><code>do_inspect</code> is the major logic circuit for changing the inspector heavior.</p>\n",
       "<p>\"For debugging purposes\", globals().update(**locals()) # tab this in twice to use it.</p>\n",
       "<pre><code>    reply = {'status' : 'ok', 'data': {}, 'metadata': {}, 'found': \"This implementation always returns something\" and True}\n",
       "</code></pre>\n",
       "<ol>\n",
       "<li><p>A welcome and help message for using <code>pidgin</code> and the <code>pidgin.inspector</code> if the <strong>cell is blank</strong>.</p>\n",
       "<pre><code> if not code.strip(): \n",
       "     reply['data'].update(kernel.shell.display_formatter.format(welcome)[0])\n",
       "     return reply\n",
       "</code></pre>\n",
       "</li>\n",
       "<li><p>Get the <strong>line</strong>, <strong>offset</strong>, and <strong>line number</strong> using <code>pidgin.inspector.cursor_line_no</code>.</p>\n",
       "<pre><code> line, offset, lineno = cursor_line_no(code, cursor_pos)        \n",
       "</code></pre>\n",
       "</li>\n",
       "<li><p>Access state information about the cursor position</p>\n",
       "<pre><code> position_before_cursor, position_after_cursor = cursor_pos-offset-2, cursor_pos-offset-1\n",
       "</code></pre>\n",
       "<p>and when the cursor is a at the <strong>e</strong>nd <strong>o</strong>f a <strong>l</strong>ine.</p>\n",
       "<pre><code> eol = len(line) &lt;= (1+position_after_cursor)\n",
       "</code></pre>\n",
       "</li>\n",
       "<li><p>Get the actual <strong>token</strong> at the cursor position.</p>\n",
       "<pre><code> token = line_to_token(line, position_after_cursor+1)\n",
       "</code></pre>\n",
       "<p>## Pass the token through the logic circuits.</p>\n",
       "</li>\n",
       "<li><p>Question marks are king!</p>\n",
       "<pre><code> if token.startswith('?') or token.endswith('?'):\n",
       "     reply['data'].update(inspect_token(kernel.shell, token))\n",
       "</code></pre>\n",
       "</li>\n",
       "<li><p>Are we in <code>tick</code>s?</p>\n",
       "<pre><code> elif token.startswith('`') and token.endswith('`'):\n",
       "     reply['data'].update(run_and_capture_output_data(kernel.shell, token.strip('`')))            \n",
       "</code></pre>\n",
       "</li>\n",
       "<li><p>Are we in <code>brace</code>s, or <em>templates</em>?</p>\n",
       "<pre><code> elif token.startswith('{'*2): \n",
       "     kernel.shell.log.error(22,token)\n",
       "     reply['data'].update(\n",
       "         kernel.shell.display_formatter.format(token)[0]\n",
       "     )\n",
       " else:\n",
       "</code></pre>\n",
       "</li>\n",
       "<li><p>Otherwise, are we in block code?</p>\n",
       "<pre><code>     try:\n",
       "         transformed_code = kernel.shell.input_transformer_manager.transform_cell(code)\n",
       "         nodes = ast.parse(transformed_code).body\n",
       "     except: nodes = []\n",
       "\n",
       "     last_node = None\n",
       "     while nodes and (nodes[-1].lineno-2) &gt;= lineno: last_node = nodes.pop(-1)\n",
       "     node = nodes.pop(-1) if nodes else None\n",
       "\n",
       "     is_code_block = bool(line.strip() and node and eol and (not (\n",
       "         isinstance(node, ast.Expr) and \n",
       "         isinstance(getattr(node, 'value', ast.Expr()), ast.Str)\n",
       "     )))\n",
       "\n",
       "     if is_code_block: \n",
       "</code></pre>\n",
       "<p>Slice up the line of code that is being executed.</p>\n",
       "<pre><code>         lines = transformed_code.splitlines()[node.lineno-1:last_node and last_node.lineno or None]\n",
       "         lines[-1] = lines[-1][:last_node and last_node.col_offset or None]\n",
       "         lines[0] = lines[0][node.col_offset:]\n",
       "\n",
       "         reply['data'].update(run_nodes(kernel.shell, node, '\\n'.join(lines).strip()))\n",
       "     else: \n",
       "</code></pre>\n",
       "</li>\n",
       "<li><p>Lastly, try to inspect the object normally.  If all else show the block rendered as <strong>Markdown</strong>.</p>\n",
       "<pre><code>         reply['data'].update(inspect_token(kernel.shell, token) or {'text/markdown': code})\n",
       "</code></pre>\n",
       "<p><strong>Please active the </strong>html pager__ because it makes like better.</p>\n",
       "<pre><code> if not kernel.shell.enable_html_pager:  reply['data'].pop('text/html', None)\n",
       "\n",
       " return reply\n",
       "</code></pre>\n",
       "</li>\n",
       "</ol>"
      ],
      "text/markdown": [
       "    def do_inspect(kernel, code, cursor_pos, detail_level=0):\n",
       "`do_inspect` is the major logic circuit for changing the inspector heavior.\n",
       "\n",
       "\"For debugging purposes\", globals().update(**locals()) # tab this in twice to use it.\n",
       "        \n",
       "        reply = {'status' : 'ok', 'data': {}, 'metadata': {}, 'found': \"This implementation always returns something\" and True}\n",
       "1. A welcome and help message for using `pidgin` and the `pidgin.inspector` if the __cell is blank__.\n",
       "        \n",
       "        if not code.strip(): \n",
       "            reply['data'].update(kernel.shell.display_formatter.format(welcome)[0])\n",
       "            return reply\n",
       "2. Get the __line__, __offset__, and __line number__ using `pidgin.inspector.cursor_line_no`.\n",
       "\n",
       "        line, offset, lineno = cursor_line_no(code, cursor_pos)        \n",
       "3. Access state information about the cursor position\n",
       "\n",
       "        position_before_cursor, position_after_cursor = cursor_pos-offset-2, cursor_pos-offset-1\n",
       "and when the cursor is a at the __e__nd __o__f a __l__ine.  \n",
       "        \n",
       "        eol = len(line) <= (1+position_after_cursor)\n",
       "4. Get the actual __token__ at the cursor position.\n",
       "\n",
       "        token = line_to_token(line, position_after_cursor+1)\n",
       "## Pass the token through the logic circuits.\n",
       "\n",
       "1. Question marks are king!\n",
       "        \n",
       "        if token.startswith('?') or token.endswith('?'):\n",
       "            reply['data'].update(inspect_token(kernel.shell, token))\n",
       "2. Are we in `tick`s?\n",
       "\n",
       "        elif token.startswith('`') and token.endswith('`'):\n",
       "            reply['data'].update(run_and_capture_output_data(kernel.shell, token.strip('`')))            \n",
       "3. Are we in `brace`s, or _templates_?\n",
       "\n",
       "        elif token.startswith('{'*2): \n",
       "            kernel.shell.log.error(22,token)\n",
       "            reply['data'].update(\n",
       "                kernel.shell.display_formatter.format(token)[0]\n",
       "            )\n",
       "        else:\n",
       "4. Otherwise, are we in block code?\n",
       "\n",
       "            try:\n",
       "                transformed_code = kernel.shell.input_transformer_manager.transform_cell(code)\n",
       "                nodes = ast.parse(transformed_code).body\n",
       "            except: nodes = []\n",
       "        \n",
       "            last_node = None\n",
       "            while nodes and (nodes[-1].lineno-2) >= lineno: last_node = nodes.pop(-1)\n",
       "            node = nodes.pop(-1) if nodes else None\n",
       "\n",
       "            is_code_block = bool(line.strip() and node and eol and (not (\n",
       "                isinstance(node, ast.Expr) and \n",
       "                isinstance(getattr(node, 'value', ast.Expr()), ast.Str)\n",
       "            )))\n",
       "            \n",
       "            if is_code_block: \n",
       "Slice up the line of code that is being executed.\n",
       "\n",
       "                lines = transformed_code.splitlines()[node.lineno-1:last_node and last_node.lineno or None]\n",
       "                lines[-1] = lines[-1][:last_node and last_node.col_offset or None]\n",
       "                lines[0] = lines[0][node.col_offset:]\n",
       "                \n",
       "                reply['data'].update(run_nodes(kernel.shell, node, '\\n'.join(lines).strip()))\n",
       "            else: \n",
       "4. Lastly, try to inspect the object normally.  If all else show the block rendered as __Markdown__.\n",
       "\n",
       "                reply['data'].update(inspect_token(kernel.shell, token) or {'text/markdown': code})\n",
       "__Please active the __html pager__ because it makes like better.\n",
       "\n",
       "        if not kernel.shell.enable_html_pager:  reply['data'].pop('text/html', None)\n",
       "            \n",
       "        return reply"
      ],
      "text/plain": [
       "'    def do_inspect(kernel, code, cursor_pos, detail_level=0):\\n`do_inspect` is the major logic circuit for changing the inspector heavior.\\n\\n\"For debugging purposes\", globals().update(**locals()) # tab this in twice to use it.\\n        \\n        reply = {\\'status\\' : \\'ok\\', \\'data\\': {}, \\'metadata\\': {}, \\'found\\': \"This implementation always returns something\" and True}\\n1. A welcome and help message for using `pidgin` and the `pidgin.inspector` if the __cell is blank__.\\n        \\n        if not code.strip(): \\n            reply[\\'data\\'].update(kernel.shell.display_formatter.format(welcome)[0])\\n            return reply\\n2. Get the __line__, __offset__, and __line number__ using `pidgin.inspector.cursor_line_no`.\\n\\n        line, offset, lineno = cursor_line_no(code, cursor_pos)        \\n3. Access state information about the cursor position\\n\\n        position_before_cursor, position_after_cursor = cursor_pos-offset-2, cursor_pos-offset-1\\nand when the cursor is a at the __e__nd __o__f a __l__ine.  \\n        \\n        eol = len(line) <= (1+position_after_cursor)\\n4. Get the actual __token__ at the cursor position.\\n\\n        token = line_to_token(line, position_after_cursor+1)\\n## Pass the token through the logic circuits.\\n\\n1. Question marks are king!\\n        \\n        if token.startswith(\\'?\\') or token.endswith(\\'?\\'):\\n            reply[\\'data\\'].update(inspect_token(kernel.shell, token))\\n2. Are we in `tick`s?\\n\\n        elif token.startswith(\\'`\\') and token.endswith(\\'`\\'):\\n            reply[\\'data\\'].update(run_and_capture_output_data(kernel.shell, token.strip(\\'`\\')))            \\n3. Are we in `brace`s, or _templates_?\\n\\n        elif token.startswith(\\'{\\'*2): \\n            kernel.shell.log.error(22,token)\\n            reply[\\'data\\'].update(\\n                kernel.shell.display_formatter.format(token)[0]\\n            )\\n        else:\\n4. Otherwise, are we in block code?\\n\\n            try:\\n                transformed_code = kernel.shell.input_transformer_manager.transform_cell(code)\\n                nodes = ast.parse(transformed_code).body\\n            except: nodes = []\\n        \\n            last_node = None\\n            while nodes and (nodes[-1].lineno-2) >= lineno: last_node = nodes.pop(-1)\\n            node = nodes.pop(-1) if nodes else None\\n\\n            is_code_block = bool(line.strip() and node and eol and (not (\\n                isinstance(node, ast.Expr) and \\n                isinstance(getattr(node, \\'value\\', ast.Expr()), ast.Str)\\n            )))\\n            \\n            if is_code_block: \\nSlice up the line of code that is being executed.\\n\\n                lines = transformed_code.splitlines()[node.lineno-1:last_node and last_node.lineno or None]\\n                lines[-1] = lines[-1][:last_node and last_node.col_offset or None]\\n                lines[0] = lines[0][node.col_offset:]\\n                \\n                reply[\\'data\\'].update(run_nodes(kernel.shell, node, \\'\\\\n\\'.join(lines).strip()))\\n            else: \\n4. Lastly, try to inspect the object normally.  If all else show the block rendered as __Markdown__.\\n\\n                reply[\\'data\\'].update(inspect_token(kernel.shell, token) or {\\'text/markdown\\': code})\\n__Please active the __html pager__ because it makes like better.\\n\\n        if not kernel.shell.enable_html_pager:  reply[\\'data\\'].pop(\\'text/html\\', None)\\n            \\n        return reply'"
      ]
     },
     "metadata": {},
     "output_type": "display_data"
    }
   ],
   "source": [
    "    def do_inspect(kernel, code, cursor_pos, detail_level=0):\n",
    "`do_inspect` is the major logic circuit for changing the inspector heavior.\n",
    "\n",
    "\"For debugging purposes\", globals().update(**locals()) # tab this in twice to use it.\n",
    "        \n",
    "        reply = {'status' : 'ok', 'data': {}, 'metadata': {}, 'found': \"This implementation always returns something\" and True}\n",
    "1. A welcome and help message for using `pidgin` and the `pidgin.inspector` if the __cell is blank__.\n",
    "        \n",
    "        if not code.strip(): \n",
    "            reply['data'].update(kernel.shell.display_formatter.format(welcome)[0])\n",
    "            return reply\n",
    "2. Get the __line__, __offset__, and __line number__ using `pidgin.inspector.cursor_line_no`.\n",
    "\n",
    "        line, offset, lineno = cursor_line_no(code, cursor_pos)        \n",
    "3. Access state information about the cursor position\n",
    "\n",
    "        position_before_cursor, position_after_cursor = cursor_pos-offset-2, cursor_pos-offset-1\n",
    "and when the cursor is a at the __e__nd __o__f a __l__ine.  \n",
    "        \n",
    "        eol = len(line) <= (1+position_after_cursor)\n",
    "4. Get the actual __token__ at the cursor position.\n",
    "\n",
    "        token = line_to_token(line, position_after_cursor+1)\n",
    "## Pass the token through the logic circuits.\n",
    "\n",
    "1. Question marks are king!\n",
    "        \n",
    "        if token.startswith('?') or token.endswith('?'):\n",
    "            reply['data'].update(inspect_token(kernel.shell, token))\n",
    "2. Are we in `tick`s?\n",
    "\n",
    "        elif token.startswith('`') and token.endswith('`'):\n",
    "            reply['data'].update(run_and_capture_output_data(kernel.shell, token.strip('`')))            \n",
    "3. Are we in `brace`s, or _templates_?\n",
    "\n",
    "        elif token.startswith('{'*2): \n",
    "            kernel.shell.log.error(22,token)\n",
    "            reply['data'].update(\n",
    "                kernel.shell.display_formatter.format(token)[0]\n",
    "            )\n",
    "        else:\n",
    "4. Otherwise, are we in block code?\n",
    "\n",
    "            try:\n",
    "                transformed_code = kernel.shell.input_transformer_manager.transform_cell(code)\n",
    "                nodes = ast.parse(transformed_code).body\n",
    "            except: nodes = []\n",
    "        \n",
    "            last_node = None\n",
    "            while nodes and (nodes[-1].lineno-2) >= lineno: last_node = nodes.pop(-1)\n",
    "            node = nodes.pop(-1) if nodes else None\n",
    "\n",
    "            is_code_block = bool(line.strip() and node and eol and (not (\n",
    "                isinstance(node, ast.Expr) and \n",
    "                isinstance(getattr(node, 'value', ast.Expr()), ast.Str)\n",
    "            )))\n",
    "            \n",
    "            if is_code_block: \n",
    "Slice up the line of code that is being executed.\n",
    "\n",
    "                lines = transformed_code.splitlines()[node.lineno-1:last_node and last_node.lineno or None]\n",
    "                lines[-1] = lines[-1][:last_node and last_node.col_offset or None]\n",
    "                lines[0] = lines[0][node.col_offset:]\n",
    "                \n",
    "                reply['data'].update(run_nodes(kernel.shell, node, '\\n'.join(lines).strip()))\n",
    "            else: \n",
    "4. Lastly, try to inspect the object normally.  If all else show the block rendered as __Markdown__.\n",
    "\n",
    "                reply['data'].update(inspect_token(kernel.shell, token) or {'text/markdown': code})\n",
    "__Please active the __html pager__ because it makes like better.\n",
    "\n",
    "        if not kernel.shell.enable_html_pager:  reply['data'].pop('text/html', None)\n",
    "            \n",
    "        return reply"
   ]
  },
  {
   "cell_type": "code",
   "execution_count": 15,
   "metadata": {},
   "outputs": [
    {
     "data": {
      "text/html": [
       "<pre><code>def load_ipython_extension(ip): \n",
       "    if ip and hasattr(ip, 'kernel'):\n",
       "</code></pre>\n",
       "<p>Update the <strong>ip.kernel.do_inspect</strong> <code>types.MethodType</code> with <code>do_inspect</code>.</p>\n",
       "<pre><code>        ip.kernel.do_inspect = types.MethodType(do_inspect, ip.kernel)\n",
       "        ip.enable_html_pager = True\n",
       "def unload_ipython_extension(ip): \n",
       "    if ip and hasattr(ip, 'kernel'):\n",
       "        ip.kernel.do_inspect = types.MethodType(type(ip.kernel).do_inspect, ip.kernel)\n",
       "if __name__ == '__main__': load_ipython_extension(IPython.get_ipython())  \n",
       "</code></pre>"
      ],
      "text/markdown": [
       "    def load_ipython_extension(ip): \n",
       "        if ip and hasattr(ip, 'kernel'):\n",
       "Update the __ip.kernel.do_inspect__ `types.MethodType` with `do_inspect`. \n",
       "\n",
       "            ip.kernel.do_inspect = types.MethodType(do_inspect, ip.kernel)\n",
       "            ip.enable_html_pager = True\n",
       "    def unload_ipython_extension(ip): \n",
       "        if ip and hasattr(ip, 'kernel'):\n",
       "            ip.kernel.do_inspect = types.MethodType(type(ip.kernel).do_inspect, ip.kernel)\n",
       "    if __name__ == '__main__': load_ipython_extension(IPython.get_ipython())  "
      ],
      "text/plain": [
       "\"    def load_ipython_extension(ip): \\n        if ip and hasattr(ip, 'kernel'):\\nUpdate the __ip.kernel.do_inspect__ `types.MethodType` with `do_inspect`. \\n\\n            ip.kernel.do_inspect = types.MethodType(do_inspect, ip.kernel)\\n            ip.enable_html_pager = True\\n    def unload_ipython_extension(ip): \\n        if ip and hasattr(ip, 'kernel'):\\n            ip.kernel.do_inspect = types.MethodType(type(ip.kernel).do_inspect, ip.kernel)\\n    if __name__ == '__main__': load_ipython_extension(IPython.get_ipython())  \""
      ]
     },
     "metadata": {},
     "output_type": "display_data"
    }
   ],
   "source": [
    "    def load_ipython_extension(ip): \n",
    "        if ip and hasattr(ip, 'kernel'):\n",
    "Update the __ip.kernel.do_inspect__ `types.MethodType` with `do_inspect`. \n",
    "\n",
    "            ip.kernel.do_inspect = types.MethodType(do_inspect, ip.kernel)\n",
    "            ip.enable_html_pager = True\n",
    "    def unload_ipython_extension(ip): \n",
    "        if ip and hasattr(ip, 'kernel'):\n",
    "            ip.kernel.do_inspect = types.MethodType(type(ip.kernel).do_inspect, ip.kernel)\n",
    "    if __name__ == '__main__': load_ipython_extension(IPython.get_ipython())  "
   ]
  },
  {
   "cell_type": "markdown",
   "metadata": {},
   "source": [
    "This module was adapted from a blog `deathbeds` blog post `deathbeds.__The_inspector_should_be_a_teacher`."
   ]
  }
 ],
 "metadata": {
  "kernelspec": {
   "display_name": "Python 3",
   "language": "python",
   "name": "python3"
  },
  "language_info": {
   "codemirror_mode": {
    "name": "ipython",
    "version": 3
   },
   "file_extension": ".py",
   "mimetype": "text/x-python",
   "name": "python",
   "nbconvert_exporter": "python",
   "pygments_lexer": "ipython3",
   "version": "3.6.6"
  }
 },
 "nbformat": 4,
 "nbformat_minor": 2
}
