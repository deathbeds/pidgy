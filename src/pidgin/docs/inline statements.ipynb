{
 "cells": [
  {
   "cell_type": "code",
   "execution_count": 1,
   "metadata": {},
   "outputs": [],
   "source": [
    "    from IPython import get_ipython\n",
    "    %reload_ext pidgin"
   ]
  },
  {
   "cell_type": "code",
   "execution_count": 4,
   "metadata": {},
   "outputs": [
    {
     "data": {
      "text/html": [
       "<p>A key feature of <code>pidgin</code> is the addition of inline code as words in the narrative and constraints in computing.</p>\n",
       "<pre><code>import pidgin\n",
       "</code></pre>"
      ],
      "text/markdown": [
       "A key feature of `pidgin` is the addition of inline code as words in the narrative and constraints in computing.\n",
       "\n",
       "    import pidgin"
      ],
      "text/plain": [
       "'A key feature of `pidgin` is the addition of inline code as words in the narrative and constraints in computing.\\n\\n    import pidgin'"
      ]
     },
     "metadata": {},
     "output_type": "display_data"
    }
   ],
   "source": [
    "A key feature of `pidgin` is the addition of inline code as words in the narrative and constraints in computing.\n",
    "\n",
    "    import pidgin"
   ]
  },
  {
   "cell_type": "code",
   "execution_count": 5,
   "metadata": {},
   "outputs": [
    {
     "data": {
      "text/html": [
       "<p>Inline code statements are delimited by inline <strong>Markdown</strong> codespans.  The <code>pidgin.tangle.markdown_to_statements</code>\n",
       "function contains the logic for extracting the statements.  Originally, <code>pidgin</code> only consider expressions that could <code>eval</code>, \n",
       "but since no output is expected from <strong>code as words</strong> we decided on <code>exec</code> statements.</p>"
      ],
      "text/markdown": [
       "Inline code statements are delimited by inline __Markdown__ codespans.  The `pidgin.tangle.markdown_to_statements`\n",
       "function contains the logic for extracting the statements.  Originally, `pidgin` only consider expressions that could `eval`, \n",
       "but since no output is expected from __code as words__ we decided on `exec` statements."
      ],
      "text/plain": [
       "'Inline code statements are delimited by inline __Markdown__ codespans.  The `pidgin.tangle.markdown_to_statements`\\nfunction contains the logic for extracting the statements.  Originally, `pidgin` only consider expressions that could `eval`, \\nbut since no output is expected from __code as words__ we decided on `exec` statements.'"
      ]
     },
     "metadata": {},
     "output_type": "display_data"
    }
   ],
   "source": [
    "Inline code statements are delimited by inline __Markdown__ codespans.  The `pidgin.tangle.markdown_to_statements`\n",
    "function contains the logic for extracting the statements.  Originally, `pidgin` only consider expressions that could `eval`, \n",
    "but since no output is expected from __code as words__ we decided on `exec` statements."
   ]
  },
  {
   "cell_type": "code",
   "execution_count": 6,
   "metadata": {},
   "outputs": [
    {
     "data": {
      "text/html": [
       "<p>Inline code spans can span across multiple statements (<code>eval</code>) if <strong>\\</strong> are used.  For example \n",
       "the <code>sample = range(\\</code> starts at <code>1,\\</code> and ends at <code>10)</code>.  Allowing us to <code>assert sample == range(1,10)</code>.</p>"
      ],
      "text/markdown": [
       "Inline code spans can span across multiple statements (`eval`) if __\\__ are used.  For example \n",
       "the `sample = range(\\` starts at `1,\\` and ends at `10)`.  Allowing us to `assert sample == range(1,10)`."
      ],
      "text/plain": [
       "'Inline code spans can span across multiple statements (`eval`) if __\\\\__ are used.  For example \\nthe `sample = range(\\\\` starts at `1,\\\\` and ends at `10)`.  Allowing us to `assert sample == range(1,10)`.'"
      ]
     },
     "metadata": {},
     "output_type": "display_data"
    }
   ],
   "source": [
    "Inline code spans can span across multiple statements (`eval`) if __\\__ are used.  For example \n",
    "the `sample = range(\\` starts at `1,\\` and ends at `10)`.  Allowing us to `assert sample == range(1,10)`."
   ]
  },
  {
   "cell_type": "code",
   "execution_count": 7,
   "metadata": {},
   "outputs": [
    {
     "data": {
      "text/html": [
       "<h2>Benefits of evaluating the inline code spans</h2>\n",
       "<ul>\n",
       "<li>Improves the health of computational essays.</li>\n",
       "<li>Tighter weaving of compute are narrative.</li>\n",
       "<li>Inline code objects do not display anything unless they are explicitly asked to or there is an error.</li>\n",
       "<li>Adds stricter constraints to <strong>restart and run all</strong>.</li>\n",
       "</ul>"
      ],
      "text/markdown": [
       "## Benefits of evaluating the inline code spans\n",
       "\n",
       "* Improves the health of computational essays.\n",
       "* Tighter weaving of compute are narrative.\n",
       "* Inline code objects do not display anything unless they are explicitly asked to or there is an error.\n",
       "* Adds stricter constraints to __restart and run all__.\n"
      ],
      "text/plain": [
       "'## Benefits of evaluating the inline code spans\\n\\n* Improves the health of computational essays.\\n* Tighter weaving of compute are narrative.\\n* Inline code objects do not display anything unless they are explicitly asked to or there is an error.\\n* Adds stricter constraints to __restart and run all__.\\n'"
      ]
     },
     "metadata": {},
     "output_type": "display_data"
    }
   ],
   "source": [
    "## Benefits of evaluating the inline code spans\n",
    "\n",
    "* Improves the health of computational essays.\n",
    "* Tighter weaving of compute are narrative.\n",
    "* Inline code objects do not display anything unless they are explicitly asked to or there is an error.\n",
    "* Adds stricter constraints to __restart and run all__.\n"
   ]
  },
  {
   "cell_type": "code",
   "execution_count": null,
   "metadata": {},
   "outputs": [],
   "source": []
  }
 ],
 "metadata": {
  "kernelspec": {
   "display_name": "Python 3",
   "language": "python",
   "name": "python3"
  },
  "language_info": {
   "codemirror_mode": {
    "name": "ipython",
    "version": 3
   },
   "file_extension": ".py",
   "mimetype": "text/x-python",
   "name": "python",
   "nbconvert_exporter": "python",
   "pygments_lexer": "ipython3",
   "version": "3.6.6"
  }
 },
 "nbformat": 4,
 "nbformat_minor": 2
}
