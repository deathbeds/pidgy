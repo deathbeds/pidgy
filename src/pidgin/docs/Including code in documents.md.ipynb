{
 "cells": [
  {
   "cell_type": "code",
   "execution_count": 1,
   "metadata": {},
   "outputs": [],
   "source": [
    "    %reload_ext pidgin"
   ]
  },
  {
   "cell_type": "code",
   "execution_count": 2,
   "metadata": {},
   "outputs": [
    {
     "data": {
      "text/html": [
       "<p>Computational essays will include code in <strong>Markdown</strong> as:</p>\n",
       "<ul>\n",
       "<li>Block code</li>\n",
       "<li>Inline code</li>\n",
       "<li>Template code</li>\n",
       "</ul>\n",
       "<p><code>pidgin</code> authors make a pact that all code <code>object</code>s compute.  This practice will encourage\n",
       "reproducible and reproducible computable <code>object</code>s in computational essays.</p>\n",
       "<pre><code>import pidgin\n",
       "</code></pre>"
      ],
      "text/markdown": [
       "Computational essays will include code in __Markdown__ as:\n",
       "* Block code\n",
       "* Inline code\n",
       "* Template code\n",
       "\n",
       "`pidgin` authors make a pact that all code `object`s compute.  This practice will encourage\n",
       "reproducible and reproducible computable `object`s in computational essays.\n",
       "\n",
       "    import pidgin"
      ],
      "text/plain": [
       "'Computational essays will include code in __Markdown__ as:\\n* Block code\\n* Inline code\\n* Template code\\n\\n`pidgin` authors make a pact that all code `object`s compute.  This practice will encourage\\nreproducible and reproducible computable `object`s in computational essays.\\n\\n    import pidgin'"
      ]
     },
     "metadata": {},
     "output_type": "display_data"
    }
   ],
   "source": [
    "Computational essays will include code in __Markdown__ as:\n",
    "* Block code\n",
    "* Inline code\n",
    "* Template code\n",
    "\n",
    "`pidgin` authors make a pact that all code `object`s compute.  This practice will encourage\n",
    "reproducible and reproducible computable `object`s in computational essays.\n",
    "\n",
    "    import pidgin"
   ]
  },
  {
   "cell_type": "code",
   "execution_count": 3,
   "metadata": {},
   "outputs": [
    {
     "data": {
      "text/html": [
       "<h2>Indenting code.</h2>\n",
       "<p><code>pidgin</code> requires authors to indent code for it be valid.</p>\n",
       "<p>Early on <code>pidgin</code> authors will forget to indent their code.  Without an indent, nothing will\n",
       "be computed and the input is returned as rich text:</p>"
      ],
      "text/markdown": [
       "## Indenting code.\n",
       "\n",
       "`pidgin` requires authors to indent code for it be valid.\n",
       "\n",
       "Early on `pidgin` authors will forget to indent their code.  Without an indent, nothing will\n",
       "be computed and the input is returned as rich text:"
      ],
      "text/plain": [
       "'## Indenting code.\\n\\n`pidgin` requires authors to indent code for it be valid.\\n\\nEarly on `pidgin` authors will forget to indent their code.  Without an indent, nothing will\\nbe computed and the input is returned as rich text:'"
      ]
     },
     "metadata": {},
     "output_type": "display_data"
    }
   ],
   "source": [
    "## Indenting code.\n",
    "\n",
    "`pidgin` requires authors to indent code for it be valid.\n",
    "\n",
    "Early on `pidgin` authors will forget to indent their code.  Without an indent, nothing will\n",
    "be computed and the input is returned as rich text:"
   ]
  },
  {
   "cell_type": "code",
   "execution_count": 4,
   "metadata": {},
   "outputs": [
    {
     "name": "stdout",
     "output_type": "stream",
     "text": [
      "\"\"\"\"This string just looks like weird html because it is not indented\"  # is not code `print(In[-1])`\"\"\";\n"
     ]
    },
    {
     "data": {
      "text/html": [
       "<p>\"This string just looks like weird html because it is not indented\"  # is not code <code>print(In[-1])</code></p>"
      ],
      "text/markdown": [
       "\"This string just looks like weird html because it is not indented\"  # is not code `print(In[-1])`"
      ],
      "text/plain": [
       "'\"This string just looks like weird html because it is not indented\"  # is not code `print(In[-1])`'"
      ]
     },
     "metadata": {},
     "output_type": "display_data"
    }
   ],
   "source": [
    "\"This string just looks like weird html because it is not indented\"  # is not code `print(In[-1])`"
   ]
  },
  {
   "cell_type": "code",
   "execution_count": 5,
   "metadata": {},
   "outputs": [
    {
     "data": {
      "text/plain": [
       "('This string is printed because it is indented.',)"
      ]
     },
     "execution_count": 5,
     "metadata": {},
     "output_type": "execute_result"
    }
   ],
   "source": [
    "    \"This string is printed because it is indented.\","
   ]
  },
  {
   "cell_type": "code",
   "execution_count": 6,
   "metadata": {},
   "outputs": [
    {
     "data": {
      "text/html": [
       "<p><a href=\"https://coffeescript.org/#literate\">Literate coffeescript</a> provides similar opinions.</p>"
      ],
      "text/markdown": [
       "[Literate coffeescript](https://coffeescript.org/#literate) provides similar opinions."
      ],
      "text/plain": [
       "'[Literate coffeescript](https://coffeescript.org/#literate) provides similar opinions.'"
      ]
     },
     "metadata": {},
     "output_type": "display_data"
    }
   ],
   "source": [
    "[Literate coffeescript](https://coffeescript.org/#literate) provides similar opinions."
   ]
  },
  {
   "cell_type": "code",
   "execution_count": 7,
   "metadata": {},
   "outputs": [
    {
     "data": {
      "text/html": [
       "<h2>Mixing Markdown and Code</h2>\n",
       "<p>Traditionally notebooks authors will write different syntaxes in Markdown and code cells.  <code>pidgin</code>\n",
       "authors are always writing <strong>Markdown</strong>, sometime the text is computed.</p>"
      ],
      "text/markdown": [
       "## Mixing Markdown and Code\n",
       "\n",
       "Traditionally notebooks authors will write different syntaxes in Markdown and code cells.  `pidgin`\n",
       "authors are always writing __Markdown__, sometime the text is computed."
      ],
      "text/plain": [
       "'## Mixing Markdown and Code\\n\\nTraditionally notebooks authors will write different syntaxes in Markdown and code cells.  `pidgin`\\nauthors are always writing __Markdown__, sometime the text is computed.'"
      ]
     },
     "metadata": {},
     "output_type": "display_data"
    }
   ],
   "source": [
    "## Mixing Markdown and Code\n",
    "\n",
    "Traditionally notebooks authors will write different syntaxes in Markdown and code cells.  `pidgin`\n",
    "authors are always writing __Markdown__, sometime the text is computed."
   ]
  },
  {
   "cell_type": "code",
   "execution_count": 8,
   "metadata": {},
   "outputs": [],
   "source": [
    "    ip = get_ipython()"
   ]
  },
  {
   "cell_type": "code",
   "execution_count": 9,
   "metadata": {},
   "outputs": [],
   "source": [
    "    ip.ast_node_interactivity = 'last_expr'"
   ]
  },
  {
   "cell_type": "code",
   "execution_count": 10,
   "metadata": {},
   "outputs": [
    {
     "data": {
      "text/plain": [
       "('This string is shown because there is no markdown that follows it',)"
      ]
     },
     "execution_count": 10,
     "metadata": {},
     "output_type": "execute_result"
    },
    {
     "data": {
      "text/html": [
       "<h3>When a cell ends with code.</h3>\n",
       "<p>The last expression in a cell is shown when the cell ends with block.</p>\n",
       "<pre><code>\"This string is shown because there is no markdown that follows it\",\n",
       "</code></pre>"
      ],
      "text/markdown": [
       "### When a cell ends with code.\n",
       "\n",
       "The last expression in a cell is shown when the cell ends with block.\n",
       "\n",
       "    \"This string is shown because there is no markdown that follows it\","
      ],
      "text/plain": [
       "'### When a cell ends with code.\\n\\nThe last expression in a cell is shown when the cell ends with block.\\n\\n    \"This string is shown because there is no markdown that follows it\",'"
      ]
     },
     "metadata": {},
     "output_type": "display_data"
    }
   ],
   "source": [
    "### When a cell ends with code.\n",
    "\n",
    "The last expression in a cell is shown when the cell ends with block.\n",
    "\n",
    "    \"This string is shown because there is no markdown that follows it\","
   ]
  },
  {
   "cell_type": "code",
   "execution_count": 11,
   "metadata": {},
   "outputs": [
    {
     "data": {
      "text/html": [
       "<p>Where as:</p>\n",
       "<pre><code>\"No one will see this string\",\n",
       "</code></pre>\n",
       "<p>because there is a non-code <strong>Markdown</strong> expression below it.</p>"
      ],
      "text/markdown": [
       "Where as:\n",
       "    \n",
       "    \"No one will see this string\",\n",
       "because there is a non-code __Markdown__ expression below it."
      ],
      "text/plain": [
       "'Where as:\\n    \\n    \"No one will see this string\",\\nbecause there is a non-code __Markdown__ expression below it.'"
      ]
     },
     "metadata": {},
     "output_type": "display_data"
    }
   ],
   "source": [
    "Where as:\n",
    "    \n",
    "    \"No one will see this string\",\n",
    "because there is a non-code __Markdown__ expression below it."
   ]
  },
  {
   "cell_type": "code",
   "execution_count": 12,
   "metadata": {},
   "outputs": [
    {
     "data": {
      "text/html": [
       "<h2>Escaping code</h2>\n",
       "<p>An author may design to include <strong>code</strong>-<em>styled</em> <code>object</code> without executing them.  We recommend\n",
       "using <strong>html</strong> tags <code>to include non-computed code</code>.</p>"
      ],
      "text/markdown": [
       "## Escaping code\n",
       "\n",
       "An author may design to include __code__-*styled* `object` without executing them.  We recommend\n",
       "using __html__ tags <code>to include non-computed code</code>."
      ],
      "text/plain": [
       "'## Escaping code\\n\\nAn author may design to include __code__-*styled* `object` without executing them.  We recommend\\nusing __html__ tags <code>to include non-computed code</code>.'"
      ]
     },
     "metadata": {},
     "output_type": "display_data"
    }
   ],
   "source": [
    "## Escaping code\n",
    "\n",
    "An author may design to include __code__-*styled* `object` without executing them.  We recommend\n",
    "using __html__ tags <code>to include non-computed code</code>."
   ]
  },
  {
   "cell_type": "markdown",
   "metadata": {},
   "source": [
    "or an author may convert a cell without working code to a __\"Markdown\"__ or __OFF__ cell.\n",
    "\n",
    "    assert False, \"So the bad code doesn't effect the reusability.\""
   ]
  },
  {
   "cell_type": "code",
   "execution_count": 13,
   "metadata": {},
   "outputs": [
    {
     "data": {
      "text/html": [
       "<h2>Using <strong>Markdown</strong> as block strings in <strong>Python</strong></h2>\n",
       "<p>The translation from <strong>Markdown</strong> to <strong>Python</strong> to semi-lossless.  All non-code objects are wrapped\n",
       "as block strings and indented in relationship to the neighboring code.  Line numbers are respected\n",
       "for better tracebacks when import <code>pidgin</code> documents.</p>"
      ],
      "text/markdown": [
       "## Using __Markdown__ as block strings in __Python__\n",
       "\n",
       "The translation from __Markdown__ to __Python__ to semi-lossless.  All non-code objects are wrapped\n",
       "as block strings and indented in relationship to the neighboring code.  Line numbers are respected\n",
       "for better tracebacks when import `pidgin` documents."
      ],
      "text/plain": [
       "'## Using __Markdown__ as block strings in __Python__\\n\\nThe translation from __Markdown__ to __Python__ to semi-lossless.  All non-code objects are wrapped\\nas block strings and indented in relationship to the neighboring code.  Line numbers are respected\\nfor better tracebacks when import `pidgin` documents.'"
      ]
     },
     "metadata": {},
     "output_type": "display_data"
    }
   ],
   "source": [
    "## Using __Markdown__ as block strings in __Python__\n",
    "\n",
    "The translation from __Markdown__ to __Python__ to semi-lossless.  All non-code objects are wrapped\n",
    "as block strings and indented in relationship to the neighboring code.  Line numbers are respected\n",
    "for better tracebacks when import `pidgin` documents."
   ]
  },
  {
   "cell_type": "code",
   "execution_count": 20,
   "metadata": {},
   "outputs": [
    {
     "data": {
      "text/html": [
       "<p>If the first cell is <strong>Markdown</strong> then that is the <code>pidgin</code> module docstring.</p>\n",
       "<p>Any <strong>Markdown</strong> following a function or class definition becomes the docstring.</p>\n",
       "<pre><code>def a_function_with_a_markdown_docstring(x: int) -&gt; str:\n",
       "</code></pre>\n",
       "<p>The docstring for <code>a_function_with_a_markdown_docstring</code>.</p>\n",
       "<pre><code>    return str(x)\n",
       "</code></pre>"
      ],
      "text/markdown": [
       "If the first cell is __Markdown__ then that is the `pidgin` module docstring.\n",
       "\n",
       "Any __Markdown__ following a function or class definition becomes the docstring.\n",
       "    \n",
       "    def a_function_with_a_markdown_docstring(x: int) -> str:\n",
       "The docstring for `a_function_with_a_markdown_docstring`.\n",
       "\n",
       "        return str(x)"
      ],
      "text/plain": [
       "'If the first cell is __Markdown__ then that is the `pidgin` module docstring.\\n\\nAny __Markdown__ following a function or class definition becomes the docstring.\\n    \\n    def a_function_with_a_markdown_docstring(x: int) -> str:\\nThe docstring for `a_function_with_a_markdown_docstring`.\\n\\n        return str(x)'"
      ]
     },
     "metadata": {},
     "output_type": "display_data"
    }
   ],
   "source": [
    "If the first cell is __Markdown__ then that is the `pidgin` module docstring.\n",
    "\n",
    "Any __Markdown__ following a function or class definition becomes the docstring.\n",
    "    \n",
    "    def a_function_with_a_markdown_docstring(x: int) -> str:\n",
    "The docstring for `a_function_with_a_markdown_docstring`.\n",
    "\n",
    "        return str(x)"
   ]
  },
  {
   "cell_type": "code",
   "execution_count": 15,
   "metadata": {},
   "outputs": [],
   "source": [
    "    def test_a_function_with_a_markdown_docstring():\n",
    "        assert a_function_with_a_markdown_docstring.__doc__ == \"\"\"\n",
    "        The docstring for `a_function_with_a_markdown_docstring`.\"\"\".strip()"
   ]
  },
  {
   "cell_type": "code",
   "execution_count": 16,
   "metadata": {},
   "outputs": [
    {
     "data": {
      "text/html": [
       "<pre><code>class AClassWithAMarkdownDocstring:\n",
       "</code></pre>\n",
       "<p>This is the docstring for <code>AClassWithAMarkdownDocstring</code></p>\n",
       "<pre><code>def test_a_class_with_a_markdown_docstring():\n",
       "    assert AClassWithAMarkdownDocstring.__doc__ == \"\"\"\n",
       "    This is the docstring for `AClassWithAMarkdownDocstring`\"\"\".strip()\n",
       "</code></pre>"
      ],
      "text/markdown": [
       "    class AClassWithAMarkdownDocstring:\n",
       "This is the docstring for `AClassWithAMarkdownDocstring`\n",
       "    \n",
       "    def test_a_class_with_a_markdown_docstring():\n",
       "        assert AClassWithAMarkdownDocstring.__doc__ == \"\"\"\n",
       "        This is the docstring for `AClassWithAMarkdownDocstring`\"\"\".strip()"
      ],
      "text/plain": [
       "'    class AClassWithAMarkdownDocstring:\\nThis is the docstring for `AClassWithAMarkdownDocstring`\\n    \\n    def test_a_class_with_a_markdown_docstring():\\n        assert AClassWithAMarkdownDocstring.__doc__ == \"\"\"\\n        This is the docstring for `AClassWithAMarkdownDocstring`\"\"\".strip()'"
      ]
     },
     "metadata": {},
     "output_type": "display_data"
    }
   ],
   "source": [
    "    class AClassWithAMarkdownDocstring:\n",
    "This is the docstring for `AClassWithAMarkdownDocstring`\n",
    "    \n",
    "    def test_a_class_with_a_markdown_docstring():\n",
    "        assert AClassWithAMarkdownDocstring.__doc__ == \"\"\"\n",
    "        This is the docstring for `AClassWithAMarkdownDocstring`\"\"\".strip()"
   ]
  },
  {
   "cell_type": "code",
   "execution_count": 17,
   "metadata": {},
   "outputs": [
    {
     "data": {
      "text/html": [
       "<p>Another <code>pidgin</code> trick allows an author to <strong>Markdown</strong> content a string objects.</p>\n",
       "<pre><code>a_markdown_value =\\\n",
       "</code></pre>\n",
       "<p>Using a line continutation <code>a_markdown_value</code> can become the value of the string directly below it.</p>"
      ],
      "text/markdown": [
       "Another `pidgin` trick allows an author to __Markdown__ content a string objects.\n",
       "\n",
       "    a_markdown_value =\\\n",
       "Using a line continutation `a_markdown_value` can become the value of the string directly below it."
      ],
      "text/plain": [
       "'Another `pidgin` trick allows an author to __Markdown__ content a string objects.\\n\\n    a_markdown_value =\\\\\\nUsing a line continutation `a_markdown_value` can become the value of the string directly below it.'"
      ]
     },
     "metadata": {},
     "output_type": "display_data"
    }
   ],
   "source": [
    "Another `pidgin` trick allows an author to __Markdown__ content a string objects.\n",
    "\n",
    "    a_markdown_value =\\\n",
    "Using a line continutation `a_markdown_value` can become the value of the string directly below it."
   ]
  },
  {
   "cell_type": "code",
   "execution_count": 18,
   "metadata": {},
   "outputs": [
    {
     "data": {
      "text/html": [
       "<pre><code>interleaved_dict = dict(filename=\n",
       "</code></pre>\n",
       "<p>readme.md.ipynb</p>\n",
       "<pre><code>     , name=\n",
       "</code></pre>\n",
       "<p>readme.md</p>\n",
       "<pre><code>    )\n",
       "def test_interleaved_dict():\n",
       "    assert interleaved_dict == {'filename': 'readme.md.ipynb', 'name': 'readme.md'}\n",
       "</code></pre>"
      ],
      "text/markdown": [
       "    interleaved_dict = dict(filename=\n",
       "readme.md.ipynb\n",
       "         \n",
       "         , name=\n",
       "readme.md\n",
       "        \n",
       "        )\n",
       "    def test_interleaved_dict():\n",
       "        assert interleaved_dict == {'filename': 'readme.md.ipynb', 'name': 'readme.md'}"
      ],
      "text/plain": [
       "\"    interleaved_dict = dict(filename=\\nreadme.md.ipynb\\n         \\n         , name=\\nreadme.md\\n        \\n        )\\n    def test_interleaved_dict():\\n        assert interleaved_dict == {'filename': 'readme.md.ipynb', 'name': 'readme.md'}\""
      ]
     },
     "metadata": {},
     "output_type": "display_data"
    }
   ],
   "source": [
    "    interleaved_dict = dict(filename=\n",
    "readme.md.ipynb\n",
    "         \n",
    "         , name=\n",
    "readme.md\n",
    "        \n",
    "        )\n",
    "    def test_interleaved_dict():\n",
    "        assert interleaved_dict == {'filename': 'readme.md.ipynb', 'name': 'readme.md'}"
   ]
  },
  {
   "cell_type": "code",
   "execution_count": 19,
   "metadata": {},
   "outputs": [
    {
     "data": {
      "text/html": [
       "<pre><code>def test_importing():\n",
       "</code></pre>\n",
       "<p>This is an <code>inline_value = 11</code> in a docstring</p>\n",
       "<pre><code>    with pidgin.PidginImporter():\n",
       "        try: from . import Including_code_in_documents\n",
       "        except: import Including_code_in_documents\n",
       "    assert inline_value == 11, \"\"\"The inline value was not transformed.\"\"\"\n",
       "</code></pre>"
      ],
      "text/markdown": [
       "    def test_importing():\n",
       "This is an `inline_value = 11` in a docstring\n",
       "\n",
       "        with pidgin.PidginImporter():\n",
       "            try: from . import Including_code_in_documents\n",
       "            except: import Including_code_in_documents\n",
       "        assert inline_value == 11, \"\"\"The inline value was not transformed.\"\"\""
      ],
      "text/plain": [
       "'    def test_importing():\\nThis is an `inline_value = 11` in a docstring\\n\\n        with pidgin.PidginImporter():\\n            try: from . import Including_code_in_documents\\n            except: import Including_code_in_documents\\n        assert inline_value == 11, \"\"\"The inline value was not transformed.\"\"\"'"
      ]
     },
     "metadata": {},
     "output_type": "display_data"
    }
   ],
   "source": [
    "    def test_importing():\n",
    "This is an `inline_value = 11` in a docstring\n",
    "\n",
    "        with pidgin.PidginImporter():\n",
    "            try: from . import Including_code_in_documents\n",
    "            except: import Including_code_in_documents\n",
    "        assert inline_value == 11, \"\"\"The inline value was not transformed.\"\"\""
   ]
  },
  {
   "cell_type": "code",
   "execution_count": 21,
   "metadata": {},
   "outputs": [
    {
     "data": {
      "text/html": [
       "<p>As normal, the output is suppressed when a semi-colon trails the code block.</p>\n",
       "<pre><code>11;\n",
       "</code></pre>"
      ],
      "text/markdown": [
       "As normal, the output is suppressed when a semi-colon trails the code block.\n",
       "\n",
       "    11;"
      ],
      "text/plain": [
       "'As normal, the output is suppressed when a semi-colon trails the code block.\\n\\n    11;'"
      ]
     },
     "metadata": {},
     "output_type": "display_data"
    }
   ],
   "source": [
    "As normal, the output is suppressed when a semi-colon trails the code block.\n",
    "\n",
    "    11;"
   ]
  }
 ],
 "metadata": {
  "kernelspec": {
   "display_name": "Python 3",
   "language": "python",
   "name": "python3"
  },
  "language_info": {
   "codemirror_mode": {
    "name": "ipython",
    "version": 3
   },
   "file_extension": ".py",
   "mimetype": "text/x-python",
   "name": "python",
   "nbconvert_exporter": "python",
   "pygments_lexer": "ipython3",
   "version": "3.6.6"
  }
 },
 "nbformat": 4,
 "nbformat_minor": 2
}
