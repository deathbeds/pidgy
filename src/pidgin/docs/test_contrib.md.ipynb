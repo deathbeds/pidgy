{
 "cells": [
  {
   "cell_type": "markdown",
   "metadata": {},
   "source": [
    "Test `pidgin` contrib extensions.  Contrib extensions have different dependencies than the core `pidgin` deps or they introduce needless opinions."
   ]
  },
  {
   "cell_type": "code",
   "execution_count": 1,
   "metadata": {},
   "outputs": [],
   "source": [
    "    import pidgin, IPython; get_ipython = IPython.get_ipython\n",
    "    %reload_ext pidgin"
   ]
  },
  {
   "cell_type": "code",
   "execution_count": 2,
   "metadata": {},
   "outputs": [
    {
     "data": {
      "text/html": [
       "<pre><code>with __import__('importnb').Notebook():\n",
       "    %reload_ext pidgin_contrib.code_formatting\n",
       "</code></pre>\n",
       "<p>adds <code>import pygments</code> highlighting to code cells.</p>\n"
      ],
      "text/markdown": [
       "    with __import__('importnb').Notebook():\n",
       "        %reload_ext pidgin_contrib.code_formatting\n",
       "adds `import pygments` highlighting to code cells.\n",
       "    \n"
      ],
      "text/plain": [
       "\"    with __import__('importnb').Notebook():\\n        %reload_ext pidgin_contrib.code_formatting\\nadds `import pygments` highlighting to code cells.\\n    \\n\""
      ]
     },
     "metadata": {},
     "output_type": "display_data"
    }
   ],
   "source": [
    "    with __import__('importnb').Notebook():\n",
    "        %reload_ext pidgin_contrib.code_formatting\n",
    "adds `import pygments` highlighting to code cells.\n",
    "    \n"
   ]
  },
  {
   "cell_type": "code",
   "execution_count": 3,
   "metadata": {},
   "outputs": [],
   "source": []
  }
 ],
 "metadata": {
  "kernelspec": {
   "display_name": "Python 3",
   "language": "python",
   "name": "python3"
  },
  "language_info": {
   "codemirror_mode": {
    "name": "ipython",
    "version": 3
   },
   "file_extension": ".py",
   "mimetype": "text/x-python",
   "name": "python",
   "nbconvert_exporter": "python",
   "pygments_lexer": "ipython3",
   "version": "3.6.6"
  },
  "nikola": {
   "author": "Tony Fast",
   "date": "2018-12-05 16:43:43 UTC",
   "description": "Test `pidgin` contrib extensions.  Contrib extensions have different dependencies than the core `pidgin` deps or they introduce needless opinions.",
   "slug": "test_contrib.md.ipynb",
   "title": "test_contrib.md.ipynb",
   "type": "text"
  }
 },
 "nbformat": 4,
 "nbformat_minor": 2
}
