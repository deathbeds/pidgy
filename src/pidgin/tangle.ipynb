{
 "cells": [
  {
   "cell_type": "markdown",
   "metadata": {},
   "source": [
    "    from IPython import get_ipython; ip = get_ipython()\n",
    "    %reload_ext pidgin.tangle\n",
    "\n",
    "`import pidgin.tangle` modifies the `get_ipython().input_transformer_manager` to accept __Markdown__ source.  The `pidgin.tangle` module\n",
    "exports:\n",
    "    \n",
    "* `pidgin.tangle.markdown_to_python` - is a semi-lossless __Markdown__ to __Python__ converter.\n",
    "* `pidgin.tangle.markdown_to_statements` - extracts inline code from __Markdown__ text."
   ]
  },
  {
   "cell_type": "code",
   "execution_count": 1,
   "metadata": {},
   "outputs": [],
   "source": [
    "    import ast, mistune, textwrap, functools, itertools, IPython\n",
    "    __all__ = 'markdown_to_python', 'markdown_to_statements'"
   ]
  },
  {
   "cell_type": "markdown",
   "metadata": {},
   "source": [
    "`quote` wrotes non code objects in triple ticks."
   ]
  },
  {
   "cell_type": "code",
   "execution_count": 2,
   "metadata": {},
   "outputs": [],
   "source": [
    "    def quote(str, punc=''):\n",
    "        str, leading_ws = ''.join(str), []\n",
    "        lines = str.splitlines(True)\n",
    "        _ = '\"\"\"'\n",
    "        if _ in str: _ = \"'''\"\n",
    "        if not str.strip(): _ = punc = ''\n",
    "        while lines and (not lines[0].strip()): leading_ws.append(lines.pop(0))    \n",
    "        str = ''.join(lines)\n",
    "        end = len(str.rstrip())\n",
    "        str, ending_ws = str[:end], str[end:]\n",
    "        if str and str.endswith(_[0]): str += ' '                    \n",
    "        return F\"{''.join(leading_ws)}{_}{str}{_}{punc}{ending_ws}\""
   ]
  },
  {
   "cell_type": "markdown",
   "metadata": {},
   "source": [
    "`get_first_line` get the first non-`iter`able strings in `lines`"
   ]
  },
  {
   "cell_type": "code",
   "execution_count": 3,
   "metadata": {},
   "outputs": [],
   "source": [
    "    def get_first_line(lines, line=''):\n",
    "        for line in lines or ['']: \n",
    "            if line.strip(): break\n",
    "        return line"
   ]
  },
  {
   "cell_type": "markdown",
   "metadata": {},
   "source": [
    "`get_line_indent` computes the indent of a string."
   ]
  },
  {
   "cell_type": "code",
   "execution_count": 4,
   "metadata": {},
   "outputs": [],
   "source": [
    "    def get_line_indent(line):  return len(line) - len(line.lstrip())"
   ]
  },
  {
   "cell_type": "markdown",
   "metadata": {},
   "source": [
    "The `Markdown` transformer must combine code and non-code.  It must handle logic to properly indent tangled code and non-code."
   ]
  },
  {
   "cell_type": "code",
   "execution_count": 5,
   "metadata": {},
   "outputs": [],
   "source": [
    "    class Markdown(mistune.Markdown):\n",
    "        def render(self, text):\n",
    "            \"\"\"Initialize the \"\"\"\n",
    "            self.renderer.original = ''.join(text).splitlines()\n",
    "            self.renderer.final, self.renderer.buffer, self.renderer.min_indent = [], [], 4\n",
    "            self.parse(text)\n",
    "            self.renderer.block_code('', None, punc=';')\n",
    "            return '\\n'.join(self.renderer.final)"
   ]
  },
  {
   "cell_type": "markdown",
   "metadata": {},
   "source": [
    "The __Lexer__ s only consider coarse features of the markdown spec.  "
   ]
  },
  {
   "cell_type": "code",
   "execution_count": 6,
   "metadata": {},
   "outputs": [],
   "source": [
    "    class BlockLexer(mistune.BlockLexer): list_rules = default_rules = ['newline', 'fences', 'block_code', 'list_block', 'paragraph', 'text']\n",
    "    class InlineLexer(mistune.InlineLexer):  inline_html_rules = default_rules = ['text']"
   ]
  },
  {
   "cell_type": "code",
   "execution_count": 7,
   "metadata": {},
   "outputs": [],
   "source": [
    "    class Renderer(mistune.Renderer):\n",
    "        def newline(self):\n",
    "            self.buffer += ['']\n",
    "            return ''\n",
    "        \n",
    "        def paragraph(self, text):\n",
    "            line, lines = '', text.splitlines()\n",
    "            while lines and not lines[-1].strip():  lines.pop()\n",
    "            while lines:\n",
    "                line = lines.pop(0)\n",
    "                while self.original and line not in self.original[0]:\n",
    "                    self.buffer += [self.original.pop(0)]\n",
    "            if self.original and line in self.original[0]:  self.buffer += [self.original.pop(0)]\n",
    "            return ''\n",
    "\n",
    "        def block_code(self, text, lang, punc=''): \n",
    "            first_line = get_first_line(text.splitlines())\n",
    "            \n",
    "            while self.original and (lang or first_line) not in self.original[0]:   \n",
    "                self.buffer += [self.original.pop(0)]\n",
    "                \n",
    "            while self.original and not self.original[0].strip(): self.buffer += [self.original.pop(0)]\n",
    "                \n",
    "            code, lines = [], text.splitlines()\n",
    "            \n",
    "            if lang:\n",
    "                lines = [lang] + lines            \n",
    "                if not lang.startswith('%%'): return self.paragraph('\\n'.join(lines))\n",
    "\n",
    "            while lines and not lines[0].strip(): lines.pop(0)\n",
    "            \n",
    "            if self.original:\n",
    "                while lines:\n",
    "                    line = lines.pop(0)\n",
    "                    while line not in self.original[0]: code += [self.original.pop(0)]\n",
    "                    code += [self.original.pop(0)]\n",
    "                    \n",
    "            code = '\\n'.join(code + ['']).lstrip('```')\n",
    "            \n",
    "            if code.lstrip().startswith('%%'):\n",
    "                code = IPython.core.inputtransformer2.TransformerManager().transform_cell(code)\n",
    "                \n",
    "            body = '\\n'.join(self.buffer + [''])\n",
    "            \n",
    "            last_line = get_first_line(reversed(self.final))\n",
    "            prior_indent = get_line_indent(last_line)\n",
    "\n",
    "            definition, returns = last_line.rstrip().endswith(':'), last_line.lstrip().startswith('return')\n",
    "\n",
    "            this_indent = get_line_indent(get_first_line(code.splitlines()))\n",
    "            \n",
    "            if this_indent < self.min_indent:\n",
    "                code = textwrap.indent(code, ' '*(self.min_indent-this_indent))\n",
    "                this_indent = get_line_indent(get_first_line(code.splitlines()))\n",
    "\n",
    "            if body.strip() and not self.min_indent: self.min_indent = this_indent\n",
    "            indent = max(self.min_indent, (returns and min or max)(prior_indent, this_indent))\n",
    "            if definition and prior_indent == indent: indent += 4\n",
    "            self.buffer = self.final.extend(\n",
    "                textwrap.indent(quote(body, punc), ' '*indent).splitlines()\n",
    "                + code.splitlines()) or []\n",
    "            return ''            "
   ]
  },
  {
   "cell_type": "markdown",
   "metadata": {},
   "source": [
    "## Exports"
   ]
  },
  {
   "cell_type": "markdown",
   "metadata": {},
   "source": [
    "`markdown_to_python` converts __Markdown__ to __Python__ in a semi lossless way."
   ]
  },
  {
   "cell_type": "code",
   "execution_count": 8,
   "metadata": {},
   "outputs": [],
   "source": [
    "    def markdown_to_python(str)->\"Valid Python Source\": \n",
    "        renderer = Renderer()\n",
    "        if str.lstrip().startswith('%%'): return str\n",
    "        return Markdown(renderer=renderer, \n",
    "            inline=InlineLexer(renderer, mistune.InlineGrammar()), \n",
    "            block=BlockLexer(mistune.BlockGrammar())).render(str)"
   ]
  },
  {
   "cell_type": "markdown",
   "metadata": {},
   "source": [
    "`InlineExpressionsMarkdown` is a special `mistune.Markdown` transformer that records information in __code span__ statatements."
   ]
  },
  {
   "cell_type": "code",
   "execution_count": 9,
   "metadata": {},
   "outputs": [],
   "source": [
    "    class InlineExpressionsMarkdown(mistune.Markdown):\n",
    "        def render(self, text):\n",
    "            self.renderer.expressions = []\n",
    "            super().render(text)\n",
    "            return self.renderer.expressions"
   ]
  },
  {
   "cell_type": "markdown",
   "metadata": {},
   "source": [
    "`InlineExpressionsRenderer` is a special `mistune.Renderer` transformer that records expressions in `InlineExpressionsRenderer.codespan`s."
   ]
  },
  {
   "cell_type": "code",
   "execution_count": 10,
   "metadata": {},
   "outputs": [],
   "source": [
    "    class InlineExpressionsRenderer(mistune.Renderer):\n",
    "        def codespan(self, text): \n",
    "            self.expressions.append(text)\n",
    "            return super().text(text)"
   ]
  },
  {
   "cell_type": "code",
   "execution_count": 11,
   "metadata": {},
   "outputs": [],
   "source": [
    "    def markdown_to_statements(str):\n",
    "        return InlineExpressionsMarkdown(renderer=InlineExpressionsRenderer()).render(str)"
   ]
  },
  {
   "cell_type": "code",
   "execution_count": 12,
   "metadata": {},
   "outputs": [],
   "source": [
    "    def transformer(lines: \"that end with a newline.\"): \n",
    "        # Always add a new line\n",
    "        return markdown_to_python(''.join(lines + ['\\n'])).splitlines(1)"
   ]
  },
  {
   "cell_type": "code",
   "execution_count": 13,
   "metadata": {},
   "outputs": [],
   "source": [
    "    def load_ipython_extension(ip=None):\n",
    "        (ip or IPython.get_ipython()).input_transformer_manager.cleanup_transforms.insert(0, transformer)\n",
    "\n",
    "    def unload_ipython_extension(ip=None):\n",
    "        ip = ip or IPython.get_ipython()\n",
    "        ip.input_transformer_manager.cleanup_transforms = [\n",
    "            object for object in ip.input_transformer_manager.cleanup_transforms\n",
    "            if object is not transformer]\n",
    "    if __name__ == '__main__': load_ipython_extension()"
   ]
  }
 ],
 "metadata": {
  "kernelspec": {
   "display_name": "Python 3",
   "language": "python",
   "name": "python3"
  },
  "language_info": {
   "codemirror_mode": {
    "name": "ipython",
    "version": 3
   },
   "file_extension": ".py",
   "mimetype": "text/x-python",
   "name": "python",
   "nbconvert_exporter": "python",
   "pygments_lexer": "ipython3",
   "version": "3.6.6"
  }
 },
 "nbformat": 4,
 "nbformat_minor": 2
}
