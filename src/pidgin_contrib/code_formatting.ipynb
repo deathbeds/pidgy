{
 "cells": [
  {
   "cell_type": "code",
   "execution_count": 1,
   "metadata": {},
   "outputs": [],
   "source": [
    "    import pygments, mistune\n",
    "    from pidgin.display import PidginDisplay"
   ]
  },
  {
   "cell_type": "code",
   "execution_count": 2,
   "metadata": {},
   "outputs": [],
   "source": [
    "    lexers = {}\n",
    "    formatter = pygments.formatters.html.HtmlFormatter()"
   ]
  },
  {
   "cell_type": "code",
   "execution_count": 3,
   "metadata": {},
   "outputs": [],
   "source": [
    "    class HighlightRenderer(mistune.Renderer):\n",
    "        def block_code(self, code, lang):\n",
    "            global lexers\n",
    "            lang = (lang or 'ipython').lstrip('%%')\n",
    "\n",
    "            formatted = '' if lang in lexers else \"\"\"<style>%s</style>\"\"\"%formatter.get_style_defs('.highlight')\n",
    "\n",
    "            lexers[lang] = lexers.get(\n",
    "                lang, pygments.lexers.get_lexer_by_name(lang))\n",
    "            formatted += pygments.highlight(code, lexers[lang], formatter)\n",
    "            return formatted"
   ]
  },
  {
   "cell_type": "code",
   "execution_count": 4,
   "metadata": {},
   "outputs": [],
   "source": [
    "    renderer = HighlightRenderer()"
   ]
  },
  {
   "cell_type": "code",
   "execution_count": 5,
   "metadata": {},
   "outputs": [],
   "source": [
    "    class HighlightPidginDisplay(PidginDisplay):\n",
    "        def format(self): \n",
    "            return mistune.markdown(self.data, \n",
    "                                    escape=False, \n",
    "                                    parse_block_html=True, \n",
    "                                    parse_inline_html=True, \n",
    "                                   renderer=renderer)"
   ]
  },
  {
   "cell_type": "code",
   "execution_count": 6,
   "metadata": {},
   "outputs": [],
   "source": [
    "    def load_ipython_extension(ip):\n",
    "        %reload_ext pidgin.display\n",
    "        ip.display_formatter.mimebundle_formatter.for_type(\n",
    "            PidginDisplay, lambda object: HighlightPidginDisplay(\n",
    "                data=object.data, environment=object.environment, ns=object.ns\n",
    "            )._repr_mimebundle_())\n",
    "    \n",
    "    def unload_ipython_extension(ip):\n",
    "        %reload_ext pidgin.display\n",
    "        \n",
    "    if __name__ == '__main__': load_ipython_extension(get_ipython())"
   ]
  }
 ],
 "metadata": {
  "kernelspec": {
   "display_name": "Python 3",
   "language": "python",
   "name": "python3"
  },
  "language_info": {
   "codemirror_mode": {
    "name": "ipython",
    "version": 3
   },
   "file_extension": ".py",
   "mimetype": "text/x-python",
   "name": "python",
   "nbconvert_exporter": "python",
   "pygments_lexer": "ipython3",
   "version": "3.6.6"
  }
 },
 "nbformat": 4,
 "nbformat_minor": 2
}
