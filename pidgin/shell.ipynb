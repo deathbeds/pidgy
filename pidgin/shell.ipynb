{
 "cells": [
  {
   "cell_type": "markdown",
   "metadata": {},
   "source": [
    "`shell` composes an `IPython.core.interactiveshell.InteractiveShell` that modifies the `run_cell` and inspection behaviors."
   ]
  },
  {
   "cell_type": "code",
   "execution_count": 1,
   "metadata": {},
   "outputs": [],
   "source": [
    "    import IPython, traitlets, jinja2, types, contextlib, textwrap, ast, argparse, traceback, doctest, sys, traceback\n",
    "    try:\n",
    "        from .run_cell import run_cell\n",
    "    except:\n",
    "        from run_cell import run_cell"
   ]
  },
  {
   "cell_type": "code",
   "execution_count": 3,
   "metadata": {},
   "outputs": [],
   "source": [
    "    class PidginShell(IPython.core.interactiveshell.InteractiveShell):\n",
    "        run_cell = run_cell"
   ]
  },
  {
   "cell_type": "code",
   "execution_count": 4,
   "metadata": {},
   "outputs": [],
   "source": [
    "    original_methods = {}\n",
    "    def load_ipython_extension(ip):\n",
    "        ip.run_cell = types.MethodType(PidginShell.run_cell, ip)\n",
    "        ip.enable_html_pager = True\n",
    "    def unload_ipython_extension(ip):  \n",
    "        ip.run_cell = types.MethodType(type(ip).run_cell, ip)"
   ]
  },
  {
   "cell_type": "code",
   "execution_count": 5,
   "metadata": {},
   "outputs": [],
   "source": [
    "    if __name__ == '__main__': load_ipython_extension(IPython.get_ipython())"
   ]
  }
 ],
 "metadata": {
  "kernelspec": {
   "display_name": "Python 3",
   "language": "python",
   "name": "python3"
  },
  "language_info": {
   "codemirror_mode": {
    "name": "ipython",
    "version": 3
   },
   "file_extension": ".py",
   "mimetype": "text/x-python",
   "name": "python",
   "nbconvert_exporter": "python",
   "pygments_lexer": "ipython3",
   "version": "3.6.6"
  }
 },
 "nbformat": 4,
 "nbformat_minor": 2
}
