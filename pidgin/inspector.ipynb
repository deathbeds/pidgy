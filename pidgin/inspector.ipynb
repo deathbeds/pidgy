{
 "cells": [
  {
   "cell_type": "markdown",
   "metadata": {},
   "source": [
    ">> A way to innovate quicker is to increase the value of a keystroke.  \n",
    "\n",
    "In this module we make some slight variations to the `IPython` kernel `do_inspect` method.  The\n",
    "current inspector has the ability to introspect Python objects.  We'll enhance\n",
    "that with ability inspect source code and preview __pidgin__ documents."
   ]
  },
  {
   "cell_type": "code",
   "execution_count": 2,
   "metadata": {},
   "outputs": [],
   "source": [
    "    import IPython, types\n",
    "    ip = IPython.get_ipython(); kernel = ip.kernel"
   ]
  },
  {
   "cell_type": "markdown",
   "metadata": {},
   "source": [
    "The `do_inspect` function will:\n",
    "1. Always returns something.\n",
    "2. Display a welcome message if no source is found.\n",
    "4. Increase the detail level if __?__ s are found near the cursor.  \n",
    "    \n",
    "    Authors may access and read source code more frequently with this feature.\n",
    "5. Return the canonical inspection if it is found.\n",
    "3. Perform some fancy rendering if the cell has a leading or trailing themactic break.\n",
    "6. Display the markdown as a de facto standard.\n",
    "    \n",
    "    <code>pidgin</code> authors cells in Markdown so this preferred behavior.\n",
    "    \n",
    "> We make the `code` and `cursor_pos` available to interactively debug this post."
   ]
  },
  {
   "cell_type": "code",
   "execution_count": 3,
   "metadata": {},
   "outputs": [],
   "source": [
    "    def do_inspect(kernel, code, cursor_pos, detail_level=0):\n",
    "        \"\"\"For debugging purposes\"\"\", globals().update(**locals())\n",
    "        \n",
    "        reply = {'status' : 'ok', 'data': {}, 'metadata': {}, 'found': \"This implementation always returns something\" and True}\n",
    "        \n",
    "        \"\"\"A welcome and help message for using a tool or inspector.\"\"\"\n",
    "        if not code.strip(): return reply['data'].update({'text/markdown': \"\"\"## Welcome to our custom inspector\\n\\n_Here are some suggestions to use some software_.\"\"\"}) or reply\n",
    "                        \n",
    "        \"\"\"Ramp up the detail level if there is a question mark nearby.\"\"\"\n",
    "        detail_level = '?' in code[(cursor_pos-2):cursor_pos]\n",
    "        \n",
    "        try:\n",
    "            \"\"\"to return the expected result.\"\"\" and reply['data'].update(kernel.shell.object_inspect_mime(\n",
    "                IPython.utils.tokenutil.token_at_cursor(code, cursor_pos), detail_level=detail_level))\n",
    "            if not kernel.shell.enable_html_pager: \"all of this is better with html pager\" and reply['data'].pop('text/html')\n",
    "            return reply\n",
    "        except KeyError: ...\n",
    "            \n",
    "        if code.lstrip().startswith('---') or code.rstrip().endswith('---') and \"Render the thing with display.\":\n",
    "            return reply['data'].update(kernel.shell.display_formatter.format(code)[0]) or reply            \n",
    "        \n",
    "        \"\"\"Default to a markdown representation of the code body.  Markdown cells prefer this. \"\"\"\n",
    "        return reply['data'].update({'text/markdown': code}) or reply"
   ]
  },
  {
   "cell_type": "markdown",
   "metadata": {},
   "source": [
    "Update the `ip.kernel.do_inspect` `types.MethodType` with `do_inspect`. With extensions.\n",
    "\n",
    "    %reload_ext deathbeds.__The_inspector_should_be_a_teacher\n",
    "\n",
    "* Modifying the inspection behavior works for both Code and Markdown Cells in JupyterLab."
   ]
  },
  {
   "cell_type": "code",
   "execution_count": 7,
   "metadata": {},
   "outputs": [],
   "source": [
    "    def load_ipython_extension(ip): ip.kernel.do_inspect = types.MethodType(do_inspect, kernel)\n",
    "    def unload_ipython_extension(ip): ip.kernel.do_inspect = types.MethodType(type(kernel).do_inspect, kernel)\n",
    "    if __name__ == '__main__': load_ipython_extension(ip)"
   ]
  }
 ],
 "metadata": {
  "kernelspec": {
   "display_name": "Python 3",
   "language": "python",
   "name": "python3"
  },
  "language_info": {
   "codemirror_mode": {
    "name": "ipython",
    "version": 3
   },
   "file_extension": ".py",
   "mimetype": "text/x-python",
   "name": "python",
   "nbconvert_exporter": "python",
   "pygments_lexer": "ipython3",
   "version": "3.6.6"
  }
 },
 "nbformat": 4,
 "nbformat_minor": 2
}
