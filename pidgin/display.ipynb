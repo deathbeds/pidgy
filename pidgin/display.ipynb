{
 "cells": [
  {
   "cell_type": "markdown",
   "metadata": {},
   "source": [
    "`pidgin.display` is a collection of display rules for IPython objects.  \n",
    "\n",
    "`StringFormatter` is a class that adds reules for string `object`s."
   ]
  },
  {
   "cell_type": "code",
   "execution_count": 1,
   "metadata": {},
   "outputs": [],
   "source": [
    "    import abc, fnmatch, io, dataclasses, functools, IPython, jinja2, inspect, collections, pygments, mistune, inspect, importlib, types, base64, string, traitlets\n",
    "    from mimetypes import guess_type; guess = lambda x: guess_type(x)[0]\n",
    "    with __import__('importnb').Notebook():\n",
    "        try: \n",
    "            from .utils import format_images, finalize_ipython\n",
    "        except: \n",
    "            from utils import format_images, finalize_ipython\n",
    "    ip = IPython.get_ipython()"
   ]
  },
  {
   "cell_type": "code",
   "execution_count": 2,
   "metadata": {},
   "outputs": [],
   "source": [
    "def strip_graphviz_headers(Source):\n",
    "    str = Source._repr_svg_()\n",
    "    # Mistune does a bad job of handling inline comments.\n",
    "    for i in range(4): str = str.partition('>')[2]\n",
    "\n",
    "    # Mistune has a hard time with the xmlns information.\n",
    "    for year in (1999, 2000): str = str.replace(F'xmlns:xlink=\"http://www.w3.org/{year}/xlink\"', '')\n",
    "    return str.lstrip()"
   ]
  },
  {
   "cell_type": "code",
   "execution_count": 3,
   "metadata": {},
   "outputs": [],
   "source": [
    "def graphviz(ip, str): \n",
    "    try: import graphviz\n",
    "    except: return\n",
    "    if '->' in str and not str.startswith('di'): str = 'di' + str\n",
    "    return IPython.display.HTML(strip_graphviz_headers(graphviz.Source(str)))"
   ]
  },
  {
   "cell_type": "code",
   "execution_count": 4,
   "metadata": {},
   "outputs": [],
   "source": [
    "def eval_shorthand_ipython(ip, str):\n",
    "    return eval(ip.input_transformer_manager.transform_cell(str), ip.user_ns, ip.user_global_ns)"
   ]
  },
  {
   "cell_type": "code",
   "execution_count": 5,
   "metadata": {},
   "outputs": [],
   "source": [
    "def flatten(str): return ''.join(str.splitlines())"
   ]
  },
  {
   "cell_type": "code",
   "execution_count": 6,
   "metadata": {},
   "outputs": [],
   "source": [
    "def embed(ip, str):\n",
    "    type = guess(str) or ''\n",
    "    if str.startswith('http'): \n",
    "        if type.startswith('image') and not type.endswith('svg'):\n",
    "            return IPython.display.Image(str)\n",
    "        return IPython.display.IFrame(str, '100%', '500px')\n"
   ]
  },
  {
   "cell_type": "code",
   "execution_count": 7,
   "metadata": {},
   "outputs": [],
   "source": [
    "    @dataclasses.dataclass(order=True)\n",
    "    class PidginDisplay:\n",
    "        data: str = ''\n",
    "        environment: jinja2.Environment = dataclasses.field(\n",
    "            default_factory=jinja2.Environment\n",
    "        )\n",
    "        \n",
    "        ns: dict = dataclasses.field(default_factory=dict, repr=False)\n",
    "\n",
    "        def render(self):\n",
    "            return self.environment.from_string(self.format()).render(**(self.ns))\n",
    "        \n",
    "        def format(self, **dict): \n",
    "            return mistune.markdown(self.data, \n",
    "                                    escape=False, \n",
    "                                    parse_block_html=True, \n",
    "                                    parse_inline_html=True, **dict)\n",
    "        \n",
    "        def _repr_mimebundle_(self, include=None, exclude=None):\n",
    "            import builtins\n",
    "            self.environment.globals.update(vars(builtins))\n",
    "            return {\n",
    "                'text/html': self.render(), \n",
    "                'text/markdown': self.data, 'text/plain': self.data}, {}"
   ]
  },
  {
   "cell_type": "markdown",
   "metadata": {},
   "source": [
    "    IPython.core.formatters.MimeBundleFormatter.for_type_by_name"
   ]
  },
  {
   "cell_type": "code",
   "execution_count": 8,
   "metadata": {},
   "outputs": [],
   "source": [
    "environment = jinja2.Environment(finalize=finalize_ipython, lstrip_blocks=True)"
   ]
  },
  {
   "cell_type": "code",
   "execution_count": 9,
   "metadata": {},
   "outputs": [],
   "source": [
    "class StringFormatterBase(abc.ABCMeta):\n",
    "    level = 0\n",
    "    environment = environment\n",
    "    def __enter__(cls): cls.level += 1\n",
    "    def __exit__(cls, *exc): cls.level -= 1\n",
    "        \n",
    "    def format(cls, object, include=None, exclude=None, display=False):\n",
    "        with cls:\n",
    "            for type, callable in cls.formatters.items():\n",
    "                if fnmatch.fnmatch(object, type):\n",
    "                    result = callable(ip, object)\n",
    "                    if result: return ip.display_formatter.format(result)\n",
    "            if cls.level == 1: \n",
    "                return ip.display_formatter.format(PidginDisplay(object, cls.environment, ip.user_ns))"
   ]
  },
  {
   "cell_type": "code",
   "execution_count": 10,
   "metadata": {},
   "outputs": [],
   "source": [
    "class StringFormatter(metaclass=StringFormatterBase):\n",
    "    formatters = {'https://*' : embed,\n",
    "                  'http://*' : embed,\n",
    "                  'graph {*}': graphviz, \n",
    "                  'digraph {*}': graphviz,\n",
    "                  ';[! ]*': eval_shorthand_ipython,\n",
    "                  ',[! ]*': eval_shorthand_ipython,}"
   ]
  },
  {
   "cell_type": "code",
   "execution_count": 11,
   "metadata": {},
   "outputs": [],
   "source": [
    "def format_doc(object, **dict):\n",
    "    if object.__doc__:\n",
    "        if inspect.isfunction(object) or inspect.isclass(object): \n",
    "            name = object.__module__\n",
    "        if inspect.ismodule(object):\n",
    "            name = object.__name__\n",
    "        with StringFormatter:\n",
    "            # Context fixes weird indents.\n",
    "            return ip.display_formatter.format(\n",
    "                PidginDisplay(object.__doc__, environment=environment, ns=vars(importlib.import_module(name))))"
   ]
  },
  {
   "cell_type": "code",
   "execution_count": 12,
   "metadata": {},
   "outputs": [],
   "source": [
    "   def show_axes(object):\n",
    "        ip = IPython.get_ipython()\n",
    "        import matplotlib.backends.backend_agg\n",
    "        bytes = io.BytesIO()\n",
    "        matplotlib.backends.backend_agg.FigureCanvasAgg(object.figure).print_png(bytes)\n",
    "        bundle = {\n",
    "            'image/png': bytes.getvalue()\n",
    "        }\n",
    "        return {\n",
    "            'text/html': format_images('image/png', bundle),\n",
    "            'text/plain': repr(object),\n",
    "        }, {}"
   ]
  },
  {
   "cell_type": "code",
   "execution_count": 13,
   "metadata": {},
   "outputs": [],
   "source": [
    "    def format_frame(DataFrame):\n",
    "        return {\n",
    "            'text/html': F\"<span>{DataFrame._repr_html_().lstrip('<div>').rstrip('</div>')}</span>\",\n",
    "            'text/plain': repr(DataFrame)\n",
    "        }, {}"
   ]
  },
  {
   "cell_type": "code",
   "execution_count": 14,
   "metadata": {},
   "outputs": [],
   "source": [
    "def load_ipython_extension(ip): \n",
    "    ip = ip or IPython.get_ipython()\n",
    "    ip.display_formatter.mimebundle_formatter.for_type(type, format_doc)\n",
    "    ip.display_formatter.mimebundle_formatter.for_type_by_name('matplotlib.figure', 'Axes', show_axes)    \n",
    "    ip.display_formatter.mimebundle_formatter.for_type_by_name('pandas.core.frame', 'DataFrame', format_frame)    \n",
    "    ip.display_formatter.mimebundle_formatter.for_type(types.ModuleType, format_doc)\n",
    "    ip.display_formatter.mimebundle_formatter.for_type(str, StringFormatter.format)\n",
    "    \n",
    "def unload_ipython_extension(ip=None): \n",
    "    for object in (type, types.ModuleType, str):\n",
    "        ip.display_formatter.mimebundle_formatter.type_printers.pop(object)\n",
    "    for object in (('matplotlib.figure', 'Axes'), ('pandas.core.frame', 'DataFrame')):\n",
    "        ip.display_formatter.mimebundle_formatter.deferred_printers.pop(object)\n",
    "    \n",
    "\n",
    "__name__ == '__main__' and load_ipython_extension(get_ipython())"
   ]
  }
 ],
 "metadata": {
  "kernelspec": {
   "display_name": "Python 3",
   "language": "python",
   "name": "python3"
  },
  "language_info": {
   "codemirror_mode": {
    "name": "ipython",
    "version": 3
   },
   "file_extension": ".py",
   "mimetype": "text/x-python",
   "name": "python",
   "nbconvert_exporter": "python",
   "pygments_lexer": "ipython3",
   "version": "3.6.6"
  }
 },
 "nbformat": 4,
 "nbformat_minor": 2
}
