{
 "cells": [
  {
   "cell_type": "code",
   "execution_count": 1,
   "metadata": {},
   "outputs": [],
   "source": [
    "    import abc, fnmatch, io, dataclasses, IPython, jinja2, inspect, collections, mistune, toolz.curried as toolz, base64, string, traitlets\n",
    "    from mimetypes import guess_type; guess = lambda x: guess_type(x)[0]\n",
    "    try: \n",
    "        from .utils import format_images\n",
    "    except: \n",
    "        from utils import format_images\n",
    "    ip = IPython.get_ipython()"
   ]
  },
  {
   "cell_type": "code",
   "execution_count": 2,
   "metadata": {},
   "outputs": [],
   "source": [
    "def strip_graphviz_headers(Source):\n",
    "        str = Source._repr_svg_()\n",
    "        # Mistune does a bad job of handling inline comments.\n",
    "        for i in range(4): str = str.partition('>')[2]\n",
    "            \n",
    "        # Mistune has a hard time with the xmlns information.\n",
    "        for year in (1999, 2000): str = str.replace(F'xmlns:xlink=\"http://www.w3.org/{year}/xlink\"', '')\n",
    "        return str.lstrip()"
   ]
  },
  {
   "cell_type": "code",
   "execution_count": null,
   "metadata": {},
   "outputs": [],
   "source": [
    "def graphviz(ip, str): \n",
    "    try: import graphviz\n",
    "    except: return\n",
    "    if '->' in str and not str.startswith('di'): str = 'di' + str\n",
    "    return IPython.display.HTML(strip_graphviz_headers(graphviz.Source(str)))"
   ]
  },
  {
   "cell_type": "code",
   "execution_count": null,
   "metadata": {},
   "outputs": [],
   "source": [
    "def eval_shorthand_ipython(ip, str):\n",
    "    return eval(ip.input_transformer_manager.transform_cell(str), ip.user_ns, ip.user_global_ns)"
   ]
  },
  {
   "cell_type": "code",
   "execution_count": null,
   "metadata": {},
   "outputs": [],
   "source": [
    "    def flatten(str): return ''.join(str.splitlines())"
   ]
  },
  {
   "cell_type": "code",
   "execution_count": null,
   "metadata": {},
   "outputs": [],
   "source": [
    "def embed(ip, str):\n",
    "    type = guess(str) or ''\n",
    "    if str.startswith('http'): \n",
    "        if type.startswith('image') and not type.endswith('svg'):\n",
    "            return F\"\"\"<img src=\"{str}\"/>\"\"\"\n",
    "        return F\"\"\"<iframe src=\"{str}\" width=\"100%\" height=\"500px\"></iframe>\"\"\""
   ]
  },
  {
   "cell_type": "code",
   "execution_count": null,
   "metadata": {},
   "outputs": [],
   "source": [
    "    mimes = toolz.pipe(\"\"\"\n",
    "        50 text/html\n",
    "        70 text/latex\n",
    "        80 image/svg+xml\n",
    "        90 image/bmp image/png image/jpeg image/gif'\n",
    "        60 text/markdown\n",
    "        110 text/javascript application/javascript \n",
    "        120 text/plain\n",
    "        \"\"\", str.strip, str.splitlines, toolz.map(toolz.compose(toolz.juxt(toolz.compose(int, next), list), iter, str.split)), list)"
   ]
  },
  {
   "cell_type": "code",
   "execution_count": null,
   "metadata": {},
   "outputs": [],
   "source": [
    "  def ipython_formatter(object):\n",
    "        bundle, metadata = IPython.get_ipython().display_formatter.format(object)\n",
    "        for type in toolz.pipe(mimes, toolz.map(toolz.second), toolz.concat):\n",
    "            if type == 'text/plain': return object\n",
    "            if type in bundle:  \n",
    "                object = bundle[type]\n",
    "                if type.startswith('image') and 'svg' not in type: \n",
    "                    object = format_images(type, bundle)._repr_html_()\n",
    "                if type == 'text/html':\n",
    "                    object = flatten(object)\n",
    "                break\n",
    "        return object"
   ]
  },
  {
   "cell_type": "code",
   "execution_count": null,
   "metadata": {},
   "outputs": [],
   "source": [
    "class StringFormatter(IPython.core.formatters.MimeBundleFormatter):\n",
    "    mimebundle_formatter = traitlets.Instance(IPython.core.formatters.MimeBundleFormatter)\n",
    "    formatters = traitlets.Dict()\n",
    "    environment = traitlets.Instance(jinja2.Environment, kw={\n",
    "        'finalize': ipython_formatter,\n",
    "        'lstrip_blocks': True\n",
    "    })\n",
    "    level = traitlets.Int(default_value=0)\n",
    "    @traitlets.default('formatters')\n",
    "    def _default_formatters(self):return {\n",
    "        'https://*' : embed,\n",
    "        'http://*' : embed,\n",
    "        'graph {*}': graphviz, \n",
    "        'digraph {*}': graphviz,\n",
    "        ';[! ]*': eval_shorthand_ipython,\n",
    "        ',[! ]*': eval_shorthand_ipython,\n",
    "    }\n",
    "    \n",
    "    def __enter__(self): self.level += 1\n",
    "    def __exit__(self, *exc): self.level -= 1\n",
    "    \n",
    "    def __call__(self, object, include=None, exclude=None, display=False):\n",
    "        if isinstance(object, str):\n",
    "            with self:\n",
    "                for type, callable in self.formatters.items():\n",
    "                    if fnmatch.fnmatch(object, type):\n",
    "                        result = callable(self.parent, object)\n",
    "                        if result: return ip.display_formatter.format(result)\n",
    "                if self.level == 1: return self.format_html(object)\n",
    "        return self.mimebundle_formatter(object, include, exclude)\n",
    "    \n",
    "    def format_html(self, object):\n",
    "        return {\n",
    "            'text/html': self.environment.from_string(\n",
    "                mistune.markdown(object, escape=False, parse_block_html=True, parse_inline_html=True)\n",
    "            ).render(**self.parent.user_ns), 'text/markdown': object, 'text/plain': object\n",
    "        }, {}\n",
    "\n",
    "IPython.core.formatters.FormatterABC.register(StringFormatter);"
   ]
  },
  {
   "cell_type": "code",
   "execution_count": null,
   "metadata": {},
   "outputs": [],
   "source": [
    "def format_module_doc(type):\n",
    "    if type.__doc__:\n",
    "        return IPython.get_ipython().display_formatter.format(type.__doc__)"
   ]
  },
  {
   "cell_type": "code",
   "execution_count": 11,
   "metadata": {},
   "outputs": [],
   "source": [
    "   def show_axes(object):\n",
    "        ip = IPython.get_ipython()\n",
    "        import matplotlib.backends.backend_agg\n",
    "        bytes = io.BytesIO()\n",
    "        matplotlib.backends.backend_agg.FigureCanvasAgg(object.figure).print_png(bytes)\n",
    "        bundle = {\n",
    "            'image/png': bytes.getvalue()\n",
    "        }\n",
    "        return {\n",
    "            'text/html': format_images('image/png', bundle)._repr_html_(),\n",
    "            'text/plain': repr(object),\n",
    "        }, {}"
   ]
  },
  {
   "cell_type": "code",
   "execution_count": 12,
   "metadata": {},
   "outputs": [],
   "source": [
    "def load_ipython_extension(ip): \n",
    "    ip = ip or IPython.get_ipython()\n",
    "    import matplotlib.figure\n",
    "\n",
    "    ip.display_formatter.mimebundle_formatter.for_type(matplotlib.figure.Axes, show_axes)\n",
    "    \n",
    "    ip.display_formatter.mimebundle_formatter = StringFormatter(\n",
    "        mimebundle_formatter=ip.display_formatter.mimebundle_formatter, parent=ip)\n",
    "    ip.display_formatter.mimebundle_formatter.for_type(type, format_module_doc)\n",
    "    \n",
    "def unload_ipython_extension(ip=None):\n",
    "    ip.display_formatter.mimebundle_formatter = IPython.core.formatters.MimeBundleFormatter(parent=ip)\n",
    "    \n",
    "__name__ == '__main__' and load_ipython_extension(get_ipython())"
   ]
  }
 ],
 "metadata": {
  "kernelspec": {
   "display_name": "Python 3",
   "language": "python",
   "name": "python3"
  },
  "language_info": {
   "codemirror_mode": {
    "name": "ipython",
    "version": 3
   },
   "file_extension": ".py",
   "mimetype": "text/x-python",
   "name": "python",
   "nbconvert_exporter": "python",
   "pygments_lexer": "ipython3",
   "version": "3.6.6"
  }
 },
 "nbformat": 4,
 "nbformat_minor": 2
}
