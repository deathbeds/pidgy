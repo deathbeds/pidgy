{
 "cells": [
  {
   "cell_type": "markdown",
   "metadata": {},
   "source": [
    "    %load_ext pidgin.shell\n",
    "    \n",
    "The `pidgin` shell augments the `IPython` shell in the notebook to permit Markdown forward [computational essays](http://blog.stephenwolfram.com/2017/11/what-is-a-computational-essay/).   It provides:\n",
    "\n",
    "* Markdown input in code cells.\n",
    "* Markdown block code statements and expressions are evaluated as a normal code cell.\n",
    "* Inline code expressions are evaluated asynchronously.\n",
    "* The Markdown code accepts `jinja2` templates too\n"
   ]
  },
  {
   "cell_type": "markdown",
   "metadata": {},
   "source": [
    "    IPython.core.interactiveshell.InteractiveShell._run_cell??"
   ]
  },
  {
   "cell_type": "code",
   "execution_count": 1,
   "metadata": {},
   "outputs": [],
   "source": [
    "    import IPython, traitlets, jinja2, types, contextlib, textwrap, ast, argparse, traceback, doctest, sys, traceback\n",
    "    try:\n",
    "        from .tangle import markdown_to_python, markdown_to_expressions\n",
    "    except:\n",
    "        from tangle import markdown_to_python, markdown_to_expressions"
   ]
  },
  {
   "cell_type": "markdown",
   "metadata": {},
   "source": [
    "2. `run_cell_doctests` _will discover any doctests in the cell and evaluate them_.\n",
    "3. `run_user_expressions` _executes inline code expressions to assure that it is valid code_.\n",
    "    \n",
    "    __assert__ is the only statement permitted in inline code.\n",
    "4. `run_cell_display` _display the input_."
   ]
  },
  {
   "cell_type": "code",
   "execution_count": 2,
   "metadata": {},
   "outputs": [],
   "source": [
    "    import functools"
   ]
  },
  {
   "cell_type": "code",
   "execution_count": 3,
   "metadata": {},
   "outputs": [],
   "source": [
    "    def show_error(ip, object):\n",
    "        @functools.wraps(object)\n",
    "        def post_run_cell(result):\n",
    "            if result.error_in_exec or result.error_before_exec: return result\n",
    "            result.error_in_exec = object(result)\n",
    "            if result.error_in_exec:\n",
    "                ip.showtraceback(exc_to_tuple(result.error_in_exec))\n",
    "            return result\n",
    "        return post_run_cell"
   ]
  },
  {
   "cell_type": "markdown",
   "metadata": {},
   "source": [
    "`exc_to_tuple` converts an `Exception` to a `tuple` to display the traceback__."
   ]
  },
  {
   "cell_type": "code",
   "execution_count": 4,
   "metadata": {},
   "outputs": [],
   "source": [
    "    def exc_to_tuple(Exception): return type(Exception), Exception, Exception.__traceback__"
   ]
  },
  {
   "cell_type": "markdown",
   "metadata": {},
   "source": [
    "## `run_cell_doctests`"
   ]
  },
  {
   "cell_type": "code",
   "execution_count": 5,
   "metadata": {},
   "outputs": [],
   "source": [
    "    def run_cell_doctests(ip, result) -> Exception:\n",
    "        with IPython.utils.capture.capture_output() as output:\n",
    "            doctest.run_docstring_examples(result.info.raw_cell, ip.user_ns, name=ip.user_ns['__name__'])\n",
    "\n",
    "        if output.stdout:\n",
    "            return DocTestException(output.stdout)"
   ]
  },
  {
   "cell_type": "code",
   "execution_count": 6,
   "metadata": {},
   "outputs": [],
   "source": [
    "    class DocTestException(BaseException):\n",
    "        def _render_traceback_(self): return args[0].splitlines()"
   ]
  },
  {
   "cell_type": "markdown",
   "metadata": {},
   "source": [
    "## `run_user_expressions` "
   ]
  },
  {
   "cell_type": "code",
   "execution_count": 7,
   "metadata": {},
   "outputs": [],
   "source": [
    "    def run_user_expressions(ip, result):\n",
    "        try: user_expressions(ip, {str: str for str in markdown_to_expressions(result.info.raw_cell)})\n",
    "        except BaseException as Exception: return Exception"
   ]
  },
  {
   "cell_type": "code",
   "execution_count": 8,
   "metadata": {},
   "outputs": [],
   "source": [
    "    def user_expressions(ip, expressions):\n",
    "        \"\"\"User expressions evaluate expressions, assert statements are the only exception. `assert` may\n",
    "        augment a literate narrative so we choose to include these statements in the expressions.\n",
    "        \"\"\"\n",
    "        for key, expression in expressions.items():\n",
    "            expression = ip.input_transformer_manager.transform_cell(textwrap.indent(expression, ' '*4))\n",
    "            try:\n",
    "                exec(expression, ip.user_global_ns, ip.user_ns)\n",
    "            except BaseException as Exception:\n",
    "                raise InlineCodeException(expression)"
   ]
  },
  {
   "cell_type": "code",
   "execution_count": 9,
   "metadata": {},
   "outputs": [],
   "source": [
    "    class InlineCodeException(BaseException): ..."
   ]
  },
  {
   "cell_type": "markdown",
   "metadata": {},
   "source": [
    "## `run_cell_display`"
   ]
  },
  {
   "cell_type": "code",
   "execution_count": 41,
   "metadata": {},
   "outputs": [],
   "source": [
    "    def run_cell_display(ip, result) -> bool:\n",
    "        raw, source = result.info.raw_cell, markdown_to_python(result.info.raw_cell)\n",
    "        try:\n",
    "            is_display = bool(raw.partition('\\n')[0].strip() and not raw.startswith(';')) \n",
    "            if raw.strip() == ast.literal_eval(source.rstrip().rstrip(';')).strip():\n",
    "                is_display = False\n",
    "        except: ...\n",
    "        if is_display and not only_contains_block_code(raw, source):\n",
    "            try: IPython.display.display(raw)\n",
    "            except BaseException as Exception: return Exception "
   ]
  },
  {
   "cell_type": "markdown",
   "metadata": {},
   "source": [
    "`only_contains_block_code` determines if the input source and python only include block code."
   ]
  },
  {
   "cell_type": "code",
   "execution_count": 11,
   "metadata": {},
   "outputs": [],
   "source": [
    "    def only_contains_block_code(raw: str, source: str) -> bool: \n",
    "        return list(\n",
    "            map(str.rstrip, textwrap.dedent(raw).splitlines())\n",
    "        ) == list(map(str.rstrip, textwrap.dedent(source).splitlines()))"
   ]
  },
  {
   "cell_type": "markdown",
   "metadata": {},
   "source": [
    "# Extensions"
   ]
  },
  {
   "cell_type": "code",
   "execution_count": 34,
   "metadata": {},
   "outputs": [],
   "source": [
    "    def load_ipython_extension(ip): \n",
    "        _show_error = types.MethodType(show_error, ip)\n",
    "        for callable in (run_cell_doctests, run_user_expressions, run_cell_display):\n",
    "            ip.events.register('post_run_cell', _show_error(types.MethodType(callable, ip)))\n",
    "\n",
    "    def unload_ipython_extension(ip): \n",
    "        ip.events.callbacks['post_run_cell'] = [\n",
    "            object for object in ip.events.callbacks['post_run_cell']\n",
    "            if object.__name__ not in {\n",
    "                'run_cell_doctests', 'run_user_expressions', 'run_cell_display'}]"
   ]
  }
 ],
 "metadata": {
  "kernelspec": {
   "display_name": "Python 3",
   "language": "python",
   "name": "python3"
  },
  "language_info": {
   "codemirror_mode": {
    "name": "ipython",
    "version": 3
   },
   "file_extension": ".py",
   "mimetype": "text/x-python",
   "name": "python",
   "nbconvert_exporter": "python",
   "pygments_lexer": "ipython3",
   "version": "3.6.6"
  }
 },
 "nbformat": 4,
 "nbformat_minor": 2
}
