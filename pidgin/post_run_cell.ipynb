{
 "cells": [
  {
   "cell_type": "markdown",
   "metadata": {},
   "source": [
    "    from IPython import get_ipython; ip = get_ipython()\n",
    "    %load_ext pidgin.post_run_cell\n",
    "    \n",
    "`import pidgin.post_run_cell` adds extra steps on `'post_run_cell' in ip.events.callbacks`. After the normal \n",
    "`ip.run_cell` evaluation:\n",
    "    \n",
    "1. `import doctest`s are executed.\n",
    "2. Inline code statements and expressions are `exec`uted.\n",
    "3. The raw source entered into `ip.run_cell` if it should be displayed.\n",
    "\n",
    "    `import pidgin.display` controls the display behaviors and `import pidgin.tangle` controls\n",
    "    how the __Markdown__ source is converted to __Python__."
   ]
  },
  {
   "cell_type": "code",
   "execution_count": 2,
   "metadata": {},
   "outputs": [],
   "source": [
    "    import IPython, functools, types, textwrap, ast, doctest, sys, traceback\n",
    "    with __import__('importnb').Notebook():\n",
    "        try: \n",
    "            from .tangle import markdown_to_python, markdown_to_statements\n",
    "            from . import doctesting\n",
    "        except: \n",
    "            from tangle import markdown_to_python, markdown_to_statements\n",
    "            import doctesting"
   ]
  },
  {
   "cell_type": "markdown",
   "metadata": {},
   "source": [
    "1. `run_cell_doctests` _will discover any doctests in the cell and evaluate them_.\n",
    "2. `run_user_expressions` _`exec`ute inline code statements and expressions to assure that it is valid code_.\n",
    "3. `run_cell_display` _display the input_."
   ]
  },
  {
   "cell_type": "markdown",
   "metadata": {},
   "source": [
    "`show_error` decorates a `post_run_cell` `callable` to show an `Exception` in the result."
   ]
  },
  {
   "cell_type": "code",
   "execution_count": 3,
   "metadata": {},
   "outputs": [],
   "source": [
    "    def show_error(ip, object):\n",
    "        @functools.wraps(object)\n",
    "        def post_run_cell(result: \"Return from `ip.run_cell`\"):\n",
    "            if result.error_in_exec or result.error_before_exec: return result\n",
    "            result.error_in_exec = object(result)\n",
    "            if result.error_in_exec:\n",
    "                ip.showtraceback(exc_to_tuple(result.error_in_exec))\n",
    "            return result\n",
    "        return post_run_cell"
   ]
  },
  {
   "cell_type": "markdown",
   "metadata": {},
   "source": [
    "`exc_to_tuple` converts an `Exception` to a `tuple` to display the traceback__."
   ]
  },
  {
   "cell_type": "code",
   "execution_count": 4,
   "metadata": {},
   "outputs": [],
   "source": [
    "    def exc_to_tuple(Exception): return type(Exception), Exception, Exception.__traceback__"
   ]
  },
  {
   "cell_type": "markdown",
   "metadata": {},
   "source": [
    "`run_cell_doctests` runs any `doctest`s found in the raw source."
   ]
  },
  {
   "cell_type": "code",
   "execution_count": 15,
   "metadata": {},
   "outputs": [],
   "source": [
    "    def run_cell_doctests(ip, result) -> Exception:\n",
    "        with IPython.utils.capture.capture_output(\n",
    "            stdout=True, stderr=False, display=False\n",
    "        ) as output:\n",
    "            doctesting.run_docstring_examples(result.info.raw_cell, ip)\n",
    "\n",
    "        if output.stdout:\n",
    "            return DocTestException(output.stdout)"
   ]
  },
  {
   "cell_type": "code",
   "execution_count": 16,
   "metadata": {},
   "outputs": [],
   "source": [
    "    class DocTestException(BaseException):\n",
    "        def _render_traceback_(self): return args[0].splitlines()"
   ]
  },
  {
   "cell_type": "markdown",
   "metadata": {},
   "source": [
    "`run_user_statements` `exec`utes each inline "
   ]
  },
  {
   "cell_type": "code",
   "execution_count": 7,
   "metadata": {},
   "outputs": [],
   "source": [
    "    def run_user_statements(ip, result):\n",
    "        try: user_statements(ip, {str: str for str in markdown_to_statements(result.info.raw_cell)})\n",
    "        except BaseException as Exception: return Exception"
   ]
  },
  {
   "cell_type": "code",
   "execution_count": 8,
   "metadata": {},
   "outputs": [],
   "source": [
    "    def user_statements(ip, statements, *, buffer=''):\n",
    "        \"\"\"User expressions evaluate expressions, assert statements are the only exception. `assert` may\n",
    "        augment a literate narrative so we choose to include these statements in the expressions.\n",
    "        \"\"\"\n",
    "        for key, statement in statements.items():\n",
    "            buffer = buffer.rstrip('\\\\') + statement  \n",
    "            if buffer.endswith('\\\\') and \"User statements can continue with a \\\\\": continue\n",
    "                \n",
    "            buffer = ip.input_transformer_manager.transform_cell(textwrap.indent(buffer, ' '*4))\n",
    "            try: exec(buffer, ip.user_global_ns, ip.user_ns)\n",
    "            except BaseException as Exception: raise InlineCodeException(buffer)\n",
    "            finally: buffer = ''\n",
    "        if buffer:\n",
    "            raise SyntaxError(\"The final inline code statements may not terminate in a line continuation.\")"
   ]
  },
  {
   "cell_type": "code",
   "execution_count": 9,
   "metadata": {},
   "outputs": [],
   "source": [
    "    class InlineCodeException(BaseException): ..."
   ]
  },
  {
   "cell_type": "markdown",
   "metadata": {},
   "source": [
    "`run_cell_display` triggers a display on the input if contains anything other than block code."
   ]
  },
  {
   "cell_type": "code",
   "execution_count": 17,
   "metadata": {},
   "outputs": [],
   "source": [
    "    def run_cell_display(ip, result) -> bool:\n",
    "        raw, source = result.info.raw_cell, markdown_to_python(result.info.raw_cell)\n",
    "        try:\n",
    "            is_display = bool(raw.partition('\\n')[0].strip() and not raw.startswith(';')) \n",
    "            if raw.strip() == ast.literal_eval(source.rstrip().rstrip(';')).strip():\n",
    "                is_display = False\n",
    "        except: ...\n",
    "        if is_display and not only_contains_block_code(raw, source):\n",
    "            try: _exc = ip._get_exc_info()[1]\n",
    "            except: _exc = None\n",
    "            IPython.display.display(raw)\n",
    "            try:\n",
    "                exc = ip._get_exc_info()[1]\n",
    "                if _exc is not exc: return exc\n",
    "            except: ..."
   ]
  },
  {
   "cell_type": "markdown",
   "metadata": {},
   "source": [
    "`only_contains_block_code` determines if the input source and python only include block code."
   ]
  },
  {
   "cell_type": "code",
   "execution_count": 11,
   "metadata": {},
   "outputs": [],
   "source": [
    "    def only_contains_block_code(raw: str, source: str) -> bool: \n",
    "        return list(\n",
    "            map(str.rstrip, textwrap.dedent(raw).splitlines())\n",
    "        ) == list(map(str.rstrip, textwrap.dedent(source).splitlines()))"
   ]
  },
  {
   "cell_type": "markdown",
   "metadata": {},
   "source": [
    "# Extensions"
   ]
  },
  {
   "cell_type": "code",
   "execution_count": 1,
   "metadata": {},
   "outputs": [
    {
     "ename": "NameError",
     "evalue": "name 'IPython' is not defined",
     "output_type": "error",
     "traceback": [
      "\u001b[1;31m---------------------------------------------------------------------------\u001b[0m",
      "\u001b[1;31mNameError\u001b[0m                                 Traceback (most recent call last)",
      "\u001b[1;32m<ipython-input-1-c4d192a9703c>\u001b[0m in \u001b[0;36m<module>\u001b[1;34m\u001b[0m\n\u001b[0;32m     13\u001b[0m     \u001b[0mget_ipython\u001b[0m\u001b[1;33m(\u001b[0m\u001b[1;33m)\u001b[0m\u001b[1;33m.\u001b[0m\u001b[0mrun_line_magic\u001b[0m\u001b[1;33m(\u001b[0m\u001b[1;34m'reload_ext'\u001b[0m\u001b[1;33m,\u001b[0m \u001b[1;34m'pidgin.tangle'\u001b[0m\u001b[1;33m)\u001b[0m\u001b[1;33m\u001b[0m\u001b[0m\n\u001b[0;32m     14\u001b[0m     \u001b[0mget_ipython\u001b[0m\u001b[1;33m(\u001b[0m\u001b[1;33m)\u001b[0m\u001b[1;33m.\u001b[0m\u001b[0mrun_line_magic\u001b[0m\u001b[1;33m(\u001b[0m\u001b[1;34m'reload_ext'\u001b[0m\u001b[1;33m,\u001b[0m \u001b[1;34m'pidgin.display'\u001b[0m\u001b[1;33m)\u001b[0m\u001b[1;33m\u001b[0m\u001b[0m\n\u001b[1;32m---> 15\u001b[1;33m     \u001b[0munload_ipython_extension\u001b[0m\u001b[1;33m(\u001b[0m\u001b[0mIPython\u001b[0m\u001b[1;33m.\u001b[0m\u001b[0mget_ipython\u001b[0m\u001b[1;33m(\u001b[0m\u001b[1;33m)\u001b[0m\u001b[1;33m)\u001b[0m\u001b[1;33m\u001b[0m\u001b[0m\n\u001b[0m\u001b[0;32m     16\u001b[0m     \u001b[0mload_ipython_extension\u001b[0m\u001b[1;33m(\u001b[0m\u001b[0mIPython\u001b[0m\u001b[1;33m.\u001b[0m\u001b[0mget_ipython\u001b[0m\u001b[1;33m(\u001b[0m\u001b[1;33m)\u001b[0m\u001b[1;33m)\u001b[0m\u001b[1;33m\u001b[0m\u001b[0m\n",
      "\u001b[1;31mNameError\u001b[0m: name 'IPython' is not defined"
     ]
    }
   ],
   "source": [
    "    def load_ipython_extension(ip): \n",
    "        _show_error = types.MethodType(show_error, ip)\n",
    "        for callable in (run_user_statements, run_cell_doctests, run_cell_display):\n",
    "            ip.events.register('post_run_cell', _show_error(types.MethodType(callable, ip)))\n",
    "\n",
    "    def unload_ipython_extension(ip): \n",
    "        ip.events.callbacks['post_run_cell'] = [\n",
    "            object for object in ip.events.callbacks['post_run_cell']\n",
    "            if object.__name__ not in {\n",
    "                'run_cell_doctests', 'run_user_statements', 'run_cell_display'}]\n",
    "        \n",
    "    if __name__ == '__main__': \n",
    "        %reload_ext pidgin.tangle\n",
    "        %reload_ext pidgin.display\n",
    "        unload_ipython_extension(IPython.get_ipython())\n",
    "        load_ipython_extension(IPython.get_ipython())"
   ]
  },
  {
   "cell_type": "code",
   "execution_count": null,
   "metadata": {},
   "outputs": [],
   "source": []
  }
 ],
 "metadata": {
  "kernelspec": {
   "display_name": "Python 3",
   "language": "python",
   "name": "python3"
  },
  "language_info": {
   "codemirror_mode": {
    "name": "ipython",
    "version": 3
   },
   "file_extension": ".py",
   "mimetype": "text/x-python",
   "name": "python",
   "nbconvert_exporter": "python",
   "pygments_lexer": "ipython3",
   "version": "3.6.6"
  }
 },
 "nbformat": 4,
 "nbformat_minor": 2
}
