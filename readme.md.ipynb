{
 "cells": [
  {
   "cell_type": "markdown",
   "metadata": {},
   "source": [
    "`pidgin` is a collection of `IPython` extensions for creating computable essays."
   ]
  },
  {
   "cell_type": "markdown",
   "metadata": {},
   "source": [
    "    #Execute this cell to install pidgin.\n",
    "    #!pip install pidgin\n",
    "    !pip install git+https://github.com/deathbeds/pidgin@mistune"
   ]
  },
  {
   "cell_type": "markdown",
   "metadata": {},
   "source": [
    "Then load the `pidgin` extension."
   ]
  },
  {
   "cell_type": "code",
   "execution_count": 34,
   "metadata": {},
   "outputs": [],
   "source": [
    "    %reload_ext pidgin"
   ]
  },
  {
   "cell_type": "code",
   "execution_count": 35,
   "metadata": {},
   "outputs": [
    {
     "data": {
      "text/html": [
       "<pre><code>    import pidgin, IPython\n",
       "</code></pre>\n",
       "<p><code>pidgin</code> allows <strong>Markdown</strong> as <strong>Code Cell</strong> source in <code>IPython</code>.</p>\n",
       "<ol>\n",
       "<li>The <strong>Markdown</strong> is converted to valid <strong>Python</strong> source.</li>\n",
       "<li>The <strong>Python</strong> source is executed.</li>\n",
       "<li>Any <code>\"doctest\"</code>s are evaluated.</li>\n",
       "<li>All inline code is evaluated.</li>\n",
       "<li>The <strong>Markdown</strong> source is display with special rules defined in <code>pidgin.display</code> including <code>\"jinja2\"</code> templates\n",
       "for including data in the display.</li>\n",
       "</ol>\n",
       "<p>Each stuff must succeed without raising an <code>Exception</code>.</p>"
      ],
      "text/markdown": [
       "        import pidgin, IPython\n",
       "`pidgin` allows __Markdown__ as __Code Cell__ source in `IPython`.\n",
       "\n",
       "1. The __Markdown__ is converted to valid __Python__ source.\n",
       "2. The __Python__ source is executed.\n",
       "3. Any `\"doctest\"`s are evaluated.\n",
       "4. All inline code is evaluated.\n",
       "5. The __Markdown__ source is display with special rules defined in `pidgin.display` including `\"jinja2\"` templates\n",
       "for including data in the display.\n",
       "\n",
       "Each stuff must succeed without raising an `Exception`.  "
      ],
      "text/plain": [
       "'        import pidgin, IPython\\n`pidgin` allows __Markdown__ as __Code Cell__ source in `IPython`.\\n\\n1. The __Markdown__ is converted to valid __Python__ source.\\n2. The __Python__ source is executed.\\n3. Any `\"doctest\"`s are evaluated.\\n4. All inline code is evaluated.\\n5. The __Markdown__ source is display with special rules defined in `pidgin.display` including `\"jinja2\"` templates\\nfor including data in the display.\\n\\nEach stuff must succeed without raising an `Exception`.  '"
      ]
     },
     "metadata": {},
     "output_type": "display_data"
    }
   ],
   "source": [
    "        import pidgin, IPython\n",
    "`pidgin` allows __Markdown__ as __Code Cell__ source in `IPython`.\n",
    "\n",
    "1. The __Markdown__ is converted to valid __Python__ source.\n",
    "2. The __Python__ source is executed.\n",
    "3. Any `\"doctest\"`s are evaluated.\n",
    "4. All inline code is evaluated.\n",
    "5. The __Markdown__ source is display with special rules defined in `pidgin.display` including `\"jinja2\"` templates\n",
    "for including data in the display.\n",
    "\n",
    "Each stuff must succeed without raising an `Exception`.  "
   ]
  },
  {
   "cell_type": "code",
   "execution_count": 43,
   "metadata": {},
   "outputs": [
    {
     "data": {
      "text/html": [
       "<h2>Benefits of <code>pidgin</code></h2>\n",
       "<ul>\n",
       "<li><code>pidgin</code> requires that all code in a document is valid.</li>\n",
       "<li><code>pidgin</code> places tighter constraints on the <strong>Run All-ability</strong> of the document.</li>\n",
       "<li><p><code>pidgin</code> encourages tighter weaving of code and narrative.</p>\n",
       "<pre><code>  import jinja2\n",
       "</code></pre>\n",
       "<p>Use <code>jinja2</code> syntaxes in <strong>Code Cells</strong>.  On the last display step with include \n",
       "  pretty representations of template expression.  The <code>jinja2.Environment</code> returns <strong>html</strong> formatted\n",
       "  display <code>object</code>s including <code>\"pandas\"</code> tables and <code>\"matplotlib\"</code> figures.</p>\n",
       "</li>\n",
       "<li><code>pidgin</code> separates display statements from compute statements.</li>\n",
       "<li><p><code>pidgin</code> documents are importable because of <code>import importnb</code></p>\n",
       "<pre><code>  with pidgin.PidginImporter():\n",
       "      import readme\n",
       "</code></pre>\n",
       "<p><code>pidgin</code> introduces <strong>.md.ipynb</strong>, a hybird file extension, to identity <strong>Markdown</strong> forward computational essays. When\n",
       "  this document (<code>readme</code>) is imported we can <code>assert readme.__file__.endswith('.md.ipynb')</code>.</p>\n",
       "</li>\n",
       "</ul>"
      ],
      "text/markdown": [
       "## Benefits of `pidgin`\n",
       "\n",
       "* `pidgin` requires that all code in a document is valid.\n",
       "* `pidgin` places tighter constraints on the __Run All-ability__ of the document.\n",
       "* `pidgin` encourages tighter weaving of code and narrative.\n",
       "        \n",
       "        import jinja2\n",
       "    Use `jinja2` syntaxes in __Code Cells__.  On the last display step with include \n",
       "    pretty representations of template expression.  The `jinja2.Environment` returns __html__ formatted\n",
       "    display `object`s including `\"pandas\"` tables and `\"matplotlib\"` figures.\n",
       "* `pidgin` separates display statements from compute statements.\n",
       "* `pidgin` documents are importable because of `import importnb`\n",
       "        \n",
       "        with pidgin.PidginImporter():\n",
       "            import readme\n",
       "    `pidgin` introduces __.md.ipynb__, a hybird file extension, to identity __Markdown__ forward computational essays. When\n",
       "    this document (`readme`) is imported we can `assert readme.__file__.endswith('.md.ipynb')`.\n",
       "\n"
      ],
      "text/plain": [
       "'## Benefits of `pidgin`\\n\\n* `pidgin` requires that all code in a document is valid.\\n* `pidgin` places tighter constraints on the __Run All-ability__ of the document.\\n* `pidgin` encourages tighter weaving of code and narrative.\\n        \\n        import jinja2\\n    Use `jinja2` syntaxes in __Code Cells__.  On the last display step with include \\n    pretty representations of template expression.  The `jinja2.Environment` returns __html__ formatted\\n    display `object`s including `\"pandas\"` tables and `\"matplotlib\"` figures.\\n* `pidgin` separates display statements from compute statements.\\n* `pidgin` documents are importable because of `import importnb`\\n        \\n        with pidgin.PidginImporter():\\n            import readme\\n    `pidgin` introduces __.md.ipynb__, a hybird file extension, to identity __Markdown__ forward computational essays. When\\n    this document (`readme`) is imported we can `assert readme.__file__.endswith(\\'.md.ipynb\\')`.\\n\\n'"
      ]
     },
     "metadata": {},
     "output_type": "display_data"
    }
   ],
   "source": [
    "## Benefits of `pidgin`\n",
    "\n",
    "* `pidgin` requires that all code in a document is valid.\n",
    "* `pidgin` places tighter constraints on the __Run All-ability__ of the document.\n",
    "* `pidgin` encourages tighter weaving of code and narrative.\n",
    "        \n",
    "        import jinja2\n",
    "    Use `jinja2` syntaxes in __Code Cells__.  On the last display step with include \n",
    "    pretty representations of template expression.  The `jinja2.Environment` returns __html__ formatted\n",
    "    display `object`s including `\"pandas\"` tables and `\"matplotlib\"` figures.\n",
    "* `pidgin` separates display statements from compute statements.\n",
    "* `pidgin` documents are importable because of `import importnb`\n",
    "        \n",
    "        with pidgin.PidginImporter():\n",
    "            import readme\n",
    "    `pidgin` introduces __.md.ipynb__, a hybird file extension, to identity __Markdown__ forward computational essays. When\n",
    "    this document (`readme`) is imported we can `assert readme.__file__.endswith('.md.ipynb')`.\n",
    "\n"
   ]
  },
  {
   "cell_type": "code",
   "execution_count": 44,
   "metadata": {},
   "outputs": [
    {
     "data": {
      "text/html": [
       "<h2><code>pidgin</code> works on</h2>\n",
       "<ul>\n",
       "<li><strong><em>Binder</em></strong> <a href=\"https://mybinder.org/v2/gh/deathbeds/pidgin/master?filepath=readme.ipynb\"><img src=\"https://mybinder.org/badge.svg\" alt=\"Binder\"></a> </li>\n",
       "<li><strong><em>Jupyter</em></strong> <a href=\"https://github.com/jupyterlab\"><img src=\"https://avatars1.githubusercontent.com/u/7388996?s=40\" alt=\"\"></a> </li>\n",
       "<li><strong><em>JupyterLab</em></strong> <a href=\"https://github.com/jupyterlab\"><img src=\"https://avatars1.githubusercontent.com/u/22800682?s=40\" alt=\"\"></a> </li>\n",
       "<li><strong><em>Google Colaboratory</em></strong> <a href=\"https://colab.research.google.com/github/deathbeds/pidgin/blob/mistune/readme.ipynb\"><img src=\"https://avatars0.githubusercontent.com/u/33467679?s=40\" alt=\"\"></a></li>\n",
       "<li><strong><em>nteract</em></strong> <a href=\"https://nteract.io\"><img src=\"https://avatars0.githubusercontent.com/u/12401040?s=40\" alt=\"\"></a></li>\n",
       "</ul>"
      ],
      "text/markdown": [
       "## `pidgin` works on\n",
       "\n",
       "* __*Binder*__ [![Binder](https://mybinder.org/badge.svg)](https://mybinder.org/v2/gh/deathbeds/pidgin/master?filepath=readme.ipynb) \n",
       "* __*Jupyter*__ [![](https://avatars1.githubusercontent.com/u/7388996?s=40)](https://github.com/jupyterlab) \n",
       "* __*JupyterLab*__ [![](https://avatars1.githubusercontent.com/u/22800682?s=40)](https://github.com/jupyterlab) \n",
       "* __*Google Colaboratory*__ [![](https://avatars0.githubusercontent.com/u/33467679?s=40)](https://colab.research.google.com/github/deathbeds/pidgin/blob/mistune/readme.ipynb)\n",
       "* __*nteract*__ [![](https://avatars0.githubusercontent.com/u/12401040?s=40)](https://nteract.io)"
      ],
      "text/plain": [
       "'## `pidgin` works on\\n\\n* __*Binder*__ [![Binder](https://mybinder.org/badge.svg)](https://mybinder.org/v2/gh/deathbeds/pidgin/master?filepath=readme.ipynb) \\n* __*Jupyter*__ [![](https://avatars1.githubusercontent.com/u/7388996?s=40)](https://github.com/jupyterlab) \\n* __*JupyterLab*__ [![](https://avatars1.githubusercontent.com/u/22800682?s=40)](https://github.com/jupyterlab) \\n* __*Google Colaboratory*__ [![](https://avatars0.githubusercontent.com/u/33467679?s=40)](https://colab.research.google.com/github/deathbeds/pidgin/blob/mistune/readme.ipynb)\\n* __*nteract*__ [![](https://avatars0.githubusercontent.com/u/12401040?s=40)](https://nteract.io)'"
      ]
     },
     "metadata": {},
     "output_type": "display_data"
    }
   ],
   "source": [
    "## `pidgin` works on\n",
    "\n",
    "* __*Binder*__ [![Binder](https://mybinder.org/badge.svg)](https://mybinder.org/v2/gh/deathbeds/pidgin/master?filepath=readme.ipynb) \n",
    "* __*Jupyter*__ [![](https://avatars1.githubusercontent.com/u/7388996?s=40)](https://github.com/jupyterlab) \n",
    "* __*JupyterLab*__ [![](https://avatars1.githubusercontent.com/u/22800682?s=40)](https://github.com/jupyterlab) \n",
    "* __*Google Colaboratory*__ [![](https://avatars0.githubusercontent.com/u/33467679?s=40)](https://colab.research.google.com/github/deathbeds/pidgin/blob/mistune/readme.ipynb)\n",
    "* __*nteract*__ [![](https://avatars0.githubusercontent.com/u/12401040?s=40)](https://nteract.io)"
   ]
  },
  {
   "cell_type": "markdown",
   "metadata": {},
   "source": [
    "## Architecture\n",
    "    \n",
    "    %reload_ext pidgin\n",
    "    \n",
    "Is equivalent to \n",
    "\n",
    "    %reload_ext pidgin.tangle\n",
    "    %reload_ext pidgin.display\n",
    "    %reload_ext pidgin.inspector\n",
    "    %reload_ext pidgin.post_run_cell"
   ]
  },
  {
   "cell_type": "code",
   "execution_count": 50,
   "metadata": {},
   "outputs": [
    {
     "data": {
      "text/html": [
       "<h2>Roadmap</h2>\n",
       "<ul>\n",
       "<li><code>pidgin</code> should become an <code>import ipykernel</code>.</li>\n",
       "<li><code>pidgin</code> should extend to other ipykernels.</li>\n",
       "<li><code>pidgin</code> should become an <code>import nbconvert.nbconvertapp</code>.</li>\n",
       "<li><code>pidgin</code> should work with <code>import pytest</code></li>\n",
       "</ul>"
      ],
      "text/markdown": [
       "## Roadmap\n",
       "\n",
       "* `pidgin` should become an `import ipykernel`.\n",
       "* `pidgin` should extend to other ipykernels.\n",
       "* `pidgin` should become an `import nbconvert.nbconvertapp`.\n",
       "* `pidgin` should work with `import pytest`"
      ],
      "text/plain": [
       "'## Roadmap\\n\\n* `pidgin` should become an `import ipykernel`.\\n* `pidgin` should extend to other ipykernels.\\n* `pidgin` should become an `import nbconvert.nbconvertapp`.\\n* `pidgin` should work with `import pytest`'"
      ]
     },
     "metadata": {},
     "output_type": "display_data"
    },
    {
     "data": {
      "text/html": [
       "<h2>Roadmap</h2>\n",
       "<ul>\n",
       "<li><code>pidgin</code> should become an <code>import ipykernel</code>.</li>\n",
       "<li><code>pidgin</code> should extend to other ipykernels.</li>\n",
       "<li><code>pidgin</code> should become an <code>import nbconvert.nbconvertapp</code>.</li>\n",
       "<li><code>pidgin</code> should work with <code>import pytest</code></li>\n",
       "</ul>"
      ],
      "text/markdown": [
       "## Roadmap\n",
       "\n",
       "* `pidgin` should become an `import ipykernel`.\n",
       "* `pidgin` should extend to other ipykernels.\n",
       "* `pidgin` should become an `import nbconvert.nbconvertapp`.\n",
       "* `pidgin` should work with `import pytest`"
      ],
      "text/plain": [
       "'## Roadmap\\n\\n* `pidgin` should become an `import ipykernel`.\\n* `pidgin` should extend to other ipykernels.\\n* `pidgin` should become an `import nbconvert.nbconvertapp`.\\n* `pidgin` should work with `import pytest`'"
      ]
     },
     "metadata": {},
     "output_type": "display_data"
    }
   ],
   "source": [
    "## Roadmap\n",
    "\n",
    "* `pidgin` should become an `import ipykernel`.\n",
    "* `pidgin` should extend to other ipykernels.\n",
    "* `pidgin` should become an `import nbconvert.nbconvertapp`.\n",
    "* `pidgin` should work with `import pytest`"
   ]
  },
  {
   "cell_type": "markdown",
   "metadata": {},
   "source": [
    "## Developer\n",
    "\n",
    "    # Uncomment this cell the convert the readme file.\n",
    "    !jupyter nbconvert --to markdown --execute --stdout --TemplateExporter.exclude_input=True readme.md.ipynb > readme.md"
   ]
  },
  {
   "cell_type": "code",
   "execution_count": null,
   "metadata": {},
   "outputs": [],
   "source": []
  }
 ],
 "metadata": {
  "kernelspec": {
   "display_name": "Python 3",
   "language": "python",
   "name": "python3"
  },
  "language_info": {
   "codemirror_mode": {
    "name": "ipython",
    "version": 3
   },
   "file_extension": ".py",
   "mimetype": "text/x-python",
   "name": "python",
   "nbconvert_exporter": "python",
   "pygments_lexer": "ipython3",
   "version": "3.6.6"
  }
 },
 "nbformat": 4,
 "nbformat_minor": 2
}
