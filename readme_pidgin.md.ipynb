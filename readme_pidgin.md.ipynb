{
 "cells": [
  {
   "cell_type": "markdown",
   "metadata": {},
   "source": [
    "`pidgin` is a collection of `IPython` extensions for creating computable essays.\n",
    "\n",
    "[![Build Status](https://travis-ci.org/deathbeds/pidgin.svg?branch=master)](https://travis-ci.org/deathbeds/pidgin)"
   ]
  },
  {
   "cell_type": "markdown",
   "metadata": {},
   "source": [
    "    #Install pidgin\n",
    "    !pip install pidgin"
   ]
  },
  {
   "cell_type": "markdown",
   "metadata": {},
   "source": [
    "Load the `pidgin` extension."
   ]
  },
  {
   "cell_type": "code",
   "execution_count": 1,
   "metadata": {},
   "outputs": [],
   "source": [
    "    from IPython import get_ipython\n",
    "    %reload_ext pidgin"
   ]
  },
  {
   "cell_type": "markdown",
   "metadata": {},
   "source": [
    "Write code in __Markdown__."
   ]
  },
  {
   "cell_type": "code",
   "execution_count": 2,
   "metadata": {},
   "outputs": [
    {
     "data": {
      "text/html": [
       "<pre><code>    %reload_ext pidgin\n",
       "</code></pre>\n",
       "<p><code>import pidgin</code> allows <strong>Markdown</strong> as <strong>Code Cell</strong> source in <code>IPython</code>.</p>\n",
       "<ol>\n",
       "<li>The <strong>Markdown</strong> is converted to valid <strong>Python</strong> source.</li>\n",
       "<li>The <strong>Python</strong> source is executed.</li>\n",
       "<li>Any <code>\"doctest\"</code>s are evaluated.</li>\n",
       "<li>All inline code is evaluated.</li>\n",
       "<li><p>The <strong>Markdown</strong> source is display with special rules defined in <code>pidgin.display</code> including <code>\"jinja2\"</code> templates\n",
       "for including data in the display.</p>\n",
       "<pre><code> import IPython\n",
       "</code></pre>\n",
       "</li>\n",
       "</ol>\n",
       "<p>Each stuff must succeed without raising an <code>Exception</code>.</p>"
      ],
      "text/markdown": [
       "        %reload_ext pidgin\n",
       "`import pidgin` allows __Markdown__ as __Code Cell__ source in `IPython`.\n",
       "\n",
       "1. The __Markdown__ is converted to valid __Python__ source.\n",
       "2. The __Python__ source is executed.\n",
       "3. Any `\"doctest\"`s are evaluated.\n",
       "4. All inline code is evaluated.\n",
       "5. The __Markdown__ source is display with special rules defined in `pidgin.display` including `\"jinja2\"` templates\n",
       "for including data in the display.\n",
       "\n",
       "        import IPython\n",
       "\n",
       "Each stuff must succeed without raising an `Exception`.  "
      ],
      "text/plain": [
       "'        %reload_ext pidgin\\n`import pidgin` allows __Markdown__ as __Code Cell__ source in `IPython`.\\n\\n1. The __Markdown__ is converted to valid __Python__ source.\\n2. The __Python__ source is executed.\\n3. Any `\"doctest\"`s are evaluated.\\n4. All inline code is evaluated.\\n5. The __Markdown__ source is display with special rules defined in `pidgin.display` including `\"jinja2\"` templates\\nfor including data in the display.\\n\\n        import IPython\\n\\nEach stuff must succeed without raising an `Exception`.  '"
      ]
     },
     "metadata": {},
     "output_type": "display_data"
    }
   ],
   "source": [
    "        %reload_ext pidgin\n",
    "`import pidgin` allows __Markdown__ as __Code Cell__ source in `IPython`.\n",
    "\n",
    "1. The __Markdown__ is converted to valid __Python__ source.\n",
    "2. The __Python__ source is executed.\n",
    "3. Any `\"doctest\"`s are evaluated.\n",
    "4. All inline code is evaluated.\n",
    "5. The __Markdown__ source is display with special rules defined in `pidgin.display` including `\"jinja2\"` templates\n",
    "for including data in the display.\n",
    "\n",
    "        import IPython\n",
    "\n",
    "Each stuff must succeed without raising an `Exception`.  "
   ]
  },
  {
   "cell_type": "code",
   "execution_count": 3,
   "metadata": {},
   "outputs": [
    {
     "data": {
      "text/html": [
       "<h2>Benefits of <code>pidgin</code></h2>\n",
       "<ul>\n",
       "<li><code>pidgin</code> requires that all code in a document is valid.</li>\n",
       "<li><code>pidgin</code> places tighter constraints on the <strong>Run All-ability</strong> of the document.</li>\n",
       "<li><p><code>pidgin</code> encourages tighter weaving of code and narrative.</p>\n",
       "<pre><code>  import jinja2\n",
       "</code></pre>\n",
       "<p>Use <code>jinja2</code> syntaxes in <strong>Code Cells</strong>.  On the last display step with include \n",
       "  pretty representations of template expression.  The <code>jinja2.Environment</code> returns <strong>html</strong> formatted\n",
       "  display <code>object</code>s including <code>\"pandas\"</code> tables and <code>\"matplotlib\"</code> figures.</p>\n",
       "</li>\n",
       "<li><code>pidgin</code> separates display statements from compute statements.</li>\n",
       "<li><code>pidgin</code> documents are importable because of <code>import importnb</code>        </li>\n",
       "</ul>\n",
       "<pre><code class=\"lang-ipython\">with pidgin.PidginImporter(position=1):\n",
       "    from . import readme as readme\n",
       "</code></pre>"
      ],
      "text/markdown": [
       "## Benefits of `pidgin`\n",
       "\n",
       "* `pidgin` requires that all code in a document is valid.\n",
       "* `pidgin` places tighter constraints on the __Run All-ability__ of the document.\n",
       "* `pidgin` encourages tighter weaving of code and narrative.\n",
       "  \n",
       "        import jinja2\n",
       "    Use `jinja2` syntaxes in __Code Cells__.  On the last display step with include \n",
       "    pretty representations of template expression.  The `jinja2.Environment` returns __html__ formatted\n",
       "    display `object`s including `\"pandas\"` tables and `\"matplotlib\"` figures.\n",
       "* `pidgin` separates display statements from compute statements.\n",
       "* `pidgin` documents are importable because of `import importnb`        \n",
       "        \n",
       "```ipython\n",
       "with pidgin.PidginImporter(position=1):\n",
       "    from . import readme as readme\n",
       "```"
      ],
      "text/plain": [
       "'## Benefits of `pidgin`\\n\\n* `pidgin` requires that all code in a document is valid.\\n* `pidgin` places tighter constraints on the __Run All-ability__ of the document.\\n* `pidgin` encourages tighter weaving of code and narrative.\\n  \\n        import jinja2\\n    Use `jinja2` syntaxes in __Code Cells__.  On the last display step with include \\n    pretty representations of template expression.  The `jinja2.Environment` returns __html__ formatted\\n    display `object`s including `\"pandas\"` tables and `\"matplotlib\"` figures.\\n* `pidgin` separates display statements from compute statements.\\n* `pidgin` documents are importable because of `import importnb`        \\n        \\n```ipython\\nwith pidgin.PidginImporter(position=1):\\n    from . import readme as readme\\n```'"
      ]
     },
     "metadata": {},
     "output_type": "display_data"
    }
   ],
   "source": [
    "## Benefits of `pidgin`\n",
    "\n",
    "* `pidgin` requires that all code in a document is valid.\n",
    "* `pidgin` places tighter constraints on the __Run All-ability__ of the document.\n",
    "* `pidgin` encourages tighter weaving of code and narrative.\n",
    "  \n",
    "        import jinja2\n",
    "    Use `jinja2` syntaxes in __Code Cells__.  On the last display step with include \n",
    "    pretty representations of template expression.  The `jinja2.Environment` returns __html__ formatted\n",
    "    display `object`s including `\"pandas\"` tables and `\"matplotlib\"` figures.\n",
    "* `pidgin` separates display statements from compute statements.\n",
    "* `pidgin` documents are importable because of `import importnb`        \n",
    "        \n",
    "```ipython\n",
    "with pidgin.PidginImporter(position=1):\n",
    "    from . import readme as readme\n",
    "```"
   ]
  },
  {
   "cell_type": "markdown",
   "metadata": {},
   "source": [
    "`pidgin` introduces __.md.ipynb__, a hybird file extension, to identity __Markdown__ forward computational essays. When\n",
    "this document (`readme`) is imported we can `assert readme.__file__.endswith('.md.ipynb')`."
   ]
  },
  {
   "cell_type": "code",
   "execution_count": 4,
   "metadata": {},
   "outputs": [
    {
     "data": {
      "text/html": [
       "<h2><code>pidgin</code> works with</h2>\n",
       "<ul>\n",
       "<li><p><strong><em>Binder</em></strong> <a href=\"https://mybinder.org/v2/gh/deathbeds/pidgin/master?filepath=readme_pidgin.md.ipynb\"><img src=\"https://mybinder.org/badge.svg\" alt=\"Binder\"></a></p>\n",
       "<p>Take <code>pidgin</code> for a spin on <a href=\"https://mybinder.org/v2/gh/deathbeds/pidgin/master?filepath=readme.ipynb\"><strong><em>Binder</em></strong></a>.</p>\n",
       "</li>\n",
       "<li><p><strong><em>Pytest</em></strong> <a href=\"https://github.com/pytest-dev\"><img src=\"https://avatars1.githubusercontent.com/u/8897583?s=40&amp;v=4\" alt=\"\"></a></p>\n",
       "<p><code>pidgin</code> works great with the <a href=\"https://github.com/computationalmodelling/nbval\"><strong>nbval</strong></a> and <a href=\"https://github.com/deathbeds/importnb\"><strong>importnb</strong></a> notebook specific pytest extensions.  <code>pidgin</code> itself is a <code>import pytest</code>\n",
       "  plugin that permits tests with <strong>.md.ipynb</strong> and <strong>.md</strong> extensions.</p>\n",
       "<p><strong><em>Pro Tip</em></strong> test <code>IPython</code> specific features using <strong>ipython</strong> as the <code>pytest</code> runner instead of <strong>python</strong> <code>#!ipython -m pytest -- --collect-only</code></p>\n",
       "</li>\n",
       "<li><strong><em>Jupyter</em></strong> <a href=\"https://github.com/jupyterlab\"><img src=\"https://avatars1.githubusercontent.com/u/7388996?s=40\" alt=\"\"></a> </li>\n",
       "<li><strong><em>JupyterLab</em></strong> <a href=\"https://github.com/jupyterlab\"><img src=\"https://avatars1.githubusercontent.com/u/22800682?s=40\" alt=\"\"></a> </li>\n",
       "<li><strong><em>Google Colaboratory</em></strong> <a href=\"https://colab.research.google.com/github/deathbeds/pidgin/blob/mistune/readme.ipynb\"><img src=\"https://avatars0.githubusercontent.com/u/33467679?s=40\" alt=\"\"></a></li>\n",
       "<li><strong><em>nteract</em></strong> <a href=\"https://nteract.io\"><img src=\"https://avatars0.githubusercontent.com/u/12401040?s=40\" alt=\"\"></a></li>\n",
       "</ul>"
      ],
      "text/markdown": [
       "## `pidgin` works with\n",
       "\n",
       "* __*Binder*__ [![Binder](https://mybinder.org/badge.svg)](https://mybinder.org/v2/gh/deathbeds/pidgin/master?filepath=readme_pidgin.md.ipynb) \n",
       "\n",
       "    Take `pidgin` for a spin on [__*Binder*__](https://mybinder.org/v2/gh/deathbeds/pidgin/master?filepath=readme.ipynb).\n",
       "* __*Pytest*__ [![](https://avatars1.githubusercontent.com/u/8897583?s=40&v=4)](https://github.com/pytest-dev) \n",
       "\n",
       "    `pidgin` works great with the [__nbval__](https://github.com/computationalmodelling/nbval) and [__importnb__](https://github.com/deathbeds/importnb) notebook specific pytest extensions.  `pidgin` itself is a `import pytest`\n",
       "    plugin that permits tests with __.md.ipynb__ and __.md__ extensions.\n",
       "    \n",
       "    __*Pro Tip*__ test `IPython` specific features using __ipython__ as the `pytest` runner instead of __python__ `#!ipython -m pytest -- --collect-only`\n",
       "* __*Jupyter*__ [![](https://avatars1.githubusercontent.com/u/7388996?s=40)](https://github.com/jupyterlab) \n",
       "* __*JupyterLab*__ [![](https://avatars1.githubusercontent.com/u/22800682?s=40)](https://github.com/jupyterlab) \n",
       "* __*Google Colaboratory*__ [![](https://avatars0.githubusercontent.com/u/33467679?s=40)](https://colab.research.google.com/github/deathbeds/pidgin/blob/mistune/readme.ipynb)\n",
       "* __*nteract*__ [![](https://avatars0.githubusercontent.com/u/12401040?s=40)](https://nteract.io)"
      ],
      "text/plain": [
       "'## `pidgin` works with\\n\\n* __*Binder*__ [![Binder](https://mybinder.org/badge.svg)](https://mybinder.org/v2/gh/deathbeds/pidgin/master?filepath=readme_pidgin.md.ipynb) \\n\\n    Take `pidgin` for a spin on [__*Binder*__](https://mybinder.org/v2/gh/deathbeds/pidgin/master?filepath=readme.ipynb).\\n* __*Pytest*__ [![](https://avatars1.githubusercontent.com/u/8897583?s=40&v=4)](https://github.com/pytest-dev) \\n\\n    `pidgin` works great with the [__nbval__](https://github.com/computationalmodelling/nbval) and [__importnb__](https://github.com/deathbeds/importnb) notebook specific pytest extensions.  `pidgin` itself is a `import pytest`\\n    plugin that permits tests with __.md.ipynb__ and __.md__ extensions.\\n    \\n    __*Pro Tip*__ test `IPython` specific features using __ipython__ as the `pytest` runner instead of __python__ `#!ipython -m pytest -- --collect-only`\\n* __*Jupyter*__ [![](https://avatars1.githubusercontent.com/u/7388996?s=40)](https://github.com/jupyterlab) \\n* __*JupyterLab*__ [![](https://avatars1.githubusercontent.com/u/22800682?s=40)](https://github.com/jupyterlab) \\n* __*Google Colaboratory*__ [![](https://avatars0.githubusercontent.com/u/33467679?s=40)](https://colab.research.google.com/github/deathbeds/pidgin/blob/mistune/readme.ipynb)\\n* __*nteract*__ [![](https://avatars0.githubusercontent.com/u/12401040?s=40)](https://nteract.io)'"
      ]
     },
     "metadata": {},
     "output_type": "display_data"
    }
   ],
   "source": [
    "## `pidgin` works with\n",
    "\n",
    "* __*Binder*__ [![Binder](https://mybinder.org/badge.svg)](https://mybinder.org/v2/gh/deathbeds/pidgin/master?filepath=readme_pidgin.md.ipynb) \n",
    "\n",
    "    Take `pidgin` for a spin on [__*Binder*__](https://mybinder.org/v2/gh/deathbeds/pidgin/master?filepath=readme.ipynb).\n",
    "* __*Pytest*__ [![](https://avatars1.githubusercontent.com/u/8897583?s=40&v=4)](https://github.com/pytest-dev) \n",
    "\n",
    "    `pidgin` works great with the [__nbval__](https://github.com/computationalmodelling/nbval) and [__importnb__](https://github.com/deathbeds/importnb) notebook specific pytest extensions.  `pidgin` itself is a `import pytest`\n",
    "    plugin that permits tests with __.md.ipynb__ and __.md__ extensions.\n",
    "    \n",
    "    __*Pro Tip*__ test `IPython` specific features using __ipython__ as the `pytest` runner instead of __python__ `#!ipython -m pytest -- --collect-only`\n",
    "* __*Jupyter*__ [![](https://avatars1.githubusercontent.com/u/7388996?s=40)](https://github.com/jupyterlab) \n",
    "* __*JupyterLab*__ [![](https://avatars1.githubusercontent.com/u/22800682?s=40)](https://github.com/jupyterlab) \n",
    "* __*Google Colaboratory*__ [![](https://avatars0.githubusercontent.com/u/33467679?s=40)](https://colab.research.google.com/github/deathbeds/pidgin/blob/mistune/readme.ipynb)\n",
    "* __*nteract*__ [![](https://avatars0.githubusercontent.com/u/12401040?s=40)](https://nteract.io)"
   ]
  },
  {
   "cell_type": "code",
   "execution_count": 5,
   "metadata": {},
   "outputs": [
    {
     "data": {
      "text/html": [
       "<h2>Architecture</h2>\n",
       "<p>The <code>pidgin</code> source is written almost entirely in Jupyter notebooks.  The hope is that the notebooks will serve as an important\n",
       "interactive resourcing in the early development.  As the project matures, <code>pidgin</code> will adopt different combinations of python\n",
       "and notebook files.</p>\n",
       "<pre><code>ip = IPython.get_ipython()\n",
       "</code></pre>\n",
       "<p><code>pidgin</code> is architected as a collection of <code>IPython</code> extensions that modify <code>ip = IPython.get_ipython()</code> and <code>ip.kernel</code>.</p>\n",
       "<pre><code>if 0:\n",
       "    %reload_ext pidgin\n",
       "</code></pre>\n",
       "<p>Each component of <code>pidgin</code> can be loaded individually.</p>\n",
       "<pre><code>    %reload_ext pidgin.tangle\n",
       "    %reload_ext pidgin.display\n",
       "    %reload_ext pidgin.inspector\n",
       "    %reload_ext pidgin.post_run_cell\n",
       "</code></pre>"
      ],
      "text/markdown": [
       "## Architecture\n",
       "\n",
       "The `pidgin` source is written almost entirely in Jupyter notebooks.  The hope is that the notebooks will serve as an important\n",
       "interactive resourcing in the early development.  As the project matures, `pidgin` will adopt different combinations of python\n",
       "and notebook files.\n",
       "\n",
       "    ip = IPython.get_ipython()\n",
       "`pidgin` is architected as a collection of `IPython` extensions that modify `ip = IPython.get_ipython()` and `ip.kernel`.\n",
       "    \n",
       "    if 0:\n",
       "        %reload_ext pidgin\n",
       "    \n",
       "Each component of `pidgin` can be loaded individually.\n",
       "\n",
       "        %reload_ext pidgin.tangle\n",
       "        %reload_ext pidgin.display\n",
       "        %reload_ext pidgin.inspector\n",
       "        %reload_ext pidgin.post_run_cell"
      ],
      "text/plain": [
       "'## Architecture\\n\\nThe `pidgin` source is written almost entirely in Jupyter notebooks.  The hope is that the notebooks will serve as an important\\ninteractive resourcing in the early development.  As the project matures, `pidgin` will adopt different combinations of python\\nand notebook files.\\n\\n    ip = IPython.get_ipython()\\n`pidgin` is architected as a collection of `IPython` extensions that modify `ip = IPython.get_ipython()` and `ip.kernel`.\\n    \\n    if 0:\\n        %reload_ext pidgin\\n    \\nEach component of `pidgin` can be loaded individually.\\n\\n        %reload_ext pidgin.tangle\\n        %reload_ext pidgin.display\\n        %reload_ext pidgin.inspector\\n        %reload_ext pidgin.post_run_cell'"
      ]
     },
     "metadata": {},
     "output_type": "display_data"
    }
   ],
   "source": [
    "## Architecture\n",
    "\n",
    "The `pidgin` source is written almost entirely in Jupyter notebooks.  The hope is that the notebooks will serve as an important\n",
    "interactive resourcing in the early development.  As the project matures, `pidgin` will adopt different combinations of python\n",
    "and notebook files.\n",
    "\n",
    "    ip = IPython.get_ipython()\n",
    "`pidgin` is architected as a collection of `IPython` extensions that modify `ip = IPython.get_ipython()` and `ip.kernel`.\n",
    "    \n",
    "    if 0:\n",
    "        %reload_ext pidgin\n",
    "    \n",
    "Each component of `pidgin` can be loaded individually.\n",
    "\n",
    "        %reload_ext pidgin.tangle\n",
    "        %reload_ext pidgin.display\n",
    "        %reload_ext pidgin.inspector\n",
    "        %reload_ext pidgin.post_run_cell"
   ]
  },
  {
   "cell_type": "code",
   "execution_count": 6,
   "metadata": {},
   "outputs": [
    {
     "data": {
      "text/html": [
       "<h2>Roadmap</h2>\n",
       "<ul>\n",
       "<li><code>pidgin</code> should become an <code>import ipykernel</code>.</li>\n",
       "<li><code>pidgin</code> should extend to other ipykernels.</li>\n",
       "<li><code>pidgin</code> should become an <code>import nbconvert.nbconvertapp</code> and <code>nbconvert.preprocessors</code>.</li>\n",
       "</ul>"
      ],
      "text/markdown": [
       "## Roadmap\n",
       "\n",
       "* `pidgin` should become an `import ipykernel`.\n",
       "* `pidgin` should extend to other ipykernels.\n",
       "* `pidgin` should become an `import nbconvert.nbconvertapp` and `nbconvert.preprocessors`."
      ],
      "text/plain": [
       "'## Roadmap\\n\\n* `pidgin` should become an `import ipykernel`.\\n* `pidgin` should extend to other ipykernels.\\n* `pidgin` should become an `import nbconvert.nbconvertapp` and `nbconvert.preprocessors`.'"
      ]
     },
     "metadata": {},
     "output_type": "display_data"
    }
   ],
   "source": [
    "## Roadmap\n",
    "\n",
    "* `pidgin` should become an `import ipykernel`.\n",
    "* `pidgin` should extend to other ipykernels.\n",
    "* `pidgin` should become an `import nbconvert.nbconvertapp` and `nbconvert.preprocessors`."
   ]
  },
  {
   "cell_type": "markdown",
   "metadata": {},
   "source": [
    "## Developer\n",
    "    "
   ]
  },
  {
   "cell_type": "code",
   "execution_count": 7,
   "metadata": {},
   "outputs": [],
   "source": [
    "    build = False"
   ]
  },
  {
   "cell_type": "markdown",
   "metadata": {},
   "source": [
    "    !ipython -m readme_pidgin.md.ipynb -- --uml=True --nbconvert=True --test=True\n",
    "\n",
    "### Test `pidgin`\n",
    "\n",
    "    if __name__ == '__main__':\n",
    "        !ipython -m pytest -- --nbval"
   ]
  },
  {
   "cell_type": "code",
   "execution_count": 8,
   "metadata": {},
   "outputs": [
    {
     "data": {
      "text/html": [
       "<h3>Run tests</h3>\n",
       "<pre><code>test = False\n",
       "</code></pre>"
      ],
      "text/markdown": [
       "### Run tests\n",
       "\n",
       "    test = False"
      ],
      "text/plain": [
       "'### Run tests\\n\\n    test = False'"
      ]
     },
     "metadata": {},
     "output_type": "display_data"
    }
   ],
   "source": [
    "### Run tests\n",
    "\n",
    "    test = False"
   ]
  },
  {
   "cell_type": "markdown",
   "metadata": {},
   "source": [
    "    %%file sanitize.cfg\n",
    "    [skip_graphviz]\n",
    "    regex: <svg(.|\\n)*</svg>w\n",
    "    replace: ---\n",
    "        \n",
    "        "
   ]
  },
  {
   "cell_type": "code",
   "execution_count": 9,
   "metadata": {},
   "outputs": [],
   "source": [
    "    if test or build: \n",
    "        !ipython -m pytest -- --nbval --sanitize-with sanitize.cfg "
   ]
  },
  {
   "cell_type": "code",
   "execution_count": 10,
   "metadata": {},
   "outputs": [
    {
     "data": {
      "text/html": [
       "<h3>UML diagrams</h3>\n",
       "<pre><code>uml = False\n",
       "</code></pre>"
      ],
      "text/markdown": [
       "### UML diagrams\n",
       "    \n",
       "    uml = False"
      ],
      "text/plain": [
       "'### UML diagrams\\n    \\n    uml = False'"
      ]
     },
     "metadata": {},
     "output_type": "display_data"
    }
   ],
   "source": [
    "### UML diagrams\n",
    "    \n",
    "    uml = False"
   ]
  },
  {
   "cell_type": "code",
   "execution_count": 11,
   "metadata": {},
   "outputs": [],
   "source": [
    "    if uml or build:\n",
    "        import shutil, pathlib, os\n",
    "        %pushd pidgin\n",
    "        !jupyter nbconvert --to python *.ipynb\n",
    "        %popd pidgin\n",
    "        !pyreverse pidgin -ppidgin -opng\n",
    "        list(os.remove(path.with_suffix('.py')) for path in pathlib.Path('pidgin').glob('*.ipynb'))\n",
    "        list((shutil.copy(path, 'docs'), os.remove(path)) for path in pathlib.Path('').glob('*.png'));  "
   ]
  },
  {
   "cell_type": "code",
   "execution_count": 12,
   "metadata": {},
   "outputs": [
    {
     "data": {
      "text/html": [
       "<h3>Convert to the <strong>readme.md</strong></h3>\n",
       "<pre><code>convert=False\n",
       "</code></pre>"
      ],
      "text/markdown": [
       "### Convert to the __readme.md__\n",
       "    \n",
       "    convert=False"
      ],
      "text/plain": [
       "'### Convert to the __readme.md__\\n    \\n    convert=False'"
      ]
     },
     "metadata": {},
     "output_type": "display_data"
    }
   ],
   "source": [
    "### Convert to the __readme.md__\n",
    "    \n",
    "    convert=False"
   ]
  },
  {
   "cell_type": "markdown",
   "metadata": {},
   "source": [
    "    %%file markdown_readme.py\n",
    "    c.MarkdownExporter.raw_mimetypes = ['text/markdown']\n",
    "    c.TemplateExporter.exclude_input=True"
   ]
  },
  {
   "cell_type": "code",
   "execution_count": null,
   "metadata": {},
   "outputs": [],
   "source": [
    "    "
   ]
  },
  {
   "cell_type": "code",
   "execution_count": 13,
   "metadata": {},
   "outputs": [],
   "source": [
    "    if convert or build:\n",
    "        !jupyter nbconvert --to markdown --config markdown_readme.py --stdout readme_pidgin.md.ipynb > readme.md"
   ]
  }
 ],
 "metadata": {
  "kernelspec": {
   "display_name": "Python 3",
   "language": "python",
   "name": "python3"
  },
  "language_info": {
   "codemirror_mode": {
    "name": "ipython",
    "version": 3
   },
   "file_extension": ".py",
   "mimetype": "text/x-python",
   "name": "python",
   "nbconvert_exporter": "python",
   "pygments_lexer": "ipython3",
   "version": "3.6.6"
  }
 },
 "nbformat": 4,
 "nbformat_minor": 2
}
